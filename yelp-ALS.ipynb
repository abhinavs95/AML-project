{
 "cells": [
  {
   "cell_type": "code",
   "execution_count": 1,
   "metadata": {},
   "outputs": [
    {
     "name": "stderr",
     "output_type": "stream",
     "text": [
      "[INFO] graphlab.cython.cy_server: GraphLab Create v2.1 started. Logging: /tmp/graphlab_server_1525031772.log\n"
     ]
    },
    {
     "name": "stdout",
     "output_type": "stream",
     "text": [
      "This non-commercial license of GraphLab Create for academic use is assigned to as5414@columbia.edu and will expire on April 26, 2019.\n"
     ]
    }
   ],
   "source": [
    "import graphlab\n",
    "import pandas as pd\n",
    "from sklearn.metrics import mean_squared_error\n",
    "import numpy as np"
   ]
  },
  {
   "cell_type": "code",
   "execution_count": 2,
   "metadata": {},
   "outputs": [],
   "source": [
    "df = pd.read_csv('../../dataset/train.csv',names=['user_id','business_id','stars','timestamps'])"
   ]
  },
  {
   "cell_type": "code",
   "execution_count": 3,
   "metadata": {},
   "outputs": [],
   "source": [
    "#df['binary']=(df['stars']>2).astype(int)"
   ]
  },
  {
   "cell_type": "code",
   "execution_count": 3,
   "metadata": {
    "scrolled": true
   },
   "outputs": [
    {
     "data": {
      "text/html": [
       "<div>\n",
       "<style scoped>\n",
       "    .dataframe tbody tr th:only-of-type {\n",
       "        vertical-align: middle;\n",
       "    }\n",
       "\n",
       "    .dataframe tbody tr th {\n",
       "        vertical-align: top;\n",
       "    }\n",
       "\n",
       "    .dataframe thead th {\n",
       "        text-align: right;\n",
       "    }\n",
       "</style>\n",
       "<table border=\"1\" class=\"dataframe\">\n",
       "  <thead>\n",
       "    <tr style=\"text-align: right;\">\n",
       "      <th></th>\n",
       "      <th>user_id</th>\n",
       "      <th>business_id</th>\n",
       "      <th>stars</th>\n",
       "      <th>timestamps</th>\n",
       "    </tr>\n",
       "  </thead>\n",
       "  <tbody>\n",
       "    <tr>\n",
       "      <th>0</th>\n",
       "      <td>1</td>\n",
       "      <td>15733</td>\n",
       "      <td>4</td>\n",
       "      <td>155918</td>\n",
       "    </tr>\n",
       "    <tr>\n",
       "      <th>1</th>\n",
       "      <td>1</td>\n",
       "      <td>67856</td>\n",
       "      <td>5</td>\n",
       "      <td>130087</td>\n",
       "    </tr>\n",
       "    <tr>\n",
       "      <th>2</th>\n",
       "      <td>1</td>\n",
       "      <td>87093</td>\n",
       "      <td>5</td>\n",
       "      <td>190773</td>\n",
       "    </tr>\n",
       "    <tr>\n",
       "      <th>3</th>\n",
       "      <td>1</td>\n",
       "      <td>113461</td>\n",
       "      <td>3</td>\n",
       "      <td>6364</td>\n",
       "    </tr>\n",
       "    <tr>\n",
       "      <th>4</th>\n",
       "      <td>1</td>\n",
       "      <td>153617</td>\n",
       "      <td>5</td>\n",
       "      <td>162649</td>\n",
       "    </tr>\n",
       "    <tr>\n",
       "      <th>5</th>\n",
       "      <td>1</td>\n",
       "      <td>160310</td>\n",
       "      <td>5</td>\n",
       "      <td>132535</td>\n",
       "    </tr>\n",
       "    <tr>\n",
       "      <th>6</th>\n",
       "      <td>2</td>\n",
       "      <td>77849</td>\n",
       "      <td>3</td>\n",
       "      <td>169798</td>\n",
       "    </tr>\n",
       "    <tr>\n",
       "      <th>7</th>\n",
       "      <td>3</td>\n",
       "      <td>14970</td>\n",
       "      <td>2</td>\n",
       "      <td>296189</td>\n",
       "    </tr>\n",
       "    <tr>\n",
       "      <th>8</th>\n",
       "      <td>4</td>\n",
       "      <td>18440</td>\n",
       "      <td>4</td>\n",
       "      <td>190213</td>\n",
       "    </tr>\n",
       "    <tr>\n",
       "      <th>9</th>\n",
       "      <td>4</td>\n",
       "      <td>19036</td>\n",
       "      <td>5</td>\n",
       "      <td>371844</td>\n",
       "    </tr>\n",
       "    <tr>\n",
       "      <th>10</th>\n",
       "      <td>4</td>\n",
       "      <td>26905</td>\n",
       "      <td>4</td>\n",
       "      <td>146699</td>\n",
       "    </tr>\n",
       "    <tr>\n",
       "      <th>11</th>\n",
       "      <td>5</td>\n",
       "      <td>90099</td>\n",
       "      <td>4</td>\n",
       "      <td>104148</td>\n",
       "    </tr>\n",
       "    <tr>\n",
       "      <th>12</th>\n",
       "      <td>6</td>\n",
       "      <td>76317</td>\n",
       "      <td>5</td>\n",
       "      <td>150061</td>\n",
       "    </tr>\n",
       "    <tr>\n",
       "      <th>13</th>\n",
       "      <td>6</td>\n",
       "      <td>83769</td>\n",
       "      <td>3</td>\n",
       "      <td>177067</td>\n",
       "    </tr>\n",
       "    <tr>\n",
       "      <th>14</th>\n",
       "      <td>6</td>\n",
       "      <td>85961</td>\n",
       "      <td>1</td>\n",
       "      <td>31202</td>\n",
       "    </tr>\n",
       "    <tr>\n",
       "      <th>15</th>\n",
       "      <td>6</td>\n",
       "      <td>120825</td>\n",
       "      <td>3</td>\n",
       "      <td>138369</td>\n",
       "    </tr>\n",
       "    <tr>\n",
       "      <th>16</th>\n",
       "      <td>8</td>\n",
       "      <td>68020</td>\n",
       "      <td>5</td>\n",
       "      <td>260946</td>\n",
       "    </tr>\n",
       "    <tr>\n",
       "      <th>17</th>\n",
       "      <td>9</td>\n",
       "      <td>53317</td>\n",
       "      <td>1</td>\n",
       "      <td>91565</td>\n",
       "    </tr>\n",
       "    <tr>\n",
       "      <th>18</th>\n",
       "      <td>10</td>\n",
       "      <td>51397</td>\n",
       "      <td>1</td>\n",
       "      <td>29233</td>\n",
       "    </tr>\n",
       "    <tr>\n",
       "      <th>19</th>\n",
       "      <td>11</td>\n",
       "      <td>139891</td>\n",
       "      <td>5</td>\n",
       "      <td>356567</td>\n",
       "    </tr>\n",
       "    <tr>\n",
       "      <th>20</th>\n",
       "      <td>12</td>\n",
       "      <td>285</td>\n",
       "      <td>5</td>\n",
       "      <td>88255</td>\n",
       "    </tr>\n",
       "    <tr>\n",
       "      <th>21</th>\n",
       "      <td>13</td>\n",
       "      <td>12482</td>\n",
       "      <td>1</td>\n",
       "      <td>196885</td>\n",
       "    </tr>\n",
       "    <tr>\n",
       "      <th>22</th>\n",
       "      <td>13</td>\n",
       "      <td>133582</td>\n",
       "      <td>3</td>\n",
       "      <td>169670</td>\n",
       "    </tr>\n",
       "    <tr>\n",
       "      <th>23</th>\n",
       "      <td>14</td>\n",
       "      <td>114641</td>\n",
       "      <td>2</td>\n",
       "      <td>101457</td>\n",
       "    </tr>\n",
       "    <tr>\n",
       "      <th>24</th>\n",
       "      <td>15</td>\n",
       "      <td>832</td>\n",
       "      <td>5</td>\n",
       "      <td>100989</td>\n",
       "    </tr>\n",
       "    <tr>\n",
       "      <th>25</th>\n",
       "      <td>15</td>\n",
       "      <td>37745</td>\n",
       "      <td>1</td>\n",
       "      <td>558</td>\n",
       "    </tr>\n",
       "    <tr>\n",
       "      <th>26</th>\n",
       "      <td>15</td>\n",
       "      <td>79444</td>\n",
       "      <td>5</td>\n",
       "      <td>66706</td>\n",
       "    </tr>\n",
       "    <tr>\n",
       "      <th>27</th>\n",
       "      <td>15</td>\n",
       "      <td>81160</td>\n",
       "      <td>5</td>\n",
       "      <td>380292</td>\n",
       "    </tr>\n",
       "    <tr>\n",
       "      <th>28</th>\n",
       "      <td>16</td>\n",
       "      <td>27893</td>\n",
       "      <td>5</td>\n",
       "      <td>228724</td>\n",
       "    </tr>\n",
       "    <tr>\n",
       "      <th>29</th>\n",
       "      <td>16</td>\n",
       "      <td>114884</td>\n",
       "      <td>1</td>\n",
       "      <td>187564</td>\n",
       "    </tr>\n",
       "    <tr>\n",
       "      <th>...</th>\n",
       "      <td>...</td>\n",
       "      <td>...</td>\n",
       "      <td>...</td>\n",
       "      <td>...</td>\n",
       "    </tr>\n",
       "    <tr>\n",
       "      <th>4801293</th>\n",
       "      <td>1326089</td>\n",
       "      <td>1376</td>\n",
       "      <td>1</td>\n",
       "      <td>273635</td>\n",
       "    </tr>\n",
       "    <tr>\n",
       "      <th>4801294</th>\n",
       "      <td>1326089</td>\n",
       "      <td>137051</td>\n",
       "      <td>1</td>\n",
       "      <td>370670</td>\n",
       "    </tr>\n",
       "    <tr>\n",
       "      <th>4801295</th>\n",
       "      <td>1326090</td>\n",
       "      <td>171047</td>\n",
       "      <td>1</td>\n",
       "      <td>222127</td>\n",
       "    </tr>\n",
       "    <tr>\n",
       "      <th>4801296</th>\n",
       "      <td>1326091</td>\n",
       "      <td>70928</td>\n",
       "      <td>5</td>\n",
       "      <td>245206</td>\n",
       "    </tr>\n",
       "    <tr>\n",
       "      <th>4801297</th>\n",
       "      <td>1326091</td>\n",
       "      <td>96258</td>\n",
       "      <td>5</td>\n",
       "      <td>108033</td>\n",
       "    </tr>\n",
       "    <tr>\n",
       "      <th>4801298</th>\n",
       "      <td>1326091</td>\n",
       "      <td>140383</td>\n",
       "      <td>5</td>\n",
       "      <td>294213</td>\n",
       "    </tr>\n",
       "    <tr>\n",
       "      <th>4801299</th>\n",
       "      <td>1326091</td>\n",
       "      <td>149054</td>\n",
       "      <td>1</td>\n",
       "      <td>59159</td>\n",
       "    </tr>\n",
       "    <tr>\n",
       "      <th>4801300</th>\n",
       "      <td>1326092</td>\n",
       "      <td>59133</td>\n",
       "      <td>4</td>\n",
       "      <td>120514</td>\n",
       "    </tr>\n",
       "    <tr>\n",
       "      <th>4801301</th>\n",
       "      <td>1326092</td>\n",
       "      <td>85180</td>\n",
       "      <td>5</td>\n",
       "      <td>267180</td>\n",
       "    </tr>\n",
       "    <tr>\n",
       "      <th>4801302</th>\n",
       "      <td>1326092</td>\n",
       "      <td>152208</td>\n",
       "      <td>4</td>\n",
       "      <td>228939</td>\n",
       "    </tr>\n",
       "    <tr>\n",
       "      <th>4801303</th>\n",
       "      <td>1326092</td>\n",
       "      <td>164659</td>\n",
       "      <td>5</td>\n",
       "      <td>19448</td>\n",
       "    </tr>\n",
       "    <tr>\n",
       "      <th>4801304</th>\n",
       "      <td>1326093</td>\n",
       "      <td>55124</td>\n",
       "      <td>2</td>\n",
       "      <td>229981</td>\n",
       "    </tr>\n",
       "    <tr>\n",
       "      <th>4801305</th>\n",
       "      <td>1326094</td>\n",
       "      <td>59389</td>\n",
       "      <td>4</td>\n",
       "      <td>212293</td>\n",
       "    </tr>\n",
       "    <tr>\n",
       "      <th>4801306</th>\n",
       "      <td>1326095</td>\n",
       "      <td>10009</td>\n",
       "      <td>5</td>\n",
       "      <td>250416</td>\n",
       "    </tr>\n",
       "    <tr>\n",
       "      <th>4801307</th>\n",
       "      <td>1326095</td>\n",
       "      <td>11144</td>\n",
       "      <td>5</td>\n",
       "      <td>214065</td>\n",
       "    </tr>\n",
       "    <tr>\n",
       "      <th>4801308</th>\n",
       "      <td>1326095</td>\n",
       "      <td>18580</td>\n",
       "      <td>5</td>\n",
       "      <td>291391</td>\n",
       "    </tr>\n",
       "    <tr>\n",
       "      <th>4801309</th>\n",
       "      <td>1326095</td>\n",
       "      <td>53235</td>\n",
       "      <td>2</td>\n",
       "      <td>65447</td>\n",
       "    </tr>\n",
       "    <tr>\n",
       "      <th>4801310</th>\n",
       "      <td>1326095</td>\n",
       "      <td>66574</td>\n",
       "      <td>1</td>\n",
       "      <td>246653</td>\n",
       "    </tr>\n",
       "    <tr>\n",
       "      <th>4801311</th>\n",
       "      <td>1326095</td>\n",
       "      <td>113450</td>\n",
       "      <td>1</td>\n",
       "      <td>321884</td>\n",
       "    </tr>\n",
       "    <tr>\n",
       "      <th>4801312</th>\n",
       "      <td>1326095</td>\n",
       "      <td>152232</td>\n",
       "      <td>5</td>\n",
       "      <td>196940</td>\n",
       "    </tr>\n",
       "    <tr>\n",
       "      <th>4801313</th>\n",
       "      <td>1326096</td>\n",
       "      <td>153225</td>\n",
       "      <td>2</td>\n",
       "      <td>182804</td>\n",
       "    </tr>\n",
       "    <tr>\n",
       "      <th>4801314</th>\n",
       "      <td>1326097</td>\n",
       "      <td>121883</td>\n",
       "      <td>5</td>\n",
       "      <td>332933</td>\n",
       "    </tr>\n",
       "    <tr>\n",
       "      <th>4801315</th>\n",
       "      <td>1326098</td>\n",
       "      <td>2613</td>\n",
       "      <td>5</td>\n",
       "      <td>90439</td>\n",
       "    </tr>\n",
       "    <tr>\n",
       "      <th>4801316</th>\n",
       "      <td>1326099</td>\n",
       "      <td>120053</td>\n",
       "      <td>1</td>\n",
       "      <td>73660</td>\n",
       "    </tr>\n",
       "    <tr>\n",
       "      <th>4801317</th>\n",
       "      <td>1326100</td>\n",
       "      <td>96376</td>\n",
       "      <td>3</td>\n",
       "      <td>27253</td>\n",
       "    </tr>\n",
       "    <tr>\n",
       "      <th>4801318</th>\n",
       "      <td>1326101</td>\n",
       "      <td>21109</td>\n",
       "      <td>4</td>\n",
       "      <td>258061</td>\n",
       "    </tr>\n",
       "    <tr>\n",
       "      <th>4801319</th>\n",
       "      <td>1326101</td>\n",
       "      <td>60317</td>\n",
       "      <td>3</td>\n",
       "      <td>396516</td>\n",
       "    </tr>\n",
       "    <tr>\n",
       "      <th>4801320</th>\n",
       "      <td>1326101</td>\n",
       "      <td>92235</td>\n",
       "      <td>4</td>\n",
       "      <td>186560</td>\n",
       "    </tr>\n",
       "    <tr>\n",
       "      <th>4801321</th>\n",
       "      <td>1326101</td>\n",
       "      <td>116252</td>\n",
       "      <td>2</td>\n",
       "      <td>338403</td>\n",
       "    </tr>\n",
       "    <tr>\n",
       "      <th>4801322</th>\n",
       "      <td>1326101</td>\n",
       "      <td>173192</td>\n",
       "      <td>4</td>\n",
       "      <td>118043</td>\n",
       "    </tr>\n",
       "  </tbody>\n",
       "</table>\n",
       "<p>4801323 rows × 4 columns</p>\n",
       "</div>"
      ],
      "text/plain": [
       "         user_id  business_id  stars  timestamps\n",
       "0              1        15733      4      155918\n",
       "1              1        67856      5      130087\n",
       "2              1        87093      5      190773\n",
       "3              1       113461      3        6364\n",
       "4              1       153617      5      162649\n",
       "5              1       160310      5      132535\n",
       "6              2        77849      3      169798\n",
       "7              3        14970      2      296189\n",
       "8              4        18440      4      190213\n",
       "9              4        19036      5      371844\n",
       "10             4        26905      4      146699\n",
       "11             5        90099      4      104148\n",
       "12             6        76317      5      150061\n",
       "13             6        83769      3      177067\n",
       "14             6        85961      1       31202\n",
       "15             6       120825      3      138369\n",
       "16             8        68020      5      260946\n",
       "17             9        53317      1       91565\n",
       "18            10        51397      1       29233\n",
       "19            11       139891      5      356567\n",
       "20            12          285      5       88255\n",
       "21            13        12482      1      196885\n",
       "22            13       133582      3      169670\n",
       "23            14       114641      2      101457\n",
       "24            15          832      5      100989\n",
       "25            15        37745      1         558\n",
       "26            15        79444      5       66706\n",
       "27            15        81160      5      380292\n",
       "28            16        27893      5      228724\n",
       "29            16       114884      1      187564\n",
       "...          ...          ...    ...         ...\n",
       "4801293  1326089         1376      1      273635\n",
       "4801294  1326089       137051      1      370670\n",
       "4801295  1326090       171047      1      222127\n",
       "4801296  1326091        70928      5      245206\n",
       "4801297  1326091        96258      5      108033\n",
       "4801298  1326091       140383      5      294213\n",
       "4801299  1326091       149054      1       59159\n",
       "4801300  1326092        59133      4      120514\n",
       "4801301  1326092        85180      5      267180\n",
       "4801302  1326092       152208      4      228939\n",
       "4801303  1326092       164659      5       19448\n",
       "4801304  1326093        55124      2      229981\n",
       "4801305  1326094        59389      4      212293\n",
       "4801306  1326095        10009      5      250416\n",
       "4801307  1326095        11144      5      214065\n",
       "4801308  1326095        18580      5      291391\n",
       "4801309  1326095        53235      2       65447\n",
       "4801310  1326095        66574      1      246653\n",
       "4801311  1326095       113450      1      321884\n",
       "4801312  1326095       152232      5      196940\n",
       "4801313  1326096       153225      2      182804\n",
       "4801314  1326097       121883      5      332933\n",
       "4801315  1326098         2613      5       90439\n",
       "4801316  1326099       120053      1       73660\n",
       "4801317  1326100        96376      3       27253\n",
       "4801318  1326101        21109      4      258061\n",
       "4801319  1326101        60317      3      396516\n",
       "4801320  1326101        92235      4      186560\n",
       "4801321  1326101       116252      2      338403\n",
       "4801322  1326101       173192      4      118043\n",
       "\n",
       "[4801323 rows x 4 columns]"
      ]
     },
     "execution_count": 3,
     "metadata": {},
     "output_type": "execute_result"
    }
   ],
   "source": [
    "df"
   ]
  },
  {
   "cell_type": "code",
   "execution_count": 4,
   "metadata": {
    "scrolled": true
   },
   "outputs": [
    {
     "data": {
      "text/html": [
       "<pre>Recsys training: model = factorization_recommender</pre>"
      ],
      "text/plain": [
       "Recsys training: model = factorization_recommender"
      ]
     },
     "metadata": {},
     "output_type": "display_data"
    },
    {
     "data": {
      "text/html": [
       "<pre>Preparing data set.</pre>"
      ],
      "text/plain": [
       "Preparing data set."
      ]
     },
     "metadata": {},
     "output_type": "display_data"
    },
    {
     "data": {
      "text/html": [
       "<pre>    Data has 4801323 observations with 1248782 users and 170198 items.</pre>"
      ],
      "text/plain": [
       "    Data has 4801323 observations with 1248782 users and 170198 items."
      ]
     },
     "metadata": {},
     "output_type": "display_data"
    },
    {
     "data": {
      "text/html": [
       "<pre>    Data prepared in: 3.96047s</pre>"
      ],
      "text/plain": [
       "    Data prepared in: 3.96047s"
      ]
     },
     "metadata": {},
     "output_type": "display_data"
    },
    {
     "data": {
      "text/html": [
       "<pre>Training factorization_recommender for recommendations.</pre>"
      ],
      "text/plain": [
       "Training factorization_recommender for recommendations."
      ]
     },
     "metadata": {},
     "output_type": "display_data"
    },
    {
     "data": {
      "text/html": [
       "<pre>+------------------------------+--------------------------------------------------+----------+</pre>"
      ],
      "text/plain": [
       "+------------------------------+--------------------------------------------------+----------+"
      ]
     },
     "metadata": {},
     "output_type": "display_data"
    },
    {
     "data": {
      "text/html": [
       "<pre>| Parameter                    | Description                                      | Value    |</pre>"
      ],
      "text/plain": [
       "| Parameter                    | Description                                      | Value    |"
      ]
     },
     "metadata": {},
     "output_type": "display_data"
    },
    {
     "data": {
      "text/html": [
       "<pre>+------------------------------+--------------------------------------------------+----------+</pre>"
      ],
      "text/plain": [
       "+------------------------------+--------------------------------------------------+----------+"
      ]
     },
     "metadata": {},
     "output_type": "display_data"
    },
    {
     "data": {
      "text/html": [
       "<pre>| num_factors                  | Factor Dimension                                 | 50       |</pre>"
      ],
      "text/plain": [
       "| num_factors                  | Factor Dimension                                 | 50       |"
      ]
     },
     "metadata": {},
     "output_type": "display_data"
    },
    {
     "data": {
      "text/html": [
       "<pre>| regularization               | L2 Regularization on Factors                     | 1e-06    |</pre>"
      ],
      "text/plain": [
       "| regularization               | L2 Regularization on Factors                     | 1e-06    |"
      ]
     },
     "metadata": {},
     "output_type": "display_data"
    },
    {
     "data": {
      "text/html": [
       "<pre>| max_iterations               | Maximum Number of Iterations                     | 50       |</pre>"
      ],
      "text/plain": [
       "| max_iterations               | Maximum Number of Iterations                     | 50       |"
      ]
     },
     "metadata": {},
     "output_type": "display_data"
    },
    {
     "data": {
      "text/html": [
       "<pre>| solver                       | Solver used for training                         | als      |</pre>"
      ],
      "text/plain": [
       "| solver                       | Solver used for training                         | als      |"
      ]
     },
     "metadata": {},
     "output_type": "display_data"
    },
    {
     "data": {
      "text/html": [
       "<pre>+------------------------------+--------------------------------------------------+----------+</pre>"
      ],
      "text/plain": [
       "+------------------------------+--------------------------------------------------+----------+"
      ]
     },
     "metadata": {},
     "output_type": "display_data"
    },
    {
     "data": {
      "text/html": [
       "<pre>+---------+--------------+------------------------+</pre>"
      ],
      "text/plain": [
       "+---------+--------------+------------------------+"
      ]
     },
     "metadata": {},
     "output_type": "display_data"
    },
    {
     "data": {
      "text/html": [
       "<pre>| Iter.   | Elapsed time | RMSE                   |</pre>"
      ],
      "text/plain": [
       "| Iter.   | Elapsed time | RMSE                   |"
      ]
     },
     "metadata": {},
     "output_type": "display_data"
    },
    {
     "data": {
      "text/html": [
       "<pre>+---------+--------------+------------------------+</pre>"
      ],
      "text/plain": [
       "+---------+--------------+------------------------+"
      ]
     },
     "metadata": {},
     "output_type": "display_data"
    },
    {
     "data": {
      "text/html": [
       "<pre>| Initial | 501us        | NA                     |</pre>"
      ],
      "text/plain": [
       "| Initial | 501us        | NA                     |"
      ]
     },
     "metadata": {},
     "output_type": "display_data"
    },
    {
     "data": {
      "text/html": [
       "<pre>+---------+--------------+------------------------+</pre>"
      ],
      "text/plain": [
       "+---------+--------------+------------------------+"
      ]
     },
     "metadata": {},
     "output_type": "display_data"
    },
    {
     "data": {
      "text/html": [
       "<pre>| 0       | 23.73s       | 1.43399                |</pre>"
      ],
      "text/plain": [
       "| 0       | 23.73s       | 1.43399                |"
      ]
     },
     "metadata": {},
     "output_type": "display_data"
    },
    {
     "data": {
      "text/html": [
       "<pre>| 1       | 44.80s       | 1.40522                |</pre>"
      ],
      "text/plain": [
       "| 1       | 44.80s       | 1.40522                |"
      ]
     },
     "metadata": {},
     "output_type": "display_data"
    },
    {
     "data": {
      "text/html": [
       "<pre>| 2       | 1m 7s        | 1.12355                |</pre>"
      ],
      "text/plain": [
       "| 2       | 1m 7s        | 1.12355                |"
      ]
     },
     "metadata": {},
     "output_type": "display_data"
    },
    {
     "data": {
      "text/html": [
       "<pre>| 3       | 1m 29s       | 0.759209               |</pre>"
      ],
      "text/plain": [
       "| 3       | 1m 29s       | 0.759209               |"
      ]
     },
     "metadata": {},
     "output_type": "display_data"
    },
    {
     "data": {
      "text/html": [
       "<pre>| 4       | 1m 51s       | 0.653161               |</pre>"
      ],
      "text/plain": [
       "| 4       | 1m 51s       | 0.653161               |"
      ]
     },
     "metadata": {},
     "output_type": "display_data"
    },
    {
     "data": {
      "text/html": [
       "<pre>| 5       | 2m 12s       | 0.627715               |</pre>"
      ],
      "text/plain": [
       "| 5       | 2m 12s       | 0.627715               |"
      ]
     },
     "metadata": {},
     "output_type": "display_data"
    },
    {
     "data": {
      "text/html": [
       "<pre>| 6       | 2m 34s       | 0.618523               |</pre>"
      ],
      "text/plain": [
       "| 6       | 2m 34s       | 0.618523               |"
      ]
     },
     "metadata": {},
     "output_type": "display_data"
    },
    {
     "data": {
      "text/html": [
       "<pre>| 7       | 2m 55s       | 0.613911               |</pre>"
      ],
      "text/plain": [
       "| 7       | 2m 55s       | 0.613911               |"
      ]
     },
     "metadata": {},
     "output_type": "display_data"
    },
    {
     "data": {
      "text/html": [
       "<pre>| 8       | 3m 17s       | 0.611086               |</pre>"
      ],
      "text/plain": [
       "| 8       | 3m 17s       | 0.611086               |"
      ]
     },
     "metadata": {},
     "output_type": "display_data"
    },
    {
     "data": {
      "text/html": [
       "<pre>| 9       | 3m 39s       | 0.609131               |</pre>"
      ],
      "text/plain": [
       "| 9       | 3m 39s       | 0.609131               |"
      ]
     },
     "metadata": {},
     "output_type": "display_data"
    },
    {
     "data": {
      "text/html": [
       "<pre>| 10      | 4m 0s        | 0.60767                |</pre>"
      ],
      "text/plain": [
       "| 10      | 4m 0s        | 0.60767                |"
      ]
     },
     "metadata": {},
     "output_type": "display_data"
    },
    {
     "data": {
      "text/html": [
       "<pre>| 11      | 4m 22s       | 0.606523               |</pre>"
      ],
      "text/plain": [
       "| 11      | 4m 22s       | 0.606523               |"
      ]
     },
     "metadata": {},
     "output_type": "display_data"
    },
    {
     "data": {
      "text/html": [
       "<pre>| 12      | 4m 43s       | 0.605596               |</pre>"
      ],
      "text/plain": [
       "| 12      | 4m 43s       | 0.605596               |"
      ]
     },
     "metadata": {},
     "output_type": "display_data"
    },
    {
     "data": {
      "text/html": [
       "<pre>| 13      | 5m 5s        | 0.604825               |</pre>"
      ],
      "text/plain": [
       "| 13      | 5m 5s        | 0.604825               |"
      ]
     },
     "metadata": {},
     "output_type": "display_data"
    },
    {
     "data": {
      "text/html": [
       "<pre>| 14      | 5m 27s       | 0.604172               |</pre>"
      ],
      "text/plain": [
       "| 14      | 5m 27s       | 0.604172               |"
      ]
     },
     "metadata": {},
     "output_type": "display_data"
    },
    {
     "data": {
      "text/html": [
       "<pre>| 15      | 5m 48s       | 0.603609               |</pre>"
      ],
      "text/plain": [
       "| 15      | 5m 48s       | 0.603609               |"
      ]
     },
     "metadata": {},
     "output_type": "display_data"
    },
    {
     "data": {
      "text/html": [
       "<pre>| 16      | 6m 10s       | 0.60312                |</pre>"
      ],
      "text/plain": [
       "| 16      | 6m 10s       | 0.60312                |"
      ]
     },
     "metadata": {},
     "output_type": "display_data"
    },
    {
     "data": {
      "text/html": [
       "<pre>| 17      | 6m 32s       | 0.602692               |</pre>"
      ],
      "text/plain": [
       "| 17      | 6m 32s       | 0.602692               |"
      ]
     },
     "metadata": {},
     "output_type": "display_data"
    },
    {
     "data": {
      "text/html": [
       "<pre>| 18      | 6m 54s       | 0.602314               |</pre>"
      ],
      "text/plain": [
       "| 18      | 6m 54s       | 0.602314               |"
      ]
     },
     "metadata": {},
     "output_type": "display_data"
    },
    {
     "data": {
      "text/html": [
       "<pre>| 19      | 7m 17s       | 0.601977               |</pre>"
      ],
      "text/plain": [
       "| 19      | 7m 17s       | 0.601977               |"
      ]
     },
     "metadata": {},
     "output_type": "display_data"
    },
    {
     "data": {
      "text/html": [
       "<pre>| 20      | 7m 39s       | 0.601674               |</pre>"
      ],
      "text/plain": [
       "| 20      | 7m 39s       | 0.601674               |"
      ]
     },
     "metadata": {},
     "output_type": "display_data"
    },
    {
     "data": {
      "text/html": [
       "<pre>| 21      | 8m 1s        | 0.601399               |</pre>"
      ],
      "text/plain": [
       "| 21      | 8m 1s        | 0.601399               |"
      ]
     },
     "metadata": {},
     "output_type": "display_data"
    },
    {
     "data": {
      "text/html": [
       "<pre>| 22      | 8m 22s       | 0.601149               |</pre>"
      ],
      "text/plain": [
       "| 22      | 8m 22s       | 0.601149               |"
      ]
     },
     "metadata": {},
     "output_type": "display_data"
    },
    {
     "data": {
      "text/html": [
       "<pre>| 23      | 8m 44s       | 0.600919               |</pre>"
      ],
      "text/plain": [
       "| 23      | 8m 44s       | 0.600919               |"
      ]
     },
     "metadata": {},
     "output_type": "display_data"
    },
    {
     "data": {
      "text/html": [
       "<pre>| 24      | 9m 6s        | 0.600708               |</pre>"
      ],
      "text/plain": [
       "| 24      | 9m 6s        | 0.600708               |"
      ]
     },
     "metadata": {},
     "output_type": "display_data"
    },
    {
     "data": {
      "text/html": [
       "<pre>| 25      | 9m 28s       | 0.600512               |</pre>"
      ],
      "text/plain": [
       "| 25      | 9m 28s       | 0.600512               |"
      ]
     },
     "metadata": {},
     "output_type": "display_data"
    },
    {
     "data": {
      "text/html": [
       "<pre>| 26      | 9m 50s       | 0.600331               |</pre>"
      ],
      "text/plain": [
       "| 26      | 9m 50s       | 0.600331               |"
      ]
     },
     "metadata": {},
     "output_type": "display_data"
    },
    {
     "data": {
      "text/html": [
       "<pre>| 27      | 10m 12s      | 0.600162               |</pre>"
      ],
      "text/plain": [
       "| 27      | 10m 12s      | 0.600162               |"
      ]
     },
     "metadata": {},
     "output_type": "display_data"
    },
    {
     "data": {
      "text/html": [
       "<pre>| 28      | 10m 34s      | 0.600005               |</pre>"
      ],
      "text/plain": [
       "| 28      | 10m 34s      | 0.600005               |"
      ]
     },
     "metadata": {},
     "output_type": "display_data"
    },
    {
     "data": {
      "text/html": [
       "<pre>| 29      | 10m 57s      | 0.599858               |</pre>"
      ],
      "text/plain": [
       "| 29      | 10m 57s      | 0.599858               |"
      ]
     },
     "metadata": {},
     "output_type": "display_data"
    },
    {
     "data": {
      "text/html": [
       "<pre>| 30      | 11m 19s      | 0.599721               |</pre>"
      ],
      "text/plain": [
       "| 30      | 11m 19s      | 0.599721               |"
      ]
     },
     "metadata": {},
     "output_type": "display_data"
    },
    {
     "data": {
      "text/html": [
       "<pre>| 31      | 11m 42s      | 0.599592               |</pre>"
      ],
      "text/plain": [
       "| 31      | 11m 42s      | 0.599592               |"
      ]
     },
     "metadata": {},
     "output_type": "display_data"
    },
    {
     "data": {
      "text/html": [
       "<pre>| 32      | 12m 5s       | 0.599471               |</pre>"
      ],
      "text/plain": [
       "| 32      | 12m 5s       | 0.599471               |"
      ]
     },
     "metadata": {},
     "output_type": "display_data"
    },
    {
     "data": {
      "text/html": [
       "<pre>| 33      | 12m 27s      | 0.599357               |</pre>"
      ],
      "text/plain": [
       "| 33      | 12m 27s      | 0.599357               |"
      ]
     },
     "metadata": {},
     "output_type": "display_data"
    },
    {
     "data": {
      "text/html": [
       "<pre>| 34      | 12m 49s      | 0.599249               |</pre>"
      ],
      "text/plain": [
       "| 34      | 12m 49s      | 0.599249               |"
      ]
     },
     "metadata": {},
     "output_type": "display_data"
    },
    {
     "data": {
      "text/html": [
       "<pre>| 35      | 13m 12s      | 0.599147               |</pre>"
      ],
      "text/plain": [
       "| 35      | 13m 12s      | 0.599147               |"
      ]
     },
     "metadata": {},
     "output_type": "display_data"
    },
    {
     "data": {
      "text/html": [
       "<pre>| 36      | 13m 35s      | 0.599051               |</pre>"
      ],
      "text/plain": [
       "| 36      | 13m 35s      | 0.599051               |"
      ]
     },
     "metadata": {},
     "output_type": "display_data"
    },
    {
     "data": {
      "text/html": [
       "<pre>| 37      | 14m 0s       | 0.598959               |</pre>"
      ],
      "text/plain": [
       "| 37      | 14m 0s       | 0.598959               |"
      ]
     },
     "metadata": {},
     "output_type": "display_data"
    },
    {
     "data": {
      "text/html": [
       "<pre>| 38      | 14m 24s      | 0.598872               |</pre>"
      ],
      "text/plain": [
       "| 38      | 14m 24s      | 0.598872               |"
      ]
     },
     "metadata": {},
     "output_type": "display_data"
    },
    {
     "data": {
      "text/html": [
       "<pre>| 39      | 14m 47s      | 0.598789               |</pre>"
      ],
      "text/plain": [
       "| 39      | 14m 47s      | 0.598789               |"
      ]
     },
     "metadata": {},
     "output_type": "display_data"
    },
    {
     "data": {
      "text/html": [
       "<pre>| 40      | 15m 12s      | 0.59871                |</pre>"
      ],
      "text/plain": [
       "| 40      | 15m 12s      | 0.59871                |"
      ]
     },
     "metadata": {},
     "output_type": "display_data"
    },
    {
     "data": {
      "text/html": [
       "<pre>| 41      | 15m 37s      | 0.598635               |</pre>"
      ],
      "text/plain": [
       "| 41      | 15m 37s      | 0.598635               |"
      ]
     },
     "metadata": {},
     "output_type": "display_data"
    },
    {
     "data": {
      "text/html": [
       "<pre>| 42      | 16m 1s       | 0.598563               |</pre>"
      ],
      "text/plain": [
       "| 42      | 16m 1s       | 0.598563               |"
      ]
     },
     "metadata": {},
     "output_type": "display_data"
    },
    {
     "data": {
      "text/html": [
       "<pre>| 43      | 16m 25s      | 0.598494               |</pre>"
      ],
      "text/plain": [
       "| 43      | 16m 25s      | 0.598494               |"
      ]
     },
     "metadata": {},
     "output_type": "display_data"
    },
    {
     "data": {
      "text/html": [
       "<pre>| 44      | 16m 48s      | 0.598428               |</pre>"
      ],
      "text/plain": [
       "| 44      | 16m 48s      | 0.598428               |"
      ]
     },
     "metadata": {},
     "output_type": "display_data"
    },
    {
     "data": {
      "text/html": [
       "<pre>| 45      | 17m 14s      | 0.598365               |</pre>"
      ],
      "text/plain": [
       "| 45      | 17m 14s      | 0.598365               |"
      ]
     },
     "metadata": {},
     "output_type": "display_data"
    },
    {
     "data": {
      "text/html": [
       "<pre>| 46      | 17m 40s      | 0.598304               |</pre>"
      ],
      "text/plain": [
       "| 46      | 17m 40s      | 0.598304               |"
      ]
     },
     "metadata": {},
     "output_type": "display_data"
    },
    {
     "data": {
      "text/html": [
       "<pre>| 47      | 18m 4s       | 0.598246               |</pre>"
      ],
      "text/plain": [
       "| 47      | 18m 4s       | 0.598246               |"
      ]
     },
     "metadata": {},
     "output_type": "display_data"
    },
    {
     "data": {
      "text/html": [
       "<pre>| 48      | 18m 28s      | 0.598189               |</pre>"
      ],
      "text/plain": [
       "| 48      | 18m 28s      | 0.598189               |"
      ]
     },
     "metadata": {},
     "output_type": "display_data"
    },
    {
     "data": {
      "text/html": [
       "<pre>| 49      | 18m 51s      | 0.598135               |</pre>"
      ],
      "text/plain": [
       "| 49      | 18m 51s      | 0.598135               |"
      ]
     },
     "metadata": {},
     "output_type": "display_data"
    },
    {
     "data": {
      "text/html": [
       "<pre>| FINAL   | 18m 51s      | 0.598135               |</pre>"
      ],
      "text/plain": [
       "| FINAL   | 18m 51s      | 0.598135               |"
      ]
     },
     "metadata": {},
     "output_type": "display_data"
    },
    {
     "data": {
      "text/html": [
       "<pre>+---------+--------------+------------------------+</pre>"
      ],
      "text/plain": [
       "+---------+--------------+------------------------+"
      ]
     },
     "metadata": {},
     "output_type": "display_data"
    },
    {
     "data": {
      "text/html": [
       "<pre>Optimization Complete: Iteration limit reached.</pre>"
      ],
      "text/plain": [
       "Optimization Complete: Iteration limit reached."
      ]
     },
     "metadata": {},
     "output_type": "display_data"
    },
    {
     "name": "stdout",
     "output_type": "stream",
     "text": [
      "graphlab's reported rmse: 0.598135357543\n",
      "calculated rmse: 0.5981353575431414\n"
     ]
    }
   ],
   "source": [
    "# Matrix Factorization recommender using Graphlab\n",
    "sf = graphlab.SFrame(df[['user_id', 'business_id', 'stars']])\n",
    "\n",
    "#train, test = graphlab.recommender.util.random_split_by_user(sf,user_id='user_id',item_id='business_id',item_test_proportion=0.1,max_num_users=None)\n",
    "\n",
    "\n",
    "rec = graphlab.recommender.factorization_recommender.create(\n",
    "            sf,\n",
    "            user_id='user_id',\n",
    "            item_id='business_id',\n",
    "            target='stars',\n",
    "            solver='als',\n",
    "            #sgd_step_size=0.01,\n",
    "            max_iterations=50,\n",
    "            #binary_target=True,\n",
    "            regularization=0.000001,\n",
    "            num_factors=50,\n",
    "            side_data_factorization=False)\n",
    "#eval_rmse = rec.evaluate(test,metric='rmse',target='stars')\n",
    "predictions = rec.predict(sf)\n",
    "rmse = np.sqrt(mean_squared_error(sf['stars'], predictions))\n",
    "\n",
    "print \"graphlab's reported rmse:\", rec['training_rmse']\n",
    "print \"calculated rmse:\", rmse  "
   ]
  },
  {
   "cell_type": "code",
   "execution_count": 12,
   "metadata": {},
   "outputs": [
    {
     "data": {
      "text/plain": [
       "dtype: float\n",
       "Rows: 4801323\n",
       "[3.960885850903941, 4.421873701927614, 4.456742836353731, 3.2900847626900203, 4.665315760490847, 4.696186257717562, 3.397292776224566, 2.173987819073153, 3.986887974855853, 4.157048477051211, 3.986588491318179, 3.920488281366778, 4.590969039318514, 3.2070239318584925, 2.967716051456881, 3.3226398063873774, 4.325329793808413, 2.4129422439312465, 1.6113767160152919, 4.293170286533785, 3.9800522459721095, 2.8503270281528956, 3.1796266568874842, 3.432968421099139, 4.962591601726961, 2.7741706503605372, 4.64751262795682, 4.767675472614718, 4.078980578300905, 1.912040902492953, 4.111834241268587, 3.938256574985934, 1.6166109575008876, 4.714427365181399, 2.563126279232455, 2.0307288898205287, 4.91668028962369, 2.629651142475558, 3.1028919352268702, 3.8602066321348674, 2.206939174053622, 4.874176098225069, 2.167286707279635, 1.5056936277126796, 2.190847350475741, 4.865939928410006, 4.592676831600619, 3.247379673836184, 4.123067600843859, 1.2453414930080897, 4.768956018803072, 4.116500718710375, 4.649162842152071, 3.057359529850436, 4.950980259296847, 2.6707690490459925, 4.93157811295743, 2.1790157092785365, 2.8142621649479396, 4.767679525730562, 3.859498156425906, 4.071802003500414, 3.848957387921763, 2.841144276974154, 3.708970399764729, 1.2874910367702967, 3.872261582133723, 4.011015756246996, 4.695013238308382, 4.5601854456638815, 4.969655825016451, 3.8848653269981868, 3.956743790028048, 3.8253151087140567, 3.803381426451159, 3.512134863254977, 4.661485089180422, 4.024471951839876, 3.844272731063319, 3.9083606137012965, 3.8034261373853213, 3.6554332880353457, 2.0096057189678675, 3.802967211422873, 4.535913838264895, 4.585185779449892, 1.555738641140414, 2.590298606274081, 4.106900675413561, 4.568433894035769, 4.390278114197207, 4.304041458485079, 4.333054674980593, 2.6577462686275966, 2.796375585911227, 4.050321264383745, 4.320360614178133, 4.512707842705202, 3.785410175291253, 4.918837024090243, ... ]"
      ]
     },
     "execution_count": 12,
     "metadata": {},
     "output_type": "execute_result"
    }
   ],
   "source": [
    "predictions"
   ]
  },
  {
   "cell_type": "code",
   "execution_count": 9,
   "metadata": {
    "scrolled": true
   },
   "outputs": [],
   "source": [
    "prec_rec = rec.evaluate_rmse(sf,target='stars')"
   ]
  },
  {
   "cell_type": "code",
   "execution_count": 10,
   "metadata": {},
   "outputs": [
    {
     "data": {
      "text/plain": [
       "{'rmse_by_item': Columns:\n",
       " \tbusiness_id\tint\n",
       " \tcount\tint\n",
       " \trmse\tfloat\n",
       " \n",
       " Rows: 170198\n",
       " \n",
       " Data:\n",
       " +-------------+-------+----------------+\n",
       " | business_id | count |      rmse      |\n",
       " +-------------+-------+----------------+\n",
       " |    21855    |  130  | 0.332384976968 |\n",
       " |    88004    |   15  | 0.876281948869 |\n",
       " |    79732    |   3   | 0.970728077213 |\n",
       " |    63664    |   6   | 0.644049639399 |\n",
       " |    127950   |  151  | 0.348455881719 |\n",
       " |     7899    |   3   | 0.995840781512 |\n",
       " |    25263    |   33  | 0.659385962989 |\n",
       " |    130872   |   3   | 1.01982870708  |\n",
       " |    87629    |   3   | 1.18951343747  |\n",
       " |    30621    |   43  | 0.672680238364 |\n",
       " +-------------+-------+----------------+\n",
       " [170198 rows x 3 columns]\n",
       " Note: Only the head of the SFrame is printed.\n",
       " You can use print_rows(num_rows=m, num_columns=n) to print more rows and columns.,\n",
       " 'rmse_by_user': Columns:\n",
       " \tuser_id\tint\n",
       " \tcount\tint\n",
       " \trmse\tfloat\n",
       " \n",
       " Rows: 1248782\n",
       " \n",
       " Data:\n",
       " +---------+-------+----------------+\n",
       " | user_id | count |      rmse      |\n",
       " +---------+-------+----------------+\n",
       " |  368497 |   2   | 0.32688190116  |\n",
       " | 1261821 |   1   | 0.144268525956 |\n",
       " |  846413 |   2   | 0.407561699761 |\n",
       " |  251434 |   5   | 0.929088926108 |\n",
       " |  504649 |   1   | 0.28893907201  |\n",
       " | 1185276 |   1   | 1.61557979715  |\n",
       " |  765931 |   1   | 0.895335899475 |\n",
       " |  588617 |   9   | 0.458246369389 |\n",
       " | 1014787 |   1   | 0.583241297123 |\n",
       " | 1075273 |   1   | 0.409717427375 |\n",
       " +---------+-------+----------------+\n",
       " [1248782 rows x 3 columns]\n",
       " Note: Only the head of the SFrame is printed.\n",
       " You can use print_rows(num_rows=m, num_columns=n) to print more rows and columns.,\n",
       " 'rmse_overall': 0.5981353575431365}"
      ]
     },
     "execution_count": 10,
     "metadata": {},
     "output_type": "execute_result"
    }
   ],
   "source": [
    "prec_rec"
   ]
  },
  {
   "cell_type": "code",
   "execution_count": 14,
   "metadata": {},
   "outputs": [
    {
     "data": {
      "text/plain": [
       "{'rmse_by_item': Columns:\n",
       " \tbusiness_id\tstr\n",
       " \tcount\tint\n",
       " \trmse\tfloat\n",
       " \n",
       " Rows: 138454\n",
       " \n",
       " Data:\n",
       " +------------------------+-------+---------------+\n",
       " |      business_id       | count |      rmse     |\n",
       " +------------------------+-------+---------------+\n",
       " | JDm9c_Gkm-N01H9K2PdgMw |   1   | 2.76938159419 |\n",
       " | icrwcgr0Pqle5PCL-Ki8Rw |   2   | 1.26835248405 |\n",
       " | Ijw0d-2wTcsciDesjCVgsA |   13  | 1.90521454565 |\n",
       " | L5CF9zPE5G0lCEExKn_qQg |   9   | 1.64238110263 |\n",
       " | o3oC0UK97tiV4cw97rAgfw |   7   |  1.3014528242 |\n",
       " | VDGMgPcGFB6acVw1qEoooA |   1   | 2.72806540532 |\n",
       " | PkM2kRiW_HJiV0E8p8yJsg |   1   | 1.66773834108 |\n",
       " | pUI96wpoJtsQc-aDP9UIqw |   2   | 1.18124971271 |\n",
       " | Bl7-eu0cRYJ6BiydS23-jw |   5   | 1.02134734084 |\n",
       " | K0QZq5UwpAZCUk9yWeOFcQ |   2   | 0.30406193632 |\n",
       " +------------------------+-------+---------------+\n",
       " [138454 rows x 3 columns]\n",
       " Note: Only the head of the SFrame is printed.\n",
       " You can use print_rows(num_rows=m, num_columns=n) to print more rows and columns.,\n",
       " 'rmse_by_user': Columns:\n",
       " \tuser_id\tstr\n",
       " \tcount\tint\n",
       " \trmse\tfloat\n",
       " \n",
       " Rows: 506003\n",
       " \n",
       " Data:\n",
       " +------------------------+-------+----------------+\n",
       " |        user_id         | count |      rmse      |\n",
       " +------------------------+-------+----------------+\n",
       " | 0BaJ43WuBnP-G6fmstEmNQ |   23  | 1.97611042903  |\n",
       " | 8O6LZqtQgGly4T4--HR-Nw |   1   | 1.44066864653  |\n",
       " | k0_OJy1YvtxCOyomdtHW4A |   7   | 0.969943377426 |\n",
       " | yXhe0xiTceaXq_PbFVGNkA |   1   | 1.25461381459  |\n",
       " | ojyAJnOaHy9OqXT-zmMH-A |   1   | 2.72806540532  |\n",
       " | X3LRAbZcdIebdJU1bEqpKQ |   1   | 1.28122824309  |\n",
       " | AqO_Ltv5Rr5qYSAx_kSX-g |   1   | 1.70826396002  |\n",
       " | s1PwuoKcKJHJ0Sx_3LWHBQ |   1   | 2.72806540532  |\n",
       " | iRTWVO4NKIgwBo957h2Zrw |   1   | 2.78660481824  |\n",
       " | EcEvSYL9hqa35IDAvJhljw |   1   | 0.182341795133 |\n",
       " +------------------------+-------+----------------+\n",
       " [506003 rows x 3 columns]\n",
       " Note: Only the head of the SFrame is printed.\n",
       " You can use print_rows(num_rows=m, num_columns=n) to print more rows and columns.,\n",
       " 'rmse_overall': 1.5458866492140457}"
      ]
     },
     "execution_count": 14,
     "metadata": {},
     "output_type": "execute_result"
    }
   ],
   "source": [
    "evla_rmse"
   ]
  },
  {
   "cell_type": "code",
   "execution_count": 5,
   "metadata": {},
   "outputs": [],
   "source": [
    "lat = rec['coefficients']\n",
    "# U = np.asarray(lat['user_id']['factors'])\n",
    "# V = np.asarray(lat['business_id']['factors'])"
   ]
  },
  {
   "cell_type": "code",
   "execution_count": 6,
   "metadata": {},
   "outputs": [
    {
     "data": {
      "text/plain": [
       "{'business_id': Columns:\n",
       " \tbusiness_id\tint\n",
       " \tlinear_terms\tfloat\n",
       " \tfactors\tarray\n",
       " \n",
       " Rows: 170198\n",
       " \n",
       " Data:\n",
       " +-------------+--------------+-------------------------------+\n",
       " | business_id | linear_terms |            factors            |\n",
       " +-------------+--------------+-------------------------------+\n",
       " |    15733    |     0.0      | [-2.04808831215, -0.289387... |\n",
       " |    67856    |     0.0      | [-0.346569895744, 0.148897... |\n",
       " |    87093    |     0.0      | [-0.673363804817, -0.48200... |\n",
       " |    113461   |     0.0      | [0.115808263421, -0.009901... |\n",
       " |    153617   |     0.0      | [-0.377523034811, -0.34691... |\n",
       " |    160310   |     0.0      | [-0.0709279030561, -0.0526... |\n",
       " |    77849    |     0.0      | [0.107696078718, 0.1720171... |\n",
       " |    14970    |     0.0      | [-0.313647985458, -0.31288... |\n",
       " |    18440    |     0.0      | [0.495027035475, -0.192912... |\n",
       " |    19036    |     0.0      | [-0.156491905451, -0.18767... |\n",
       " +-------------+--------------+-------------------------------+\n",
       " [170198 rows x 3 columns]\n",
       " Note: Only the head of the SFrame is printed.\n",
       " You can use print_rows(num_rows=m, num_columns=n) to print more rows and columns.,\n",
       " 'intercept': 3.7269429696774012,\n",
       " 'user_id': Columns:\n",
       " \tuser_id\tint\n",
       " \tlinear_terms\tfloat\n",
       " \tfactors\tarray\n",
       " \n",
       " Rows: 1248782\n",
       " \n",
       " Data:\n",
       " +---------+--------------+-------------------------------+\n",
       " | user_id | linear_terms |            factors            |\n",
       " +---------+--------------+-------------------------------+\n",
       " |    1    |     0.0      | [-0.173365488648, -0.06742... |\n",
       " |    2    |     0.0      | [-0.00875448808074, -0.013... |\n",
       " |    3    |     0.0      | [0.0117542035878, 0.011289... |\n",
       " |    4    |     0.0      | [-0.0284087583423, -0.0355... |\n",
       " |    5    |     0.0      | [0.00559349125251, -0.0026... |\n",
       " |    6    |     0.0      | [0.092446193099, -0.106348... |\n",
       " |    8    |     0.0      | [0.067852653563, -0.009672... |\n",
       " |    9    |     0.0      | [-0.0619334466755, 0.16157... |\n",
       " |    10   |     0.0      | [0.109247557819, 0.0584894... |\n",
       " |    11   |     0.0      | [-0.0111249415204, -0.0076... |\n",
       " +---------+--------------+-------------------------------+\n",
       " [1248782 rows x 3 columns]\n",
       " Note: Only the head of the SFrame is printed.\n",
       " You can use print_rows(num_rows=m, num_columns=n) to print more rows and columns.}"
      ]
     },
     "execution_count": 6,
     "metadata": {},
     "output_type": "execute_result"
    }
   ],
   "source": [
    "lat"
   ]
  },
  {
   "cell_type": "code",
   "execution_count": 7,
   "metadata": {},
   "outputs": [
    {
     "data": {
      "text/html": [
       "<div style=\"max-height:1000px;max-width:1500px;overflow:auto;\"><table frame=\"box\" rules=\"cols\">\n",
       "    <tr>\n",
       "        <th style=\"padding-left: 1em; padding-right: 1em; text-align: center\">business_id</th>\n",
       "        <th style=\"padding-left: 1em; padding-right: 1em; text-align: center\">linear_terms</th>\n",
       "        <th style=\"padding-left: 1em; padding-right: 1em; text-align: center\">factors</th>\n",
       "    </tr>\n",
       "    <tr>\n",
       "        <td style=\"padding-left: 1em; padding-right: 1em; text-align: center; vertical-align: top\">15733</td>\n",
       "        <td style=\"padding-left: 1em; padding-right: 1em; text-align: center; vertical-align: top\">0.0</td>\n",
       "        <td style=\"padding-left: 1em; padding-right: 1em; text-align: center; vertical-align: top\">[-2.04808831215,<br>-0.289387613535, ...</td>\n",
       "    </tr>\n",
       "    <tr>\n",
       "        <td style=\"padding-left: 1em; padding-right: 1em; text-align: center; vertical-align: top\">67856</td>\n",
       "        <td style=\"padding-left: 1em; padding-right: 1em; text-align: center; vertical-align: top\">0.0</td>\n",
       "        <td style=\"padding-left: 1em; padding-right: 1em; text-align: center; vertical-align: top\">[-0.346569895744,<br>0.148897513747, ...</td>\n",
       "    </tr>\n",
       "    <tr>\n",
       "        <td style=\"padding-left: 1em; padding-right: 1em; text-align: center; vertical-align: top\">87093</td>\n",
       "        <td style=\"padding-left: 1em; padding-right: 1em; text-align: center; vertical-align: top\">0.0</td>\n",
       "        <td style=\"padding-left: 1em; padding-right: 1em; text-align: center; vertical-align: top\">[-0.673363804817,<br>-0.482003927231, ...</td>\n",
       "    </tr>\n",
       "    <tr>\n",
       "        <td style=\"padding-left: 1em; padding-right: 1em; text-align: center; vertical-align: top\">113461</td>\n",
       "        <td style=\"padding-left: 1em; padding-right: 1em; text-align: center; vertical-align: top\">0.0</td>\n",
       "        <td style=\"padding-left: 1em; padding-right: 1em; text-align: center; vertical-align: top\">[0.115808263421,<br>-0.00990190636367, ...</td>\n",
       "    </tr>\n",
       "    <tr>\n",
       "        <td style=\"padding-left: 1em; padding-right: 1em; text-align: center; vertical-align: top\">153617</td>\n",
       "        <td style=\"padding-left: 1em; padding-right: 1em; text-align: center; vertical-align: top\">0.0</td>\n",
       "        <td style=\"padding-left: 1em; padding-right: 1em; text-align: center; vertical-align: top\">[-0.377523034811,<br>-0.34691748023, ...</td>\n",
       "    </tr>\n",
       "    <tr>\n",
       "        <td style=\"padding-left: 1em; padding-right: 1em; text-align: center; vertical-align: top\">160310</td>\n",
       "        <td style=\"padding-left: 1em; padding-right: 1em; text-align: center; vertical-align: top\">0.0</td>\n",
       "        <td style=\"padding-left: 1em; padding-right: 1em; text-align: center; vertical-align: top\">[-0.0709279030561,<br>-0.0526834502816, ...</td>\n",
       "    </tr>\n",
       "    <tr>\n",
       "        <td style=\"padding-left: 1em; padding-right: 1em; text-align: center; vertical-align: top\">77849</td>\n",
       "        <td style=\"padding-left: 1em; padding-right: 1em; text-align: center; vertical-align: top\">0.0</td>\n",
       "        <td style=\"padding-left: 1em; padding-right: 1em; text-align: center; vertical-align: top\">[0.107696078718,<br>0.172017171979, ...</td>\n",
       "    </tr>\n",
       "    <tr>\n",
       "        <td style=\"padding-left: 1em; padding-right: 1em; text-align: center; vertical-align: top\">14970</td>\n",
       "        <td style=\"padding-left: 1em; padding-right: 1em; text-align: center; vertical-align: top\">0.0</td>\n",
       "        <td style=\"padding-left: 1em; padding-right: 1em; text-align: center; vertical-align: top\">[-0.313647985458,<br>-0.312882661819, ...</td>\n",
       "    </tr>\n",
       "    <tr>\n",
       "        <td style=\"padding-left: 1em; padding-right: 1em; text-align: center; vertical-align: top\">18440</td>\n",
       "        <td style=\"padding-left: 1em; padding-right: 1em; text-align: center; vertical-align: top\">0.0</td>\n",
       "        <td style=\"padding-left: 1em; padding-right: 1em; text-align: center; vertical-align: top\">[0.495027035475,<br>-0.192912846804, ...</td>\n",
       "    </tr>\n",
       "    <tr>\n",
       "        <td style=\"padding-left: 1em; padding-right: 1em; text-align: center; vertical-align: top\">19036</td>\n",
       "        <td style=\"padding-left: 1em; padding-right: 1em; text-align: center; vertical-align: top\">0.0</td>\n",
       "        <td style=\"padding-left: 1em; padding-right: 1em; text-align: center; vertical-align: top\">[-0.156491905451,<br>-0.187671408057, ...</td>\n",
       "    </tr>\n",
       "</table>\n",
       "[170198 rows x 3 columns]<br/>Note: Only the head of the SFrame is printed.<br/>You can use print_rows(num_rows=m, num_columns=n) to print more rows and columns.\n",
       "</div>"
      ],
      "text/plain": [
       "Columns:\n",
       "\tbusiness_id\tint\n",
       "\tlinear_terms\tfloat\n",
       "\tfactors\tarray\n",
       "\n",
       "Rows: 170198\n",
       "\n",
       "Data:\n",
       "+-------------+--------------+-------------------------------+\n",
       "| business_id | linear_terms |            factors            |\n",
       "+-------------+--------------+-------------------------------+\n",
       "|    15733    |     0.0      | [-2.04808831215, -0.289387... |\n",
       "|    67856    |     0.0      | [-0.346569895744, 0.148897... |\n",
       "|    87093    |     0.0      | [-0.673363804817, -0.48200... |\n",
       "|    113461   |     0.0      | [0.115808263421, -0.009901... |\n",
       "|    153617   |     0.0      | [-0.377523034811, -0.34691... |\n",
       "|    160310   |     0.0      | [-0.0709279030561, -0.0526... |\n",
       "|    77849    |     0.0      | [0.107696078718, 0.1720171... |\n",
       "|    14970    |     0.0      | [-0.313647985458, -0.31288... |\n",
       "|    18440    |     0.0      | [0.495027035475, -0.192912... |\n",
       "|    19036    |     0.0      | [-0.156491905451, -0.18767... |\n",
       "+-------------+--------------+-------------------------------+\n",
       "[170198 rows x 3 columns]\n",
       "Note: Only the head of the SFrame is printed.\n",
       "You can use print_rows(num_rows=m, num_columns=n) to print more rows and columns."
      ]
     },
     "execution_count": 7,
     "metadata": {},
     "output_type": "execute_result"
    }
   ],
   "source": [
    "lat['business_id']"
   ]
  },
  {
   "cell_type": "code",
   "execution_count": 80,
   "metadata": {},
   "outputs": [
    {
     "data": {
      "text/plain": [
       "(1248782,)"
      ]
     },
     "execution_count": 80,
     "metadata": {},
     "output_type": "execute_result"
    }
   ],
   "source": [
    "np.unique(np.asarray(df['user_id'])).shape"
   ]
  },
  {
   "cell_type": "code",
   "execution_count": 81,
   "metadata": {},
   "outputs": [
    {
     "data": {
      "text/plain": [
       "(1248782,)"
      ]
     },
     "execution_count": 81,
     "metadata": {},
     "output_type": "execute_result"
    }
   ],
   "source": [
    "np.unique(np.asarray(lat['user_id']['user_id'])).shape"
   ]
  },
  {
   "cell_type": "code",
   "execution_count": 41,
   "metadata": {},
   "outputs": [],
   "source": [
    "import pickle\n",
    "def save_obj(obj, name ):\n",
    "    with open('dumps/'+name + '.pkl', 'wb') as f:\n",
    "        pickle.dump(obj, f, pickle.HIGHEST_PROTOCOL)"
   ]
  },
  {
   "cell_type": "code",
   "execution_count": 43,
   "metadata": {},
   "outputs": [],
   "source": [
    "save_obj(lat,'lat_exp')"
   ]
  },
  {
   "cell_type": "code",
   "execution_count": 11,
   "metadata": {},
   "outputs": [],
   "source": [
    "lat['user_id'].export_csv('dumps/lat_user_2.csv')\n",
    "lat['business_id'].export_csv('dumps/lat_item_2.csv')"
   ]
  }
 ],
 "metadata": {
  "kernelspec": {
   "display_name": "Python 2",
   "language": "python",
   "name": "python2"
  },
  "language_info": {
   "codemirror_mode": {
    "name": "ipython",
    "version": 2
   },
   "file_extension": ".py",
   "mimetype": "text/x-python",
   "name": "python",
   "nbconvert_exporter": "python",
   "pygments_lexer": "ipython2",
   "version": "2.7.14"
  }
 },
 "nbformat": 4,
 "nbformat_minor": 2
}
