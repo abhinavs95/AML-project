{
 "cells": [
  {
   "cell_type": "code",
   "execution_count": 1,
   "metadata": {},
   "outputs": [],
   "source": [
    "import pandas as pd\n",
    "import numpy as np\n",
    "import scipy.sparse\n",
    "import csv\n",
    "import sys\n",
    "from scipy.sparse import csr_matrix"
   ]
  },
  {
   "cell_type": "code",
   "execution_count": 5,
   "metadata": {},
   "outputs": [],
   "source": [
    "lat_user = open('files/lat_user.csv').readlines()\n",
    "lat_user_dict = {}\n",
    "for line in lat_user[1:]:\n",
    "    line_parts = line.strip().split(',')\n",
    "    matrix = np.array(line_parts[2][2:-2].split(),dtype = np.float64)\n",
    "    assert matrix.shape[0] == 50\n",
    "    idx = int(line_parts[0])\n",
    "    lat_user_dict[idx] = matrix"
   ]
  },
  {
   "cell_type": "code",
   "execution_count": 8,
   "metadata": {},
   "outputs": [],
   "source": [
    "lat_item = open('files/lat_item.csv').readlines()\n",
    "lat_item_dict = {}\n",
    "for line in lat_item[1:]:\n",
    "    line_parts = line.strip().split(',')\n",
    "    matrix = np.array(line_parts[2][2:-2].split(),dtype = np.float64)\n",
    "    assert matrix.shape[0] == 50\n",
    "    idx = int(line_parts[0])\n",
    "    lat_item_dict[idx] = matrix"
   ]
  },
  {
   "cell_type": "code",
   "execution_count": 11,
   "metadata": {},
   "outputs": [],
   "source": [
    "train_lines = open('files/train.csv').readlines()\n",
    "error = 0.0\n",
    "for line in train_lines:\n",
    "    line_parts = line.strip().split(',')\n",
    "    gt = float(line_parts[2])\n",
    "    user_idx = int(line_parts[0])\n",
    "    item_idx = int(line_parts[1])\n",
    "    pred = np.dot(lat_item_dict[item_idx],lat_user_dict[user_idx])\n",
    "    error += (gt-pred)**2"
   ]
  },
  {
   "cell_type": "code",
   "execution_count": 12,
   "metadata": {},
   "outputs": [
    {
     "name": "stdout",
     "output_type": "stream",
     "text": [
      "RMS =  3.7846179850714012\n"
     ]
    }
   ],
   "source": [
    "print 'RMS = ', np.sqrt(error/len(train_lines))"
   ]
  },
  {
   "cell_type": "code",
   "execution_count": null,
   "metadata": {},
   "outputs": [],
   "source": []
  }
 ],
 "metadata": {
  "kernelspec": {
   "display_name": "Python 2",
   "language": "python",
   "name": "python2"
  },
  "language_info": {
   "codemirror_mode": {
    "name": "ipython",
    "version": 2
   },
   "file_extension": ".py",
   "mimetype": "text/x-python",
   "name": "python",
   "nbconvert_exporter": "python",
   "pygments_lexer": "ipython2",
   "version": "2.7.14"
  }
 },
 "nbformat": 4,
 "nbformat_minor": 2
}
