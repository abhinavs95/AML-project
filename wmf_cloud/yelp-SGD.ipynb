{
 "cells": [
  {
   "cell_type": "code",
   "execution_count": 5,
   "metadata": {},
   "outputs": [],
   "source": [
    "# coding: utf-8\n",
    "\"\"\"\n",
    "Source code for matrix completion\n",
    "Author: Abhinav Sharma (as5414)\n",
    "The details of the code and dev environment including descriptions of variables and functions is provided in the report pdf\n",
    "\"\"\"\n",
    "import scipy.sparse as sp\n",
    "import scipy.sparse.linalg as sla\n",
    "import numpy as np\n",
    "import pandas as pd\n",
    "import time\n",
    "import math\n",
    "\n",
    "# Function for loading and pre-processing data\n",
    "def get_data(path):\n",
    "    np_frame = pd.read_csv(path,usecols=[0,1,2]).as_matrix()\n",
    "\n",
    "    users = np_frame[:,0].astype(dtype = 'uint32')-1\n",
    "    items = np_frame[:,1].astype(dtype = 'uint32')-1\n",
    "    ratings = np_frame[:,2].astype(dtype = 'float64')\n",
    "\n",
    "    items_unique, items_cleaned = np.unique(items,return_inverse=True)\n",
    "\n",
    "    num_users = np.max(users)+1\n",
    "    num_items = items_unique.shape[0]\n",
    "\n",
    "    user_dict = {i: [] for i in range(num_users)}\n",
    "\n",
    "    for i in range(len(users)):\n",
    "        user_dict[users[i]].append([items_cleaned[i],ratings[i]])\n",
    "\n",
    "    R_train = sp.lil_matrix((num_users,num_items))\n",
    "    R_test = sp.lil_matrix((num_users,num_items))\n",
    "    num_train = 0\n",
    "    num_test = 0\n",
    "\n",
    "    for i in user_dict.keys():\n",
    "        l = len(user_dict[i])\n",
    "        indx = np.arange(l)\n",
    "        np.random.shuffle(indx)\n",
    "        temp = np.asarray(user_dict[i])\n",
    "        R_test[i,temp[indx[:l/2],0]] = temp[indx[:l/2],1]\n",
    "        R_train[i,temp[indx[l/2:],0]] = temp[indx[l/2:],1]\n",
    "        num_train += len(indx[l/2:])\n",
    "        num_test += len(indx[:l/2])\n",
    "\n",
    "    return R_train,R_test,num_users,num_items,num_train,num_test\n",
    "\n",
    "def itemize(data):\n",
    "    _,indx = np.unique(data,return_index=True)\n",
    "    u = data[np.sort(indx)]\n",
    "    n_data = u.shape[0]\n",
    "    new_indx = np.arange(n_data)\n",
    "    d = dict(zip(u,new_indx))\n",
    "    data_indx = np.zeros(data.shape, dtype=np.int32)\n",
    "    for i in range(data_indx.shape[0]):\n",
    "        data_indx[i] = d[data[i]]\n",
    "    return data_indx, n_data\n",
    "\n",
    "def load_data(path):\n",
    "    data = pd.read_csv(path)\n",
    "    data = data.drop(['funny', 'review_id', 'text', 'date', 'useful', 'cool'], axis=1)\n",
    "    data.drop_duplicates(inplace=True)\n",
    "    rows, cols, stars = np.array(data['user_id']), np.array(data['business_id']), np.array(data['stars'],dtype='float32')\n",
    "    # itemize users and items\n",
    "    row_indx, n_users = itemize(rows)\n",
    "    col_indx, n_items = itemize(cols)\n",
    "    return sp.csr_matrix((stars,(row_indx, col_indx)), dtype='float32', shape=(n_users,n_items))\n",
    "\n",
    "# Class for matrix completion\n",
    "class mat_comp():\n",
    "    \n",
    "    def __init__(self,R_train,R_test,num_users,num_items,num_train,num_test,r,lamda):\n",
    "        self.r = r\n",
    "        self.alpha = 0.01\n",
    "        #self.beta = 0.01\n",
    "        self.lamda = lamda\n",
    "        self.iters = 15\n",
    "        self.R_train = R_train\n",
    "        self.R_test = R_test\n",
    "        self.num_users = num_users\n",
    "        self.num_items = num_items\n",
    "        self.num_train = num_train\n",
    "        self.num_test = num_test\n",
    "        self.V = np.random.normal(scale=1.0/self.r,size=(self.num_users,self.r))\n",
    "        self.W = np.random.normal(scale=1.0/self.r,size=(self.num_items,self.r))\n",
    "        #self.b_u = np.zeros(self.num_users)\n",
    "        #self.b_i = np.zeros(self.num_items)\n",
    "        #self.b = np.sum(self.R_train)/self.R_train.nonzero()[0].shape[0]\n",
    "\n",
    "    # Perfrom SGD on train set\n",
    "    def sgd(self):\n",
    "        ind = np.asarray(self.R_train.nonzero()).T\n",
    "        np.random.shuffle(ind)\n",
    "        for i in range(ind.shape[0]):\n",
    "            err = self.R_train[ind[i,0],ind[i,1]] - (np.dot(self.V[ind[i,0],:],self.W[ind[i,1],:]))#+self.b+self.b_u[ind[i,0]]+self.b_i[ind[i,1]])\n",
    "            #self.b_u[ind[i,0]] += self.alpha*(err - self.beta * self.b_u[ind[i,0]])\n",
    "            #self.b_i[ind[i,1]] += self.alpha*(err - self.beta * self.b_i[ind[i,1]])\n",
    "            self.V[ind[i,0],:] += self.alpha*(err*self.W[ind[i,1],:] - self.lamda*self.V[ind[i,0],:])\n",
    "            self.W[ind[i,1],:] += self.alpha*(err*self.V[ind[i,0],:] - self.lamda*self.W[ind[i,1],:])\n",
    "\n",
    "    # Compute RMSE on train / test sets\n",
    "    def rmse(self,R,num):\n",
    "        term = sp.lil_matrix(R.shape)\n",
    "        ind = R.nonzero()\n",
    "        i_prev=0\n",
    "        k=0\n",
    "        for i in range(len(ind[0])-1):\n",
    "            if ind[0][i]==ind[0][i+1]:\n",
    "                i=i+1\n",
    "            else:\n",
    "                term[k,ind[1][i_prev:i+1]] = np.asarray([np.dot(self.V[ind[0][i],:],self.W[j,:])for j in ind[1][i_prev:i+1]])#+self.b+self.b_u[ind[0][i]]+self.b_i[j] \n",
    "                i_prev=i+1\n",
    "                k=k+1\n",
    "        term[k,ind[1][i_prev:i+1]] = np.asarray([np.dot(self.V[ind[0][i],:],self.W[j,:]) for j in ind[1][i_prev:i+1]])\n",
    "        term = R - term\n",
    "        rmse = math.sqrt(sla.norm(term)**2/num)\n",
    "        return rmse\n",
    "    \n",
    "    # Compute MRR on test set\n",
    "    def mrr(self):\n",
    "        mrr = 0\n",
    "        num = self.num_users\n",
    "        for u in range(self.num_users):\n",
    "            ind = self.R_test[u].nonzero()[1]\n",
    "            pred = (np.asarray([np.dot(self.V[u,:],self.W[j,:])+self.b+self.b_u[u]+self.b_i[j] for j in ind]),)\n",
    "            pred = np.argsort(pred)\n",
    "            arginv = np.zeros((len(ind)))\n",
    "            arginv[pred] = np.arange(len(ind))\n",
    "            indg = (self.R_test[u,ind]>=3.0).toarray()[0,:]\n",
    "            if np.sum(indg)>0:\n",
    "                mrr += np.sum((1.0/(arginv+1))[indg]) / np.sum(indg)\n",
    "            else:\n",
    "                num -=1\n",
    "        mrr /= num\n",
    "        return mrr\n",
    "    \n",
    "    # Train model\n",
    "    def train(self):\n",
    "        for i in range(self.iters):\n",
    "            start = time.time()\n",
    "            rmse = self.rmse(self.R_train,self.num_train)\n",
    "            self.sgd()\n",
    "            end = time.time()\n",
    "            print('iter: ',i, ' rmse: ', rmse,' time: ',end-start)\n",
    "        #rmse_test = self.rmse(R_test,num_test)\n",
    "        #mrr_test = self.mrr()\n",
    "        #return rmse_test,mrr_test,rmse"
   ]
  },
  {
   "cell_type": "code",
   "execution_count": 2,
   "metadata": {
    "scrolled": true
   },
   "outputs": [],
   "source": [
    "# Load and pre-process data\n",
    "path = '../../dataset/review.csv'\n",
    "R_train = load_data(path)\n",
    "R_train = R_train[:-1000000,:-100000]\n",
    "R_test = None\n",
    "num_users = R_train.shape[0]\n",
    "num_items = R_train.shape[1]\n",
    "num_train = R_train.count_nonzero()\n",
    "num_test = None\n",
    "\n",
    "\n",
    "# path = '../../../HW1/ml-20m/ratings.csv'\n",
    "# R_train,R_test,num_users,num_items,num_train,num_test = get_data(path)\n",
    "\n",
    "# Define ranges for grid search\n",
    "# l_range = [0.01,0.05,0.1,0.2,0.4,0.8]\n",
    "# r_range = [2,4,8,16,32,64]\n",
    "\n",
    "# Compute and store results\n",
    "# for lamda in l_range:\n",
    "#     for r in r_range:\n",
    "\n",
    "#np.save('resl'+str(lamda)+'r'+str(r),res)"
   ]
  },
  {
   "cell_type": "code",
   "execution_count": 6,
   "metadata": {},
   "outputs": [
    {
     "name": "stdout",
     "output_type": "stream",
     "text": [
      "('iter: ', 0, ' rmse: ', 4.126663507028058, ' time: ', 107.9257869720459)\n",
      "('iter: ', 1, ' rmse: ', 4.045225200557062, ' time: ', 111.27004790306091)\n",
      "('iter: ', 2, ' rmse: ', 4.033651689096913, ' time: ', 108.97926211357117)\n",
      "('iter: ', 3, ' rmse: ', 4.047891371171192, ' time: ', 107.79443907737732)\n",
      "('iter: ', 4, ' rmse: ', 4.103824780763576, ' time: ', 107.57871794700623)\n"
     ]
    },
    {
     "ename": "KeyboardInterrupt",
     "evalue": "",
     "output_type": "error",
     "traceback": [
      "\u001b[0;31m---------------------------------------------------------------------------\u001b[0m",
      "\u001b[0;31mKeyboardInterrupt\u001b[0m                         Traceback (most recent call last)",
      "\u001b[0;32m<ipython-input-6-87f55a33f33a>\u001b[0m in \u001b[0;36m<module>\u001b[0;34m()\u001b[0m\n\u001b[1;32m      2\u001b[0m \u001b[0mlamda\u001b[0m \u001b[0;34m=\u001b[0m \u001b[0;36m0.01\u001b[0m\u001b[0;34m\u001b[0m\u001b[0m\n\u001b[1;32m      3\u001b[0m \u001b[0mMC\u001b[0m \u001b[0;34m=\u001b[0m \u001b[0mmat_comp\u001b[0m\u001b[0;34m(\u001b[0m\u001b[0mR_train\u001b[0m\u001b[0;34m,\u001b[0m\u001b[0mR_test\u001b[0m\u001b[0;34m,\u001b[0m\u001b[0mnum_users\u001b[0m\u001b[0;34m,\u001b[0m\u001b[0mnum_items\u001b[0m\u001b[0;34m,\u001b[0m\u001b[0mnum_train\u001b[0m\u001b[0;34m,\u001b[0m\u001b[0mnum_test\u001b[0m\u001b[0;34m,\u001b[0m\u001b[0mr\u001b[0m\u001b[0;34m,\u001b[0m\u001b[0mlamda\u001b[0m\u001b[0;34m)\u001b[0m\u001b[0;34m\u001b[0m\u001b[0m\n\u001b[0;32m----> 4\u001b[0;31m \u001b[0mMC\u001b[0m\u001b[0;34m.\u001b[0m\u001b[0mtrain\u001b[0m\u001b[0;34m(\u001b[0m\u001b[0;34m)\u001b[0m\u001b[0;34m\u001b[0m\u001b[0m\n\u001b[0m",
      "\u001b[0;32m<ipython-input-5-061ab10e9b3f>\u001b[0m in \u001b[0;36mtrain\u001b[0;34m(self)\u001b[0m\n\u001b[1;32m    141\u001b[0m             \u001b[0mstart\u001b[0m \u001b[0;34m=\u001b[0m \u001b[0mtime\u001b[0m\u001b[0;34m.\u001b[0m\u001b[0mtime\u001b[0m\u001b[0;34m(\u001b[0m\u001b[0;34m)\u001b[0m\u001b[0;34m\u001b[0m\u001b[0m\n\u001b[1;32m    142\u001b[0m             \u001b[0mrmse\u001b[0m \u001b[0;34m=\u001b[0m \u001b[0mself\u001b[0m\u001b[0;34m.\u001b[0m\u001b[0mrmse\u001b[0m\u001b[0;34m(\u001b[0m\u001b[0mself\u001b[0m\u001b[0;34m.\u001b[0m\u001b[0mR_train\u001b[0m\u001b[0;34m,\u001b[0m\u001b[0mself\u001b[0m\u001b[0;34m.\u001b[0m\u001b[0mnum_train\u001b[0m\u001b[0;34m)\u001b[0m\u001b[0;34m\u001b[0m\u001b[0m\n\u001b[0;32m--> 143\u001b[0;31m             \u001b[0mself\u001b[0m\u001b[0;34m.\u001b[0m\u001b[0msgd\u001b[0m\u001b[0;34m(\u001b[0m\u001b[0;34m)\u001b[0m\u001b[0;34m\u001b[0m\u001b[0m\n\u001b[0m\u001b[1;32m    144\u001b[0m             \u001b[0mend\u001b[0m \u001b[0;34m=\u001b[0m \u001b[0mtime\u001b[0m\u001b[0;34m.\u001b[0m\u001b[0mtime\u001b[0m\u001b[0;34m(\u001b[0m\u001b[0;34m)\u001b[0m\u001b[0;34m\u001b[0m\u001b[0m\n\u001b[1;32m    145\u001b[0m             \u001b[0;32mprint\u001b[0m\u001b[0;34m(\u001b[0m\u001b[0;34m'iter: '\u001b[0m\u001b[0;34m,\u001b[0m\u001b[0mi\u001b[0m\u001b[0;34m,\u001b[0m \u001b[0;34m' rmse: '\u001b[0m\u001b[0;34m,\u001b[0m \u001b[0mrmse\u001b[0m\u001b[0;34m,\u001b[0m\u001b[0;34m' time: '\u001b[0m\u001b[0;34m,\u001b[0m\u001b[0mend\u001b[0m\u001b[0;34m-\u001b[0m\u001b[0mstart\u001b[0m\u001b[0;34m)\u001b[0m\u001b[0;34m\u001b[0m\u001b[0m\n",
      "\u001b[0;32m<ipython-input-5-061ab10e9b3f>\u001b[0m in \u001b[0;36msgd\u001b[0;34m(self)\u001b[0m\n\u001b[1;32m     94\u001b[0m         \u001b[0mnp\u001b[0m\u001b[0;34m.\u001b[0m\u001b[0mrandom\u001b[0m\u001b[0;34m.\u001b[0m\u001b[0mshuffle\u001b[0m\u001b[0;34m(\u001b[0m\u001b[0mind\u001b[0m\u001b[0;34m)\u001b[0m\u001b[0;34m\u001b[0m\u001b[0m\n\u001b[1;32m     95\u001b[0m         \u001b[0;32mfor\u001b[0m \u001b[0mi\u001b[0m \u001b[0;32min\u001b[0m \u001b[0mrange\u001b[0m\u001b[0;34m(\u001b[0m\u001b[0mind\u001b[0m\u001b[0;34m.\u001b[0m\u001b[0mshape\u001b[0m\u001b[0;34m[\u001b[0m\u001b[0;36m0\u001b[0m\u001b[0;34m]\u001b[0m\u001b[0;34m)\u001b[0m\u001b[0;34m:\u001b[0m\u001b[0;34m\u001b[0m\u001b[0m\n\u001b[0;32m---> 96\u001b[0;31m             \u001b[0merr\u001b[0m \u001b[0;34m=\u001b[0m \u001b[0mself\u001b[0m\u001b[0;34m.\u001b[0m\u001b[0mR_train\u001b[0m\u001b[0;34m[\u001b[0m\u001b[0mind\u001b[0m\u001b[0;34m[\u001b[0m\u001b[0mi\u001b[0m\u001b[0;34m,\u001b[0m\u001b[0;36m0\u001b[0m\u001b[0;34m]\u001b[0m\u001b[0;34m,\u001b[0m\u001b[0mind\u001b[0m\u001b[0;34m[\u001b[0m\u001b[0mi\u001b[0m\u001b[0;34m,\u001b[0m\u001b[0;36m1\u001b[0m\u001b[0;34m]\u001b[0m\u001b[0;34m]\u001b[0m \u001b[0;34m-\u001b[0m \u001b[0;34m(\u001b[0m\u001b[0mnp\u001b[0m\u001b[0;34m.\u001b[0m\u001b[0mdot\u001b[0m\u001b[0;34m(\u001b[0m\u001b[0mself\u001b[0m\u001b[0;34m.\u001b[0m\u001b[0mV\u001b[0m\u001b[0;34m[\u001b[0m\u001b[0mind\u001b[0m\u001b[0;34m[\u001b[0m\u001b[0mi\u001b[0m\u001b[0;34m,\u001b[0m\u001b[0;36m0\u001b[0m\u001b[0;34m]\u001b[0m\u001b[0;34m,\u001b[0m\u001b[0;34m:\u001b[0m\u001b[0;34m]\u001b[0m\u001b[0;34m,\u001b[0m\u001b[0mself\u001b[0m\u001b[0;34m.\u001b[0m\u001b[0mW\u001b[0m\u001b[0;34m[\u001b[0m\u001b[0mind\u001b[0m\u001b[0;34m[\u001b[0m\u001b[0mi\u001b[0m\u001b[0;34m,\u001b[0m\u001b[0;36m1\u001b[0m\u001b[0;34m]\u001b[0m\u001b[0;34m,\u001b[0m\u001b[0;34m:\u001b[0m\u001b[0;34m]\u001b[0m\u001b[0;34m)\u001b[0m\u001b[0;34m)\u001b[0m\u001b[0;31m#+self.b+self.b_u[ind[i,0]]+self.b_i[ind[i,1]])\u001b[0m\u001b[0;34m\u001b[0m\u001b[0m\n\u001b[0m\u001b[1;32m     97\u001b[0m             \u001b[0;31m#self.b_u[ind[i,0]] += self.alpha*(err - self.beta * self.b_u[ind[i,0]])\u001b[0m\u001b[0;34m\u001b[0m\u001b[0;34m\u001b[0m\u001b[0m\n\u001b[1;32m     98\u001b[0m             \u001b[0;31m#self.b_i[ind[i,1]] += self.alpha*(err - self.beta * self.b_i[ind[i,1]])\u001b[0m\u001b[0;34m\u001b[0m\u001b[0;34m\u001b[0m\u001b[0m\n",
      "\u001b[0;32m/anaconda3/envs/py27/lib/python2.7/site-packages/scipy/sparse/csr.pyc\u001b[0m in \u001b[0;36m__getitem__\u001b[0;34m(self, key)\u001b[0m\n\u001b[1;32m    286\u001b[0m         \u001b[0;32mif\u001b[0m \u001b[0misintlike\u001b[0m\u001b[0;34m(\u001b[0m\u001b[0mrow\u001b[0m\u001b[0;34m)\u001b[0m\u001b[0;34m:\u001b[0m\u001b[0;34m\u001b[0m\u001b[0m\n\u001b[1;32m    287\u001b[0m             \u001b[0;31m# [i, j]\u001b[0m\u001b[0;34m\u001b[0m\u001b[0;34m\u001b[0m\u001b[0m\n\u001b[0;32m--> 288\u001b[0;31m             \u001b[0;32mif\u001b[0m \u001b[0misintlike\u001b[0m\u001b[0;34m(\u001b[0m\u001b[0mcol\u001b[0m\u001b[0;34m)\u001b[0m\u001b[0;34m:\u001b[0m\u001b[0;34m\u001b[0m\u001b[0m\n\u001b[0m\u001b[1;32m    289\u001b[0m                 \u001b[0;32mreturn\u001b[0m \u001b[0mself\u001b[0m\u001b[0;34m.\u001b[0m\u001b[0m_get_single_element\u001b[0m\u001b[0;34m(\u001b[0m\u001b[0mrow\u001b[0m\u001b[0;34m,\u001b[0m \u001b[0mcol\u001b[0m\u001b[0;34m)\u001b[0m\u001b[0;34m\u001b[0m\u001b[0m\n\u001b[1;32m    290\u001b[0m             \u001b[0;31m# [i, 1:2]\u001b[0m\u001b[0;34m\u001b[0m\u001b[0;34m\u001b[0m\u001b[0m\n",
      "\u001b[0;32m/anaconda3/envs/py27/lib/python2.7/site-packages/scipy/sparse/sputils.pyc\u001b[0m in \u001b[0;36misintlike\u001b[0;34m(x)\u001b[0m\n\u001b[1;32m    193\u001b[0m         \u001b[0;32mreturn\u001b[0m \u001b[0mFalse\u001b[0m\u001b[0;34m\u001b[0m\u001b[0m\n\u001b[1;32m    194\u001b[0m     \u001b[0;32mtry\u001b[0m\u001b[0;34m:\u001b[0m\u001b[0;34m\u001b[0m\u001b[0m\n\u001b[0;32m--> 195\u001b[0;31m         \u001b[0;32mreturn\u001b[0m \u001b[0mbool\u001b[0m\u001b[0;34m(\u001b[0m\u001b[0mint\u001b[0m\u001b[0;34m(\u001b[0m\u001b[0mx\u001b[0m\u001b[0;34m)\u001b[0m \u001b[0;34m==\u001b[0m \u001b[0mx\u001b[0m\u001b[0;34m)\u001b[0m\u001b[0;34m\u001b[0m\u001b[0m\n\u001b[0m\u001b[1;32m    196\u001b[0m     \u001b[0;32mexcept\u001b[0m \u001b[0;34m(\u001b[0m\u001b[0mTypeError\u001b[0m\u001b[0;34m,\u001b[0m \u001b[0mValueError\u001b[0m\u001b[0;34m)\u001b[0m\u001b[0;34m:\u001b[0m\u001b[0;34m\u001b[0m\u001b[0m\n\u001b[1;32m    197\u001b[0m         \u001b[0;32mreturn\u001b[0m \u001b[0mFalse\u001b[0m\u001b[0;34m\u001b[0m\u001b[0m\n",
      "\u001b[0;31mKeyboardInterrupt\u001b[0m: "
     ]
    }
   ],
   "source": [
    "r = 1\n",
    "lamda = 0.01\n",
    "MC = mat_comp(R_train,R_test,num_users,num_items,num_train,num_test,r,lamda)\n",
    "MC.train()"
   ]
  },
  {
   "cell_type": "code",
   "execution_count": 59,
   "metadata": {},
   "outputs": [
    {
     "data": {
      "text/plain": [
       "4.891958036776596"
      ]
     },
     "execution_count": 59,
     "metadata": {},
     "output_type": "execute_result"
    }
   ],
   "source": [
    "MC.rmse(R_train,num_train)"
   ]
  },
  {
   "cell_type": "code",
   "execution_count": 58,
   "metadata": {},
   "outputs": [],
   "source": [
    "MC.sgd()"
   ]
  },
  {
   "cell_type": "code",
   "execution_count": 26,
   "metadata": {},
   "outputs": [
    {
     "data": {
      "text/plain": [
       "326101"
      ]
     },
     "execution_count": 26,
     "metadata": {},
     "output_type": "execute_result"
    }
   ],
   "source": [
    "num_users"
   ]
  },
  {
   "cell_type": "code",
   "execution_count": 27,
   "metadata": {},
   "outputs": [
    {
     "data": {
      "text/plain": [
       "74567"
      ]
     },
     "execution_count": 27,
     "metadata": {},
     "output_type": "execute_result"
    }
   ],
   "source": [
    "num_items"
   ]
  },
  {
   "cell_type": "code",
   "execution_count": 1,
   "metadata": {},
   "outputs": [
    {
     "name": "stderr",
     "output_type": "stream",
     "text": [
      "[INFO] graphlab.cython.cy_server: GraphLab Create v2.1 started. Logging: /tmp/graphlab_server_1524851030.log\n"
     ]
    },
    {
     "name": "stdout",
     "output_type": "stream",
     "text": [
      "This non-commercial license of GraphLab Create for academic use is assigned to as5414@columbia.edu and will expire on April 26, 2019.\n"
     ]
    }
   ],
   "source": [
    "import graphlab\n",
    "import pandas as pd\n",
    "from sklearn.metrics import mean_squared_error\n",
    "import numpy as np"
   ]
  },
  {
   "cell_type": "code",
   "execution_count": 2,
   "metadata": {},
   "outputs": [],
   "source": [
    "df = pd.read_csv('../../dataset/review.csv')"
   ]
  },
  {
   "cell_type": "code",
   "execution_count": 51,
   "metadata": {},
   "outputs": [],
   "source": [
    "df['binary']=(df['stars']>2).astype(int)"
   ]
  },
  {
   "cell_type": "code",
   "execution_count": 52,
   "metadata": {},
   "outputs": [
    {
     "data": {
      "text/html": [
       "<div>\n",
       "<style scoped>\n",
       "    .dataframe tbody tr th:only-of-type {\n",
       "        vertical-align: middle;\n",
       "    }\n",
       "\n",
       "    .dataframe tbody tr th {\n",
       "        vertical-align: top;\n",
       "    }\n",
       "\n",
       "    .dataframe thead th {\n",
       "        text-align: right;\n",
       "    }\n",
       "</style>\n",
       "<table border=\"1\" class=\"dataframe\">\n",
       "  <thead>\n",
       "    <tr style=\"text-align: right;\">\n",
       "      <th></th>\n",
       "      <th>funny</th>\n",
       "      <th>user_id</th>\n",
       "      <th>review_id</th>\n",
       "      <th>text</th>\n",
       "      <th>business_id</th>\n",
       "      <th>stars</th>\n",
       "      <th>date</th>\n",
       "      <th>useful</th>\n",
       "      <th>cool</th>\n",
       "      <th>binary</th>\n",
       "    </tr>\n",
       "  </thead>\n",
       "  <tbody>\n",
       "    <tr>\n",
       "      <th>0</th>\n",
       "      <td>0</td>\n",
       "      <td>bv2nCi5Qv5vroFiqKGopiw</td>\n",
       "      <td>v0i_UHJMo_hPBq9bxWvW4w</td>\n",
       "      <td>Love the staff, love the meat, love the place....</td>\n",
       "      <td>0W4lkclzZThpx3V65bVgig</td>\n",
       "      <td>5</td>\n",
       "      <td>2016-05-28</td>\n",
       "      <td>0</td>\n",
       "      <td>0</td>\n",
       "      <td>1</td>\n",
       "    </tr>\n",
       "    <tr>\n",
       "      <th>1</th>\n",
       "      <td>0</td>\n",
       "      <td>bv2nCi5Qv5vroFiqKGopiw</td>\n",
       "      <td>vkVSCC7xljjrAI4UGfnKEQ</td>\n",
       "      <td>Super simple place but amazing nonetheless. It...</td>\n",
       "      <td>AEx2SYEUJmTxVVB18LlCwA</td>\n",
       "      <td>5</td>\n",
       "      <td>2016-05-28</td>\n",
       "      <td>0</td>\n",
       "      <td>0</td>\n",
       "      <td>1</td>\n",
       "    </tr>\n",
       "    <tr>\n",
       "      <th>2</th>\n",
       "      <td>0</td>\n",
       "      <td>bv2nCi5Qv5vroFiqKGopiw</td>\n",
       "      <td>n6QzIUObkYshz4dz2QRJTw</td>\n",
       "      <td>Small unassuming place that changes their menu...</td>\n",
       "      <td>VR6GpWIda3SfvPC-lg9H3w</td>\n",
       "      <td>5</td>\n",
       "      <td>2016-05-28</td>\n",
       "      <td>0</td>\n",
       "      <td>0</td>\n",
       "      <td>1</td>\n",
       "    </tr>\n",
       "    <tr>\n",
       "      <th>3</th>\n",
       "      <td>0</td>\n",
       "      <td>bv2nCi5Qv5vroFiqKGopiw</td>\n",
       "      <td>MV3CcKScW05u5LVfF6ok0g</td>\n",
       "      <td>Lester's is located in a beautiful neighborhoo...</td>\n",
       "      <td>CKC0-MOWMqoeWf6s-szl8g</td>\n",
       "      <td>5</td>\n",
       "      <td>2016-05-28</td>\n",
       "      <td>0</td>\n",
       "      <td>0</td>\n",
       "      <td>1</td>\n",
       "    </tr>\n",
       "    <tr>\n",
       "      <th>4</th>\n",
       "      <td>0</td>\n",
       "      <td>bv2nCi5Qv5vroFiqKGopiw</td>\n",
       "      <td>IXvOzsEMYtiJI0CARmj77Q</td>\n",
       "      <td>Love coming here. Yes the place always needs t...</td>\n",
       "      <td>ACFtxLv8pGrrxMm6EgjreA</td>\n",
       "      <td>4</td>\n",
       "      <td>2016-05-28</td>\n",
       "      <td>0</td>\n",
       "      <td>0</td>\n",
       "      <td>1</td>\n",
       "    </tr>\n",
       "    <tr>\n",
       "      <th>5</th>\n",
       "      <td>0</td>\n",
       "      <td>bv2nCi5Qv5vroFiqKGopiw</td>\n",
       "      <td>L_9BTb55X0GDtThi6GlZ6w</td>\n",
       "      <td>Had their chocolate almond croissant and it wa...</td>\n",
       "      <td>s2I_Ni76bjJNK9yG60iD-Q</td>\n",
       "      <td>4</td>\n",
       "      <td>2016-05-28</td>\n",
       "      <td>0</td>\n",
       "      <td>0</td>\n",
       "      <td>1</td>\n",
       "    </tr>\n",
       "    <tr>\n",
       "      <th>6</th>\n",
       "      <td>0</td>\n",
       "      <td>_4iMDXbXZ1p1ONG297YEAQ</td>\n",
       "      <td>HRPm3vEZ_F-33TYVT7Pebw</td>\n",
       "      <td>Cycle Pub Las Vegas was a blast! Got a groupon...</td>\n",
       "      <td>8QWPlVQ6D-OExqXoaD2Z1g</td>\n",
       "      <td>5</td>\n",
       "      <td>2014-09-24</td>\n",
       "      <td>1</td>\n",
       "      <td>0</td>\n",
       "      <td>1</td>\n",
       "    </tr>\n",
       "    <tr>\n",
       "      <th>7</th>\n",
       "      <td>0</td>\n",
       "      <td>u0LXt3Uea_GidxRW1xcsfg</td>\n",
       "      <td>ymAUG8DZfQcFTBSOiaNN4w</td>\n",
       "      <td>Who would have guess that you would be able to...</td>\n",
       "      <td>9_CGhHMz8698M9-PkVf0CQ</td>\n",
       "      <td>4</td>\n",
       "      <td>2012-05-11</td>\n",
       "      <td>0</td>\n",
       "      <td>2</td>\n",
       "      <td>1</td>\n",
       "    </tr>\n",
       "    <tr>\n",
       "      <th>8</th>\n",
       "      <td>0</td>\n",
       "      <td>u0LXt3Uea_GidxRW1xcsfg</td>\n",
       "      <td>8UIishPUD92hXtScSga_gw</td>\n",
       "      <td>Always drove past this coffee house and wonder...</td>\n",
       "      <td>gkCorLgPyQLsptTHalL61g</td>\n",
       "      <td>4</td>\n",
       "      <td>2015-10-27</td>\n",
       "      <td>1</td>\n",
       "      <td>0</td>\n",
       "      <td>1</td>\n",
       "    </tr>\n",
       "    <tr>\n",
       "      <th>9</th>\n",
       "      <td>0</td>\n",
       "      <td>u0LXt3Uea_GidxRW1xcsfg</td>\n",
       "      <td>w41ZS9shepfO3uEyhXEWuQ</td>\n",
       "      <td>Not bad!! Love that there is a gluten-free, ve...</td>\n",
       "      <td>5r6-G9C4YLbC7Ziz57l3rQ</td>\n",
       "      <td>3</td>\n",
       "      <td>2013-02-09</td>\n",
       "      <td>1</td>\n",
       "      <td>0</td>\n",
       "      <td>1</td>\n",
       "    </tr>\n",
       "    <tr>\n",
       "      <th>10</th>\n",
       "      <td>0</td>\n",
       "      <td>u0LXt3Uea_GidxRW1xcsfg</td>\n",
       "      <td>WF_QTN3p-thD74hqpp2j-Q</td>\n",
       "      <td>Love this place!\\n\\nPeggy is great with dogs a...</td>\n",
       "      <td>fDF_o2JPU8BR1Gya--jRIA</td>\n",
       "      <td>5</td>\n",
       "      <td>2016-04-06</td>\n",
       "      <td>3</td>\n",
       "      <td>0</td>\n",
       "      <td>1</td>\n",
       "    </tr>\n",
       "    <tr>\n",
       "      <th>11</th>\n",
       "      <td>0</td>\n",
       "      <td>u0LXt3Uea_GidxRW1xcsfg</td>\n",
       "      <td>PIsUSmvaUWB00qv5KTF1xA</td>\n",
       "      <td>This is currently my parents new favourite res...</td>\n",
       "      <td>z8oIoCT1cXz7gZP5GeU5OA</td>\n",
       "      <td>4</td>\n",
       "      <td>2013-05-01</td>\n",
       "      <td>1</td>\n",
       "      <td>0</td>\n",
       "      <td>1</td>\n",
       "    </tr>\n",
       "    <tr>\n",
       "      <th>12</th>\n",
       "      <td>0</td>\n",
       "      <td>u0LXt3Uea_GidxRW1xcsfg</td>\n",
       "      <td>PdZ_uFjbbkjtm3SCY_KrZw</td>\n",
       "      <td>Server was a little rude.\\n\\nOrdered the calam...</td>\n",
       "      <td>XWTPNfskXoUL-Lf32wSk0Q</td>\n",
       "      <td>3</td>\n",
       "      <td>2011-09-28</td>\n",
       "      <td>5</td>\n",
       "      <td>1</td>\n",
       "      <td>1</td>\n",
       "    </tr>\n",
       "    <tr>\n",
       "      <th>13</th>\n",
       "      <td>0</td>\n",
       "      <td>u0LXt3Uea_GidxRW1xcsfg</td>\n",
       "      <td>x5oV6wm9_Pb1QQ6jkjDjwQ</td>\n",
       "      <td>I thought Tidy's Flowers had a great reputatio...</td>\n",
       "      <td>13nKUHH-uEUXVZylgxchPA</td>\n",
       "      <td>1</td>\n",
       "      <td>2011-02-16</td>\n",
       "      <td>9</td>\n",
       "      <td>1</td>\n",
       "      <td>0</td>\n",
       "    </tr>\n",
       "    <tr>\n",
       "      <th>14</th>\n",
       "      <td>1</td>\n",
       "      <td>u0LXt3Uea_GidxRW1xcsfg</td>\n",
       "      <td>lsoSqIrrDbQvWpMvsSj2xw</td>\n",
       "      <td>Wanted to check out this place due to all the ...</td>\n",
       "      <td>RtUvSWO_UZ8V3Wpj0n077w</td>\n",
       "      <td>3</td>\n",
       "      <td>2012-12-03</td>\n",
       "      <td>2</td>\n",
       "      <td>1</td>\n",
       "      <td>1</td>\n",
       "    </tr>\n",
       "    <tr>\n",
       "      <th>15</th>\n",
       "      <td>0</td>\n",
       "      <td>u0LXt3Uea_GidxRW1xcsfg</td>\n",
       "      <td>23eqwlZzCWZkADWfd9atZw</td>\n",
       "      <td>This place is awesome! Definitely authentic!!!...</td>\n",
       "      <td>Aov96CM4FZAXeZvKtsStdA</td>\n",
       "      <td>5</td>\n",
       "      <td>2010-07-16</td>\n",
       "      <td>2</td>\n",
       "      <td>1</td>\n",
       "      <td>1</td>\n",
       "    </tr>\n",
       "    <tr>\n",
       "      <th>16</th>\n",
       "      <td>0</td>\n",
       "      <td>u0LXt3Uea_GidxRW1xcsfg</td>\n",
       "      <td>FunI9om-aK5oMIIJmhMlZA</td>\n",
       "      <td>a must stop when you are in montreal!\\n\\nI was...</td>\n",
       "      <td>0W4lkclzZThpx3V65bVgig</td>\n",
       "      <td>4</td>\n",
       "      <td>2011-09-28</td>\n",
       "      <td>0</td>\n",
       "      <td>0</td>\n",
       "      <td>1</td>\n",
       "    </tr>\n",
       "    <tr>\n",
       "      <th>17</th>\n",
       "      <td>0</td>\n",
       "      <td>u0LXt3Uea_GidxRW1xcsfg</td>\n",
       "      <td>FKu4iU62EmWT6GZXPJ2sgA</td>\n",
       "      <td>I too have been trying to book an appt to use ...</td>\n",
       "      <td>fdnNZMk1NP7ZhL-YMidMpw</td>\n",
       "      <td>1</td>\n",
       "      <td>2012-10-23</td>\n",
       "      <td>0</td>\n",
       "      <td>0</td>\n",
       "      <td>0</td>\n",
       "    </tr>\n",
       "    <tr>\n",
       "      <th>18</th>\n",
       "      <td>0</td>\n",
       "      <td>u0LXt3Uea_GidxRW1xcsfg</td>\n",
       "      <td>xdu8nXrbNKeaywCX79KZSw</td>\n",
       "      <td>Came here with my girlfriends one Sunday after...</td>\n",
       "      <td>PFPUMF38-lraKzLcTiz5gQ</td>\n",
       "      <td>3</td>\n",
       "      <td>2010-09-15</td>\n",
       "      <td>2</td>\n",
       "      <td>0</td>\n",
       "      <td>1</td>\n",
       "    </tr>\n",
       "    <tr>\n",
       "      <th>19</th>\n",
       "      <td>0</td>\n",
       "      <td>u0LXt3Uea_GidxRW1xcsfg</td>\n",
       "      <td>K7o5jDInfmX3cY5oH6ATNw</td>\n",
       "      <td>Came here for a burger as one of my friends sa...</td>\n",
       "      <td>oWTn2IzrprsRkPfULtjZtQ</td>\n",
       "      <td>3</td>\n",
       "      <td>2012-09-23</td>\n",
       "      <td>4</td>\n",
       "      <td>0</td>\n",
       "      <td>1</td>\n",
       "    </tr>\n",
       "    <tr>\n",
       "      <th>20</th>\n",
       "      <td>2</td>\n",
       "      <td>u0LXt3Uea_GidxRW1xcsfg</td>\n",
       "      <td>WYDFJOBOl7cycd7gN-c_xA</td>\n",
       "      <td>really excited to hear of this restaurant comi...</td>\n",
       "      <td>zgQHtqX0gqMw1nlBZl2VnQ</td>\n",
       "      <td>1</td>\n",
       "      <td>2012-10-30</td>\n",
       "      <td>9</td>\n",
       "      <td>1</td>\n",
       "      <td>0</td>\n",
       "    </tr>\n",
       "    <tr>\n",
       "      <th>21</th>\n",
       "      <td>0</td>\n",
       "      <td>u0LXt3Uea_GidxRW1xcsfg</td>\n",
       "      <td>HSR2RLOifd0cvSNVqGXkMQ</td>\n",
       "      <td>was always intrigued of this place when I pass...</td>\n",
       "      <td>28adZ4lsuUeVB2aWzohK9g</td>\n",
       "      <td>3</td>\n",
       "      <td>2012-10-19</td>\n",
       "      <td>1</td>\n",
       "      <td>0</td>\n",
       "      <td>1</td>\n",
       "    </tr>\n",
       "    <tr>\n",
       "      <th>22</th>\n",
       "      <td>0</td>\n",
       "      <td>u0LXt3Uea_GidxRW1xcsfg</td>\n",
       "      <td>Kki2nwtP8U2qmWwRvPwLRA</td>\n",
       "      <td>This place reminds of St Lawrence Market in To...</td>\n",
       "      <td>RWGI8u00x5GghYCEzpYrIg</td>\n",
       "      <td>4</td>\n",
       "      <td>2011-10-14</td>\n",
       "      <td>0</td>\n",
       "      <td>1</td>\n",
       "      <td>1</td>\n",
       "    </tr>\n",
       "    <tr>\n",
       "      <th>23</th>\n",
       "      <td>0</td>\n",
       "      <td>u0LXt3Uea_GidxRW1xcsfg</td>\n",
       "      <td>Q-mhDIKa3wJuWEx9uuciIA</td>\n",
       "      <td>burgers are very big portions here.\\n\\ndefinit...</td>\n",
       "      <td>Xy74meQwdTnloAAyRC-4cg</td>\n",
       "      <td>3</td>\n",
       "      <td>2013-07-01</td>\n",
       "      <td>0</td>\n",
       "      <td>0</td>\n",
       "      <td>1</td>\n",
       "    </tr>\n",
       "    <tr>\n",
       "      <th>24</th>\n",
       "      <td>2</td>\n",
       "      <td>u0LXt3Uea_GidxRW1xcsfg</td>\n",
       "      <td>ypjtMQLKdAwKGRS-KU7oxA</td>\n",
       "      <td>Food is very bland - not authentic at all.\\n\\n...</td>\n",
       "      <td>hjk3ox7w1akbEuOgTJ03Bw</td>\n",
       "      <td>1</td>\n",
       "      <td>2012-05-10</td>\n",
       "      <td>4</td>\n",
       "      <td>0</td>\n",
       "      <td>0</td>\n",
       "    </tr>\n",
       "    <tr>\n",
       "      <th>25</th>\n",
       "      <td>0</td>\n",
       "      <td>u0LXt3Uea_GidxRW1xcsfg</td>\n",
       "      <td>vr9YpzkaVdDIauxiZYZhqA</td>\n",
       "      <td>While looking at different restaurants in the ...</td>\n",
       "      <td>ZnxudK5ExgpfXs4bicS4IA</td>\n",
       "      <td>3</td>\n",
       "      <td>2012-09-23</td>\n",
       "      <td>0</td>\n",
       "      <td>1</td>\n",
       "      <td>1</td>\n",
       "    </tr>\n",
       "    <tr>\n",
       "      <th>26</th>\n",
       "      <td>1</td>\n",
       "      <td>u0LXt3Uea_GidxRW1xcsfg</td>\n",
       "      <td>Ia-w-nR1FrlzsiuEiqqlbg</td>\n",
       "      <td>Service is really slow here. I waited for over...</td>\n",
       "      <td>Eox_Qq74oaFZ-YjthpHhBw</td>\n",
       "      <td>3</td>\n",
       "      <td>2011-07-18</td>\n",
       "      <td>1</td>\n",
       "      <td>1</td>\n",
       "      <td>1</td>\n",
       "    </tr>\n",
       "    <tr>\n",
       "      <th>27</th>\n",
       "      <td>0</td>\n",
       "      <td>u0LXt3Uea_GidxRW1xcsfg</td>\n",
       "      <td>y21Fom8a_SdAyC6I0v554w</td>\n",
       "      <td>a few years ago, this used to be the place to ...</td>\n",
       "      <td>zxJlg4XCHNoFy78WZPv89w</td>\n",
       "      <td>2</td>\n",
       "      <td>2011-09-28</td>\n",
       "      <td>0</td>\n",
       "      <td>0</td>\n",
       "      <td>0</td>\n",
       "    </tr>\n",
       "    <tr>\n",
       "      <th>28</th>\n",
       "      <td>1</td>\n",
       "      <td>u0LXt3Uea_GidxRW1xcsfg</td>\n",
       "      <td>_ku1sDwkmQo2wIgWAaluZw</td>\n",
       "      <td>OMG - Definitely worth going if you are in Mon...</td>\n",
       "      <td>tOhRQqiupLyJdBJVQMGOEQ</td>\n",
       "      <td>5</td>\n",
       "      <td>2012-09-23</td>\n",
       "      <td>1</td>\n",
       "      <td>1</td>\n",
       "      <td>1</td>\n",
       "    </tr>\n",
       "    <tr>\n",
       "      <th>29</th>\n",
       "      <td>0</td>\n",
       "      <td>u0LXt3Uea_GidxRW1xcsfg</td>\n",
       "      <td>Enuk_DJbK0JPmgbFU8ePKw</td>\n",
       "      <td>Not sure what the hype is, but decided to give...</td>\n",
       "      <td>N93EYZy9R0sdlEvubu94ig</td>\n",
       "      <td>3</td>\n",
       "      <td>2012-09-23</td>\n",
       "      <td>0</td>\n",
       "      <td>0</td>\n",
       "      <td>1</td>\n",
       "    </tr>\n",
       "    <tr>\n",
       "      <th>...</th>\n",
       "      <td>...</td>\n",
       "      <td>...</td>\n",
       "      <td>...</td>\n",
       "      <td>...</td>\n",
       "      <td>...</td>\n",
       "      <td>...</td>\n",
       "      <td>...</td>\n",
       "      <td>...</td>\n",
       "      <td>...</td>\n",
       "      <td>...</td>\n",
       "    </tr>\n",
       "    <tr>\n",
       "      <th>5261639</th>\n",
       "      <td>0</td>\n",
       "      <td>vPCYOCTMTixFXn1_60UjJQ</td>\n",
       "      <td>ed9wg3AzsLietweZjl3CwQ</td>\n",
       "      <td>All I have to say is thank GOD I have a lot of...</td>\n",
       "      <td>5ftAE8C6KiEPGJbmScln_g</td>\n",
       "      <td>1</td>\n",
       "      <td>2016-03-31</td>\n",
       "      <td>0</td>\n",
       "      <td>0</td>\n",
       "      <td>0</td>\n",
       "    </tr>\n",
       "    <tr>\n",
       "      <th>5261640</th>\n",
       "      <td>1</td>\n",
       "      <td>CPIGdVV2ByLA_nqP1F4S-Q</td>\n",
       "      <td>K1fnP4pi9qXl2pw6G4gITQ</td>\n",
       "      <td>I go there with my friends in a group to race ...</td>\n",
       "      <td>UicG-oyX4bjmcQbmXn7hGw</td>\n",
       "      <td>5</td>\n",
       "      <td>2012-12-29</td>\n",
       "      <td>1</td>\n",
       "      <td>1</td>\n",
       "      <td>1</td>\n",
       "    </tr>\n",
       "    <tr>\n",
       "      <th>5261641</th>\n",
       "      <td>0</td>\n",
       "      <td>CPIGdVV2ByLA_nqP1F4S-Q</td>\n",
       "      <td>koQDtQMDv-r_D9xqFqoSxw</td>\n",
       "      <td>I called Alaskan to schedule an appointment fo...</td>\n",
       "      <td>HeKfDaa_Fa0fn3-xy9tqDw</td>\n",
       "      <td>5</td>\n",
       "      <td>2017-05-24</td>\n",
       "      <td>0</td>\n",
       "      <td>0</td>\n",
       "      <td>1</td>\n",
       "    </tr>\n",
       "    <tr>\n",
       "      <th>5261642</th>\n",
       "      <td>0</td>\n",
       "      <td>yFDFtjcsaekCW15XKk8d3A</td>\n",
       "      <td>RYeR5-BCV7lDNXCTklDgxw</td>\n",
       "      <td>Für einen gemütlichen Abend während unseres Ur...</td>\n",
       "      <td>p2CcCRjOItvAQsI4DsTlHA</td>\n",
       "      <td>3</td>\n",
       "      <td>2012-08-23</td>\n",
       "      <td>0</td>\n",
       "      <td>0</td>\n",
       "      <td>1</td>\n",
       "    </tr>\n",
       "    <tr>\n",
       "      <th>5261643</th>\n",
       "      <td>0</td>\n",
       "      <td>mPjPyipaD0C_myqWqDipZg</td>\n",
       "      <td>Va8hQZYCDh3SCAROgfEZyA</td>\n",
       "      <td>Cafeteria style setting. Was staying at the ho...</td>\n",
       "      <td>096qNc7waeRlReivCm2lXw</td>\n",
       "      <td>3</td>\n",
       "      <td>2015-10-25</td>\n",
       "      <td>0</td>\n",
       "      <td>0</td>\n",
       "      <td>1</td>\n",
       "    </tr>\n",
       "    <tr>\n",
       "      <th>5261644</th>\n",
       "      <td>0</td>\n",
       "      <td>mPjPyipaD0C_myqWqDipZg</td>\n",
       "      <td>3LeAcgfaEYtGL16j3hGgig</td>\n",
       "      <td>Was on the way to work and feel like having so...</td>\n",
       "      <td>YEILyeHAQTgEGogF46HYiw</td>\n",
       "      <td>4</td>\n",
       "      <td>2011-10-21</td>\n",
       "      <td>1</td>\n",
       "      <td>1</td>\n",
       "      <td>1</td>\n",
       "    </tr>\n",
       "    <tr>\n",
       "      <th>5261645</th>\n",
       "      <td>1</td>\n",
       "      <td>mPjPyipaD0C_myqWqDipZg</td>\n",
       "      <td>M4Y_Fwfs2Mglb08z4BGzFg</td>\n",
       "      <td>Was there for a wedding with your standard 10 ...</td>\n",
       "      <td>OB8vZCzHXv9ZyKLTJe2K3g</td>\n",
       "      <td>1</td>\n",
       "      <td>2011-10-20</td>\n",
       "      <td>2</td>\n",
       "      <td>0</td>\n",
       "      <td>0</td>\n",
       "    </tr>\n",
       "    <tr>\n",
       "      <th>5261646</th>\n",
       "      <td>2</td>\n",
       "      <td>mPjPyipaD0C_myqWqDipZg</td>\n",
       "      <td>CIMhrYaTrldYxWqYlYPN-A</td>\n",
       "      <td>Went there on a tuesday nite in a group of 13 ...</td>\n",
       "      <td>6y-z_jGX7PCUubMPFDbxVA</td>\n",
       "      <td>4</td>\n",
       "      <td>2011-10-18</td>\n",
       "      <td>1</td>\n",
       "      <td>2</td>\n",
       "      <td>1</td>\n",
       "    </tr>\n",
       "    <tr>\n",
       "      <th>5261647</th>\n",
       "      <td>0</td>\n",
       "      <td>mPjPyipaD0C_myqWqDipZg</td>\n",
       "      <td>3SLi--RX6MZSsk4GrgqnPA</td>\n",
       "      <td>It was 'oooh kay'...\\n\\nFood is slightly above...</td>\n",
       "      <td>IikkB8j2E-1QmujRsPh5wQ</td>\n",
       "      <td>4</td>\n",
       "      <td>2012-06-07</td>\n",
       "      <td>0</td>\n",
       "      <td>0</td>\n",
       "      <td>1</td>\n",
       "    </tr>\n",
       "    <tr>\n",
       "      <th>5261648</th>\n",
       "      <td>1</td>\n",
       "      <td>mPjPyipaD0C_myqWqDipZg</td>\n",
       "      <td>y-6IJvH2M1H3Xmz5u9g5hg</td>\n",
       "      <td>Went to this restaurant for Dim Sum.  Asked fo...</td>\n",
       "      <td>I6oxEn1HT41S2GPrDKPPvA</td>\n",
       "      <td>1</td>\n",
       "      <td>2011-11-15</td>\n",
       "      <td>7</td>\n",
       "      <td>0</td>\n",
       "      <td>0</td>\n",
       "    </tr>\n",
       "    <tr>\n",
       "      <th>5261649</th>\n",
       "      <td>1</td>\n",
       "      <td>mPjPyipaD0C_myqWqDipZg</td>\n",
       "      <td>Bafy91RpLI10hJmeKOQOuw</td>\n",
       "      <td>More like 3.75*.\\n\\nRamen was so - so,  nothin...</td>\n",
       "      <td>gnkyosoOepBUqog7iDdggQ</td>\n",
       "      <td>4</td>\n",
       "      <td>2015-10-25</td>\n",
       "      <td>0</td>\n",
       "      <td>1</td>\n",
       "      <td>1</td>\n",
       "    </tr>\n",
       "    <tr>\n",
       "      <th>5261650</th>\n",
       "      <td>0</td>\n",
       "      <td>mPjPyipaD0C_myqWqDipZg</td>\n",
       "      <td>z9wJdAjysjEOGSKBaIvMGg</td>\n",
       "      <td>The restaurant closes at 10:00pm, I arrived at...</td>\n",
       "      <td>OsB_ZtFAaLDCPzvlAjHQ-w</td>\n",
       "      <td>3</td>\n",
       "      <td>2017-10-31</td>\n",
       "      <td>0</td>\n",
       "      <td>0</td>\n",
       "      <td>1</td>\n",
       "    </tr>\n",
       "    <tr>\n",
       "      <th>5261651</th>\n",
       "      <td>0</td>\n",
       "      <td>mPjPyipaD0C_myqWqDipZg</td>\n",
       "      <td>JldIaWJdtnTJVQxmh-3SAA</td>\n",
       "      <td>Service:\\n\\nAverage Chinese cafe service.  Hav...</td>\n",
       "      <td>AtUtG-oQp1rkk6ZdYcfSzw</td>\n",
       "      <td>2</td>\n",
       "      <td>2017-11-02</td>\n",
       "      <td>0</td>\n",
       "      <td>0</td>\n",
       "      <td>0</td>\n",
       "    </tr>\n",
       "    <tr>\n",
       "      <th>5261652</th>\n",
       "      <td>0</td>\n",
       "      <td>mPjPyipaD0C_myqWqDipZg</td>\n",
       "      <td>aC7nxWLyM283uM78xry9mw</td>\n",
       "      <td>I really don't understand what is all the hype...</td>\n",
       "      <td>O-uIEuv7JLUHajkemx_sVw</td>\n",
       "      <td>2</td>\n",
       "      <td>2011-11-01</td>\n",
       "      <td>1</td>\n",
       "      <td>0</td>\n",
       "      <td>0</td>\n",
       "    </tr>\n",
       "    <tr>\n",
       "      <th>5261653</th>\n",
       "      <td>0</td>\n",
       "      <td>mPjPyipaD0C_myqWqDipZg</td>\n",
       "      <td>pX2pe-fnU1i2xzs1ght1mA</td>\n",
       "      <td>Went there for lunch. For $6.99 you get:\\n\\n- ...</td>\n",
       "      <td>5VOqWjRXUPc7b1A_NSI9mQ</td>\n",
       "      <td>3</td>\n",
       "      <td>2011-10-20</td>\n",
       "      <td>0</td>\n",
       "      <td>1</td>\n",
       "      <td>1</td>\n",
       "    </tr>\n",
       "    <tr>\n",
       "      <th>5261654</th>\n",
       "      <td>1</td>\n",
       "      <td>mPjPyipaD0C_myqWqDipZg</td>\n",
       "      <td>FJ0y1AnFAJ8MzNRZRdTJnw</td>\n",
       "      <td>Typical American style restaurant.  By that I ...</td>\n",
       "      <td>yADOyFmSlHuixlQ4MtHhcQ</td>\n",
       "      <td>3</td>\n",
       "      <td>2012-05-05</td>\n",
       "      <td>1</td>\n",
       "      <td>0</td>\n",
       "      <td>1</td>\n",
       "    </tr>\n",
       "    <tr>\n",
       "      <th>5261655</th>\n",
       "      <td>2</td>\n",
       "      <td>mPjPyipaD0C_myqWqDipZg</td>\n",
       "      <td>W63llfTEM02-WpKBA2P9pQ</td>\n",
       "      <td>They do deep tissue massage which most Chinese...</td>\n",
       "      <td>KqtmbsZUDNNspTp1Yn2Mtw</td>\n",
       "      <td>3</td>\n",
       "      <td>2012-08-30</td>\n",
       "      <td>5</td>\n",
       "      <td>0</td>\n",
       "      <td>1</td>\n",
       "    </tr>\n",
       "    <tr>\n",
       "      <th>5261656</th>\n",
       "      <td>0</td>\n",
       "      <td>mPjPyipaD0C_myqWqDipZg</td>\n",
       "      <td>C0uT2UJQ3yz9hqE4h3sy2A</td>\n",
       "      <td>Went in for a snack on a sat night.   Bar area...</td>\n",
       "      <td>n0NH0FW8NU3zfeJY3QluMQ</td>\n",
       "      <td>3</td>\n",
       "      <td>2015-10-25</td>\n",
       "      <td>1</td>\n",
       "      <td>0</td>\n",
       "      <td>1</td>\n",
       "    </tr>\n",
       "    <tr>\n",
       "      <th>5261657</th>\n",
       "      <td>0</td>\n",
       "      <td>mPjPyipaD0C_myqWqDipZg</td>\n",
       "      <td>xq3eoPr_fJFNl_NVIxccvw</td>\n",
       "      <td>The decor is really nice and and clean and the...</td>\n",
       "      <td>7d4_aSWLjzu9z778ac4g2g</td>\n",
       "      <td>2</td>\n",
       "      <td>2013-05-27</td>\n",
       "      <td>1</td>\n",
       "      <td>0</td>\n",
       "      <td>0</td>\n",
       "    </tr>\n",
       "    <tr>\n",
       "      <th>5261658</th>\n",
       "      <td>0</td>\n",
       "      <td>mPjPyipaD0C_myqWqDipZg</td>\n",
       "      <td>Q76zOoiQklh62ZTmA4gJZQ</td>\n",
       "      <td>I cannot believe this place have such few revi...</td>\n",
       "      <td>fp24IseF5LGD1Iev7d0PVA</td>\n",
       "      <td>4</td>\n",
       "      <td>2011-10-20</td>\n",
       "      <td>5</td>\n",
       "      <td>1</td>\n",
       "      <td>1</td>\n",
       "    </tr>\n",
       "    <tr>\n",
       "      <th>5261659</th>\n",
       "      <td>0</td>\n",
       "      <td>mPjPyipaD0C_myqWqDipZg</td>\n",
       "      <td>gls24x_dYK8mYbxlVTHycw</td>\n",
       "      <td>Went with +6 people and ordered whole bunch of...</td>\n",
       "      <td>GM3_MoAgPcyE1ozWxjy-XA</td>\n",
       "      <td>4</td>\n",
       "      <td>2012-08-18</td>\n",
       "      <td>1</td>\n",
       "      <td>0</td>\n",
       "      <td>1</td>\n",
       "    </tr>\n",
       "    <tr>\n",
       "      <th>5261660</th>\n",
       "      <td>0</td>\n",
       "      <td>mPjPyipaD0C_myqWqDipZg</td>\n",
       "      <td>MV8UTz9z_-4FG-nI8TOjPQ</td>\n",
       "      <td>Was in the area and saw a Hakka Chinese Restau...</td>\n",
       "      <td>MRoTUJyR2TVpvDdbOAtBlQ</td>\n",
       "      <td>4</td>\n",
       "      <td>2014-06-26</td>\n",
       "      <td>2</td>\n",
       "      <td>0</td>\n",
       "      <td>1</td>\n",
       "    </tr>\n",
       "    <tr>\n",
       "      <th>5261661</th>\n",
       "      <td>1</td>\n",
       "      <td>mPjPyipaD0C_myqWqDipZg</td>\n",
       "      <td>dyW1tIaWbm_RfCFCffY9yg</td>\n",
       "      <td>Not much to write about, food is mediocre at b...</td>\n",
       "      <td>Dv0OHpQSL4hOGl2KAEVvlA</td>\n",
       "      <td>2</td>\n",
       "      <td>2012-05-05</td>\n",
       "      <td>0</td>\n",
       "      <td>0</td>\n",
       "      <td>0</td>\n",
       "    </tr>\n",
       "    <tr>\n",
       "      <th>5261662</th>\n",
       "      <td>4</td>\n",
       "      <td>mPjPyipaD0C_myqWqDipZg</td>\n",
       "      <td>ZU2UF0YBkhQFctXH5Mry3A</td>\n",
       "      <td>This place is retarded!!!  Called on a thursda...</td>\n",
       "      <td>CMkayuNDHPcd1dxO32kJyA</td>\n",
       "      <td>1</td>\n",
       "      <td>2012-05-24</td>\n",
       "      <td>4</td>\n",
       "      <td>1</td>\n",
       "      <td>0</td>\n",
       "    </tr>\n",
       "    <tr>\n",
       "      <th>5261663</th>\n",
       "      <td>0</td>\n",
       "      <td>mPjPyipaD0C_myqWqDipZg</td>\n",
       "      <td>evfB2Xzw4u7aYftWClQfeg</td>\n",
       "      <td>So after reading Precilla C. review, I decided...</td>\n",
       "      <td>--SrzpvFLwP_YFwB_Cetow</td>\n",
       "      <td>2</td>\n",
       "      <td>2011-10-18</td>\n",
       "      <td>0</td>\n",
       "      <td>0</td>\n",
       "      <td>0</td>\n",
       "    </tr>\n",
       "    <tr>\n",
       "      <th>5261664</th>\n",
       "      <td>3</td>\n",
       "      <td>mPjPyipaD0C_myqWqDipZg</td>\n",
       "      <td>PoGSiNz1X5SUu0qEt-qM5w</td>\n",
       "      <td>Bought groupon $39 for 4 months from groupon, ...</td>\n",
       "      <td>Ngk84Ax1tXgpoJFEGxot3w</td>\n",
       "      <td>1</td>\n",
       "      <td>2011-11-21</td>\n",
       "      <td>36</td>\n",
       "      <td>3</td>\n",
       "      <td>0</td>\n",
       "    </tr>\n",
       "    <tr>\n",
       "      <th>5261665</th>\n",
       "      <td>0</td>\n",
       "      <td>mPjPyipaD0C_myqWqDipZg</td>\n",
       "      <td>-CJNPrDWgIkorx4iEZJXIg</td>\n",
       "      <td>Spring rolls was pretty good, cod was a bit ra...</td>\n",
       "      <td>pOEL97ld-FJMKO8Ki8JmYg</td>\n",
       "      <td>3</td>\n",
       "      <td>2016-04-30</td>\n",
       "      <td>0</td>\n",
       "      <td>0</td>\n",
       "      <td>1</td>\n",
       "    </tr>\n",
       "    <tr>\n",
       "      <th>5261666</th>\n",
       "      <td>0</td>\n",
       "      <td>mPjPyipaD0C_myqWqDipZg</td>\n",
       "      <td>W9eVvOcpBvG6lpJPoJOxuA</td>\n",
       "      <td>Had a 8 dish set meal, was enough for 10 peopl...</td>\n",
       "      <td>5ubokMNw8qfbX2WtxgJG1Q</td>\n",
       "      <td>4</td>\n",
       "      <td>2011-10-23</td>\n",
       "      <td>3</td>\n",
       "      <td>1</td>\n",
       "      <td>1</td>\n",
       "    </tr>\n",
       "    <tr>\n",
       "      <th>5261667</th>\n",
       "      <td>0</td>\n",
       "      <td>mPjPyipaD0C_myqWqDipZg</td>\n",
       "      <td>hqQ1UTFKMN2P1ezUow48OQ</td>\n",
       "      <td>A small, cozy family run Authentic korean rest...</td>\n",
       "      <td>EO3i5kTUG7_S2OIQ23sdSA</td>\n",
       "      <td>3</td>\n",
       "      <td>2011-11-07</td>\n",
       "      <td>2</td>\n",
       "      <td>0</td>\n",
       "      <td>1</td>\n",
       "    </tr>\n",
       "    <tr>\n",
       "      <th>5261668</th>\n",
       "      <td>1</td>\n",
       "      <td>mPjPyipaD0C_myqWqDipZg</td>\n",
       "      <td>ldsIs3sGXPJ7WM7VyAm4lQ</td>\n",
       "      <td>Really nice atmosphere and settings and very c...</td>\n",
       "      <td>HloEEXm_QzEpycuwA_RtQA</td>\n",
       "      <td>3</td>\n",
       "      <td>2011-11-15</td>\n",
       "      <td>0</td>\n",
       "      <td>1</td>\n",
       "      <td>1</td>\n",
       "    </tr>\n",
       "  </tbody>\n",
       "</table>\n",
       "<p>5261669 rows × 10 columns</p>\n",
       "</div>"
      ],
      "text/plain": [
       "         funny                 user_id               review_id  \\\n",
       "0            0  bv2nCi5Qv5vroFiqKGopiw  v0i_UHJMo_hPBq9bxWvW4w   \n",
       "1            0  bv2nCi5Qv5vroFiqKGopiw  vkVSCC7xljjrAI4UGfnKEQ   \n",
       "2            0  bv2nCi5Qv5vroFiqKGopiw  n6QzIUObkYshz4dz2QRJTw   \n",
       "3            0  bv2nCi5Qv5vroFiqKGopiw  MV3CcKScW05u5LVfF6ok0g   \n",
       "4            0  bv2nCi5Qv5vroFiqKGopiw  IXvOzsEMYtiJI0CARmj77Q   \n",
       "5            0  bv2nCi5Qv5vroFiqKGopiw  L_9BTb55X0GDtThi6GlZ6w   \n",
       "6            0  _4iMDXbXZ1p1ONG297YEAQ  HRPm3vEZ_F-33TYVT7Pebw   \n",
       "7            0  u0LXt3Uea_GidxRW1xcsfg  ymAUG8DZfQcFTBSOiaNN4w   \n",
       "8            0  u0LXt3Uea_GidxRW1xcsfg  8UIishPUD92hXtScSga_gw   \n",
       "9            0  u0LXt3Uea_GidxRW1xcsfg  w41ZS9shepfO3uEyhXEWuQ   \n",
       "10           0  u0LXt3Uea_GidxRW1xcsfg  WF_QTN3p-thD74hqpp2j-Q   \n",
       "11           0  u0LXt3Uea_GidxRW1xcsfg  PIsUSmvaUWB00qv5KTF1xA   \n",
       "12           0  u0LXt3Uea_GidxRW1xcsfg  PdZ_uFjbbkjtm3SCY_KrZw   \n",
       "13           0  u0LXt3Uea_GidxRW1xcsfg  x5oV6wm9_Pb1QQ6jkjDjwQ   \n",
       "14           1  u0LXt3Uea_GidxRW1xcsfg  lsoSqIrrDbQvWpMvsSj2xw   \n",
       "15           0  u0LXt3Uea_GidxRW1xcsfg  23eqwlZzCWZkADWfd9atZw   \n",
       "16           0  u0LXt3Uea_GidxRW1xcsfg  FunI9om-aK5oMIIJmhMlZA   \n",
       "17           0  u0LXt3Uea_GidxRW1xcsfg  FKu4iU62EmWT6GZXPJ2sgA   \n",
       "18           0  u0LXt3Uea_GidxRW1xcsfg  xdu8nXrbNKeaywCX79KZSw   \n",
       "19           0  u0LXt3Uea_GidxRW1xcsfg  K7o5jDInfmX3cY5oH6ATNw   \n",
       "20           2  u0LXt3Uea_GidxRW1xcsfg  WYDFJOBOl7cycd7gN-c_xA   \n",
       "21           0  u0LXt3Uea_GidxRW1xcsfg  HSR2RLOifd0cvSNVqGXkMQ   \n",
       "22           0  u0LXt3Uea_GidxRW1xcsfg  Kki2nwtP8U2qmWwRvPwLRA   \n",
       "23           0  u0LXt3Uea_GidxRW1xcsfg  Q-mhDIKa3wJuWEx9uuciIA   \n",
       "24           2  u0LXt3Uea_GidxRW1xcsfg  ypjtMQLKdAwKGRS-KU7oxA   \n",
       "25           0  u0LXt3Uea_GidxRW1xcsfg  vr9YpzkaVdDIauxiZYZhqA   \n",
       "26           1  u0LXt3Uea_GidxRW1xcsfg  Ia-w-nR1FrlzsiuEiqqlbg   \n",
       "27           0  u0LXt3Uea_GidxRW1xcsfg  y21Fom8a_SdAyC6I0v554w   \n",
       "28           1  u0LXt3Uea_GidxRW1xcsfg  _ku1sDwkmQo2wIgWAaluZw   \n",
       "29           0  u0LXt3Uea_GidxRW1xcsfg  Enuk_DJbK0JPmgbFU8ePKw   \n",
       "...        ...                     ...                     ...   \n",
       "5261639      0  vPCYOCTMTixFXn1_60UjJQ  ed9wg3AzsLietweZjl3CwQ   \n",
       "5261640      1  CPIGdVV2ByLA_nqP1F4S-Q  K1fnP4pi9qXl2pw6G4gITQ   \n",
       "5261641      0  CPIGdVV2ByLA_nqP1F4S-Q  koQDtQMDv-r_D9xqFqoSxw   \n",
       "5261642      0  yFDFtjcsaekCW15XKk8d3A  RYeR5-BCV7lDNXCTklDgxw   \n",
       "5261643      0  mPjPyipaD0C_myqWqDipZg  Va8hQZYCDh3SCAROgfEZyA   \n",
       "5261644      0  mPjPyipaD0C_myqWqDipZg  3LeAcgfaEYtGL16j3hGgig   \n",
       "5261645      1  mPjPyipaD0C_myqWqDipZg  M4Y_Fwfs2Mglb08z4BGzFg   \n",
       "5261646      2  mPjPyipaD0C_myqWqDipZg  CIMhrYaTrldYxWqYlYPN-A   \n",
       "5261647      0  mPjPyipaD0C_myqWqDipZg  3SLi--RX6MZSsk4GrgqnPA   \n",
       "5261648      1  mPjPyipaD0C_myqWqDipZg  y-6IJvH2M1H3Xmz5u9g5hg   \n",
       "5261649      1  mPjPyipaD0C_myqWqDipZg  Bafy91RpLI10hJmeKOQOuw   \n",
       "5261650      0  mPjPyipaD0C_myqWqDipZg  z9wJdAjysjEOGSKBaIvMGg   \n",
       "5261651      0  mPjPyipaD0C_myqWqDipZg  JldIaWJdtnTJVQxmh-3SAA   \n",
       "5261652      0  mPjPyipaD0C_myqWqDipZg  aC7nxWLyM283uM78xry9mw   \n",
       "5261653      0  mPjPyipaD0C_myqWqDipZg  pX2pe-fnU1i2xzs1ght1mA   \n",
       "5261654      1  mPjPyipaD0C_myqWqDipZg  FJ0y1AnFAJ8MzNRZRdTJnw   \n",
       "5261655      2  mPjPyipaD0C_myqWqDipZg  W63llfTEM02-WpKBA2P9pQ   \n",
       "5261656      0  mPjPyipaD0C_myqWqDipZg  C0uT2UJQ3yz9hqE4h3sy2A   \n",
       "5261657      0  mPjPyipaD0C_myqWqDipZg  xq3eoPr_fJFNl_NVIxccvw   \n",
       "5261658      0  mPjPyipaD0C_myqWqDipZg  Q76zOoiQklh62ZTmA4gJZQ   \n",
       "5261659      0  mPjPyipaD0C_myqWqDipZg  gls24x_dYK8mYbxlVTHycw   \n",
       "5261660      0  mPjPyipaD0C_myqWqDipZg  MV8UTz9z_-4FG-nI8TOjPQ   \n",
       "5261661      1  mPjPyipaD0C_myqWqDipZg  dyW1tIaWbm_RfCFCffY9yg   \n",
       "5261662      4  mPjPyipaD0C_myqWqDipZg  ZU2UF0YBkhQFctXH5Mry3A   \n",
       "5261663      0  mPjPyipaD0C_myqWqDipZg  evfB2Xzw4u7aYftWClQfeg   \n",
       "5261664      3  mPjPyipaD0C_myqWqDipZg  PoGSiNz1X5SUu0qEt-qM5w   \n",
       "5261665      0  mPjPyipaD0C_myqWqDipZg  -CJNPrDWgIkorx4iEZJXIg   \n",
       "5261666      0  mPjPyipaD0C_myqWqDipZg  W9eVvOcpBvG6lpJPoJOxuA   \n",
       "5261667      0  mPjPyipaD0C_myqWqDipZg  hqQ1UTFKMN2P1ezUow48OQ   \n",
       "5261668      1  mPjPyipaD0C_myqWqDipZg  ldsIs3sGXPJ7WM7VyAm4lQ   \n",
       "\n",
       "                                                      text  \\\n",
       "0        Love the staff, love the meat, love the place....   \n",
       "1        Super simple place but amazing nonetheless. It...   \n",
       "2        Small unassuming place that changes their menu...   \n",
       "3        Lester's is located in a beautiful neighborhoo...   \n",
       "4        Love coming here. Yes the place always needs t...   \n",
       "5        Had their chocolate almond croissant and it wa...   \n",
       "6        Cycle Pub Las Vegas was a blast! Got a groupon...   \n",
       "7        Who would have guess that you would be able to...   \n",
       "8        Always drove past this coffee house and wonder...   \n",
       "9        Not bad!! Love that there is a gluten-free, ve...   \n",
       "10       Love this place!\\n\\nPeggy is great with dogs a...   \n",
       "11       This is currently my parents new favourite res...   \n",
       "12       Server was a little rude.\\n\\nOrdered the calam...   \n",
       "13       I thought Tidy's Flowers had a great reputatio...   \n",
       "14       Wanted to check out this place due to all the ...   \n",
       "15       This place is awesome! Definitely authentic!!!...   \n",
       "16       a must stop when you are in montreal!\\n\\nI was...   \n",
       "17       I too have been trying to book an appt to use ...   \n",
       "18       Came here with my girlfriends one Sunday after...   \n",
       "19       Came here for a burger as one of my friends sa...   \n",
       "20       really excited to hear of this restaurant comi...   \n",
       "21       was always intrigued of this place when I pass...   \n",
       "22       This place reminds of St Lawrence Market in To...   \n",
       "23       burgers are very big portions here.\\n\\ndefinit...   \n",
       "24       Food is very bland - not authentic at all.\\n\\n...   \n",
       "25       While looking at different restaurants in the ...   \n",
       "26       Service is really slow here. I waited for over...   \n",
       "27       a few years ago, this used to be the place to ...   \n",
       "28       OMG - Definitely worth going if you are in Mon...   \n",
       "29       Not sure what the hype is, but decided to give...   \n",
       "...                                                    ...   \n",
       "5261639  All I have to say is thank GOD I have a lot of...   \n",
       "5261640  I go there with my friends in a group to race ...   \n",
       "5261641  I called Alaskan to schedule an appointment fo...   \n",
       "5261642  Für einen gemütlichen Abend während unseres Ur...   \n",
       "5261643  Cafeteria style setting. Was staying at the ho...   \n",
       "5261644  Was on the way to work and feel like having so...   \n",
       "5261645  Was there for a wedding with your standard 10 ...   \n",
       "5261646  Went there on a tuesday nite in a group of 13 ...   \n",
       "5261647  It was 'oooh kay'...\\n\\nFood is slightly above...   \n",
       "5261648  Went to this restaurant for Dim Sum.  Asked fo...   \n",
       "5261649  More like 3.75*.\\n\\nRamen was so - so,  nothin...   \n",
       "5261650  The restaurant closes at 10:00pm, I arrived at...   \n",
       "5261651  Service:\\n\\nAverage Chinese cafe service.  Hav...   \n",
       "5261652  I really don't understand what is all the hype...   \n",
       "5261653  Went there for lunch. For $6.99 you get:\\n\\n- ...   \n",
       "5261654  Typical American style restaurant.  By that I ...   \n",
       "5261655  They do deep tissue massage which most Chinese...   \n",
       "5261656  Went in for a snack on a sat night.   Bar area...   \n",
       "5261657  The decor is really nice and and clean and the...   \n",
       "5261658  I cannot believe this place have such few revi...   \n",
       "5261659  Went with +6 people and ordered whole bunch of...   \n",
       "5261660  Was in the area and saw a Hakka Chinese Restau...   \n",
       "5261661  Not much to write about, food is mediocre at b...   \n",
       "5261662  This place is retarded!!!  Called on a thursda...   \n",
       "5261663  So after reading Precilla C. review, I decided...   \n",
       "5261664  Bought groupon $39 for 4 months from groupon, ...   \n",
       "5261665  Spring rolls was pretty good, cod was a bit ra...   \n",
       "5261666  Had a 8 dish set meal, was enough for 10 peopl...   \n",
       "5261667  A small, cozy family run Authentic korean rest...   \n",
       "5261668  Really nice atmosphere and settings and very c...   \n",
       "\n",
       "                    business_id  stars        date  useful  cool  binary  \n",
       "0        0W4lkclzZThpx3V65bVgig      5  2016-05-28       0     0       1  \n",
       "1        AEx2SYEUJmTxVVB18LlCwA      5  2016-05-28       0     0       1  \n",
       "2        VR6GpWIda3SfvPC-lg9H3w      5  2016-05-28       0     0       1  \n",
       "3        CKC0-MOWMqoeWf6s-szl8g      5  2016-05-28       0     0       1  \n",
       "4        ACFtxLv8pGrrxMm6EgjreA      4  2016-05-28       0     0       1  \n",
       "5        s2I_Ni76bjJNK9yG60iD-Q      4  2016-05-28       0     0       1  \n",
       "6        8QWPlVQ6D-OExqXoaD2Z1g      5  2014-09-24       1     0       1  \n",
       "7        9_CGhHMz8698M9-PkVf0CQ      4  2012-05-11       0     2       1  \n",
       "8        gkCorLgPyQLsptTHalL61g      4  2015-10-27       1     0       1  \n",
       "9        5r6-G9C4YLbC7Ziz57l3rQ      3  2013-02-09       1     0       1  \n",
       "10       fDF_o2JPU8BR1Gya--jRIA      5  2016-04-06       3     0       1  \n",
       "11       z8oIoCT1cXz7gZP5GeU5OA      4  2013-05-01       1     0       1  \n",
       "12       XWTPNfskXoUL-Lf32wSk0Q      3  2011-09-28       5     1       1  \n",
       "13       13nKUHH-uEUXVZylgxchPA      1  2011-02-16       9     1       0  \n",
       "14       RtUvSWO_UZ8V3Wpj0n077w      3  2012-12-03       2     1       1  \n",
       "15       Aov96CM4FZAXeZvKtsStdA      5  2010-07-16       2     1       1  \n",
       "16       0W4lkclzZThpx3V65bVgig      4  2011-09-28       0     0       1  \n",
       "17       fdnNZMk1NP7ZhL-YMidMpw      1  2012-10-23       0     0       0  \n",
       "18       PFPUMF38-lraKzLcTiz5gQ      3  2010-09-15       2     0       1  \n",
       "19       oWTn2IzrprsRkPfULtjZtQ      3  2012-09-23       4     0       1  \n",
       "20       zgQHtqX0gqMw1nlBZl2VnQ      1  2012-10-30       9     1       0  \n",
       "21       28adZ4lsuUeVB2aWzohK9g      3  2012-10-19       1     0       1  \n",
       "22       RWGI8u00x5GghYCEzpYrIg      4  2011-10-14       0     1       1  \n",
       "23       Xy74meQwdTnloAAyRC-4cg      3  2013-07-01       0     0       1  \n",
       "24       hjk3ox7w1akbEuOgTJ03Bw      1  2012-05-10       4     0       0  \n",
       "25       ZnxudK5ExgpfXs4bicS4IA      3  2012-09-23       0     1       1  \n",
       "26       Eox_Qq74oaFZ-YjthpHhBw      3  2011-07-18       1     1       1  \n",
       "27       zxJlg4XCHNoFy78WZPv89w      2  2011-09-28       0     0       0  \n",
       "28       tOhRQqiupLyJdBJVQMGOEQ      5  2012-09-23       1     1       1  \n",
       "29       N93EYZy9R0sdlEvubu94ig      3  2012-09-23       0     0       1  \n",
       "...                         ...    ...         ...     ...   ...     ...  \n",
       "5261639  5ftAE8C6KiEPGJbmScln_g      1  2016-03-31       0     0       0  \n",
       "5261640  UicG-oyX4bjmcQbmXn7hGw      5  2012-12-29       1     1       1  \n",
       "5261641  HeKfDaa_Fa0fn3-xy9tqDw      5  2017-05-24       0     0       1  \n",
       "5261642  p2CcCRjOItvAQsI4DsTlHA      3  2012-08-23       0     0       1  \n",
       "5261643  096qNc7waeRlReivCm2lXw      3  2015-10-25       0     0       1  \n",
       "5261644  YEILyeHAQTgEGogF46HYiw      4  2011-10-21       1     1       1  \n",
       "5261645  OB8vZCzHXv9ZyKLTJe2K3g      1  2011-10-20       2     0       0  \n",
       "5261646  6y-z_jGX7PCUubMPFDbxVA      4  2011-10-18       1     2       1  \n",
       "5261647  IikkB8j2E-1QmujRsPh5wQ      4  2012-06-07       0     0       1  \n",
       "5261648  I6oxEn1HT41S2GPrDKPPvA      1  2011-11-15       7     0       0  \n",
       "5261649  gnkyosoOepBUqog7iDdggQ      4  2015-10-25       0     1       1  \n",
       "5261650  OsB_ZtFAaLDCPzvlAjHQ-w      3  2017-10-31       0     0       1  \n",
       "5261651  AtUtG-oQp1rkk6ZdYcfSzw      2  2017-11-02       0     0       0  \n",
       "5261652  O-uIEuv7JLUHajkemx_sVw      2  2011-11-01       1     0       0  \n",
       "5261653  5VOqWjRXUPc7b1A_NSI9mQ      3  2011-10-20       0     1       1  \n",
       "5261654  yADOyFmSlHuixlQ4MtHhcQ      3  2012-05-05       1     0       1  \n",
       "5261655  KqtmbsZUDNNspTp1Yn2Mtw      3  2012-08-30       5     0       1  \n",
       "5261656  n0NH0FW8NU3zfeJY3QluMQ      3  2015-10-25       1     0       1  \n",
       "5261657  7d4_aSWLjzu9z778ac4g2g      2  2013-05-27       1     0       0  \n",
       "5261658  fp24IseF5LGD1Iev7d0PVA      4  2011-10-20       5     1       1  \n",
       "5261659  GM3_MoAgPcyE1ozWxjy-XA      4  2012-08-18       1     0       1  \n",
       "5261660  MRoTUJyR2TVpvDdbOAtBlQ      4  2014-06-26       2     0       1  \n",
       "5261661  Dv0OHpQSL4hOGl2KAEVvlA      2  2012-05-05       0     0       0  \n",
       "5261662  CMkayuNDHPcd1dxO32kJyA      1  2012-05-24       4     1       0  \n",
       "5261663  --SrzpvFLwP_YFwB_Cetow      2  2011-10-18       0     0       0  \n",
       "5261664  Ngk84Ax1tXgpoJFEGxot3w      1  2011-11-21      36     3       0  \n",
       "5261665  pOEL97ld-FJMKO8Ki8JmYg      3  2016-04-30       0     0       1  \n",
       "5261666  5ubokMNw8qfbX2WtxgJG1Q      4  2011-10-23       3     1       1  \n",
       "5261667  EO3i5kTUG7_S2OIQ23sdSA      3  2011-11-07       2     0       1  \n",
       "5261668  HloEEXm_QzEpycuwA_RtQA      3  2011-11-15       0     1       1  \n",
       "\n",
       "[5261669 rows x 10 columns]"
      ]
     },
     "execution_count": 52,
     "metadata": {},
     "output_type": "execute_result"
    }
   ],
   "source": [
    "df"
   ]
  },
  {
   "cell_type": "code",
   "execution_count": null,
   "metadata": {
    "scrolled": false
   },
   "outputs": [],
   "source": [
    "# Matrix Factorization recommender using Graphlab\n",
    "sf = graphlab.SFrame(df[['user_id', 'business_id', 'stars']])\n",
    "\n",
    "train, test = graphlab.recommender.util.random_split_by_user(sf,user_id='user_id',item_id='business_id',max_num_users=None)\n",
    "\n",
    "\n",
    "rec = graphlab.recommender.factorization_recommender.create(\n",
    "            train,\n",
    "            user_id='user_id',\n",
    "            item_id='business_id',\n",
    "            target='binary',\n",
    "            solver='sgd',\n",
    "            #sgd_step_size=0.01,\n",
    "            max_iterations=50,\n",
    "            binary_target=True,\n",
    "            regularization=0.000005,\n",
    "            num_factors=100,\n",
    "            side_data_factorization=False)\n",
    "eval_rmse = rec.evaluate(test,metric='rmse',target='binary')\n",
    "#predictions = rec.predict(train)\n",
    "#rmse = np.sqrt(mean_squared_error(train['stars'], predictions))\n",
    "\n",
    "# print \"graphlab's reported rmse:\", rec['training_rmse']\n",
    "# print \"calculated rmse:\", rmse  "
   ]
  },
  {
   "cell_type": "code",
   "execution_count": 25,
   "metadata": {},
   "outputs": [
    {
     "data": {
      "text/plain": [
       "{'rmse_by_item': Columns:\n",
       " \tbusiness_id\tstr\n",
       " \tcount\tint\n",
       " \trmse\tfloat\n",
       " \n",
       " Rows: 138454\n",
       " \n",
       " Data:\n",
       " +------------------------+-------+----------------+\n",
       " |      business_id       | count |      rmse      |\n",
       " +------------------------+-------+----------------+\n",
       " | JDm9c_Gkm-N01H9K2PdgMw |   1   | 2.72815195104  |\n",
       " | icrwcgr0Pqle5PCL-Ki8Rw |   2   | 1.26681856862  |\n",
       " | Ijw0d-2wTcsciDesjCVgsA |   13  | 1.65462228994  |\n",
       " | L5CF9zPE5G0lCEExKn_qQg |   9   | 1.69396885475  |\n",
       " | o3oC0UK97tiV4cw97rAgfw |   7   | 1.32530029298  |\n",
       " | VDGMgPcGFB6acVw1qEoooA |   1   | 2.72806540532  |\n",
       " | PkM2kRiW_HJiV0E8p8yJsg |   1   |  1.518667538   |\n",
       " | pUI96wpoJtsQc-aDP9UIqw |   2   | 1.26076620991  |\n",
       " | Bl7-eu0cRYJ6BiydS23-jw |   5   | 1.05320434797  |\n",
       " | K0QZq5UwpAZCUk9yWeOFcQ |   2   | 0.249933200241 |\n",
       " +------------------------+-------+----------------+\n",
       " [138454 rows x 3 columns]\n",
       " Note: Only the head of the SFrame is printed.\n",
       " You can use print_rows(num_rows=m, num_columns=n) to print more rows and columns.,\n",
       " 'rmse_by_user': Columns:\n",
       " \tuser_id\tstr\n",
       " \tcount\tint\n",
       " \trmse\tfloat\n",
       " \n",
       " Rows: 506003\n",
       " \n",
       " Data:\n",
       " +------------------------+-------+----------------+\n",
       " |        user_id         | count |      rmse      |\n",
       " +------------------------+-------+----------------+\n",
       " | 0BaJ43WuBnP-G6fmstEmNQ |   23  | 1.29458005461  |\n",
       " | 8O6LZqtQgGly4T4--HR-Nw |   1   | 1.60614362015  |\n",
       " | k0_OJy1YvtxCOyomdtHW4A |   7   | 1.03826519405  |\n",
       " | yXhe0xiTceaXq_PbFVGNkA |   1   | 1.19179894374  |\n",
       " | ojyAJnOaHy9OqXT-zmMH-A |   1   | 2.72806540532  |\n",
       " | X3LRAbZcdIebdJU1bEqpKQ |   1   | 1.23197163613  |\n",
       " | AqO_Ltv5Rr5qYSAx_kSX-g |   1   | 1.69071904226  |\n",
       " | s1PwuoKcKJHJ0Sx_3LWHBQ |   1   | 2.72806540532  |\n",
       " | iRTWVO4NKIgwBo957h2Zrw |   1   | 2.86721194191  |\n",
       " | EcEvSYL9hqa35IDAvJhljw |   1   | 0.703151371048 |\n",
       " +------------------------+-------+----------------+\n",
       " [506003 rows x 3 columns]\n",
       " Note: Only the head of the SFrame is printed.\n",
       " You can use print_rows(num_rows=m, num_columns=n) to print more rows and columns.,\n",
       " 'rmse_overall': 1.4756085339073859}"
      ]
     },
     "execution_count": 25,
     "metadata": {},
     "output_type": "execute_result"
    }
   ],
   "source": [
    "eval_rmse"
   ]
  },
  {
   "cell_type": "code",
   "execution_count": 11,
   "metadata": {
    "scrolled": true
   },
   "outputs": [
    {
     "data": {
      "text/html": [
       "<pre>recommendations finished on 1000/506003 queries. users per second: 424.99</pre>"
      ],
      "text/plain": [
       "recommendations finished on 1000/506003 queries. users per second: 424.99"
      ]
     },
     "metadata": {},
     "output_type": "display_data"
    },
    {
     "data": {
      "text/html": [
       "<pre>recommendations finished on 2000/506003 queries. users per second: 430.752</pre>"
      ],
      "text/plain": [
       "recommendations finished on 2000/506003 queries. users per second: 430.752"
      ]
     },
     "metadata": {},
     "output_type": "display_data"
    },
    {
     "data": {
      "text/html": [
       "<pre>recommendations finished on 3000/506003 queries. users per second: 434.287</pre>"
      ],
      "text/plain": [
       "recommendations finished on 3000/506003 queries. users per second: 434.287"
      ]
     },
     "metadata": {},
     "output_type": "display_data"
    },
    {
     "data": {
      "text/html": [
       "<pre>recommendations finished on 4000/506003 queries. users per second: 435.606</pre>"
      ],
      "text/plain": [
       "recommendations finished on 4000/506003 queries. users per second: 435.606"
      ]
     },
     "metadata": {},
     "output_type": "display_data"
    },
    {
     "data": {
      "text/html": [
       "<pre>recommendations finished on 5000/506003 queries. users per second: 433.423</pre>"
      ],
      "text/plain": [
       "recommendations finished on 5000/506003 queries. users per second: 433.423"
      ]
     },
     "metadata": {},
     "output_type": "display_data"
    },
    {
     "data": {
      "text/html": [
       "<pre>recommendations finished on 6000/506003 queries. users per second: 434.273</pre>"
      ],
      "text/plain": [
       "recommendations finished on 6000/506003 queries. users per second: 434.273"
      ]
     },
     "metadata": {},
     "output_type": "display_data"
    },
    {
     "data": {
      "text/html": [
       "<pre>recommendations finished on 7000/506003 queries. users per second: 432.718</pre>"
      ],
      "text/plain": [
       "recommendations finished on 7000/506003 queries. users per second: 432.718"
      ]
     },
     "metadata": {},
     "output_type": "display_data"
    },
    {
     "data": {
      "text/html": [
       "<pre>recommendations finished on 8000/506003 queries. users per second: 430.754</pre>"
      ],
      "text/plain": [
       "recommendations finished on 8000/506003 queries. users per second: 430.754"
      ]
     },
     "metadata": {},
     "output_type": "display_data"
    },
    {
     "data": {
      "text/html": [
       "<pre>recommendations finished on 9000/506003 queries. users per second: 430.073</pre>"
      ],
      "text/plain": [
       "recommendations finished on 9000/506003 queries. users per second: 430.073"
      ]
     },
     "metadata": {},
     "output_type": "display_data"
    },
    {
     "data": {
      "text/html": [
       "<pre>recommendations finished on 10000/506003 queries. users per second: 429.394</pre>"
      ],
      "text/plain": [
       "recommendations finished on 10000/506003 queries. users per second: 429.394"
      ]
     },
     "metadata": {},
     "output_type": "display_data"
    },
    {
     "data": {
      "text/html": [
       "<pre>recommendations finished on 11000/506003 queries. users per second: 428.357</pre>"
      ],
      "text/plain": [
       "recommendations finished on 11000/506003 queries. users per second: 428.357"
      ]
     },
     "metadata": {},
     "output_type": "display_data"
    },
    {
     "data": {
      "text/html": [
       "<pre>recommendations finished on 12000/506003 queries. users per second: 428.114</pre>"
      ],
      "text/plain": [
       "recommendations finished on 12000/506003 queries. users per second: 428.114"
      ]
     },
     "metadata": {},
     "output_type": "display_data"
    },
    {
     "data": {
      "text/html": [
       "<pre>recommendations finished on 13000/506003 queries. users per second: 427.192</pre>"
      ],
      "text/plain": [
       "recommendations finished on 13000/506003 queries. users per second: 427.192"
      ]
     },
     "metadata": {},
     "output_type": "display_data"
    },
    {
     "data": {
      "text/html": [
       "<pre>recommendations finished on 14000/506003 queries. users per second: 426.759</pre>"
      ],
      "text/plain": [
       "recommendations finished on 14000/506003 queries. users per second: 426.759"
      ]
     },
     "metadata": {},
     "output_type": "display_data"
    },
    {
     "data": {
      "text/html": [
       "<pre>recommendations finished on 15000/506003 queries. users per second: 426.872</pre>"
      ],
      "text/plain": [
       "recommendations finished on 15000/506003 queries. users per second: 426.872"
      ]
     },
     "metadata": {},
     "output_type": "display_data"
    },
    {
     "data": {
      "text/html": [
       "<pre>recommendations finished on 16000/506003 queries. users per second: 425.725</pre>"
      ],
      "text/plain": [
       "recommendations finished on 16000/506003 queries. users per second: 425.725"
      ]
     },
     "metadata": {},
     "output_type": "display_data"
    },
    {
     "data": {
      "text/html": [
       "<pre>recommendations finished on 17000/506003 queries. users per second: 424.889</pre>"
      ],
      "text/plain": [
       "recommendations finished on 17000/506003 queries. users per second: 424.889"
      ]
     },
     "metadata": {},
     "output_type": "display_data"
    },
    {
     "data": {
      "text/html": [
       "<pre>recommendations finished on 18000/506003 queries. users per second: 424.15</pre>"
      ],
      "text/plain": [
       "recommendations finished on 18000/506003 queries. users per second: 424.15"
      ]
     },
     "metadata": {},
     "output_type": "display_data"
    },
    {
     "data": {
      "text/html": [
       "<pre>recommendations finished on 19000/506003 queries. users per second: 422.878</pre>"
      ],
      "text/plain": [
       "recommendations finished on 19000/506003 queries. users per second: 422.878"
      ]
     },
     "metadata": {},
     "output_type": "display_data"
    },
    {
     "data": {
      "text/html": [
       "<pre>recommendations finished on 20000/506003 queries. users per second: 422.087</pre>"
      ],
      "text/plain": [
       "recommendations finished on 20000/506003 queries. users per second: 422.087"
      ]
     },
     "metadata": {},
     "output_type": "display_data"
    },
    {
     "data": {
      "text/html": [
       "<pre>recommendations finished on 21000/506003 queries. users per second: 421.827</pre>"
      ],
      "text/plain": [
       "recommendations finished on 21000/506003 queries. users per second: 421.827"
      ]
     },
     "metadata": {},
     "output_type": "display_data"
    },
    {
     "data": {
      "text/html": [
       "<pre>recommendations finished on 22000/506003 queries. users per second: 421.8</pre>"
      ],
      "text/plain": [
       "recommendations finished on 22000/506003 queries. users per second: 421.8"
      ]
     },
     "metadata": {},
     "output_type": "display_data"
    },
    {
     "data": {
      "text/html": [
       "<pre>recommendations finished on 23000/506003 queries. users per second: 421.764</pre>"
      ],
      "text/plain": [
       "recommendations finished on 23000/506003 queries. users per second: 421.764"
      ]
     },
     "metadata": {},
     "output_type": "display_data"
    },
    {
     "data": {
      "text/html": [
       "<pre>recommendations finished on 24000/506003 queries. users per second: 421.573</pre>"
      ],
      "text/plain": [
       "recommendations finished on 24000/506003 queries. users per second: 421.573"
      ]
     },
     "metadata": {},
     "output_type": "display_data"
    },
    {
     "data": {
      "text/html": [
       "<pre>recommendations finished on 25000/506003 queries. users per second: 421.792</pre>"
      ],
      "text/plain": [
       "recommendations finished on 25000/506003 queries. users per second: 421.792"
      ]
     },
     "metadata": {},
     "output_type": "display_data"
    },
    {
     "data": {
      "text/html": [
       "<pre>recommendations finished on 26000/506003 queries. users per second: 421.607</pre>"
      ],
      "text/plain": [
       "recommendations finished on 26000/506003 queries. users per second: 421.607"
      ]
     },
     "metadata": {},
     "output_type": "display_data"
    },
    {
     "data": {
      "text/html": [
       "<pre>recommendations finished on 27000/506003 queries. users per second: 421.502</pre>"
      ],
      "text/plain": [
       "recommendations finished on 27000/506003 queries. users per second: 421.502"
      ]
     },
     "metadata": {},
     "output_type": "display_data"
    },
    {
     "data": {
      "text/html": [
       "<pre>recommendations finished on 28000/506003 queries. users per second: 421.412</pre>"
      ],
      "text/plain": [
       "recommendations finished on 28000/506003 queries. users per second: 421.412"
      ]
     },
     "metadata": {},
     "output_type": "display_data"
    },
    {
     "data": {
      "text/html": [
       "<pre>recommendations finished on 29000/506003 queries. users per second: 421.298</pre>"
      ],
      "text/plain": [
       "recommendations finished on 29000/506003 queries. users per second: 421.298"
      ]
     },
     "metadata": {},
     "output_type": "display_data"
    },
    {
     "data": {
      "text/html": [
       "<pre>recommendations finished on 30000/506003 queries. users per second: 421.232</pre>"
      ],
      "text/plain": [
       "recommendations finished on 30000/506003 queries. users per second: 421.232"
      ]
     },
     "metadata": {},
     "output_type": "display_data"
    },
    {
     "data": {
      "text/html": [
       "<pre>recommendations finished on 31000/506003 queries. users per second: 420.972</pre>"
      ],
      "text/plain": [
       "recommendations finished on 31000/506003 queries. users per second: 420.972"
      ]
     },
     "metadata": {},
     "output_type": "display_data"
    },
    {
     "data": {
      "text/html": [
       "<pre>recommendations finished on 32000/506003 queries. users per second: 419.019</pre>"
      ],
      "text/plain": [
       "recommendations finished on 32000/506003 queries. users per second: 419.019"
      ]
     },
     "metadata": {},
     "output_type": "display_data"
    },
    {
     "data": {
      "text/html": [
       "<pre>recommendations finished on 33000/506003 queries. users per second: 418.969</pre>"
      ],
      "text/plain": [
       "recommendations finished on 33000/506003 queries. users per second: 418.969"
      ]
     },
     "metadata": {},
     "output_type": "display_data"
    },
    {
     "data": {
      "text/html": [
       "<pre>recommendations finished on 34000/506003 queries. users per second: 419.086</pre>"
      ],
      "text/plain": [
       "recommendations finished on 34000/506003 queries. users per second: 419.086"
      ]
     },
     "metadata": {},
     "output_type": "display_data"
    },
    {
     "data": {
      "text/html": [
       "<pre>recommendations finished on 35000/506003 queries. users per second: 419.107</pre>"
      ],
      "text/plain": [
       "recommendations finished on 35000/506003 queries. users per second: 419.107"
      ]
     },
     "metadata": {},
     "output_type": "display_data"
    },
    {
     "data": {
      "text/html": [
       "<pre>recommendations finished on 36000/506003 queries. users per second: 419.081</pre>"
      ],
      "text/plain": [
       "recommendations finished on 36000/506003 queries. users per second: 419.081"
      ]
     },
     "metadata": {},
     "output_type": "display_data"
    },
    {
     "data": {
      "text/html": [
       "<pre>recommendations finished on 37000/506003 queries. users per second: 418.918</pre>"
      ],
      "text/plain": [
       "recommendations finished on 37000/506003 queries. users per second: 418.918"
      ]
     },
     "metadata": {},
     "output_type": "display_data"
    },
    {
     "data": {
      "text/html": [
       "<pre>recommendations finished on 38000/506003 queries. users per second: 418.823</pre>"
      ],
      "text/plain": [
       "recommendations finished on 38000/506003 queries. users per second: 418.823"
      ]
     },
     "metadata": {},
     "output_type": "display_data"
    },
    {
     "data": {
      "text/html": [
       "<pre>recommendations finished on 39000/506003 queries. users per second: 418.954</pre>"
      ],
      "text/plain": [
       "recommendations finished on 39000/506003 queries. users per second: 418.954"
      ]
     },
     "metadata": {},
     "output_type": "display_data"
    },
    {
     "data": {
      "text/html": [
       "<pre>recommendations finished on 40000/506003 queries. users per second: 419.029</pre>"
      ],
      "text/plain": [
       "recommendations finished on 40000/506003 queries. users per second: 419.029"
      ]
     },
     "metadata": {},
     "output_type": "display_data"
    },
    {
     "data": {
      "text/html": [
       "<pre>recommendations finished on 41000/506003 queries. users per second: 418.629</pre>"
      ],
      "text/plain": [
       "recommendations finished on 41000/506003 queries. users per second: 418.629"
      ]
     },
     "metadata": {},
     "output_type": "display_data"
    },
    {
     "data": {
      "text/html": [
       "<pre>recommendations finished on 42000/506003 queries. users per second: 418.535</pre>"
      ],
      "text/plain": [
       "recommendations finished on 42000/506003 queries. users per second: 418.535"
      ]
     },
     "metadata": {},
     "output_type": "display_data"
    },
    {
     "data": {
      "text/html": [
       "<pre>recommendations finished on 43000/506003 queries. users per second: 418.469</pre>"
      ],
      "text/plain": [
       "recommendations finished on 43000/506003 queries. users per second: 418.469"
      ]
     },
     "metadata": {},
     "output_type": "display_data"
    },
    {
     "data": {
      "text/html": [
       "<pre>recommendations finished on 44000/506003 queries. users per second: 418.483</pre>"
      ],
      "text/plain": [
       "recommendations finished on 44000/506003 queries. users per second: 418.483"
      ]
     },
     "metadata": {},
     "output_type": "display_data"
    },
    {
     "data": {
      "text/html": [
       "<pre>recommendations finished on 45000/506003 queries. users per second: 418.462</pre>"
      ],
      "text/plain": [
       "recommendations finished on 45000/506003 queries. users per second: 418.462"
      ]
     },
     "metadata": {},
     "output_type": "display_data"
    },
    {
     "data": {
      "text/html": [
       "<pre>recommendations finished on 46000/506003 queries. users per second: 418.517</pre>"
      ],
      "text/plain": [
       "recommendations finished on 46000/506003 queries. users per second: 418.517"
      ]
     },
     "metadata": {},
     "output_type": "display_data"
    },
    {
     "data": {
      "text/html": [
       "<pre>recommendations finished on 47000/506003 queries. users per second: 418.462</pre>"
      ],
      "text/plain": [
       "recommendations finished on 47000/506003 queries. users per second: 418.462"
      ]
     },
     "metadata": {},
     "output_type": "display_data"
    },
    {
     "data": {
      "text/html": [
       "<pre>recommendations finished on 48000/506003 queries. users per second: 418.472</pre>"
      ],
      "text/plain": [
       "recommendations finished on 48000/506003 queries. users per second: 418.472"
      ]
     },
     "metadata": {},
     "output_type": "display_data"
    },
    {
     "data": {
      "text/html": [
       "<pre>recommendations finished on 49000/506003 queries. users per second: 418.515</pre>"
      ],
      "text/plain": [
       "recommendations finished on 49000/506003 queries. users per second: 418.515"
      ]
     },
     "metadata": {},
     "output_type": "display_data"
    },
    {
     "data": {
      "text/html": [
       "<pre>recommendations finished on 50000/506003 queries. users per second: 418.605</pre>"
      ],
      "text/plain": [
       "recommendations finished on 50000/506003 queries. users per second: 418.605"
      ]
     },
     "metadata": {},
     "output_type": "display_data"
    },
    {
     "data": {
      "text/html": [
       "<pre>recommendations finished on 51000/506003 queries. users per second: 418.612</pre>"
      ],
      "text/plain": [
       "recommendations finished on 51000/506003 queries. users per second: 418.612"
      ]
     },
     "metadata": {},
     "output_type": "display_data"
    },
    {
     "data": {
      "text/html": [
       "<pre>recommendations finished on 52000/506003 queries. users per second: 418.582</pre>"
      ],
      "text/plain": [
       "recommendations finished on 52000/506003 queries. users per second: 418.582"
      ]
     },
     "metadata": {},
     "output_type": "display_data"
    },
    {
     "data": {
      "text/html": [
       "<pre>recommendations finished on 53000/506003 queries. users per second: 418.461</pre>"
      ],
      "text/plain": [
       "recommendations finished on 53000/506003 queries. users per second: 418.461"
      ]
     },
     "metadata": {},
     "output_type": "display_data"
    },
    {
     "data": {
      "text/html": [
       "<pre>recommendations finished on 54000/506003 queries. users per second: 418.385</pre>"
      ],
      "text/plain": [
       "recommendations finished on 54000/506003 queries. users per second: 418.385"
      ]
     },
     "metadata": {},
     "output_type": "display_data"
    },
    {
     "data": {
      "text/html": [
       "<pre>recommendations finished on 55000/506003 queries. users per second: 418.34</pre>"
      ],
      "text/plain": [
       "recommendations finished on 55000/506003 queries. users per second: 418.34"
      ]
     },
     "metadata": {},
     "output_type": "display_data"
    },
    {
     "data": {
      "text/html": [
       "<pre>recommendations finished on 56000/506003 queries. users per second: 418.359</pre>"
      ],
      "text/plain": [
       "recommendations finished on 56000/506003 queries. users per second: 418.359"
      ]
     },
     "metadata": {},
     "output_type": "display_data"
    },
    {
     "data": {
      "text/html": [
       "<pre>recommendations finished on 57000/506003 queries. users per second: 418.416</pre>"
      ],
      "text/plain": [
       "recommendations finished on 57000/506003 queries. users per second: 418.416"
      ]
     },
     "metadata": {},
     "output_type": "display_data"
    },
    {
     "data": {
      "text/html": [
       "<pre>recommendations finished on 58000/506003 queries. users per second: 418.423</pre>"
      ],
      "text/plain": [
       "recommendations finished on 58000/506003 queries. users per second: 418.423"
      ]
     },
     "metadata": {},
     "output_type": "display_data"
    },
    {
     "data": {
      "text/html": [
       "<pre>recommendations finished on 59000/506003 queries. users per second: 418.433</pre>"
      ],
      "text/plain": [
       "recommendations finished on 59000/506003 queries. users per second: 418.433"
      ]
     },
     "metadata": {},
     "output_type": "display_data"
    },
    {
     "data": {
      "text/html": [
       "<pre>recommendations finished on 60000/506003 queries. users per second: 418.413</pre>"
      ],
      "text/plain": [
       "recommendations finished on 60000/506003 queries. users per second: 418.413"
      ]
     },
     "metadata": {},
     "output_type": "display_data"
    },
    {
     "data": {
      "text/html": [
       "<pre>recommendations finished on 61000/506003 queries. users per second: 418.363</pre>"
      ],
      "text/plain": [
       "recommendations finished on 61000/506003 queries. users per second: 418.363"
      ]
     },
     "metadata": {},
     "output_type": "display_data"
    },
    {
     "data": {
      "text/html": [
       "<pre>recommendations finished on 62000/506003 queries. users per second: 418.418</pre>"
      ],
      "text/plain": [
       "recommendations finished on 62000/506003 queries. users per second: 418.418"
      ]
     },
     "metadata": {},
     "output_type": "display_data"
    },
    {
     "data": {
      "text/html": [
       "<pre>recommendations finished on 63000/506003 queries. users per second: 418.305</pre>"
      ],
      "text/plain": [
       "recommendations finished on 63000/506003 queries. users per second: 418.305"
      ]
     },
     "metadata": {},
     "output_type": "display_data"
    },
    {
     "data": {
      "text/html": [
       "<pre>recommendations finished on 64000/506003 queries. users per second: 417.239</pre>"
      ],
      "text/plain": [
       "recommendations finished on 64000/506003 queries. users per second: 417.239"
      ]
     },
     "metadata": {},
     "output_type": "display_data"
    },
    {
     "data": {
      "text/html": [
       "<pre>recommendations finished on 65000/506003 queries. users per second: 417.189</pre>"
      ],
      "text/plain": [
       "recommendations finished on 65000/506003 queries. users per second: 417.189"
      ]
     },
     "metadata": {},
     "output_type": "display_data"
    },
    {
     "data": {
      "text/html": [
       "<pre>recommendations finished on 66000/506003 queries. users per second: 417.175</pre>"
      ],
      "text/plain": [
       "recommendations finished on 66000/506003 queries. users per second: 417.175"
      ]
     },
     "metadata": {},
     "output_type": "display_data"
    },
    {
     "data": {
      "text/html": [
       "<pre>recommendations finished on 67000/506003 queries. users per second: 417.245</pre>"
      ],
      "text/plain": [
       "recommendations finished on 67000/506003 queries. users per second: 417.245"
      ]
     },
     "metadata": {},
     "output_type": "display_data"
    },
    {
     "data": {
      "text/html": [
       "<pre>recommendations finished on 68000/506003 queries. users per second: 417.132</pre>"
      ],
      "text/plain": [
       "recommendations finished on 68000/506003 queries. users per second: 417.132"
      ]
     },
     "metadata": {},
     "output_type": "display_data"
    },
    {
     "data": {
      "text/html": [
       "<pre>recommendations finished on 69000/506003 queries. users per second: 417.208</pre>"
      ],
      "text/plain": [
       "recommendations finished on 69000/506003 queries. users per second: 417.208"
      ]
     },
     "metadata": {},
     "output_type": "display_data"
    },
    {
     "data": {
      "text/html": [
       "<pre>recommendations finished on 70000/506003 queries. users per second: 416.862</pre>"
      ],
      "text/plain": [
       "recommendations finished on 70000/506003 queries. users per second: 416.862"
      ]
     },
     "metadata": {},
     "output_type": "display_data"
    },
    {
     "data": {
      "text/html": [
       "<pre>recommendations finished on 71000/506003 queries. users per second: 416.512</pre>"
      ],
      "text/plain": [
       "recommendations finished on 71000/506003 queries. users per second: 416.512"
      ]
     },
     "metadata": {},
     "output_type": "display_data"
    },
    {
     "data": {
      "text/html": [
       "<pre>recommendations finished on 72000/506003 queries. users per second: 416.511</pre>"
      ],
      "text/plain": [
       "recommendations finished on 72000/506003 queries. users per second: 416.511"
      ]
     },
     "metadata": {},
     "output_type": "display_data"
    },
    {
     "data": {
      "text/html": [
       "<pre>recommendations finished on 73000/506003 queries. users per second: 416.552</pre>"
      ],
      "text/plain": [
       "recommendations finished on 73000/506003 queries. users per second: 416.552"
      ]
     },
     "metadata": {},
     "output_type": "display_data"
    },
    {
     "data": {
      "text/html": [
       "<pre>recommendations finished on 74000/506003 queries. users per second: 416.564</pre>"
      ],
      "text/plain": [
       "recommendations finished on 74000/506003 queries. users per second: 416.564"
      ]
     },
     "metadata": {},
     "output_type": "display_data"
    },
    {
     "data": {
      "text/html": [
       "<pre>recommendations finished on 75000/506003 queries. users per second: 416.566</pre>"
      ],
      "text/plain": [
       "recommendations finished on 75000/506003 queries. users per second: 416.566"
      ]
     },
     "metadata": {},
     "output_type": "display_data"
    },
    {
     "data": {
      "text/html": [
       "<pre>recommendations finished on 76000/506003 queries. users per second: 416.543</pre>"
      ],
      "text/plain": [
       "recommendations finished on 76000/506003 queries. users per second: 416.543"
      ]
     },
     "metadata": {},
     "output_type": "display_data"
    },
    {
     "data": {
      "text/html": [
       "<pre>recommendations finished on 77000/506003 queries. users per second: 416.619</pre>"
      ],
      "text/plain": [
       "recommendations finished on 77000/506003 queries. users per second: 416.619"
      ]
     },
     "metadata": {},
     "output_type": "display_data"
    },
    {
     "data": {
      "text/html": [
       "<pre>recommendations finished on 78000/506003 queries. users per second: 416.661</pre>"
      ],
      "text/plain": [
       "recommendations finished on 78000/506003 queries. users per second: 416.661"
      ]
     },
     "metadata": {},
     "output_type": "display_data"
    },
    {
     "data": {
      "text/html": [
       "<pre>recommendations finished on 79000/506003 queries. users per second: 416.718</pre>"
      ],
      "text/plain": [
       "recommendations finished on 79000/506003 queries. users per second: 416.718"
      ]
     },
     "metadata": {},
     "output_type": "display_data"
    },
    {
     "data": {
      "text/html": [
       "<pre>recommendations finished on 80000/506003 queries. users per second: 416.755</pre>"
      ],
      "text/plain": [
       "recommendations finished on 80000/506003 queries. users per second: 416.755"
      ]
     },
     "metadata": {},
     "output_type": "display_data"
    },
    {
     "data": {
      "text/html": [
       "<pre>recommendations finished on 81000/506003 queries. users per second: 416.761</pre>"
      ],
      "text/plain": [
       "recommendations finished on 81000/506003 queries. users per second: 416.761"
      ]
     },
     "metadata": {},
     "output_type": "display_data"
    },
    {
     "data": {
      "text/html": [
       "<pre>recommendations finished on 82000/506003 queries. users per second: 416.717</pre>"
      ],
      "text/plain": [
       "recommendations finished on 82000/506003 queries. users per second: 416.717"
      ]
     },
     "metadata": {},
     "output_type": "display_data"
    },
    {
     "data": {
      "text/html": [
       "<pre>recommendations finished on 83000/506003 queries. users per second: 416.668</pre>"
      ],
      "text/plain": [
       "recommendations finished on 83000/506003 queries. users per second: 416.668"
      ]
     },
     "metadata": {},
     "output_type": "display_data"
    },
    {
     "data": {
      "text/html": [
       "<pre>recommendations finished on 84000/506003 queries. users per second: 416.692</pre>"
      ],
      "text/plain": [
       "recommendations finished on 84000/506003 queries. users per second: 416.692"
      ]
     },
     "metadata": {},
     "output_type": "display_data"
    },
    {
     "data": {
      "text/html": [
       "<pre>recommendations finished on 85000/506003 queries. users per second: 416.698</pre>"
      ],
      "text/plain": [
       "recommendations finished on 85000/506003 queries. users per second: 416.698"
      ]
     },
     "metadata": {},
     "output_type": "display_data"
    },
    {
     "data": {
      "text/html": [
       "<pre>recommendations finished on 86000/506003 queries. users per second: 416.696</pre>"
      ],
      "text/plain": [
       "recommendations finished on 86000/506003 queries. users per second: 416.696"
      ]
     },
     "metadata": {},
     "output_type": "display_data"
    },
    {
     "data": {
      "text/html": [
       "<pre>recommendations finished on 87000/506003 queries. users per second: 416.692</pre>"
      ],
      "text/plain": [
       "recommendations finished on 87000/506003 queries. users per second: 416.692"
      ]
     },
     "metadata": {},
     "output_type": "display_data"
    },
    {
     "data": {
      "text/html": [
       "<pre>recommendations finished on 88000/506003 queries. users per second: 416.708</pre>"
      ],
      "text/plain": [
       "recommendations finished on 88000/506003 queries. users per second: 416.708"
      ]
     },
     "metadata": {},
     "output_type": "display_data"
    },
    {
     "data": {
      "text/html": [
       "<pre>recommendations finished on 89000/506003 queries. users per second: 416.734</pre>"
      ],
      "text/plain": [
       "recommendations finished on 89000/506003 queries. users per second: 416.734"
      ]
     },
     "metadata": {},
     "output_type": "display_data"
    },
    {
     "data": {
      "text/html": [
       "<pre>recommendations finished on 90000/506003 queries. users per second: 416.605</pre>"
      ],
      "text/plain": [
       "recommendations finished on 90000/506003 queries. users per second: 416.605"
      ]
     },
     "metadata": {},
     "output_type": "display_data"
    },
    {
     "data": {
      "text/html": [
       "<pre>recommendations finished on 91000/506003 queries. users per second: 416.475</pre>"
      ],
      "text/plain": [
       "recommendations finished on 91000/506003 queries. users per second: 416.475"
      ]
     },
     "metadata": {},
     "output_type": "display_data"
    },
    {
     "data": {
      "text/html": [
       "<pre>recommendations finished on 92000/506003 queries. users per second: 416.58</pre>"
      ],
      "text/plain": [
       "recommendations finished on 92000/506003 queries. users per second: 416.58"
      ]
     },
     "metadata": {},
     "output_type": "display_data"
    },
    {
     "data": {
      "text/html": [
       "<pre>recommendations finished on 93000/506003 queries. users per second: 416.648</pre>"
      ],
      "text/plain": [
       "recommendations finished on 93000/506003 queries. users per second: 416.648"
      ]
     },
     "metadata": {},
     "output_type": "display_data"
    },
    {
     "data": {
      "text/html": [
       "<pre>recommendations finished on 94000/506003 queries. users per second: 416.644</pre>"
      ],
      "text/plain": [
       "recommendations finished on 94000/506003 queries. users per second: 416.644"
      ]
     },
     "metadata": {},
     "output_type": "display_data"
    },
    {
     "data": {
      "text/html": [
       "<pre>recommendations finished on 95000/506003 queries. users per second: 416.44</pre>"
      ],
      "text/plain": [
       "recommendations finished on 95000/506003 queries. users per second: 416.44"
      ]
     },
     "metadata": {},
     "output_type": "display_data"
    },
    {
     "data": {
      "text/html": [
       "<pre>recommendations finished on 96000/506003 queries. users per second: 415.834</pre>"
      ],
      "text/plain": [
       "recommendations finished on 96000/506003 queries. users per second: 415.834"
      ]
     },
     "metadata": {},
     "output_type": "display_data"
    },
    {
     "data": {
      "text/html": [
       "<pre>recommendations finished on 97000/506003 queries. users per second: 415.546</pre>"
      ],
      "text/plain": [
       "recommendations finished on 97000/506003 queries. users per second: 415.546"
      ]
     },
     "metadata": {},
     "output_type": "display_data"
    },
    {
     "data": {
      "text/html": [
       "<pre>recommendations finished on 98000/506003 queries. users per second: 414.979</pre>"
      ],
      "text/plain": [
       "recommendations finished on 98000/506003 queries. users per second: 414.979"
      ]
     },
     "metadata": {},
     "output_type": "display_data"
    },
    {
     "data": {
      "text/html": [
       "<pre>recommendations finished on 99000/506003 queries. users per second: 414.899</pre>"
      ],
      "text/plain": [
       "recommendations finished on 99000/506003 queries. users per second: 414.899"
      ]
     },
     "metadata": {},
     "output_type": "display_data"
    },
    {
     "data": {
      "text/html": [
       "<pre>recommendations finished on 100000/506003 queries. users per second: 414.941</pre>"
      ],
      "text/plain": [
       "recommendations finished on 100000/506003 queries. users per second: 414.941"
      ]
     },
     "metadata": {},
     "output_type": "display_data"
    },
    {
     "data": {
      "text/html": [
       "<pre>recommendations finished on 101000/506003 queries. users per second: 415.001</pre>"
      ],
      "text/plain": [
       "recommendations finished on 101000/506003 queries. users per second: 415.001"
      ]
     },
     "metadata": {},
     "output_type": "display_data"
    },
    {
     "data": {
      "text/html": [
       "<pre>recommendations finished on 102000/506003 queries. users per second: 415.073</pre>"
      ],
      "text/plain": [
       "recommendations finished on 102000/506003 queries. users per second: 415.073"
      ]
     },
     "metadata": {},
     "output_type": "display_data"
    },
    {
     "data": {
      "text/html": [
       "<pre>recommendations finished on 103000/506003 queries. users per second: 415.079</pre>"
      ],
      "text/plain": [
       "recommendations finished on 103000/506003 queries. users per second: 415.079"
      ]
     },
     "metadata": {},
     "output_type": "display_data"
    },
    {
     "data": {
      "text/html": [
       "<pre>recommendations finished on 104000/506003 queries. users per second: 413.999</pre>"
      ],
      "text/plain": [
       "recommendations finished on 104000/506003 queries. users per second: 413.999"
      ]
     },
     "metadata": {},
     "output_type": "display_data"
    },
    {
     "data": {
      "text/html": [
       "<pre>recommendations finished on 105000/506003 queries. users per second: 413.608</pre>"
      ],
      "text/plain": [
       "recommendations finished on 105000/506003 queries. users per second: 413.608"
      ]
     },
     "metadata": {},
     "output_type": "display_data"
    },
    {
     "data": {
      "text/html": [
       "<pre>recommendations finished on 106000/506003 queries. users per second: 413.487</pre>"
      ],
      "text/plain": [
       "recommendations finished on 106000/506003 queries. users per second: 413.487"
      ]
     },
     "metadata": {},
     "output_type": "display_data"
    },
    {
     "data": {
      "text/html": [
       "<pre>recommendations finished on 107000/506003 queries. users per second: 413.56</pre>"
      ],
      "text/plain": [
       "recommendations finished on 107000/506003 queries. users per second: 413.56"
      ]
     },
     "metadata": {},
     "output_type": "display_data"
    },
    {
     "data": {
      "text/html": [
       "<pre>recommendations finished on 108000/506003 queries. users per second: 413.583</pre>"
      ],
      "text/plain": [
       "recommendations finished on 108000/506003 queries. users per second: 413.583"
      ]
     },
     "metadata": {},
     "output_type": "display_data"
    },
    {
     "data": {
      "text/html": [
       "<pre>recommendations finished on 109000/506003 queries. users per second: 413.686</pre>"
      ],
      "text/plain": [
       "recommendations finished on 109000/506003 queries. users per second: 413.686"
      ]
     },
     "metadata": {},
     "output_type": "display_data"
    },
    {
     "data": {
      "text/html": [
       "<pre>recommendations finished on 110000/506003 queries. users per second: 413.76</pre>"
      ],
      "text/plain": [
       "recommendations finished on 110000/506003 queries. users per second: 413.76"
      ]
     },
     "metadata": {},
     "output_type": "display_data"
    },
    {
     "data": {
      "text/html": [
       "<pre>recommendations finished on 111000/506003 queries. users per second: 413.745</pre>"
      ],
      "text/plain": [
       "recommendations finished on 111000/506003 queries. users per second: 413.745"
      ]
     },
     "metadata": {},
     "output_type": "display_data"
    },
    {
     "data": {
      "text/html": [
       "<pre>recommendations finished on 112000/506003 queries. users per second: 413.808</pre>"
      ],
      "text/plain": [
       "recommendations finished on 112000/506003 queries. users per second: 413.808"
      ]
     },
     "metadata": {},
     "output_type": "display_data"
    },
    {
     "data": {
      "text/html": [
       "<pre>recommendations finished on 113000/506003 queries. users per second: 413.903</pre>"
      ],
      "text/plain": [
       "recommendations finished on 113000/506003 queries. users per second: 413.903"
      ]
     },
     "metadata": {},
     "output_type": "display_data"
    },
    {
     "data": {
      "text/html": [
       "<pre>recommendations finished on 114000/506003 queries. users per second: 413.956</pre>"
      ],
      "text/plain": [
       "recommendations finished on 114000/506003 queries. users per second: 413.956"
      ]
     },
     "metadata": {},
     "output_type": "display_data"
    },
    {
     "data": {
      "text/html": [
       "<pre>recommendations finished on 115000/506003 queries. users per second: 414.047</pre>"
      ],
      "text/plain": [
       "recommendations finished on 115000/506003 queries. users per second: 414.047"
      ]
     },
     "metadata": {},
     "output_type": "display_data"
    },
    {
     "data": {
      "text/html": [
       "<pre>recommendations finished on 116000/506003 queries. users per second: 414.032</pre>"
      ],
      "text/plain": [
       "recommendations finished on 116000/506003 queries. users per second: 414.032"
      ]
     },
     "metadata": {},
     "output_type": "display_data"
    },
    {
     "data": {
      "text/html": [
       "<pre>recommendations finished on 117000/506003 queries. users per second: 414.083</pre>"
      ],
      "text/plain": [
       "recommendations finished on 117000/506003 queries. users per second: 414.083"
      ]
     },
     "metadata": {},
     "output_type": "display_data"
    },
    {
     "data": {
      "text/html": [
       "<pre>recommendations finished on 118000/506003 queries. users per second: 414.118</pre>"
      ],
      "text/plain": [
       "recommendations finished on 118000/506003 queries. users per second: 414.118"
      ]
     },
     "metadata": {},
     "output_type": "display_data"
    },
    {
     "data": {
      "text/html": [
       "<pre>recommendations finished on 119000/506003 queries. users per second: 414.086</pre>"
      ],
      "text/plain": [
       "recommendations finished on 119000/506003 queries. users per second: 414.086"
      ]
     },
     "metadata": {},
     "output_type": "display_data"
    },
    {
     "data": {
      "text/html": [
       "<pre>recommendations finished on 120000/506003 queries. users per second: 413.197</pre>"
      ],
      "text/plain": [
       "recommendations finished on 120000/506003 queries. users per second: 413.197"
      ]
     },
     "metadata": {},
     "output_type": "display_data"
    },
    {
     "data": {
      "text/html": [
       "<pre>recommendations finished on 121000/506003 queries. users per second: 413.026</pre>"
      ],
      "text/plain": [
       "recommendations finished on 121000/506003 queries. users per second: 413.026"
      ]
     },
     "metadata": {},
     "output_type": "display_data"
    },
    {
     "data": {
      "text/html": [
       "<pre>recommendations finished on 122000/506003 queries. users per second: 413.053</pre>"
      ],
      "text/plain": [
       "recommendations finished on 122000/506003 queries. users per second: 413.053"
      ]
     },
     "metadata": {},
     "output_type": "display_data"
    },
    {
     "data": {
      "text/html": [
       "<pre>recommendations finished on 123000/506003 queries. users per second: 413.076</pre>"
      ],
      "text/plain": [
       "recommendations finished on 123000/506003 queries. users per second: 413.076"
      ]
     },
     "metadata": {},
     "output_type": "display_data"
    },
    {
     "data": {
      "text/html": [
       "<pre>recommendations finished on 124000/506003 queries. users per second: 413.156</pre>"
      ],
      "text/plain": [
       "recommendations finished on 124000/506003 queries. users per second: 413.156"
      ]
     },
     "metadata": {},
     "output_type": "display_data"
    },
    {
     "data": {
      "text/html": [
       "<pre>recommendations finished on 125000/506003 queries. users per second: 413.187</pre>"
      ],
      "text/plain": [
       "recommendations finished on 125000/506003 queries. users per second: 413.187"
      ]
     },
     "metadata": {},
     "output_type": "display_data"
    },
    {
     "data": {
      "text/html": [
       "<pre>recommendations finished on 126000/506003 queries. users per second: 413.236</pre>"
      ],
      "text/plain": [
       "recommendations finished on 126000/506003 queries. users per second: 413.236"
      ]
     },
     "metadata": {},
     "output_type": "display_data"
    },
    {
     "data": {
      "text/html": [
       "<pre>recommendations finished on 127000/506003 queries. users per second: 413.285</pre>"
      ],
      "text/plain": [
       "recommendations finished on 127000/506003 queries. users per second: 413.285"
      ]
     },
     "metadata": {},
     "output_type": "display_data"
    },
    {
     "data": {
      "text/html": [
       "<pre>recommendations finished on 128000/506003 queries. users per second: 413.331</pre>"
      ],
      "text/plain": [
       "recommendations finished on 128000/506003 queries. users per second: 413.331"
      ]
     },
     "metadata": {},
     "output_type": "display_data"
    },
    {
     "data": {
      "text/html": [
       "<pre>recommendations finished on 129000/506003 queries. users per second: 413.344</pre>"
      ],
      "text/plain": [
       "recommendations finished on 129000/506003 queries. users per second: 413.344"
      ]
     },
     "metadata": {},
     "output_type": "display_data"
    },
    {
     "data": {
      "text/html": [
       "<pre>recommendations finished on 130000/506003 queries. users per second: 413.354</pre>"
      ],
      "text/plain": [
       "recommendations finished on 130000/506003 queries. users per second: 413.354"
      ]
     },
     "metadata": {},
     "output_type": "display_data"
    },
    {
     "data": {
      "text/html": [
       "<pre>recommendations finished on 131000/506003 queries. users per second: 413.442</pre>"
      ],
      "text/plain": [
       "recommendations finished on 131000/506003 queries. users per second: 413.442"
      ]
     },
     "metadata": {},
     "output_type": "display_data"
    },
    {
     "data": {
      "text/html": [
       "<pre>recommendations finished on 132000/506003 queries. users per second: 413.446</pre>"
      ],
      "text/plain": [
       "recommendations finished on 132000/506003 queries. users per second: 413.446"
      ]
     },
     "metadata": {},
     "output_type": "display_data"
    },
    {
     "data": {
      "text/html": [
       "<pre>recommendations finished on 133000/506003 queries. users per second: 413.517</pre>"
      ],
      "text/plain": [
       "recommendations finished on 133000/506003 queries. users per second: 413.517"
      ]
     },
     "metadata": {},
     "output_type": "display_data"
    },
    {
     "data": {
      "text/html": [
       "<pre>recommendations finished on 134000/506003 queries. users per second: 413.526</pre>"
      ],
      "text/plain": [
       "recommendations finished on 134000/506003 queries. users per second: 413.526"
      ]
     },
     "metadata": {},
     "output_type": "display_data"
    },
    {
     "data": {
      "text/html": [
       "<pre>recommendations finished on 135000/506003 queries. users per second: 413.595</pre>"
      ],
      "text/plain": [
       "recommendations finished on 135000/506003 queries. users per second: 413.595"
      ]
     },
     "metadata": {},
     "output_type": "display_data"
    },
    {
     "data": {
      "text/html": [
       "<pre>recommendations finished on 136000/506003 queries. users per second: 413.591</pre>"
      ],
      "text/plain": [
       "recommendations finished on 136000/506003 queries. users per second: 413.591"
      ]
     },
     "metadata": {},
     "output_type": "display_data"
    },
    {
     "data": {
      "text/html": [
       "<pre>recommendations finished on 137000/506003 queries. users per second: 413.59</pre>"
      ],
      "text/plain": [
       "recommendations finished on 137000/506003 queries. users per second: 413.59"
      ]
     },
     "metadata": {},
     "output_type": "display_data"
    },
    {
     "data": {
      "text/html": [
       "<pre>recommendations finished on 138000/506003 queries. users per second: 413.65</pre>"
      ],
      "text/plain": [
       "recommendations finished on 138000/506003 queries. users per second: 413.65"
      ]
     },
     "metadata": {},
     "output_type": "display_data"
    },
    {
     "data": {
      "text/html": [
       "<pre>recommendations finished on 139000/506003 queries. users per second: 413.553</pre>"
      ],
      "text/plain": [
       "recommendations finished on 139000/506003 queries. users per second: 413.553"
      ]
     },
     "metadata": {},
     "output_type": "display_data"
    },
    {
     "data": {
      "text/html": [
       "<pre>recommendations finished on 140000/506003 queries. users per second: 413.493</pre>"
      ],
      "text/plain": [
       "recommendations finished on 140000/506003 queries. users per second: 413.493"
      ]
     },
     "metadata": {},
     "output_type": "display_data"
    },
    {
     "data": {
      "text/html": [
       "<pre>recommendations finished on 141000/506003 queries. users per second: 413.511</pre>"
      ],
      "text/plain": [
       "recommendations finished on 141000/506003 queries. users per second: 413.511"
      ]
     },
     "metadata": {},
     "output_type": "display_data"
    },
    {
     "data": {
      "text/html": [
       "<pre>recommendations finished on 142000/506003 queries. users per second: 413.558</pre>"
      ],
      "text/plain": [
       "recommendations finished on 142000/506003 queries. users per second: 413.558"
      ]
     },
     "metadata": {},
     "output_type": "display_data"
    },
    {
     "data": {
      "text/html": [
       "<pre>recommendations finished on 143000/506003 queries. users per second: 413.612</pre>"
      ],
      "text/plain": [
       "recommendations finished on 143000/506003 queries. users per second: 413.612"
      ]
     },
     "metadata": {},
     "output_type": "display_data"
    },
    {
     "data": {
      "text/html": [
       "<pre>recommendations finished on 144000/506003 queries. users per second: 413.638</pre>"
      ],
      "text/plain": [
       "recommendations finished on 144000/506003 queries. users per second: 413.638"
      ]
     },
     "metadata": {},
     "output_type": "display_data"
    },
    {
     "data": {
      "text/html": [
       "<pre>recommendations finished on 145000/506003 queries. users per second: 413.689</pre>"
      ],
      "text/plain": [
       "recommendations finished on 145000/506003 queries. users per second: 413.689"
      ]
     },
     "metadata": {},
     "output_type": "display_data"
    },
    {
     "data": {
      "text/html": [
       "<pre>recommendations finished on 146000/506003 queries. users per second: 413.735</pre>"
      ],
      "text/plain": [
       "recommendations finished on 146000/506003 queries. users per second: 413.735"
      ]
     },
     "metadata": {},
     "output_type": "display_data"
    },
    {
     "data": {
      "text/html": [
       "<pre>recommendations finished on 147000/506003 queries. users per second: 413.725</pre>"
      ],
      "text/plain": [
       "recommendations finished on 147000/506003 queries. users per second: 413.725"
      ]
     },
     "metadata": {},
     "output_type": "display_data"
    },
    {
     "data": {
      "text/html": [
       "<pre>recommendations finished on 148000/506003 queries. users per second: 413.768</pre>"
      ],
      "text/plain": [
       "recommendations finished on 148000/506003 queries. users per second: 413.768"
      ]
     },
     "metadata": {},
     "output_type": "display_data"
    },
    {
     "data": {
      "text/html": [
       "<pre>recommendations finished on 149000/506003 queries. users per second: 413.814</pre>"
      ],
      "text/plain": [
       "recommendations finished on 149000/506003 queries. users per second: 413.814"
      ]
     },
     "metadata": {},
     "output_type": "display_data"
    },
    {
     "data": {
      "text/html": [
       "<pre>recommendations finished on 150000/506003 queries. users per second: 413.856</pre>"
      ],
      "text/plain": [
       "recommendations finished on 150000/506003 queries. users per second: 413.856"
      ]
     },
     "metadata": {},
     "output_type": "display_data"
    },
    {
     "data": {
      "text/html": [
       "<pre>recommendations finished on 151000/506003 queries. users per second: 413.882</pre>"
      ],
      "text/plain": [
       "recommendations finished on 151000/506003 queries. users per second: 413.882"
      ]
     },
     "metadata": {},
     "output_type": "display_data"
    },
    {
     "data": {
      "text/html": [
       "<pre>recommendations finished on 152000/506003 queries. users per second: 413.669</pre>"
      ],
      "text/plain": [
       "recommendations finished on 152000/506003 queries. users per second: 413.669"
      ]
     },
     "metadata": {},
     "output_type": "display_data"
    },
    {
     "data": {
      "text/html": [
       "<pre>recommendations finished on 153000/506003 queries. users per second: 413.73</pre>"
      ],
      "text/plain": [
       "recommendations finished on 153000/506003 queries. users per second: 413.73"
      ]
     },
     "metadata": {},
     "output_type": "display_data"
    },
    {
     "data": {
      "text/html": [
       "<pre>recommendations finished on 154000/506003 queries. users per second: 413.781</pre>"
      ],
      "text/plain": [
       "recommendations finished on 154000/506003 queries. users per second: 413.781"
      ]
     },
     "metadata": {},
     "output_type": "display_data"
    },
    {
     "data": {
      "text/html": [
       "<pre>recommendations finished on 155000/506003 queries. users per second: 413.793</pre>"
      ],
      "text/plain": [
       "recommendations finished on 155000/506003 queries. users per second: 413.793"
      ]
     },
     "metadata": {},
     "output_type": "display_data"
    },
    {
     "data": {
      "text/html": [
       "<pre>recommendations finished on 156000/506003 queries. users per second: 413.838</pre>"
      ],
      "text/plain": [
       "recommendations finished on 156000/506003 queries. users per second: 413.838"
      ]
     },
     "metadata": {},
     "output_type": "display_data"
    },
    {
     "data": {
      "text/html": [
       "<pre>recommendations finished on 157000/506003 queries. users per second: 413.885</pre>"
      ],
      "text/plain": [
       "recommendations finished on 157000/506003 queries. users per second: 413.885"
      ]
     },
     "metadata": {},
     "output_type": "display_data"
    },
    {
     "data": {
      "text/html": [
       "<pre>recommendations finished on 158000/506003 queries. users per second: 413.935</pre>"
      ],
      "text/plain": [
       "recommendations finished on 158000/506003 queries. users per second: 413.935"
      ]
     },
     "metadata": {},
     "output_type": "display_data"
    },
    {
     "data": {
      "text/html": [
       "<pre>recommendations finished on 159000/506003 queries. users per second: 413.986</pre>"
      ],
      "text/plain": [
       "recommendations finished on 159000/506003 queries. users per second: 413.986"
      ]
     },
     "metadata": {},
     "output_type": "display_data"
    },
    {
     "data": {
      "text/html": [
       "<pre>recommendations finished on 160000/506003 queries. users per second: 414.051</pre>"
      ],
      "text/plain": [
       "recommendations finished on 160000/506003 queries. users per second: 414.051"
      ]
     },
     "metadata": {},
     "output_type": "display_data"
    },
    {
     "data": {
      "text/html": [
       "<pre>recommendations finished on 161000/506003 queries. users per second: 413.956</pre>"
      ],
      "text/plain": [
       "recommendations finished on 161000/506003 queries. users per second: 413.956"
      ]
     },
     "metadata": {},
     "output_type": "display_data"
    },
    {
     "data": {
      "text/html": [
       "<pre>recommendations finished on 162000/506003 queries. users per second: 413.76</pre>"
      ],
      "text/plain": [
       "recommendations finished on 162000/506003 queries. users per second: 413.76"
      ]
     },
     "metadata": {},
     "output_type": "display_data"
    },
    {
     "data": {
      "text/html": [
       "<pre>recommendations finished on 163000/506003 queries. users per second: 413.774</pre>"
      ],
      "text/plain": [
       "recommendations finished on 163000/506003 queries. users per second: 413.774"
      ]
     },
     "metadata": {},
     "output_type": "display_data"
    },
    {
     "data": {
      "text/html": [
       "<pre>recommendations finished on 164000/506003 queries. users per second: 413.824</pre>"
      ],
      "text/plain": [
       "recommendations finished on 164000/506003 queries. users per second: 413.824"
      ]
     },
     "metadata": {},
     "output_type": "display_data"
    },
    {
     "data": {
      "text/html": [
       "<pre>recommendations finished on 165000/506003 queries. users per second: 413.846</pre>"
      ],
      "text/plain": [
       "recommendations finished on 165000/506003 queries. users per second: 413.846"
      ]
     },
     "metadata": {},
     "output_type": "display_data"
    },
    {
     "data": {
      "text/html": [
       "<pre>recommendations finished on 166000/506003 queries. users per second: 413.873</pre>"
      ],
      "text/plain": [
       "recommendations finished on 166000/506003 queries. users per second: 413.873"
      ]
     },
     "metadata": {},
     "output_type": "display_data"
    },
    {
     "data": {
      "text/html": [
       "<pre>recommendations finished on 167000/506003 queries. users per second: 413.821</pre>"
      ],
      "text/plain": [
       "recommendations finished on 167000/506003 queries. users per second: 413.821"
      ]
     },
     "metadata": {},
     "output_type": "display_data"
    },
    {
     "data": {
      "text/html": [
       "<pre>recommendations finished on 168000/506003 queries. users per second: 413.861</pre>"
      ],
      "text/plain": [
       "recommendations finished on 168000/506003 queries. users per second: 413.861"
      ]
     },
     "metadata": {},
     "output_type": "display_data"
    },
    {
     "data": {
      "text/html": [
       "<pre>recommendations finished on 169000/506003 queries. users per second: 413.937</pre>"
      ],
      "text/plain": [
       "recommendations finished on 169000/506003 queries. users per second: 413.937"
      ]
     },
     "metadata": {},
     "output_type": "display_data"
    },
    {
     "data": {
      "text/html": [
       "<pre>recommendations finished on 170000/506003 queries. users per second: 413.985</pre>"
      ],
      "text/plain": [
       "recommendations finished on 170000/506003 queries. users per second: 413.985"
      ]
     },
     "metadata": {},
     "output_type": "display_data"
    },
    {
     "data": {
      "text/html": [
       "<pre>recommendations finished on 171000/506003 queries. users per second: 413.852</pre>"
      ],
      "text/plain": [
       "recommendations finished on 171000/506003 queries. users per second: 413.852"
      ]
     },
     "metadata": {},
     "output_type": "display_data"
    },
    {
     "data": {
      "text/html": [
       "<pre>recommendations finished on 172000/506003 queries. users per second: 413.764</pre>"
      ],
      "text/plain": [
       "recommendations finished on 172000/506003 queries. users per second: 413.764"
      ]
     },
     "metadata": {},
     "output_type": "display_data"
    },
    {
     "data": {
      "text/html": [
       "<pre>recommendations finished on 173000/506003 queries. users per second: 413.785</pre>"
      ],
      "text/plain": [
       "recommendations finished on 173000/506003 queries. users per second: 413.785"
      ]
     },
     "metadata": {},
     "output_type": "display_data"
    },
    {
     "data": {
      "text/html": [
       "<pre>recommendations finished on 174000/506003 queries. users per second: 413.774</pre>"
      ],
      "text/plain": [
       "recommendations finished on 174000/506003 queries. users per second: 413.774"
      ]
     },
     "metadata": {},
     "output_type": "display_data"
    },
    {
     "data": {
      "text/html": [
       "<pre>recommendations finished on 175000/506003 queries. users per second: 413.83</pre>"
      ],
      "text/plain": [
       "recommendations finished on 175000/506003 queries. users per second: 413.83"
      ]
     },
     "metadata": {},
     "output_type": "display_data"
    },
    {
     "data": {
      "text/html": [
       "<pre>recommendations finished on 176000/506003 queries. users per second: 413.853</pre>"
      ],
      "text/plain": [
       "recommendations finished on 176000/506003 queries. users per second: 413.853"
      ]
     },
     "metadata": {},
     "output_type": "display_data"
    },
    {
     "data": {
      "text/html": [
       "<pre>recommendations finished on 177000/506003 queries. users per second: 413.934</pre>"
      ],
      "text/plain": [
       "recommendations finished on 177000/506003 queries. users per second: 413.934"
      ]
     },
     "metadata": {},
     "output_type": "display_data"
    },
    {
     "data": {
      "text/html": [
       "<pre>recommendations finished on 178000/506003 queries. users per second: 413.952</pre>"
      ],
      "text/plain": [
       "recommendations finished on 178000/506003 queries. users per second: 413.952"
      ]
     },
     "metadata": {},
     "output_type": "display_data"
    },
    {
     "data": {
      "text/html": [
       "<pre>recommendations finished on 179000/506003 queries. users per second: 413.99</pre>"
      ],
      "text/plain": [
       "recommendations finished on 179000/506003 queries. users per second: 413.99"
      ]
     },
     "metadata": {},
     "output_type": "display_data"
    },
    {
     "data": {
      "text/html": [
       "<pre>recommendations finished on 180000/506003 queries. users per second: 414.015</pre>"
      ],
      "text/plain": [
       "recommendations finished on 180000/506003 queries. users per second: 414.015"
      ]
     },
     "metadata": {},
     "output_type": "display_data"
    },
    {
     "data": {
      "text/html": [
       "<pre>recommendations finished on 181000/506003 queries. users per second: 414.061</pre>"
      ],
      "text/plain": [
       "recommendations finished on 181000/506003 queries. users per second: 414.061"
      ]
     },
     "metadata": {},
     "output_type": "display_data"
    },
    {
     "data": {
      "text/html": [
       "<pre>recommendations finished on 182000/506003 queries. users per second: 414.093</pre>"
      ],
      "text/plain": [
       "recommendations finished on 182000/506003 queries. users per second: 414.093"
      ]
     },
     "metadata": {},
     "output_type": "display_data"
    },
    {
     "data": {
      "text/html": [
       "<pre>recommendations finished on 183000/506003 queries. users per second: 414.096</pre>"
      ],
      "text/plain": [
       "recommendations finished on 183000/506003 queries. users per second: 414.096"
      ]
     },
     "metadata": {},
     "output_type": "display_data"
    },
    {
     "data": {
      "text/html": [
       "<pre>recommendations finished on 184000/506003 queries. users per second: 414.118</pre>"
      ],
      "text/plain": [
       "recommendations finished on 184000/506003 queries. users per second: 414.118"
      ]
     },
     "metadata": {},
     "output_type": "display_data"
    },
    {
     "data": {
      "text/html": [
       "<pre>recommendations finished on 185000/506003 queries. users per second: 414.125</pre>"
      ],
      "text/plain": [
       "recommendations finished on 185000/506003 queries. users per second: 414.125"
      ]
     },
     "metadata": {},
     "output_type": "display_data"
    },
    {
     "data": {
      "text/html": [
       "<pre>recommendations finished on 186000/506003 queries. users per second: 414.132</pre>"
      ],
      "text/plain": [
       "recommendations finished on 186000/506003 queries. users per second: 414.132"
      ]
     },
     "metadata": {},
     "output_type": "display_data"
    },
    {
     "data": {
      "text/html": [
       "<pre>recommendations finished on 187000/506003 queries. users per second: 414.187</pre>"
      ],
      "text/plain": [
       "recommendations finished on 187000/506003 queries. users per second: 414.187"
      ]
     },
     "metadata": {},
     "output_type": "display_data"
    },
    {
     "data": {
      "text/html": [
       "<pre>recommendations finished on 188000/506003 queries. users per second: 414.256</pre>"
      ],
      "text/plain": [
       "recommendations finished on 188000/506003 queries. users per second: 414.256"
      ]
     },
     "metadata": {},
     "output_type": "display_data"
    },
    {
     "data": {
      "text/html": [
       "<pre>recommendations finished on 189000/506003 queries. users per second: 414.018</pre>"
      ],
      "text/plain": [
       "recommendations finished on 189000/506003 queries. users per second: 414.018"
      ]
     },
     "metadata": {},
     "output_type": "display_data"
    },
    {
     "data": {
      "text/html": [
       "<pre>recommendations finished on 190000/506003 queries. users per second: 413.619</pre>"
      ],
      "text/plain": [
       "recommendations finished on 190000/506003 queries. users per second: 413.619"
      ]
     },
     "metadata": {},
     "output_type": "display_data"
    },
    {
     "data": {
      "text/html": [
       "<pre>recommendations finished on 191000/506003 queries. users per second: 413.613</pre>"
      ],
      "text/plain": [
       "recommendations finished on 191000/506003 queries. users per second: 413.613"
      ]
     },
     "metadata": {},
     "output_type": "display_data"
    },
    {
     "data": {
      "text/html": [
       "<pre>recommendations finished on 192000/506003 queries. users per second: 413.665</pre>"
      ],
      "text/plain": [
       "recommendations finished on 192000/506003 queries. users per second: 413.665"
      ]
     },
     "metadata": {},
     "output_type": "display_data"
    },
    {
     "data": {
      "text/html": [
       "<pre>recommendations finished on 193000/506003 queries. users per second: 413.675</pre>"
      ],
      "text/plain": [
       "recommendations finished on 193000/506003 queries. users per second: 413.675"
      ]
     },
     "metadata": {},
     "output_type": "display_data"
    },
    {
     "data": {
      "text/html": [
       "<pre>recommendations finished on 194000/506003 queries. users per second: 413.677</pre>"
      ],
      "text/plain": [
       "recommendations finished on 194000/506003 queries. users per second: 413.677"
      ]
     },
     "metadata": {},
     "output_type": "display_data"
    },
    {
     "data": {
      "text/html": [
       "<pre>recommendations finished on 195000/506003 queries. users per second: 413.725</pre>"
      ],
      "text/plain": [
       "recommendations finished on 195000/506003 queries. users per second: 413.725"
      ]
     },
     "metadata": {},
     "output_type": "display_data"
    },
    {
     "data": {
      "text/html": [
       "<pre>recommendations finished on 196000/506003 queries. users per second: 413.759</pre>"
      ],
      "text/plain": [
       "recommendations finished on 196000/506003 queries. users per second: 413.759"
      ]
     },
     "metadata": {},
     "output_type": "display_data"
    },
    {
     "data": {
      "text/html": [
       "<pre>recommendations finished on 197000/506003 queries. users per second: 413.755</pre>"
      ],
      "text/plain": [
       "recommendations finished on 197000/506003 queries. users per second: 413.755"
      ]
     },
     "metadata": {},
     "output_type": "display_data"
    },
    {
     "data": {
      "text/html": [
       "<pre>recommendations finished on 198000/506003 queries. users per second: 413.781</pre>"
      ],
      "text/plain": [
       "recommendations finished on 198000/506003 queries. users per second: 413.781"
      ]
     },
     "metadata": {},
     "output_type": "display_data"
    },
    {
     "data": {
      "text/html": [
       "<pre>recommendations finished on 199000/506003 queries. users per second: 413.794</pre>"
      ],
      "text/plain": [
       "recommendations finished on 199000/506003 queries. users per second: 413.794"
      ]
     },
     "metadata": {},
     "output_type": "display_data"
    },
    {
     "data": {
      "text/html": [
       "<pre>recommendations finished on 200000/506003 queries. users per second: 413.822</pre>"
      ],
      "text/plain": [
       "recommendations finished on 200000/506003 queries. users per second: 413.822"
      ]
     },
     "metadata": {},
     "output_type": "display_data"
    },
    {
     "data": {
      "text/html": [
       "<pre>recommendations finished on 201000/506003 queries. users per second: 413.858</pre>"
      ],
      "text/plain": [
       "recommendations finished on 201000/506003 queries. users per second: 413.858"
      ]
     },
     "metadata": {},
     "output_type": "display_data"
    },
    {
     "data": {
      "text/html": [
       "<pre>recommendations finished on 202000/506003 queries. users per second: 413.885</pre>"
      ],
      "text/plain": [
       "recommendations finished on 202000/506003 queries. users per second: 413.885"
      ]
     },
     "metadata": {},
     "output_type": "display_data"
    },
    {
     "data": {
      "text/html": [
       "<pre>recommendations finished on 203000/506003 queries. users per second: 413.94</pre>"
      ],
      "text/plain": [
       "recommendations finished on 203000/506003 queries. users per second: 413.94"
      ]
     },
     "metadata": {},
     "output_type": "display_data"
    },
    {
     "data": {
      "text/html": [
       "<pre>recommendations finished on 204000/506003 queries. users per second: 413.94</pre>"
      ],
      "text/plain": [
       "recommendations finished on 204000/506003 queries. users per second: 413.94"
      ]
     },
     "metadata": {},
     "output_type": "display_data"
    },
    {
     "data": {
      "text/html": [
       "<pre>recommendations finished on 205000/506003 queries. users per second: 413.971</pre>"
      ],
      "text/plain": [
       "recommendations finished on 205000/506003 queries. users per second: 413.971"
      ]
     },
     "metadata": {},
     "output_type": "display_data"
    },
    {
     "data": {
      "text/html": [
       "<pre>recommendations finished on 206000/506003 queries. users per second: 414.014</pre>"
      ],
      "text/plain": [
       "recommendations finished on 206000/506003 queries. users per second: 414.014"
      ]
     },
     "metadata": {},
     "output_type": "display_data"
    },
    {
     "data": {
      "text/html": [
       "<pre>recommendations finished on 207000/506003 queries. users per second: 414.023</pre>"
      ],
      "text/plain": [
       "recommendations finished on 207000/506003 queries. users per second: 414.023"
      ]
     },
     "metadata": {},
     "output_type": "display_data"
    },
    {
     "data": {
      "text/html": [
       "<pre>recommendations finished on 208000/506003 queries. users per second: 414.032</pre>"
      ],
      "text/plain": [
       "recommendations finished on 208000/506003 queries. users per second: 414.032"
      ]
     },
     "metadata": {},
     "output_type": "display_data"
    },
    {
     "data": {
      "text/html": [
       "<pre>recommendations finished on 209000/506003 queries. users per second: 414.046</pre>"
      ],
      "text/plain": [
       "recommendations finished on 209000/506003 queries. users per second: 414.046"
      ]
     },
     "metadata": {},
     "output_type": "display_data"
    },
    {
     "data": {
      "text/html": [
       "<pre>recommendations finished on 210000/506003 queries. users per second: 414.082</pre>"
      ],
      "text/plain": [
       "recommendations finished on 210000/506003 queries. users per second: 414.082"
      ]
     },
     "metadata": {},
     "output_type": "display_data"
    },
    {
     "data": {
      "text/html": [
       "<pre>recommendations finished on 211000/506003 queries. users per second: 414.127</pre>"
      ],
      "text/plain": [
       "recommendations finished on 211000/506003 queries. users per second: 414.127"
      ]
     },
     "metadata": {},
     "output_type": "display_data"
    },
    {
     "data": {
      "text/html": [
       "<pre>recommendations finished on 212000/506003 queries. users per second: 414.156</pre>"
      ],
      "text/plain": [
       "recommendations finished on 212000/506003 queries. users per second: 414.156"
      ]
     },
     "metadata": {},
     "output_type": "display_data"
    },
    {
     "data": {
      "text/html": [
       "<pre>recommendations finished on 213000/506003 queries. users per second: 414.197</pre>"
      ],
      "text/plain": [
       "recommendations finished on 213000/506003 queries. users per second: 414.197"
      ]
     },
     "metadata": {},
     "output_type": "display_data"
    },
    {
     "data": {
      "text/html": [
       "<pre>recommendations finished on 214000/506003 queries. users per second: 414.239</pre>"
      ],
      "text/plain": [
       "recommendations finished on 214000/506003 queries. users per second: 414.239"
      ]
     },
     "metadata": {},
     "output_type": "display_data"
    },
    {
     "data": {
      "text/html": [
       "<pre>recommendations finished on 215000/506003 queries. users per second: 414.261</pre>"
      ],
      "text/plain": [
       "recommendations finished on 215000/506003 queries. users per second: 414.261"
      ]
     },
     "metadata": {},
     "output_type": "display_data"
    },
    {
     "data": {
      "text/html": [
       "<pre>recommendations finished on 216000/506003 queries. users per second: 414.274</pre>"
      ],
      "text/plain": [
       "recommendations finished on 216000/506003 queries. users per second: 414.274"
      ]
     },
     "metadata": {},
     "output_type": "display_data"
    },
    {
     "data": {
      "text/html": [
       "<pre>recommendations finished on 217000/506003 queries. users per second: 414.255</pre>"
      ],
      "text/plain": [
       "recommendations finished on 217000/506003 queries. users per second: 414.255"
      ]
     },
     "metadata": {},
     "output_type": "display_data"
    },
    {
     "data": {
      "text/html": [
       "<pre>recommendations finished on 218000/506003 queries. users per second: 414.245</pre>"
      ],
      "text/plain": [
       "recommendations finished on 218000/506003 queries. users per second: 414.245"
      ]
     },
     "metadata": {},
     "output_type": "display_data"
    },
    {
     "data": {
      "text/html": [
       "<pre>recommendations finished on 219000/506003 queries. users per second: 414.275</pre>"
      ],
      "text/plain": [
       "recommendations finished on 219000/506003 queries. users per second: 414.275"
      ]
     },
     "metadata": {},
     "output_type": "display_data"
    },
    {
     "data": {
      "text/html": [
       "<pre>recommendations finished on 220000/506003 queries. users per second: 414.3</pre>"
      ],
      "text/plain": [
       "recommendations finished on 220000/506003 queries. users per second: 414.3"
      ]
     },
     "metadata": {},
     "output_type": "display_data"
    },
    {
     "data": {
      "text/html": [
       "<pre>recommendations finished on 221000/506003 queries. users per second: 414.318</pre>"
      ],
      "text/plain": [
       "recommendations finished on 221000/506003 queries. users per second: 414.318"
      ]
     },
     "metadata": {},
     "output_type": "display_data"
    },
    {
     "data": {
      "text/html": [
       "<pre>recommendations finished on 222000/506003 queries. users per second: 414.358</pre>"
      ],
      "text/plain": [
       "recommendations finished on 222000/506003 queries. users per second: 414.358"
      ]
     },
     "metadata": {},
     "output_type": "display_data"
    },
    {
     "data": {
      "text/html": [
       "<pre>recommendations finished on 223000/506003 queries. users per second: 414.378</pre>"
      ],
      "text/plain": [
       "recommendations finished on 223000/506003 queries. users per second: 414.378"
      ]
     },
     "metadata": {},
     "output_type": "display_data"
    },
    {
     "data": {
      "text/html": [
       "<pre>recommendations finished on 224000/506003 queries. users per second: 414.427</pre>"
      ],
      "text/plain": [
       "recommendations finished on 224000/506003 queries. users per second: 414.427"
      ]
     },
     "metadata": {},
     "output_type": "display_data"
    },
    {
     "data": {
      "text/html": [
       "<pre>recommendations finished on 225000/506003 queries. users per second: 414.504</pre>"
      ],
      "text/plain": [
       "recommendations finished on 225000/506003 queries. users per second: 414.504"
      ]
     },
     "metadata": {},
     "output_type": "display_data"
    },
    {
     "data": {
      "text/html": [
       "<pre>recommendations finished on 226000/506003 queries. users per second: 414.563</pre>"
      ],
      "text/plain": [
       "recommendations finished on 226000/506003 queries. users per second: 414.563"
      ]
     },
     "metadata": {},
     "output_type": "display_data"
    },
    {
     "data": {
      "text/html": [
       "<pre>recommendations finished on 227000/506003 queries. users per second: 414.588</pre>"
      ],
      "text/plain": [
       "recommendations finished on 227000/506003 queries. users per second: 414.588"
      ]
     },
     "metadata": {},
     "output_type": "display_data"
    },
    {
     "data": {
      "text/html": [
       "<pre>recommendations finished on 228000/506003 queries. users per second: 414.608</pre>"
      ],
      "text/plain": [
       "recommendations finished on 228000/506003 queries. users per second: 414.608"
      ]
     },
     "metadata": {},
     "output_type": "display_data"
    },
    {
     "data": {
      "text/html": [
       "<pre>recommendations finished on 229000/506003 queries. users per second: 414.616</pre>"
      ],
      "text/plain": [
       "recommendations finished on 229000/506003 queries. users per second: 414.616"
      ]
     },
     "metadata": {},
     "output_type": "display_data"
    },
    {
     "data": {
      "text/html": [
       "<pre>recommendations finished on 230000/506003 queries. users per second: 414.431</pre>"
      ],
      "text/plain": [
       "recommendations finished on 230000/506003 queries. users per second: 414.431"
      ]
     },
     "metadata": {},
     "output_type": "display_data"
    },
    {
     "data": {
      "text/html": [
       "<pre>recommendations finished on 231000/506003 queries. users per second: 414.476</pre>"
      ],
      "text/plain": [
       "recommendations finished on 231000/506003 queries. users per second: 414.476"
      ]
     },
     "metadata": {},
     "output_type": "display_data"
    },
    {
     "data": {
      "text/html": [
       "<pre>recommendations finished on 232000/506003 queries. users per second: 414.483</pre>"
      ],
      "text/plain": [
       "recommendations finished on 232000/506003 queries. users per second: 414.483"
      ]
     },
     "metadata": {},
     "output_type": "display_data"
    },
    {
     "data": {
      "text/html": [
       "<pre>recommendations finished on 233000/506003 queries. users per second: 414.493</pre>"
      ],
      "text/plain": [
       "recommendations finished on 233000/506003 queries. users per second: 414.493"
      ]
     },
     "metadata": {},
     "output_type": "display_data"
    },
    {
     "data": {
      "text/html": [
       "<pre>recommendations finished on 234000/506003 queries. users per second: 414.502</pre>"
      ],
      "text/plain": [
       "recommendations finished on 234000/506003 queries. users per second: 414.502"
      ]
     },
     "metadata": {},
     "output_type": "display_data"
    },
    {
     "data": {
      "text/html": [
       "<pre>recommendations finished on 235000/506003 queries. users per second: 414.522</pre>"
      ],
      "text/plain": [
       "recommendations finished on 235000/506003 queries. users per second: 414.522"
      ]
     },
     "metadata": {},
     "output_type": "display_data"
    },
    {
     "data": {
      "text/html": [
       "<pre>recommendations finished on 236000/506003 queries. users per second: 414.538</pre>"
      ],
      "text/plain": [
       "recommendations finished on 236000/506003 queries. users per second: 414.538"
      ]
     },
     "metadata": {},
     "output_type": "display_data"
    },
    {
     "data": {
      "text/html": [
       "<pre>recommendations finished on 237000/506003 queries. users per second: 414.577</pre>"
      ],
      "text/plain": [
       "recommendations finished on 237000/506003 queries. users per second: 414.577"
      ]
     },
     "metadata": {},
     "output_type": "display_data"
    },
    {
     "data": {
      "text/html": [
       "<pre>recommendations finished on 238000/506003 queries. users per second: 414.599</pre>"
      ],
      "text/plain": [
       "recommendations finished on 238000/506003 queries. users per second: 414.599"
      ]
     },
     "metadata": {},
     "output_type": "display_data"
    },
    {
     "data": {
      "text/html": [
       "<pre>recommendations finished on 239000/506003 queries. users per second: 414.475</pre>"
      ],
      "text/plain": [
       "recommendations finished on 239000/506003 queries. users per second: 414.475"
      ]
     },
     "metadata": {},
     "output_type": "display_data"
    },
    {
     "data": {
      "text/html": [
       "<pre>recommendations finished on 240000/506003 queries. users per second: 414.482</pre>"
      ],
      "text/plain": [
       "recommendations finished on 240000/506003 queries. users per second: 414.482"
      ]
     },
     "metadata": {},
     "output_type": "display_data"
    },
    {
     "data": {
      "text/html": [
       "<pre>recommendations finished on 241000/506003 queries. users per second: 414.491</pre>"
      ],
      "text/plain": [
       "recommendations finished on 241000/506003 queries. users per second: 414.491"
      ]
     },
     "metadata": {},
     "output_type": "display_data"
    },
    {
     "data": {
      "text/html": [
       "<pre>recommendations finished on 242000/506003 queries. users per second: 414.441</pre>"
      ],
      "text/plain": [
       "recommendations finished on 242000/506003 queries. users per second: 414.441"
      ]
     },
     "metadata": {},
     "output_type": "display_data"
    },
    {
     "data": {
      "text/html": [
       "<pre>recommendations finished on 243000/506003 queries. users per second: 414.402</pre>"
      ],
      "text/plain": [
       "recommendations finished on 243000/506003 queries. users per second: 414.402"
      ]
     },
     "metadata": {},
     "output_type": "display_data"
    },
    {
     "data": {
      "text/html": [
       "<pre>recommendations finished on 244000/506003 queries. users per second: 414.403</pre>"
      ],
      "text/plain": [
       "recommendations finished on 244000/506003 queries. users per second: 414.403"
      ]
     },
     "metadata": {},
     "output_type": "display_data"
    },
    {
     "data": {
      "text/html": [
       "<pre>recommendations finished on 245000/506003 queries. users per second: 414.414</pre>"
      ],
      "text/plain": [
       "recommendations finished on 245000/506003 queries. users per second: 414.414"
      ]
     },
     "metadata": {},
     "output_type": "display_data"
    },
    {
     "data": {
      "text/html": [
       "<pre>recommendations finished on 246000/506003 queries. users per second: 414.458</pre>"
      ],
      "text/plain": [
       "recommendations finished on 246000/506003 queries. users per second: 414.458"
      ]
     },
     "metadata": {},
     "output_type": "display_data"
    },
    {
     "data": {
      "text/html": [
       "<pre>recommendations finished on 247000/506003 queries. users per second: 414.488</pre>"
      ],
      "text/plain": [
       "recommendations finished on 247000/506003 queries. users per second: 414.488"
      ]
     },
     "metadata": {},
     "output_type": "display_data"
    },
    {
     "data": {
      "text/html": [
       "<pre>recommendations finished on 248000/506003 queries. users per second: 414.511</pre>"
      ],
      "text/plain": [
       "recommendations finished on 248000/506003 queries. users per second: 414.511"
      ]
     },
     "metadata": {},
     "output_type": "display_data"
    },
    {
     "data": {
      "text/html": [
       "<pre>recommendations finished on 249000/506003 queries. users per second: 414.518</pre>"
      ],
      "text/plain": [
       "recommendations finished on 249000/506003 queries. users per second: 414.518"
      ]
     },
     "metadata": {},
     "output_type": "display_data"
    },
    {
     "data": {
      "text/html": [
       "<pre>recommendations finished on 250000/506003 queries. users per second: 414.534</pre>"
      ],
      "text/plain": [
       "recommendations finished on 250000/506003 queries. users per second: 414.534"
      ]
     },
     "metadata": {},
     "output_type": "display_data"
    },
    {
     "data": {
      "text/html": [
       "<pre>recommendations finished on 251000/506003 queries. users per second: 414.565</pre>"
      ],
      "text/plain": [
       "recommendations finished on 251000/506003 queries. users per second: 414.565"
      ]
     },
     "metadata": {},
     "output_type": "display_data"
    },
    {
     "data": {
      "text/html": [
       "<pre>recommendations finished on 252000/506003 queries. users per second: 414.59</pre>"
      ],
      "text/plain": [
       "recommendations finished on 252000/506003 queries. users per second: 414.59"
      ]
     },
     "metadata": {},
     "output_type": "display_data"
    },
    {
     "data": {
      "text/html": [
       "<pre>recommendations finished on 253000/506003 queries. users per second: 414.622</pre>"
      ],
      "text/plain": [
       "recommendations finished on 253000/506003 queries. users per second: 414.622"
      ]
     },
     "metadata": {},
     "output_type": "display_data"
    },
    {
     "data": {
      "text/html": [
       "<pre>recommendations finished on 254000/506003 queries. users per second: 414.639</pre>"
      ],
      "text/plain": [
       "recommendations finished on 254000/506003 queries. users per second: 414.639"
      ]
     },
     "metadata": {},
     "output_type": "display_data"
    },
    {
     "data": {
      "text/html": [
       "<pre>recommendations finished on 255000/506003 queries. users per second: 414.641</pre>"
      ],
      "text/plain": [
       "recommendations finished on 255000/506003 queries. users per second: 414.641"
      ]
     },
     "metadata": {},
     "output_type": "display_data"
    },
    {
     "data": {
      "text/html": [
       "<pre>recommendations finished on 256000/506003 queries. users per second: 414.667</pre>"
      ],
      "text/plain": [
       "recommendations finished on 256000/506003 queries. users per second: 414.667"
      ]
     },
     "metadata": {},
     "output_type": "display_data"
    },
    {
     "data": {
      "text/html": [
       "<pre>recommendations finished on 257000/506003 queries. users per second: 414.692</pre>"
      ],
      "text/plain": [
       "recommendations finished on 257000/506003 queries. users per second: 414.692"
      ]
     },
     "metadata": {},
     "output_type": "display_data"
    },
    {
     "data": {
      "text/html": [
       "<pre>recommendations finished on 258000/506003 queries. users per second: 414.714</pre>"
      ],
      "text/plain": [
       "recommendations finished on 258000/506003 queries. users per second: 414.714"
      ]
     },
     "metadata": {},
     "output_type": "display_data"
    },
    {
     "data": {
      "text/html": [
       "<pre>recommendations finished on 259000/506003 queries. users per second: 414.714</pre>"
      ],
      "text/plain": [
       "recommendations finished on 259000/506003 queries. users per second: 414.714"
      ]
     },
     "metadata": {},
     "output_type": "display_data"
    },
    {
     "data": {
      "text/html": [
       "<pre>recommendations finished on 260000/506003 queries. users per second: 414.725</pre>"
      ],
      "text/plain": [
       "recommendations finished on 260000/506003 queries. users per second: 414.725"
      ]
     },
     "metadata": {},
     "output_type": "display_data"
    },
    {
     "data": {
      "text/html": [
       "<pre>recommendations finished on 261000/506003 queries. users per second: 414.747</pre>"
      ],
      "text/plain": [
       "recommendations finished on 261000/506003 queries. users per second: 414.747"
      ]
     },
     "metadata": {},
     "output_type": "display_data"
    },
    {
     "data": {
      "text/html": [
       "<pre>recommendations finished on 262000/506003 queries. users per second: 414.578</pre>"
      ],
      "text/plain": [
       "recommendations finished on 262000/506003 queries. users per second: 414.578"
      ]
     },
     "metadata": {},
     "output_type": "display_data"
    },
    {
     "data": {
      "text/html": [
       "<pre>recommendations finished on 263000/506003 queries. users per second: 414.575</pre>"
      ],
      "text/plain": [
       "recommendations finished on 263000/506003 queries. users per second: 414.575"
      ]
     },
     "metadata": {},
     "output_type": "display_data"
    },
    {
     "data": {
      "text/html": [
       "<pre>recommendations finished on 264000/506003 queries. users per second: 414.47</pre>"
      ],
      "text/plain": [
       "recommendations finished on 264000/506003 queries. users per second: 414.47"
      ]
     },
     "metadata": {},
     "output_type": "display_data"
    },
    {
     "data": {
      "text/html": [
       "<pre>recommendations finished on 265000/506003 queries. users per second: 414.344</pre>"
      ],
      "text/plain": [
       "recommendations finished on 265000/506003 queries. users per second: 414.344"
      ]
     },
     "metadata": {},
     "output_type": "display_data"
    },
    {
     "data": {
      "text/html": [
       "<pre>recommendations finished on 266000/506003 queries. users per second: 414.325</pre>"
      ],
      "text/plain": [
       "recommendations finished on 266000/506003 queries. users per second: 414.325"
      ]
     },
     "metadata": {},
     "output_type": "display_data"
    },
    {
     "data": {
      "text/html": [
       "<pre>recommendations finished on 267000/506003 queries. users per second: 414.181</pre>"
      ],
      "text/plain": [
       "recommendations finished on 267000/506003 queries. users per second: 414.181"
      ]
     },
     "metadata": {},
     "output_type": "display_data"
    },
    {
     "data": {
      "text/html": [
       "<pre>recommendations finished on 268000/506003 queries. users per second: 413.986</pre>"
      ],
      "text/plain": [
       "recommendations finished on 268000/506003 queries. users per second: 413.986"
      ]
     },
     "metadata": {},
     "output_type": "display_data"
    },
    {
     "data": {
      "text/html": [
       "<pre>recommendations finished on 269000/506003 queries. users per second: 413.856</pre>"
      ],
      "text/plain": [
       "recommendations finished on 269000/506003 queries. users per second: 413.856"
      ]
     },
     "metadata": {},
     "output_type": "display_data"
    },
    {
     "data": {
      "text/html": [
       "<pre>recommendations finished on 270000/506003 queries. users per second: 413.694</pre>"
      ],
      "text/plain": [
       "recommendations finished on 270000/506003 queries. users per second: 413.694"
      ]
     },
     "metadata": {},
     "output_type": "display_data"
    },
    {
     "data": {
      "text/html": [
       "<pre>recommendations finished on 271000/506003 queries. users per second: 413.412</pre>"
      ],
      "text/plain": [
       "recommendations finished on 271000/506003 queries. users per second: 413.412"
      ]
     },
     "metadata": {},
     "output_type": "display_data"
    },
    {
     "data": {
      "text/html": [
       "<pre>recommendations finished on 272000/506003 queries. users per second: 413.204</pre>"
      ],
      "text/plain": [
       "recommendations finished on 272000/506003 queries. users per second: 413.204"
      ]
     },
     "metadata": {},
     "output_type": "display_data"
    },
    {
     "data": {
      "text/html": [
       "<pre>recommendations finished on 273000/506003 queries. users per second: 413.039</pre>"
      ],
      "text/plain": [
       "recommendations finished on 273000/506003 queries. users per second: 413.039"
      ]
     },
     "metadata": {},
     "output_type": "display_data"
    },
    {
     "data": {
      "text/html": [
       "<pre>recommendations finished on 274000/506003 queries. users per second: 412.934</pre>"
      ],
      "text/plain": [
       "recommendations finished on 274000/506003 queries. users per second: 412.934"
      ]
     },
     "metadata": {},
     "output_type": "display_data"
    },
    {
     "data": {
      "text/html": [
       "<pre>recommendations finished on 275000/506003 queries. users per second: 412.63</pre>"
      ],
      "text/plain": [
       "recommendations finished on 275000/506003 queries. users per second: 412.63"
      ]
     },
     "metadata": {},
     "output_type": "display_data"
    },
    {
     "data": {
      "text/html": [
       "<pre>recommendations finished on 276000/506003 queries. users per second: 412.027</pre>"
      ],
      "text/plain": [
       "recommendations finished on 276000/506003 queries. users per second: 412.027"
      ]
     },
     "metadata": {},
     "output_type": "display_data"
    },
    {
     "data": {
      "text/html": [
       "<pre>recommendations finished on 277000/506003 queries. users per second: 411.809</pre>"
      ],
      "text/plain": [
       "recommendations finished on 277000/506003 queries. users per second: 411.809"
      ]
     },
     "metadata": {},
     "output_type": "display_data"
    },
    {
     "data": {
      "text/html": [
       "<pre>recommendations finished on 278000/506003 queries. users per second: 411.668</pre>"
      ],
      "text/plain": [
       "recommendations finished on 278000/506003 queries. users per second: 411.668"
      ]
     },
     "metadata": {},
     "output_type": "display_data"
    },
    {
     "data": {
      "text/html": [
       "<pre>recommendations finished on 279000/506003 queries. users per second: 411.467</pre>"
      ],
      "text/plain": [
       "recommendations finished on 279000/506003 queries. users per second: 411.467"
      ]
     },
     "metadata": {},
     "output_type": "display_data"
    },
    {
     "data": {
      "text/html": [
       "<pre>recommendations finished on 280000/506003 queries. users per second: 411.337</pre>"
      ],
      "text/plain": [
       "recommendations finished on 280000/506003 queries. users per second: 411.337"
      ]
     },
     "metadata": {},
     "output_type": "display_data"
    },
    {
     "data": {
      "text/html": [
       "<pre>recommendations finished on 281000/506003 queries. users per second: 411.343</pre>"
      ],
      "text/plain": [
       "recommendations finished on 281000/506003 queries. users per second: 411.343"
      ]
     },
     "metadata": {},
     "output_type": "display_data"
    },
    {
     "data": {
      "text/html": [
       "<pre>recommendations finished on 282000/506003 queries. users per second: 411.384</pre>"
      ],
      "text/plain": [
       "recommendations finished on 282000/506003 queries. users per second: 411.384"
      ]
     },
     "metadata": {},
     "output_type": "display_data"
    },
    {
     "data": {
      "text/html": [
       "<pre>recommendations finished on 283000/506003 queries. users per second: 411.396</pre>"
      ],
      "text/plain": [
       "recommendations finished on 283000/506003 queries. users per second: 411.396"
      ]
     },
     "metadata": {},
     "output_type": "display_data"
    },
    {
     "data": {
      "text/html": [
       "<pre>recommendations finished on 284000/506003 queries. users per second: 411.382</pre>"
      ],
      "text/plain": [
       "recommendations finished on 284000/506003 queries. users per second: 411.382"
      ]
     },
     "metadata": {},
     "output_type": "display_data"
    },
    {
     "data": {
      "text/html": [
       "<pre>recommendations finished on 285000/506003 queries. users per second: 411.408</pre>"
      ],
      "text/plain": [
       "recommendations finished on 285000/506003 queries. users per second: 411.408"
      ]
     },
     "metadata": {},
     "output_type": "display_data"
    },
    {
     "data": {
      "text/html": [
       "<pre>recommendations finished on 286000/506003 queries. users per second: 411.429</pre>"
      ],
      "text/plain": [
       "recommendations finished on 286000/506003 queries. users per second: 411.429"
      ]
     },
     "metadata": {},
     "output_type": "display_data"
    },
    {
     "data": {
      "text/html": [
       "<pre>recommendations finished on 287000/506003 queries. users per second: 411.311</pre>"
      ],
      "text/plain": [
       "recommendations finished on 287000/506003 queries. users per second: 411.311"
      ]
     },
     "metadata": {},
     "output_type": "display_data"
    },
    {
     "data": {
      "text/html": [
       "<pre>recommendations finished on 288000/506003 queries. users per second: 411.27</pre>"
      ],
      "text/plain": [
       "recommendations finished on 288000/506003 queries. users per second: 411.27"
      ]
     },
     "metadata": {},
     "output_type": "display_data"
    },
    {
     "data": {
      "text/html": [
       "<pre>recommendations finished on 289000/506003 queries. users per second: 411.298</pre>"
      ],
      "text/plain": [
       "recommendations finished on 289000/506003 queries. users per second: 411.298"
      ]
     },
     "metadata": {},
     "output_type": "display_data"
    },
    {
     "data": {
      "text/html": [
       "<pre>recommendations finished on 290000/506003 queries. users per second: 411.321</pre>"
      ],
      "text/plain": [
       "recommendations finished on 290000/506003 queries. users per second: 411.321"
      ]
     },
     "metadata": {},
     "output_type": "display_data"
    },
    {
     "data": {
      "text/html": [
       "<pre>recommendations finished on 291000/506003 queries. users per second: 411.326</pre>"
      ],
      "text/plain": [
       "recommendations finished on 291000/506003 queries. users per second: 411.326"
      ]
     },
     "metadata": {},
     "output_type": "display_data"
    },
    {
     "data": {
      "text/html": [
       "<pre>recommendations finished on 292000/506003 queries. users per second: 411.329</pre>"
      ],
      "text/plain": [
       "recommendations finished on 292000/506003 queries. users per second: 411.329"
      ]
     },
     "metadata": {},
     "output_type": "display_data"
    },
    {
     "data": {
      "text/html": [
       "<pre>recommendations finished on 293000/506003 queries. users per second: 411.366</pre>"
      ],
      "text/plain": [
       "recommendations finished on 293000/506003 queries. users per second: 411.366"
      ]
     },
     "metadata": {},
     "output_type": "display_data"
    },
    {
     "data": {
      "text/html": [
       "<pre>recommendations finished on 294000/506003 queries. users per second: 411.416</pre>"
      ],
      "text/plain": [
       "recommendations finished on 294000/506003 queries. users per second: 411.416"
      ]
     },
     "metadata": {},
     "output_type": "display_data"
    },
    {
     "data": {
      "text/html": [
       "<pre>recommendations finished on 295000/506003 queries. users per second: 411.262</pre>"
      ],
      "text/plain": [
       "recommendations finished on 295000/506003 queries. users per second: 411.262"
      ]
     },
     "metadata": {},
     "output_type": "display_data"
    },
    {
     "data": {
      "text/html": [
       "<pre>recommendations finished on 296000/506003 queries. users per second: 411.093</pre>"
      ],
      "text/plain": [
       "recommendations finished on 296000/506003 queries. users per second: 411.093"
      ]
     },
     "metadata": {},
     "output_type": "display_data"
    },
    {
     "data": {
      "text/html": [
       "<pre>recommendations finished on 297000/506003 queries. users per second: 411.136</pre>"
      ],
      "text/plain": [
       "recommendations finished on 297000/506003 queries. users per second: 411.136"
      ]
     },
     "metadata": {},
     "output_type": "display_data"
    },
    {
     "data": {
      "text/html": [
       "<pre>recommendations finished on 298000/506003 queries. users per second: 410.913</pre>"
      ],
      "text/plain": [
       "recommendations finished on 298000/506003 queries. users per second: 410.913"
      ]
     },
     "metadata": {},
     "output_type": "display_data"
    },
    {
     "data": {
      "text/html": [
       "<pre>recommendations finished on 299000/506003 queries. users per second: 410.808</pre>"
      ],
      "text/plain": [
       "recommendations finished on 299000/506003 queries. users per second: 410.808"
      ]
     },
     "metadata": {},
     "output_type": "display_data"
    },
    {
     "data": {
      "text/html": [
       "<pre>recommendations finished on 300000/506003 queries. users per second: 410.799</pre>"
      ],
      "text/plain": [
       "recommendations finished on 300000/506003 queries. users per second: 410.799"
      ]
     },
     "metadata": {},
     "output_type": "display_data"
    },
    {
     "data": {
      "text/html": [
       "<pre>recommendations finished on 301000/506003 queries. users per second: 410.831</pre>"
      ],
      "text/plain": [
       "recommendations finished on 301000/506003 queries. users per second: 410.831"
      ]
     },
     "metadata": {},
     "output_type": "display_data"
    },
    {
     "data": {
      "text/html": [
       "<pre>recommendations finished on 302000/506003 queries. users per second: 410.827</pre>"
      ],
      "text/plain": [
       "recommendations finished on 302000/506003 queries. users per second: 410.827"
      ]
     },
     "metadata": {},
     "output_type": "display_data"
    },
    {
     "data": {
      "text/html": [
       "<pre>recommendations finished on 303000/506003 queries. users per second: 410.768</pre>"
      ],
      "text/plain": [
       "recommendations finished on 303000/506003 queries. users per second: 410.768"
      ]
     },
     "metadata": {},
     "output_type": "display_data"
    },
    {
     "data": {
      "text/html": [
       "<pre>recommendations finished on 304000/506003 queries. users per second: 410.817</pre>"
      ],
      "text/plain": [
       "recommendations finished on 304000/506003 queries. users per second: 410.817"
      ]
     },
     "metadata": {},
     "output_type": "display_data"
    },
    {
     "data": {
      "text/html": [
       "<pre>recommendations finished on 305000/506003 queries. users per second: 410.846</pre>"
      ],
      "text/plain": [
       "recommendations finished on 305000/506003 queries. users per second: 410.846"
      ]
     },
     "metadata": {},
     "output_type": "display_data"
    },
    {
     "data": {
      "text/html": [
       "<pre>recommendations finished on 306000/506003 queries. users per second: 410.866</pre>"
      ],
      "text/plain": [
       "recommendations finished on 306000/506003 queries. users per second: 410.866"
      ]
     },
     "metadata": {},
     "output_type": "display_data"
    },
    {
     "data": {
      "text/html": [
       "<pre>recommendations finished on 307000/506003 queries. users per second: 410.836</pre>"
      ],
      "text/plain": [
       "recommendations finished on 307000/506003 queries. users per second: 410.836"
      ]
     },
     "metadata": {},
     "output_type": "display_data"
    },
    {
     "data": {
      "text/html": [
       "<pre>recommendations finished on 308000/506003 queries. users per second: 410.848</pre>"
      ],
      "text/plain": [
       "recommendations finished on 308000/506003 queries. users per second: 410.848"
      ]
     },
     "metadata": {},
     "output_type": "display_data"
    },
    {
     "data": {
      "text/html": [
       "<pre>recommendations finished on 309000/506003 queries. users per second: 410.848</pre>"
      ],
      "text/plain": [
       "recommendations finished on 309000/506003 queries. users per second: 410.848"
      ]
     },
     "metadata": {},
     "output_type": "display_data"
    },
    {
     "data": {
      "text/html": [
       "<pre>recommendations finished on 310000/506003 queries. users per second: 410.645</pre>"
      ],
      "text/plain": [
       "recommendations finished on 310000/506003 queries. users per second: 410.645"
      ]
     },
     "metadata": {},
     "output_type": "display_data"
    },
    {
     "data": {
      "text/html": [
       "<pre>recommendations finished on 311000/506003 queries. users per second: 410.665</pre>"
      ],
      "text/plain": [
       "recommendations finished on 311000/506003 queries. users per second: 410.665"
      ]
     },
     "metadata": {},
     "output_type": "display_data"
    },
    {
     "data": {
      "text/html": [
       "<pre>recommendations finished on 312000/506003 queries. users per second: 410.65</pre>"
      ],
      "text/plain": [
       "recommendations finished on 312000/506003 queries. users per second: 410.65"
      ]
     },
     "metadata": {},
     "output_type": "display_data"
    },
    {
     "data": {
      "text/html": [
       "<pre>recommendations finished on 313000/506003 queries. users per second: 410.398</pre>"
      ],
      "text/plain": [
       "recommendations finished on 313000/506003 queries. users per second: 410.398"
      ]
     },
     "metadata": {},
     "output_type": "display_data"
    },
    {
     "data": {
      "text/html": [
       "<pre>recommendations finished on 314000/506003 queries. users per second: 410.137</pre>"
      ],
      "text/plain": [
       "recommendations finished on 314000/506003 queries. users per second: 410.137"
      ]
     },
     "metadata": {},
     "output_type": "display_data"
    },
    {
     "data": {
      "text/html": [
       "<pre>recommendations finished on 315000/506003 queries. users per second: 409.989</pre>"
      ],
      "text/plain": [
       "recommendations finished on 315000/506003 queries. users per second: 409.989"
      ]
     },
     "metadata": {},
     "output_type": "display_data"
    },
    {
     "data": {
      "text/html": [
       "<pre>recommendations finished on 316000/506003 queries. users per second: 409.891</pre>"
      ],
      "text/plain": [
       "recommendations finished on 316000/506003 queries. users per second: 409.891"
      ]
     },
     "metadata": {},
     "output_type": "display_data"
    },
    {
     "data": {
      "text/html": [
       "<pre>recommendations finished on 317000/506003 queries. users per second: 409.613</pre>"
      ],
      "text/plain": [
       "recommendations finished on 317000/506003 queries. users per second: 409.613"
      ]
     },
     "metadata": {},
     "output_type": "display_data"
    },
    {
     "data": {
      "text/html": [
       "<pre>recommendations finished on 318000/506003 queries. users per second: 409.599</pre>"
      ],
      "text/plain": [
       "recommendations finished on 318000/506003 queries. users per second: 409.599"
      ]
     },
     "metadata": {},
     "output_type": "display_data"
    },
    {
     "data": {
      "text/html": [
       "<pre>recommendations finished on 319000/506003 queries. users per second: 409.613</pre>"
      ],
      "text/plain": [
       "recommendations finished on 319000/506003 queries. users per second: 409.613"
      ]
     },
     "metadata": {},
     "output_type": "display_data"
    },
    {
     "data": {
      "text/html": [
       "<pre>recommendations finished on 320000/506003 queries. users per second: 409.632</pre>"
      ],
      "text/plain": [
       "recommendations finished on 320000/506003 queries. users per second: 409.632"
      ]
     },
     "metadata": {},
     "output_type": "display_data"
    },
    {
     "data": {
      "text/html": [
       "<pre>recommendations finished on 321000/506003 queries. users per second: 409.658</pre>"
      ],
      "text/plain": [
       "recommendations finished on 321000/506003 queries. users per second: 409.658"
      ]
     },
     "metadata": {},
     "output_type": "display_data"
    },
    {
     "data": {
      "text/html": [
       "<pre>recommendations finished on 322000/506003 queries. users per second: 409.7</pre>"
      ],
      "text/plain": [
       "recommendations finished on 322000/506003 queries. users per second: 409.7"
      ]
     },
     "metadata": {},
     "output_type": "display_data"
    },
    {
     "data": {
      "text/html": [
       "<pre>recommendations finished on 323000/506003 queries. users per second: 409.748</pre>"
      ],
      "text/plain": [
       "recommendations finished on 323000/506003 queries. users per second: 409.748"
      ]
     },
     "metadata": {},
     "output_type": "display_data"
    },
    {
     "data": {
      "text/html": [
       "<pre>recommendations finished on 324000/506003 queries. users per second: 409.802</pre>"
      ],
      "text/plain": [
       "recommendations finished on 324000/506003 queries. users per second: 409.802"
      ]
     },
     "metadata": {},
     "output_type": "display_data"
    },
    {
     "data": {
      "text/html": [
       "<pre>recommendations finished on 325000/506003 queries. users per second: 409.803</pre>"
      ],
      "text/plain": [
       "recommendations finished on 325000/506003 queries. users per second: 409.803"
      ]
     },
     "metadata": {},
     "output_type": "display_data"
    },
    {
     "data": {
      "text/html": [
       "<pre>recommendations finished on 326000/506003 queries. users per second: 409.814</pre>"
      ],
      "text/plain": [
       "recommendations finished on 326000/506003 queries. users per second: 409.814"
      ]
     },
     "metadata": {},
     "output_type": "display_data"
    },
    {
     "data": {
      "text/html": [
       "<pre>recommendations finished on 327000/506003 queries. users per second: 409.85</pre>"
      ],
      "text/plain": [
       "recommendations finished on 327000/506003 queries. users per second: 409.85"
      ]
     },
     "metadata": {},
     "output_type": "display_data"
    },
    {
     "data": {
      "text/html": [
       "<pre>recommendations finished on 328000/506003 queries. users per second: 409.884</pre>"
      ],
      "text/plain": [
       "recommendations finished on 328000/506003 queries. users per second: 409.884"
      ]
     },
     "metadata": {},
     "output_type": "display_data"
    },
    {
     "data": {
      "text/html": [
       "<pre>recommendations finished on 329000/506003 queries. users per second: 409.922</pre>"
      ],
      "text/plain": [
       "recommendations finished on 329000/506003 queries. users per second: 409.922"
      ]
     },
     "metadata": {},
     "output_type": "display_data"
    },
    {
     "data": {
      "text/html": [
       "<pre>recommendations finished on 330000/506003 queries. users per second: 409.927</pre>"
      ],
      "text/plain": [
       "recommendations finished on 330000/506003 queries. users per second: 409.927"
      ]
     },
     "metadata": {},
     "output_type": "display_data"
    },
    {
     "data": {
      "text/html": [
       "<pre>recommendations finished on 331000/506003 queries. users per second: 409.948</pre>"
      ],
      "text/plain": [
       "recommendations finished on 331000/506003 queries. users per second: 409.948"
      ]
     },
     "metadata": {},
     "output_type": "display_data"
    },
    {
     "data": {
      "text/html": [
       "<pre>recommendations finished on 332000/506003 queries. users per second: 409.983</pre>"
      ],
      "text/plain": [
       "recommendations finished on 332000/506003 queries. users per second: 409.983"
      ]
     },
     "metadata": {},
     "output_type": "display_data"
    },
    {
     "data": {
      "text/html": [
       "<pre>recommendations finished on 333000/506003 queries. users per second: 410.01</pre>"
      ],
      "text/plain": [
       "recommendations finished on 333000/506003 queries. users per second: 410.01"
      ]
     },
     "metadata": {},
     "output_type": "display_data"
    },
    {
     "data": {
      "text/html": [
       "<pre>recommendations finished on 334000/506003 queries. users per second: 410.05</pre>"
      ],
      "text/plain": [
       "recommendations finished on 334000/506003 queries. users per second: 410.05"
      ]
     },
     "metadata": {},
     "output_type": "display_data"
    },
    {
     "data": {
      "text/html": [
       "<pre>recommendations finished on 335000/506003 queries. users per second: 409.941</pre>"
      ],
      "text/plain": [
       "recommendations finished on 335000/506003 queries. users per second: 409.941"
      ]
     },
     "metadata": {},
     "output_type": "display_data"
    },
    {
     "data": {
      "text/html": [
       "<pre>recommendations finished on 336000/506003 queries. users per second: 409.925</pre>"
      ],
      "text/plain": [
       "recommendations finished on 336000/506003 queries. users per second: 409.925"
      ]
     },
     "metadata": {},
     "output_type": "display_data"
    },
    {
     "data": {
      "text/html": [
       "<pre>recommendations finished on 337000/506003 queries. users per second: 409.912</pre>"
      ],
      "text/plain": [
       "recommendations finished on 337000/506003 queries. users per second: 409.912"
      ]
     },
     "metadata": {},
     "output_type": "display_data"
    },
    {
     "data": {
      "text/html": [
       "<pre>recommendations finished on 338000/506003 queries. users per second: 409.893</pre>"
      ],
      "text/plain": [
       "recommendations finished on 338000/506003 queries. users per second: 409.893"
      ]
     },
     "metadata": {},
     "output_type": "display_data"
    },
    {
     "data": {
      "text/html": [
       "<pre>recommendations finished on 339000/506003 queries. users per second: 409.855</pre>"
      ],
      "text/plain": [
       "recommendations finished on 339000/506003 queries. users per second: 409.855"
      ]
     },
     "metadata": {},
     "output_type": "display_data"
    },
    {
     "data": {
      "text/html": [
       "<pre>recommendations finished on 340000/506003 queries. users per second: 409.793</pre>"
      ],
      "text/plain": [
       "recommendations finished on 340000/506003 queries. users per second: 409.793"
      ]
     },
     "metadata": {},
     "output_type": "display_data"
    },
    {
     "data": {
      "text/html": [
       "<pre>recommendations finished on 341000/506003 queries. users per second: 409.733</pre>"
      ],
      "text/plain": [
       "recommendations finished on 341000/506003 queries. users per second: 409.733"
      ]
     },
     "metadata": {},
     "output_type": "display_data"
    },
    {
     "data": {
      "text/html": [
       "<pre>recommendations finished on 342000/506003 queries. users per second: 409.657</pre>"
      ],
      "text/plain": [
       "recommendations finished on 342000/506003 queries. users per second: 409.657"
      ]
     },
     "metadata": {},
     "output_type": "display_data"
    },
    {
     "data": {
      "text/html": [
       "<pre>recommendations finished on 343000/506003 queries. users per second: 409.462</pre>"
      ],
      "text/plain": [
       "recommendations finished on 343000/506003 queries. users per second: 409.462"
      ]
     },
     "metadata": {},
     "output_type": "display_data"
    },
    {
     "data": {
      "text/html": [
       "<pre>recommendations finished on 344000/506003 queries. users per second: 409.484</pre>"
      ],
      "text/plain": [
       "recommendations finished on 344000/506003 queries. users per second: 409.484"
      ]
     },
     "metadata": {},
     "output_type": "display_data"
    },
    {
     "data": {
      "text/html": [
       "<pre>recommendations finished on 345000/506003 queries. users per second: 409.507</pre>"
      ],
      "text/plain": [
       "recommendations finished on 345000/506003 queries. users per second: 409.507"
      ]
     },
     "metadata": {},
     "output_type": "display_data"
    },
    {
     "data": {
      "text/html": [
       "<pre>recommendations finished on 346000/506003 queries. users per second: 409.536</pre>"
      ],
      "text/plain": [
       "recommendations finished on 346000/506003 queries. users per second: 409.536"
      ]
     },
     "metadata": {},
     "output_type": "display_data"
    },
    {
     "data": {
      "text/html": [
       "<pre>recommendations finished on 347000/506003 queries. users per second: 409.565</pre>"
      ],
      "text/plain": [
       "recommendations finished on 347000/506003 queries. users per second: 409.565"
      ]
     },
     "metadata": {},
     "output_type": "display_data"
    },
    {
     "data": {
      "text/html": [
       "<pre>recommendations finished on 348000/506003 queries. users per second: 409.594</pre>"
      ],
      "text/plain": [
       "recommendations finished on 348000/506003 queries. users per second: 409.594"
      ]
     },
     "metadata": {},
     "output_type": "display_data"
    },
    {
     "data": {
      "text/html": [
       "<pre>recommendations finished on 349000/506003 queries. users per second: 409.654</pre>"
      ],
      "text/plain": [
       "recommendations finished on 349000/506003 queries. users per second: 409.654"
      ]
     },
     "metadata": {},
     "output_type": "display_data"
    },
    {
     "data": {
      "text/html": [
       "<pre>recommendations finished on 350000/506003 queries. users per second: 409.698</pre>"
      ],
      "text/plain": [
       "recommendations finished on 350000/506003 queries. users per second: 409.698"
      ]
     },
     "metadata": {},
     "output_type": "display_data"
    },
    {
     "data": {
      "text/html": [
       "<pre>recommendations finished on 351000/506003 queries. users per second: 409.735</pre>"
      ],
      "text/plain": [
       "recommendations finished on 351000/506003 queries. users per second: 409.735"
      ]
     },
     "metadata": {},
     "output_type": "display_data"
    },
    {
     "data": {
      "text/html": [
       "<pre>recommendations finished on 352000/506003 queries. users per second: 409.635</pre>"
      ],
      "text/plain": [
       "recommendations finished on 352000/506003 queries. users per second: 409.635"
      ]
     },
     "metadata": {},
     "output_type": "display_data"
    },
    {
     "data": {
      "text/html": [
       "<pre>recommendations finished on 353000/506003 queries. users per second: 409.529</pre>"
      ],
      "text/plain": [
       "recommendations finished on 353000/506003 queries. users per second: 409.529"
      ]
     },
     "metadata": {},
     "output_type": "display_data"
    },
    {
     "data": {
      "text/html": [
       "<pre>recommendations finished on 354000/506003 queries. users per second: 409.429</pre>"
      ],
      "text/plain": [
       "recommendations finished on 354000/506003 queries. users per second: 409.429"
      ]
     },
     "metadata": {},
     "output_type": "display_data"
    },
    {
     "data": {
      "text/html": [
       "<pre>recommendations finished on 355000/506003 queries. users per second: 409.45</pre>"
      ],
      "text/plain": [
       "recommendations finished on 355000/506003 queries. users per second: 409.45"
      ]
     },
     "metadata": {},
     "output_type": "display_data"
    },
    {
     "data": {
      "text/html": [
       "<pre>recommendations finished on 356000/506003 queries. users per second: 409.461</pre>"
      ],
      "text/plain": [
       "recommendations finished on 356000/506003 queries. users per second: 409.461"
      ]
     },
     "metadata": {},
     "output_type": "display_data"
    },
    {
     "data": {
      "text/html": [
       "<pre>recommendations finished on 357000/506003 queries. users per second: 409.477</pre>"
      ],
      "text/plain": [
       "recommendations finished on 357000/506003 queries. users per second: 409.477"
      ]
     },
     "metadata": {},
     "output_type": "display_data"
    },
    {
     "data": {
      "text/html": [
       "<pre>recommendations finished on 358000/506003 queries. users per second: 409.528</pre>"
      ],
      "text/plain": [
       "recommendations finished on 358000/506003 queries. users per second: 409.528"
      ]
     },
     "metadata": {},
     "output_type": "display_data"
    },
    {
     "data": {
      "text/html": [
       "<pre>recommendations finished on 359000/506003 queries. users per second: 409.566</pre>"
      ],
      "text/plain": [
       "recommendations finished on 359000/506003 queries. users per second: 409.566"
      ]
     },
     "metadata": {},
     "output_type": "display_data"
    },
    {
     "data": {
      "text/html": [
       "<pre>recommendations finished on 360000/506003 queries. users per second: 409.601</pre>"
      ],
      "text/plain": [
       "recommendations finished on 360000/506003 queries. users per second: 409.601"
      ]
     },
     "metadata": {},
     "output_type": "display_data"
    },
    {
     "data": {
      "text/html": [
       "<pre>recommendations finished on 361000/506003 queries. users per second: 409.617</pre>"
      ],
      "text/plain": [
       "recommendations finished on 361000/506003 queries. users per second: 409.617"
      ]
     },
     "metadata": {},
     "output_type": "display_data"
    },
    {
     "data": {
      "text/html": [
       "<pre>recommendations finished on 362000/506003 queries. users per second: 409.644</pre>"
      ],
      "text/plain": [
       "recommendations finished on 362000/506003 queries. users per second: 409.644"
      ]
     },
     "metadata": {},
     "output_type": "display_data"
    },
    {
     "data": {
      "text/html": [
       "<pre>recommendations finished on 363000/506003 queries. users per second: 409.656</pre>"
      ],
      "text/plain": [
       "recommendations finished on 363000/506003 queries. users per second: 409.656"
      ]
     },
     "metadata": {},
     "output_type": "display_data"
    },
    {
     "data": {
      "text/html": [
       "<pre>recommendations finished on 364000/506003 queries. users per second: 409.673</pre>"
      ],
      "text/plain": [
       "recommendations finished on 364000/506003 queries. users per second: 409.673"
      ]
     },
     "metadata": {},
     "output_type": "display_data"
    },
    {
     "data": {
      "text/html": [
       "<pre>recommendations finished on 365000/506003 queries. users per second: 409.538</pre>"
      ],
      "text/plain": [
       "recommendations finished on 365000/506003 queries. users per second: 409.538"
      ]
     },
     "metadata": {},
     "output_type": "display_data"
    },
    {
     "data": {
      "text/html": [
       "<pre>recommendations finished on 366000/506003 queries. users per second: 409.555</pre>"
      ],
      "text/plain": [
       "recommendations finished on 366000/506003 queries. users per second: 409.555"
      ]
     },
     "metadata": {},
     "output_type": "display_data"
    },
    {
     "data": {
      "text/html": [
       "<pre>recommendations finished on 367000/506003 queries. users per second: 409.572</pre>"
      ],
      "text/plain": [
       "recommendations finished on 367000/506003 queries. users per second: 409.572"
      ]
     },
     "metadata": {},
     "output_type": "display_data"
    },
    {
     "data": {
      "text/html": [
       "<pre>recommendations finished on 368000/506003 queries. users per second: 409.556</pre>"
      ],
      "text/plain": [
       "recommendations finished on 368000/506003 queries. users per second: 409.556"
      ]
     },
     "metadata": {},
     "output_type": "display_data"
    },
    {
     "data": {
      "text/html": [
       "<pre>recommendations finished on 369000/506003 queries. users per second: 409.581</pre>"
      ],
      "text/plain": [
       "recommendations finished on 369000/506003 queries. users per second: 409.581"
      ]
     },
     "metadata": {},
     "output_type": "display_data"
    },
    {
     "data": {
      "text/html": [
       "<pre>recommendations finished on 370000/506003 queries. users per second: 409.604</pre>"
      ],
      "text/plain": [
       "recommendations finished on 370000/506003 queries. users per second: 409.604"
      ]
     },
     "metadata": {},
     "output_type": "display_data"
    },
    {
     "data": {
      "text/html": [
       "<pre>recommendations finished on 371000/506003 queries. users per second: 409.615</pre>"
      ],
      "text/plain": [
       "recommendations finished on 371000/506003 queries. users per second: 409.615"
      ]
     },
     "metadata": {},
     "output_type": "display_data"
    },
    {
     "data": {
      "text/html": [
       "<pre>recommendations finished on 372000/506003 queries. users per second: 409.635</pre>"
      ],
      "text/plain": [
       "recommendations finished on 372000/506003 queries. users per second: 409.635"
      ]
     },
     "metadata": {},
     "output_type": "display_data"
    },
    {
     "data": {
      "text/html": [
       "<pre>recommendations finished on 373000/506003 queries. users per second: 409.647</pre>"
      ],
      "text/plain": [
       "recommendations finished on 373000/506003 queries. users per second: 409.647"
      ]
     },
     "metadata": {},
     "output_type": "display_data"
    },
    {
     "data": {
      "text/html": [
       "<pre>recommendations finished on 374000/506003 queries. users per second: 409.672</pre>"
      ],
      "text/plain": [
       "recommendations finished on 374000/506003 queries. users per second: 409.672"
      ]
     },
     "metadata": {},
     "output_type": "display_data"
    },
    {
     "data": {
      "text/html": [
       "<pre>recommendations finished on 375000/506003 queries. users per second: 409.683</pre>"
      ],
      "text/plain": [
       "recommendations finished on 375000/506003 queries. users per second: 409.683"
      ]
     },
     "metadata": {},
     "output_type": "display_data"
    },
    {
     "data": {
      "text/html": [
       "<pre>recommendations finished on 376000/506003 queries. users per second: 409.712</pre>"
      ],
      "text/plain": [
       "recommendations finished on 376000/506003 queries. users per second: 409.712"
      ]
     },
     "metadata": {},
     "output_type": "display_data"
    },
    {
     "data": {
      "text/html": [
       "<pre>recommendations finished on 377000/506003 queries. users per second: 409.745</pre>"
      ],
      "text/plain": [
       "recommendations finished on 377000/506003 queries. users per second: 409.745"
      ]
     },
     "metadata": {},
     "output_type": "display_data"
    },
    {
     "data": {
      "text/html": [
       "<pre>recommendations finished on 378000/506003 queries. users per second: 409.778</pre>"
      ],
      "text/plain": [
       "recommendations finished on 378000/506003 queries. users per second: 409.778"
      ]
     },
     "metadata": {},
     "output_type": "display_data"
    },
    {
     "data": {
      "text/html": [
       "<pre>recommendations finished on 379000/506003 queries. users per second: 409.811</pre>"
      ],
      "text/plain": [
       "recommendations finished on 379000/506003 queries. users per second: 409.811"
      ]
     },
     "metadata": {},
     "output_type": "display_data"
    },
    {
     "data": {
      "text/html": [
       "<pre>recommendations finished on 380000/506003 queries. users per second: 409.835</pre>"
      ],
      "text/plain": [
       "recommendations finished on 380000/506003 queries. users per second: 409.835"
      ]
     },
     "metadata": {},
     "output_type": "display_data"
    },
    {
     "data": {
      "text/html": [
       "<pre>recommendations finished on 381000/506003 queries. users per second: 409.862</pre>"
      ],
      "text/plain": [
       "recommendations finished on 381000/506003 queries. users per second: 409.862"
      ]
     },
     "metadata": {},
     "output_type": "display_data"
    },
    {
     "data": {
      "text/html": [
       "<pre>recommendations finished on 382000/506003 queries. users per second: 409.89</pre>"
      ],
      "text/plain": [
       "recommendations finished on 382000/506003 queries. users per second: 409.89"
      ]
     },
     "metadata": {},
     "output_type": "display_data"
    },
    {
     "data": {
      "text/html": [
       "<pre>recommendations finished on 383000/506003 queries. users per second: 409.909</pre>"
      ],
      "text/plain": [
       "recommendations finished on 383000/506003 queries. users per second: 409.909"
      ]
     },
     "metadata": {},
     "output_type": "display_data"
    },
    {
     "data": {
      "text/html": [
       "<pre>recommendations finished on 384000/506003 queries. users per second: 409.802</pre>"
      ],
      "text/plain": [
       "recommendations finished on 384000/506003 queries. users per second: 409.802"
      ]
     },
     "metadata": {},
     "output_type": "display_data"
    },
    {
     "data": {
      "text/html": [
       "<pre>recommendations finished on 385000/506003 queries. users per second: 409.816</pre>"
      ],
      "text/plain": [
       "recommendations finished on 385000/506003 queries. users per second: 409.816"
      ]
     },
     "metadata": {},
     "output_type": "display_data"
    },
    {
     "data": {
      "text/html": [
       "<pre>recommendations finished on 386000/506003 queries. users per second: 409.844</pre>"
      ],
      "text/plain": [
       "recommendations finished on 386000/506003 queries. users per second: 409.844"
      ]
     },
     "metadata": {},
     "output_type": "display_data"
    },
    {
     "data": {
      "text/html": [
       "<pre>recommendations finished on 387000/506003 queries. users per second: 409.873</pre>"
      ],
      "text/plain": [
       "recommendations finished on 387000/506003 queries. users per second: 409.873"
      ]
     },
     "metadata": {},
     "output_type": "display_data"
    },
    {
     "data": {
      "text/html": [
       "<pre>recommendations finished on 388000/506003 queries. users per second: 409.897</pre>"
      ],
      "text/plain": [
       "recommendations finished on 388000/506003 queries. users per second: 409.897"
      ]
     },
     "metadata": {},
     "output_type": "display_data"
    },
    {
     "data": {
      "text/html": [
       "<pre>recommendations finished on 389000/506003 queries. users per second: 409.956</pre>"
      ],
      "text/plain": [
       "recommendations finished on 389000/506003 queries. users per second: 409.956"
      ]
     },
     "metadata": {},
     "output_type": "display_data"
    },
    {
     "data": {
      "text/html": [
       "<pre>recommendations finished on 390000/506003 queries. users per second: 409.984</pre>"
      ],
      "text/plain": [
       "recommendations finished on 390000/506003 queries. users per second: 409.984"
      ]
     },
     "metadata": {},
     "output_type": "display_data"
    },
    {
     "data": {
      "text/html": [
       "<pre>recommendations finished on 391000/506003 queries. users per second: 410.004</pre>"
      ],
      "text/plain": [
       "recommendations finished on 391000/506003 queries. users per second: 410.004"
      ]
     },
     "metadata": {},
     "output_type": "display_data"
    },
    {
     "data": {
      "text/html": [
       "<pre>recommendations finished on 392000/506003 queries. users per second: 410.028</pre>"
      ],
      "text/plain": [
       "recommendations finished on 392000/506003 queries. users per second: 410.028"
      ]
     },
     "metadata": {},
     "output_type": "display_data"
    },
    {
     "data": {
      "text/html": [
       "<pre>recommendations finished on 393000/506003 queries. users per second: 410.019</pre>"
      ],
      "text/plain": [
       "recommendations finished on 393000/506003 queries. users per second: 410.019"
      ]
     },
     "metadata": {},
     "output_type": "display_data"
    },
    {
     "data": {
      "text/html": [
       "<pre>recommendations finished on 394000/506003 queries. users per second: 410.04</pre>"
      ],
      "text/plain": [
       "recommendations finished on 394000/506003 queries. users per second: 410.04"
      ]
     },
     "metadata": {},
     "output_type": "display_data"
    },
    {
     "data": {
      "text/html": [
       "<pre>recommendations finished on 395000/506003 queries. users per second: 410.066</pre>"
      ],
      "text/plain": [
       "recommendations finished on 395000/506003 queries. users per second: 410.066"
      ]
     },
     "metadata": {},
     "output_type": "display_data"
    },
    {
     "data": {
      "text/html": [
       "<pre>recommendations finished on 396000/506003 queries. users per second: 410.079</pre>"
      ],
      "text/plain": [
       "recommendations finished on 396000/506003 queries. users per second: 410.079"
      ]
     },
     "metadata": {},
     "output_type": "display_data"
    },
    {
     "data": {
      "text/html": [
       "<pre>recommendations finished on 397000/506003 queries. users per second: 410.019</pre>"
      ],
      "text/plain": [
       "recommendations finished on 397000/506003 queries. users per second: 410.019"
      ]
     },
     "metadata": {},
     "output_type": "display_data"
    },
    {
     "data": {
      "text/html": [
       "<pre>recommendations finished on 398000/506003 queries. users per second: 410.055</pre>"
      ],
      "text/plain": [
       "recommendations finished on 398000/506003 queries. users per second: 410.055"
      ]
     },
     "metadata": {},
     "output_type": "display_data"
    },
    {
     "data": {
      "text/html": [
       "<pre>recommendations finished on 399000/506003 queries. users per second: 410.066</pre>"
      ],
      "text/plain": [
       "recommendations finished on 399000/506003 queries. users per second: 410.066"
      ]
     },
     "metadata": {},
     "output_type": "display_data"
    },
    {
     "data": {
      "text/html": [
       "<pre>recommendations finished on 400000/506003 queries. users per second: 410.076</pre>"
      ],
      "text/plain": [
       "recommendations finished on 400000/506003 queries. users per second: 410.076"
      ]
     },
     "metadata": {},
     "output_type": "display_data"
    },
    {
     "data": {
      "text/html": [
       "<pre>recommendations finished on 401000/506003 queries. users per second: 410.094</pre>"
      ],
      "text/plain": [
       "recommendations finished on 401000/506003 queries. users per second: 410.094"
      ]
     },
     "metadata": {},
     "output_type": "display_data"
    },
    {
     "data": {
      "text/html": [
       "<pre>recommendations finished on 402000/506003 queries. users per second: 410.134</pre>"
      ],
      "text/plain": [
       "recommendations finished on 402000/506003 queries. users per second: 410.134"
      ]
     },
     "metadata": {},
     "output_type": "display_data"
    },
    {
     "data": {
      "text/html": [
       "<pre>recommendations finished on 403000/506003 queries. users per second: 410.15</pre>"
      ],
      "text/plain": [
       "recommendations finished on 403000/506003 queries. users per second: 410.15"
      ]
     },
     "metadata": {},
     "output_type": "display_data"
    },
    {
     "data": {
      "text/html": [
       "<pre>recommendations finished on 404000/506003 queries. users per second: 410.183</pre>"
      ],
      "text/plain": [
       "recommendations finished on 404000/506003 queries. users per second: 410.183"
      ]
     },
     "metadata": {},
     "output_type": "display_data"
    },
    {
     "data": {
      "text/html": [
       "<pre>recommendations finished on 405000/506003 queries. users per second: 410.203</pre>"
      ],
      "text/plain": [
       "recommendations finished on 405000/506003 queries. users per second: 410.203"
      ]
     },
     "metadata": {},
     "output_type": "display_data"
    },
    {
     "data": {
      "text/html": [
       "<pre>recommendations finished on 406000/506003 queries. users per second: 410.223</pre>"
      ],
      "text/plain": [
       "recommendations finished on 406000/506003 queries. users per second: 410.223"
      ]
     },
     "metadata": {},
     "output_type": "display_data"
    },
    {
     "data": {
      "text/html": [
       "<pre>recommendations finished on 407000/506003 queries. users per second: 410.233</pre>"
      ],
      "text/plain": [
       "recommendations finished on 407000/506003 queries. users per second: 410.233"
      ]
     },
     "metadata": {},
     "output_type": "display_data"
    },
    {
     "data": {
      "text/html": [
       "<pre>recommendations finished on 408000/506003 queries. users per second: 410.263</pre>"
      ],
      "text/plain": [
       "recommendations finished on 408000/506003 queries. users per second: 410.263"
      ]
     },
     "metadata": {},
     "output_type": "display_data"
    },
    {
     "data": {
      "text/html": [
       "<pre>recommendations finished on 409000/506003 queries. users per second: 410.296</pre>"
      ],
      "text/plain": [
       "recommendations finished on 409000/506003 queries. users per second: 410.296"
      ]
     },
     "metadata": {},
     "output_type": "display_data"
    },
    {
     "data": {
      "text/html": [
       "<pre>recommendations finished on 410000/506003 queries. users per second: 410.328</pre>"
      ],
      "text/plain": [
       "recommendations finished on 410000/506003 queries. users per second: 410.328"
      ]
     },
     "metadata": {},
     "output_type": "display_data"
    },
    {
     "data": {
      "text/html": [
       "<pre>recommendations finished on 411000/506003 queries. users per second: 410.353</pre>"
      ],
      "text/plain": [
       "recommendations finished on 411000/506003 queries. users per second: 410.353"
      ]
     },
     "metadata": {},
     "output_type": "display_data"
    },
    {
     "data": {
      "text/html": [
       "<pre>recommendations finished on 412000/506003 queries. users per second: 410.372</pre>"
      ],
      "text/plain": [
       "recommendations finished on 412000/506003 queries. users per second: 410.372"
      ]
     },
     "metadata": {},
     "output_type": "display_data"
    },
    {
     "data": {
      "text/html": [
       "<pre>recommendations finished on 413000/506003 queries. users per second: 410.374</pre>"
      ],
      "text/plain": [
       "recommendations finished on 413000/506003 queries. users per second: 410.374"
      ]
     },
     "metadata": {},
     "output_type": "display_data"
    },
    {
     "data": {
      "text/html": [
       "<pre>recommendations finished on 414000/506003 queries. users per second: 410.361</pre>"
      ],
      "text/plain": [
       "recommendations finished on 414000/506003 queries. users per second: 410.361"
      ]
     },
     "metadata": {},
     "output_type": "display_data"
    },
    {
     "data": {
      "text/html": [
       "<pre>recommendations finished on 415000/506003 queries. users per second: 410.388</pre>"
      ],
      "text/plain": [
       "recommendations finished on 415000/506003 queries. users per second: 410.388"
      ]
     },
     "metadata": {},
     "output_type": "display_data"
    },
    {
     "data": {
      "text/html": [
       "<pre>recommendations finished on 416000/506003 queries. users per second: 410.397</pre>"
      ],
      "text/plain": [
       "recommendations finished on 416000/506003 queries. users per second: 410.397"
      ]
     },
     "metadata": {},
     "output_type": "display_data"
    },
    {
     "data": {
      "text/html": [
       "<pre>recommendations finished on 417000/506003 queries. users per second: 410.414</pre>"
      ],
      "text/plain": [
       "recommendations finished on 417000/506003 queries. users per second: 410.414"
      ]
     },
     "metadata": {},
     "output_type": "display_data"
    },
    {
     "data": {
      "text/html": [
       "<pre>recommendations finished on 418000/506003 queries. users per second: 410.441</pre>"
      ],
      "text/plain": [
       "recommendations finished on 418000/506003 queries. users per second: 410.441"
      ]
     },
     "metadata": {},
     "output_type": "display_data"
    },
    {
     "data": {
      "text/html": [
       "<pre>recommendations finished on 419000/506003 queries. users per second: 410.47</pre>"
      ],
      "text/plain": [
       "recommendations finished on 419000/506003 queries. users per second: 410.47"
      ]
     },
     "metadata": {},
     "output_type": "display_data"
    },
    {
     "data": {
      "text/html": [
       "<pre>recommendations finished on 420000/506003 queries. users per second: 410.487</pre>"
      ],
      "text/plain": [
       "recommendations finished on 420000/506003 queries. users per second: 410.487"
      ]
     },
     "metadata": {},
     "output_type": "display_data"
    },
    {
     "data": {
      "text/html": [
       "<pre>recommendations finished on 421000/506003 queries. users per second: 410.511</pre>"
      ],
      "text/plain": [
       "recommendations finished on 421000/506003 queries. users per second: 410.511"
      ]
     },
     "metadata": {},
     "output_type": "display_data"
    },
    {
     "data": {
      "text/html": [
       "<pre>recommendations finished on 422000/506003 queries. users per second: 410.333</pre>"
      ],
      "text/plain": [
       "recommendations finished on 422000/506003 queries. users per second: 410.333"
      ]
     },
     "metadata": {},
     "output_type": "display_data"
    },
    {
     "data": {
      "text/html": [
       "<pre>recommendations finished on 423000/506003 queries. users per second: 410.341</pre>"
      ],
      "text/plain": [
       "recommendations finished on 423000/506003 queries. users per second: 410.341"
      ]
     },
     "metadata": {},
     "output_type": "display_data"
    },
    {
     "data": {
      "text/html": [
       "<pre>recommendations finished on 424000/506003 queries. users per second: 410.369</pre>"
      ],
      "text/plain": [
       "recommendations finished on 424000/506003 queries. users per second: 410.369"
      ]
     },
     "metadata": {},
     "output_type": "display_data"
    },
    {
     "data": {
      "text/html": [
       "<pre>recommendations finished on 425000/506003 queries. users per second: 410.371</pre>"
      ],
      "text/plain": [
       "recommendations finished on 425000/506003 queries. users per second: 410.371"
      ]
     },
     "metadata": {},
     "output_type": "display_data"
    },
    {
     "data": {
      "text/html": [
       "<pre>recommendations finished on 426000/506003 queries. users per second: 410.366</pre>"
      ],
      "text/plain": [
       "recommendations finished on 426000/506003 queries. users per second: 410.366"
      ]
     },
     "metadata": {},
     "output_type": "display_data"
    },
    {
     "data": {
      "text/html": [
       "<pre>recommendations finished on 427000/506003 queries. users per second: 410.393</pre>"
      ],
      "text/plain": [
       "recommendations finished on 427000/506003 queries. users per second: 410.393"
      ]
     },
     "metadata": {},
     "output_type": "display_data"
    },
    {
     "data": {
      "text/html": [
       "<pre>recommendations finished on 428000/506003 queries. users per second: 410.136</pre>"
      ],
      "text/plain": [
       "recommendations finished on 428000/506003 queries. users per second: 410.136"
      ]
     },
     "metadata": {},
     "output_type": "display_data"
    },
    {
     "data": {
      "text/html": [
       "<pre>recommendations finished on 429000/506003 queries. users per second: 409.991</pre>"
      ],
      "text/plain": [
       "recommendations finished on 429000/506003 queries. users per second: 409.991"
      ]
     },
     "metadata": {},
     "output_type": "display_data"
    },
    {
     "data": {
      "text/html": [
       "<pre>recommendations finished on 430000/506003 queries. users per second: 409.939</pre>"
      ],
      "text/plain": [
       "recommendations finished on 430000/506003 queries. users per second: 409.939"
      ]
     },
     "metadata": {},
     "output_type": "display_data"
    },
    {
     "data": {
      "text/html": [
       "<pre>recommendations finished on 431000/506003 queries. users per second: 409.937</pre>"
      ],
      "text/plain": [
       "recommendations finished on 431000/506003 queries. users per second: 409.937"
      ]
     },
     "metadata": {},
     "output_type": "display_data"
    },
    {
     "data": {
      "text/html": [
       "<pre>recommendations finished on 432000/506003 queries. users per second: 409.945</pre>"
      ],
      "text/plain": [
       "recommendations finished on 432000/506003 queries. users per second: 409.945"
      ]
     },
     "metadata": {},
     "output_type": "display_data"
    },
    {
     "data": {
      "text/html": [
       "<pre>recommendations finished on 433000/506003 queries. users per second: 409.876</pre>"
      ],
      "text/plain": [
       "recommendations finished on 433000/506003 queries. users per second: 409.876"
      ]
     },
     "metadata": {},
     "output_type": "display_data"
    },
    {
     "data": {
      "text/html": [
       "<pre>recommendations finished on 434000/506003 queries. users per second: 409.816</pre>"
      ],
      "text/plain": [
       "recommendations finished on 434000/506003 queries. users per second: 409.816"
      ]
     },
     "metadata": {},
     "output_type": "display_data"
    },
    {
     "data": {
      "text/html": [
       "<pre>recommendations finished on 435000/506003 queries. users per second: 409.815</pre>"
      ],
      "text/plain": [
       "recommendations finished on 435000/506003 queries. users per second: 409.815"
      ]
     },
     "metadata": {},
     "output_type": "display_data"
    },
    {
     "data": {
      "text/html": [
       "<pre>recommendations finished on 436000/506003 queries. users per second: 409.786</pre>"
      ],
      "text/plain": [
       "recommendations finished on 436000/506003 queries. users per second: 409.786"
      ]
     },
     "metadata": {},
     "output_type": "display_data"
    },
    {
     "data": {
      "text/html": [
       "<pre>recommendations finished on 437000/506003 queries. users per second: 409.774</pre>"
      ],
      "text/plain": [
       "recommendations finished on 437000/506003 queries. users per second: 409.774"
      ]
     },
     "metadata": {},
     "output_type": "display_data"
    },
    {
     "data": {
      "text/html": [
       "<pre>recommendations finished on 438000/506003 queries. users per second: 409.784</pre>"
      ],
      "text/plain": [
       "recommendations finished on 438000/506003 queries. users per second: 409.784"
      ]
     },
     "metadata": {},
     "output_type": "display_data"
    },
    {
     "data": {
      "text/html": [
       "<pre>recommendations finished on 439000/506003 queries. users per second: 409.81</pre>"
      ],
      "text/plain": [
       "recommendations finished on 439000/506003 queries. users per second: 409.81"
      ]
     },
     "metadata": {},
     "output_type": "display_data"
    },
    {
     "data": {
      "text/html": [
       "<pre>recommendations finished on 440000/506003 queries. users per second: 409.845</pre>"
      ],
      "text/plain": [
       "recommendations finished on 440000/506003 queries. users per second: 409.845"
      ]
     },
     "metadata": {},
     "output_type": "display_data"
    },
    {
     "data": {
      "text/html": [
       "<pre>recommendations finished on 441000/506003 queries. users per second: 409.858</pre>"
      ],
      "text/plain": [
       "recommendations finished on 441000/506003 queries. users per second: 409.858"
      ]
     },
     "metadata": {},
     "output_type": "display_data"
    },
    {
     "data": {
      "text/html": [
       "<pre>recommendations finished on 442000/506003 queries. users per second: 409.856</pre>"
      ],
      "text/plain": [
       "recommendations finished on 442000/506003 queries. users per second: 409.856"
      ]
     },
     "metadata": {},
     "output_type": "display_data"
    },
    {
     "data": {
      "text/html": [
       "<pre>recommendations finished on 443000/506003 queries. users per second: 409.883</pre>"
      ],
      "text/plain": [
       "recommendations finished on 443000/506003 queries. users per second: 409.883"
      ]
     },
     "metadata": {},
     "output_type": "display_data"
    },
    {
     "data": {
      "text/html": [
       "<pre>recommendations finished on 444000/506003 queries. users per second: 409.889</pre>"
      ],
      "text/plain": [
       "recommendations finished on 444000/506003 queries. users per second: 409.889"
      ]
     },
     "metadata": {},
     "output_type": "display_data"
    },
    {
     "data": {
      "text/html": [
       "<pre>recommendations finished on 445000/506003 queries. users per second: 409.883</pre>"
      ],
      "text/plain": [
       "recommendations finished on 445000/506003 queries. users per second: 409.883"
      ]
     },
     "metadata": {},
     "output_type": "display_data"
    },
    {
     "data": {
      "text/html": [
       "<pre>recommendations finished on 446000/506003 queries. users per second: 409.905</pre>"
      ],
      "text/plain": [
       "recommendations finished on 446000/506003 queries. users per second: 409.905"
      ]
     },
     "metadata": {},
     "output_type": "display_data"
    },
    {
     "data": {
      "text/html": [
       "<pre>recommendations finished on 447000/506003 queries. users per second: 409.901</pre>"
      ],
      "text/plain": [
       "recommendations finished on 447000/506003 queries. users per second: 409.901"
      ]
     },
     "metadata": {},
     "output_type": "display_data"
    },
    {
     "data": {
      "text/html": [
       "<pre>recommendations finished on 448000/506003 queries. users per second: 409.928</pre>"
      ],
      "text/plain": [
       "recommendations finished on 448000/506003 queries. users per second: 409.928"
      ]
     },
     "metadata": {},
     "output_type": "display_data"
    },
    {
     "data": {
      "text/html": [
       "<pre>recommendations finished on 449000/506003 queries. users per second: 409.814</pre>"
      ],
      "text/plain": [
       "recommendations finished on 449000/506003 queries. users per second: 409.814"
      ]
     },
     "metadata": {},
     "output_type": "display_data"
    },
    {
     "data": {
      "text/html": [
       "<pre>recommendations finished on 450000/506003 queries. users per second: 409.823</pre>"
      ],
      "text/plain": [
       "recommendations finished on 450000/506003 queries. users per second: 409.823"
      ]
     },
     "metadata": {},
     "output_type": "display_data"
    },
    {
     "data": {
      "text/html": [
       "<pre>recommendations finished on 451000/506003 queries. users per second: 409.826</pre>"
      ],
      "text/plain": [
       "recommendations finished on 451000/506003 queries. users per second: 409.826"
      ]
     },
     "metadata": {},
     "output_type": "display_data"
    },
    {
     "data": {
      "text/html": [
       "<pre>recommendations finished on 452000/506003 queries. users per second: 409.811</pre>"
      ],
      "text/plain": [
       "recommendations finished on 452000/506003 queries. users per second: 409.811"
      ]
     },
     "metadata": {},
     "output_type": "display_data"
    },
    {
     "data": {
      "text/html": [
       "<pre>recommendations finished on 453000/506003 queries. users per second: 409.796</pre>"
      ],
      "text/plain": [
       "recommendations finished on 453000/506003 queries. users per second: 409.796"
      ]
     },
     "metadata": {},
     "output_type": "display_data"
    },
    {
     "data": {
      "text/html": [
       "<pre>recommendations finished on 454000/506003 queries. users per second: 409.796</pre>"
      ],
      "text/plain": [
       "recommendations finished on 454000/506003 queries. users per second: 409.796"
      ]
     },
     "metadata": {},
     "output_type": "display_data"
    },
    {
     "data": {
      "text/html": [
       "<pre>recommendations finished on 455000/506003 queries. users per second: 409.801</pre>"
      ],
      "text/plain": [
       "recommendations finished on 455000/506003 queries. users per second: 409.801"
      ]
     },
     "metadata": {},
     "output_type": "display_data"
    },
    {
     "data": {
      "text/html": [
       "<pre>recommendations finished on 456000/506003 queries. users per second: 409.801</pre>"
      ],
      "text/plain": [
       "recommendations finished on 456000/506003 queries. users per second: 409.801"
      ]
     },
     "metadata": {},
     "output_type": "display_data"
    },
    {
     "data": {
      "text/html": [
       "<pre>recommendations finished on 457000/506003 queries. users per second: 409.823</pre>"
      ],
      "text/plain": [
       "recommendations finished on 457000/506003 queries. users per second: 409.823"
      ]
     },
     "metadata": {},
     "output_type": "display_data"
    },
    {
     "data": {
      "text/html": [
       "<pre>recommendations finished on 458000/506003 queries. users per second: 409.831</pre>"
      ],
      "text/plain": [
       "recommendations finished on 458000/506003 queries. users per second: 409.831"
      ]
     },
     "metadata": {},
     "output_type": "display_data"
    },
    {
     "data": {
      "text/html": [
       "<pre>recommendations finished on 459000/506003 queries. users per second: 409.842</pre>"
      ],
      "text/plain": [
       "recommendations finished on 459000/506003 queries. users per second: 409.842"
      ]
     },
     "metadata": {},
     "output_type": "display_data"
    },
    {
     "data": {
      "text/html": [
       "<pre>recommendations finished on 460000/506003 queries. users per second: 409.833</pre>"
      ],
      "text/plain": [
       "recommendations finished on 460000/506003 queries. users per second: 409.833"
      ]
     },
     "metadata": {},
     "output_type": "display_data"
    },
    {
     "data": {
      "text/html": [
       "<pre>recommendations finished on 461000/506003 queries. users per second: 409.799</pre>"
      ],
      "text/plain": [
       "recommendations finished on 461000/506003 queries. users per second: 409.799"
      ]
     },
     "metadata": {},
     "output_type": "display_data"
    },
    {
     "data": {
      "text/html": [
       "<pre>recommendations finished on 462000/506003 queries. users per second: 409.818</pre>"
      ],
      "text/plain": [
       "recommendations finished on 462000/506003 queries. users per second: 409.818"
      ]
     },
     "metadata": {},
     "output_type": "display_data"
    },
    {
     "data": {
      "text/html": [
       "<pre>recommendations finished on 463000/506003 queries. users per second: 409.836</pre>"
      ],
      "text/plain": [
       "recommendations finished on 463000/506003 queries. users per second: 409.836"
      ]
     },
     "metadata": {},
     "output_type": "display_data"
    },
    {
     "data": {
      "text/html": [
       "<pre>recommendations finished on 464000/506003 queries. users per second: 409.847</pre>"
      ],
      "text/plain": [
       "recommendations finished on 464000/506003 queries. users per second: 409.847"
      ]
     },
     "metadata": {},
     "output_type": "display_data"
    },
    {
     "data": {
      "text/html": [
       "<pre>recommendations finished on 465000/506003 queries. users per second: 409.865</pre>"
      ],
      "text/plain": [
       "recommendations finished on 465000/506003 queries. users per second: 409.865"
      ]
     },
     "metadata": {},
     "output_type": "display_data"
    },
    {
     "data": {
      "text/html": [
       "<pre>recommendations finished on 466000/506003 queries. users per second: 409.87</pre>"
      ],
      "text/plain": [
       "recommendations finished on 466000/506003 queries. users per second: 409.87"
      ]
     },
     "metadata": {},
     "output_type": "display_data"
    },
    {
     "data": {
      "text/html": [
       "<pre>recommendations finished on 467000/506003 queries. users per second: 409.881</pre>"
      ],
      "text/plain": [
       "recommendations finished on 467000/506003 queries. users per second: 409.881"
      ]
     },
     "metadata": {},
     "output_type": "display_data"
    },
    {
     "data": {
      "text/html": [
       "<pre>recommendations finished on 468000/506003 queries. users per second: 409.901</pre>"
      ],
      "text/plain": [
       "recommendations finished on 468000/506003 queries. users per second: 409.901"
      ]
     },
     "metadata": {},
     "output_type": "display_data"
    },
    {
     "data": {
      "text/html": [
       "<pre>recommendations finished on 469000/506003 queries. users per second: 409.725</pre>"
      ],
      "text/plain": [
       "recommendations finished on 469000/506003 queries. users per second: 409.725"
      ]
     },
     "metadata": {},
     "output_type": "display_data"
    },
    {
     "data": {
      "text/html": [
       "<pre>recommendations finished on 470000/506003 queries. users per second: 409.613</pre>"
      ],
      "text/plain": [
       "recommendations finished on 470000/506003 queries. users per second: 409.613"
      ]
     },
     "metadata": {},
     "output_type": "display_data"
    },
    {
     "data": {
      "text/html": [
       "<pre>recommendations finished on 471000/506003 queries. users per second: 409.643</pre>"
      ],
      "text/plain": [
       "recommendations finished on 471000/506003 queries. users per second: 409.643"
      ]
     },
     "metadata": {},
     "output_type": "display_data"
    },
    {
     "data": {
      "text/html": [
       "<pre>recommendations finished on 472000/506003 queries. users per second: 409.663</pre>"
      ],
      "text/plain": [
       "recommendations finished on 472000/506003 queries. users per second: 409.663"
      ]
     },
     "metadata": {},
     "output_type": "display_data"
    },
    {
     "data": {
      "text/html": [
       "<pre>recommendations finished on 473000/506003 queries. users per second: 409.678</pre>"
      ],
      "text/plain": [
       "recommendations finished on 473000/506003 queries. users per second: 409.678"
      ]
     },
     "metadata": {},
     "output_type": "display_data"
    },
    {
     "data": {
      "text/html": [
       "<pre>recommendations finished on 474000/506003 queries. users per second: 409.702</pre>"
      ],
      "text/plain": [
       "recommendations finished on 474000/506003 queries. users per second: 409.702"
      ]
     },
     "metadata": {},
     "output_type": "display_data"
    },
    {
     "data": {
      "text/html": [
       "<pre>recommendations finished on 475000/506003 queries. users per second: 409.732</pre>"
      ],
      "text/plain": [
       "recommendations finished on 475000/506003 queries. users per second: 409.732"
      ]
     },
     "metadata": {},
     "output_type": "display_data"
    },
    {
     "data": {
      "text/html": [
       "<pre>recommendations finished on 476000/506003 queries. users per second: 409.749</pre>"
      ],
      "text/plain": [
       "recommendations finished on 476000/506003 queries. users per second: 409.749"
      ]
     },
     "metadata": {},
     "output_type": "display_data"
    },
    {
     "data": {
      "text/html": [
       "<pre>recommendations finished on 477000/506003 queries. users per second: 409.769</pre>"
      ],
      "text/plain": [
       "recommendations finished on 477000/506003 queries. users per second: 409.769"
      ]
     },
     "metadata": {},
     "output_type": "display_data"
    },
    {
     "data": {
      "text/html": [
       "<pre>recommendations finished on 478000/506003 queries. users per second: 409.78</pre>"
      ],
      "text/plain": [
       "recommendations finished on 478000/506003 queries. users per second: 409.78"
      ]
     },
     "metadata": {},
     "output_type": "display_data"
    },
    {
     "data": {
      "text/html": [
       "<pre>recommendations finished on 479000/506003 queries. users per second: 409.795</pre>"
      ],
      "text/plain": [
       "recommendations finished on 479000/506003 queries. users per second: 409.795"
      ]
     },
     "metadata": {},
     "output_type": "display_data"
    },
    {
     "data": {
      "text/html": [
       "<pre>recommendations finished on 480000/506003 queries. users per second: 409.821</pre>"
      ],
      "text/plain": [
       "recommendations finished on 480000/506003 queries. users per second: 409.821"
      ]
     },
     "metadata": {},
     "output_type": "display_data"
    },
    {
     "data": {
      "text/html": [
       "<pre>recommendations finished on 481000/506003 queries. users per second: 409.828</pre>"
      ],
      "text/plain": [
       "recommendations finished on 481000/506003 queries. users per second: 409.828"
      ]
     },
     "metadata": {},
     "output_type": "display_data"
    },
    {
     "data": {
      "text/html": [
       "<pre>recommendations finished on 482000/506003 queries. users per second: 409.806</pre>"
      ],
      "text/plain": [
       "recommendations finished on 482000/506003 queries. users per second: 409.806"
      ]
     },
     "metadata": {},
     "output_type": "display_data"
    },
    {
     "data": {
      "text/html": [
       "<pre>recommendations finished on 483000/506003 queries. users per second: 409.75</pre>"
      ],
      "text/plain": [
       "recommendations finished on 483000/506003 queries. users per second: 409.75"
      ]
     },
     "metadata": {},
     "output_type": "display_data"
    },
    {
     "data": {
      "text/html": [
       "<pre>recommendations finished on 484000/506003 queries. users per second: 409.708</pre>"
      ],
      "text/plain": [
       "recommendations finished on 484000/506003 queries. users per second: 409.708"
      ]
     },
     "metadata": {},
     "output_type": "display_data"
    },
    {
     "data": {
      "text/html": [
       "<pre>recommendations finished on 485000/506003 queries. users per second: 409.73</pre>"
      ],
      "text/plain": [
       "recommendations finished on 485000/506003 queries. users per second: 409.73"
      ]
     },
     "metadata": {},
     "output_type": "display_data"
    },
    {
     "data": {
      "text/html": [
       "<pre>recommendations finished on 486000/506003 queries. users per second: 409.756</pre>"
      ],
      "text/plain": [
       "recommendations finished on 486000/506003 queries. users per second: 409.756"
      ]
     },
     "metadata": {},
     "output_type": "display_data"
    },
    {
     "data": {
      "text/html": [
       "<pre>recommendations finished on 487000/506003 queries. users per second: 409.776</pre>"
      ],
      "text/plain": [
       "recommendations finished on 487000/506003 queries. users per second: 409.776"
      ]
     },
     "metadata": {},
     "output_type": "display_data"
    },
    {
     "data": {
      "text/html": [
       "<pre>recommendations finished on 488000/506003 queries. users per second: 409.803</pre>"
      ],
      "text/plain": [
       "recommendations finished on 488000/506003 queries. users per second: 409.803"
      ]
     },
     "metadata": {},
     "output_type": "display_data"
    },
    {
     "data": {
      "text/html": [
       "<pre>recommendations finished on 489000/506003 queries. users per second: 409.821</pre>"
      ],
      "text/plain": [
       "recommendations finished on 489000/506003 queries. users per second: 409.821"
      ]
     },
     "metadata": {},
     "output_type": "display_data"
    },
    {
     "data": {
      "text/html": [
       "<pre>recommendations finished on 490000/506003 queries. users per second: 409.827</pre>"
      ],
      "text/plain": [
       "recommendations finished on 490000/506003 queries. users per second: 409.827"
      ]
     },
     "metadata": {},
     "output_type": "display_data"
    },
    {
     "data": {
      "text/html": [
       "<pre>recommendations finished on 491000/506003 queries. users per second: 409.835</pre>"
      ],
      "text/plain": [
       "recommendations finished on 491000/506003 queries. users per second: 409.835"
      ]
     },
     "metadata": {},
     "output_type": "display_data"
    },
    {
     "data": {
      "text/html": [
       "<pre>recommendations finished on 492000/506003 queries. users per second: 409.843</pre>"
      ],
      "text/plain": [
       "recommendations finished on 492000/506003 queries. users per second: 409.843"
      ]
     },
     "metadata": {},
     "output_type": "display_data"
    },
    {
     "data": {
      "text/html": [
       "<pre>recommendations finished on 493000/506003 queries. users per second: 409.867</pre>"
      ],
      "text/plain": [
       "recommendations finished on 493000/506003 queries. users per second: 409.867"
      ]
     },
     "metadata": {},
     "output_type": "display_data"
    },
    {
     "data": {
      "text/html": [
       "<pre>recommendations finished on 494000/506003 queries. users per second: 409.891</pre>"
      ],
      "text/plain": [
       "recommendations finished on 494000/506003 queries. users per second: 409.891"
      ]
     },
     "metadata": {},
     "output_type": "display_data"
    },
    {
     "data": {
      "text/html": [
       "<pre>recommendations finished on 495000/506003 queries. users per second: 409.906</pre>"
      ],
      "text/plain": [
       "recommendations finished on 495000/506003 queries. users per second: 409.906"
      ]
     },
     "metadata": {},
     "output_type": "display_data"
    },
    {
     "data": {
      "text/html": [
       "<pre>recommendations finished on 496000/506003 queries. users per second: 409.933</pre>"
      ],
      "text/plain": [
       "recommendations finished on 496000/506003 queries. users per second: 409.933"
      ]
     },
     "metadata": {},
     "output_type": "display_data"
    },
    {
     "data": {
      "text/html": [
       "<pre>recommendations finished on 497000/506003 queries. users per second: 409.953</pre>"
      ],
      "text/plain": [
       "recommendations finished on 497000/506003 queries. users per second: 409.953"
      ]
     },
     "metadata": {},
     "output_type": "display_data"
    },
    {
     "data": {
      "text/html": [
       "<pre>recommendations finished on 498000/506003 queries. users per second: 409.973</pre>"
      ],
      "text/plain": [
       "recommendations finished on 498000/506003 queries. users per second: 409.973"
      ]
     },
     "metadata": {},
     "output_type": "display_data"
    },
    {
     "data": {
      "text/html": [
       "<pre>recommendations finished on 499000/506003 queries. users per second: 409.953</pre>"
      ],
      "text/plain": [
       "recommendations finished on 499000/506003 queries. users per second: 409.953"
      ]
     },
     "metadata": {},
     "output_type": "display_data"
    },
    {
     "data": {
      "text/html": [
       "<pre>recommendations finished on 500000/506003 queries. users per second: 409.975</pre>"
      ],
      "text/plain": [
       "recommendations finished on 500000/506003 queries. users per second: 409.975"
      ]
     },
     "metadata": {},
     "output_type": "display_data"
    },
    {
     "data": {
      "text/html": [
       "<pre>recommendations finished on 501000/506003 queries. users per second: 409.984</pre>"
      ],
      "text/plain": [
       "recommendations finished on 501000/506003 queries. users per second: 409.984"
      ]
     },
     "metadata": {},
     "output_type": "display_data"
    },
    {
     "data": {
      "text/html": [
       "<pre>recommendations finished on 502000/506003 queries. users per second: 410.001</pre>"
      ],
      "text/plain": [
       "recommendations finished on 502000/506003 queries. users per second: 410.001"
      ]
     },
     "metadata": {},
     "output_type": "display_data"
    },
    {
     "data": {
      "text/html": [
       "<pre>recommendations finished on 503000/506003 queries. users per second: 410.014</pre>"
      ],
      "text/plain": [
       "recommendations finished on 503000/506003 queries. users per second: 410.014"
      ]
     },
     "metadata": {},
     "output_type": "display_data"
    },
    {
     "data": {
      "text/html": [
       "<pre>recommendations finished on 504000/506003 queries. users per second: 410.035</pre>"
      ],
      "text/plain": [
       "recommendations finished on 504000/506003 queries. users per second: 410.035"
      ]
     },
     "metadata": {},
     "output_type": "display_data"
    },
    {
     "data": {
      "text/html": [
       "<pre>recommendations finished on 505000/506003 queries. users per second: 409.867</pre>"
      ],
      "text/plain": [
       "recommendations finished on 505000/506003 queries. users per second: 409.867"
      ]
     },
     "metadata": {},
     "output_type": "display_data"
    },
    {
     "data": {
      "text/html": [
       "<pre>recommendations finished on 506000/506003 queries. users per second: 409.607</pre>"
      ],
      "text/plain": [
       "recommendations finished on 506000/506003 queries. users per second: 409.607"
      ]
     },
     "metadata": {},
     "output_type": "display_data"
    }
   ],
   "source": [
    "prec_rec = rec.evaluate_precision_recall(test,cutoffs=[100])"
   ]
  },
  {
   "cell_type": "code",
   "execution_count": 13,
   "metadata": {},
   "outputs": [],
   "source": [
    "evla_rmse = rec.evaluate_rmse(test,target='stars')"
   ]
  },
  {
   "cell_type": "code",
   "execution_count": 14,
   "metadata": {},
   "outputs": [
    {
     "data": {
      "text/plain": [
       "{'rmse_by_item': Columns:\n",
       " \tbusiness_id\tstr\n",
       " \tcount\tint\n",
       " \trmse\tfloat\n",
       " \n",
       " Rows: 138454\n",
       " \n",
       " Data:\n",
       " +------------------------+-------+---------------+\n",
       " |      business_id       | count |      rmse     |\n",
       " +------------------------+-------+---------------+\n",
       " | JDm9c_Gkm-N01H9K2PdgMw |   1   | 2.76938159419 |\n",
       " | icrwcgr0Pqle5PCL-Ki8Rw |   2   | 1.26835248405 |\n",
       " | Ijw0d-2wTcsciDesjCVgsA |   13  | 1.90521454565 |\n",
       " | L5CF9zPE5G0lCEExKn_qQg |   9   | 1.64238110263 |\n",
       " | o3oC0UK97tiV4cw97rAgfw |   7   |  1.3014528242 |\n",
       " | VDGMgPcGFB6acVw1qEoooA |   1   | 2.72806540532 |\n",
       " | PkM2kRiW_HJiV0E8p8yJsg |   1   | 1.66773834108 |\n",
       " | pUI96wpoJtsQc-aDP9UIqw |   2   | 1.18124971271 |\n",
       " | Bl7-eu0cRYJ6BiydS23-jw |   5   | 1.02134734084 |\n",
       " | K0QZq5UwpAZCUk9yWeOFcQ |   2   | 0.30406193632 |\n",
       " +------------------------+-------+---------------+\n",
       " [138454 rows x 3 columns]\n",
       " Note: Only the head of the SFrame is printed.\n",
       " You can use print_rows(num_rows=m, num_columns=n) to print more rows and columns.,\n",
       " 'rmse_by_user': Columns:\n",
       " \tuser_id\tstr\n",
       " \tcount\tint\n",
       " \trmse\tfloat\n",
       " \n",
       " Rows: 506003\n",
       " \n",
       " Data:\n",
       " +------------------------+-------+----------------+\n",
       " |        user_id         | count |      rmse      |\n",
       " +------------------------+-------+----------------+\n",
       " | 0BaJ43WuBnP-G6fmstEmNQ |   23  | 1.97611042903  |\n",
       " | 8O6LZqtQgGly4T4--HR-Nw |   1   | 1.44066864653  |\n",
       " | k0_OJy1YvtxCOyomdtHW4A |   7   | 0.969943377426 |\n",
       " | yXhe0xiTceaXq_PbFVGNkA |   1   | 1.25461381459  |\n",
       " | ojyAJnOaHy9OqXT-zmMH-A |   1   | 2.72806540532  |\n",
       " | X3LRAbZcdIebdJU1bEqpKQ |   1   | 1.28122824309  |\n",
       " | AqO_Ltv5Rr5qYSAx_kSX-g |   1   | 1.70826396002  |\n",
       " | s1PwuoKcKJHJ0Sx_3LWHBQ |   1   | 2.72806540532  |\n",
       " | iRTWVO4NKIgwBo957h2Zrw |   1   | 2.78660481824  |\n",
       " | EcEvSYL9hqa35IDAvJhljw |   1   | 0.182341795133 |\n",
       " +------------------------+-------+----------------+\n",
       " [506003 rows x 3 columns]\n",
       " Note: Only the head of the SFrame is printed.\n",
       " You can use print_rows(num_rows=m, num_columns=n) to print more rows and columns.,\n",
       " 'rmse_overall': 1.5458866492140457}"
      ]
     },
     "execution_count": 14,
     "metadata": {},
     "output_type": "execute_result"
    }
   ],
   "source": [
    "evla_rmse"
   ]
  },
  {
   "cell_type": "code",
   "execution_count": 33,
   "metadata": {},
   "outputs": [],
   "source": [
    "lat = rec['coefficients']\n",
    "U = np.asarray(lat['user_id']['factors'])\n",
    "V = np.asarray(lat['business_id']['factors'])"
   ]
  },
  {
   "cell_type": "code",
   "execution_count": null,
   "metadata": {},
   "outputs": [],
   "source": []
  }
 ],
 "metadata": {
  "kernelspec": {
   "display_name": "Python 2",
   "language": "python",
   "name": "python2"
  },
  "language_info": {
   "codemirror_mode": {
    "name": "ipython",
    "version": 2
   },
   "file_extension": ".py",
   "mimetype": "text/x-python",
   "name": "python",
   "nbconvert_exporter": "python",
   "pygments_lexer": "ipython2",
   "version": "2.7.14"
  }
 },
 "nbformat": 4,
 "nbformat_minor": 2
}
