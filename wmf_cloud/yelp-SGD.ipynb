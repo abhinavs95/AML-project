{
 "cells": [
  {
   "cell_type": "code",
   "execution_count": 5,
   "metadata": {},
   "outputs": [],
   "source": [
    "# coding: utf-8\n",
    "\"\"\"\n",
    "Source code for matrix completion\n",
    "Author: Abhinav Sharma (as5414)\n",
    "The details of the code and dev environment including descriptions of variables and functions is provided in the report pdf\n",
    "\"\"\"\n",
    "import scipy.sparse as sp\n",
    "import scipy.sparse.linalg as sla\n",
    "import numpy as np\n",
    "import pandas as pd\n",
    "import time\n",
    "import math\n",
    "\n",
    "# Function for loading and pre-processing data\n",
    "def get_data(path):\n",
    "    np_frame = pd.read_csv(path,usecols=[0,1,2]).as_matrix()\n",
    "\n",
    "    users = np_frame[:,0].astype(dtype = 'uint32')-1\n",
    "    items = np_frame[:,1].astype(dtype = 'uint32')-1\n",
    "    ratings = np_frame[:,2].astype(dtype = 'float64')\n",
    "\n",
    "    items_unique, items_cleaned = np.unique(items,return_inverse=True)\n",
    "\n",
    "    num_users = np.max(users)+1\n",
    "    num_items = items_unique.shape[0]\n",
    "\n",
    "    user_dict = {i: [] for i in range(num_users)}\n",
    "\n",
    "    for i in range(len(users)):\n",
    "        user_dict[users[i]].append([items_cleaned[i],ratings[i]])\n",
    "\n",
    "    R_train = sp.lil_matrix((num_users,num_items))\n",
    "    R_test = sp.lil_matrix((num_users,num_items))\n",
    "    num_train = 0\n",
    "    num_test = 0\n",
    "\n",
    "    for i in user_dict.keys():\n",
    "        l = len(user_dict[i])\n",
    "        indx = np.arange(l)\n",
    "        np.random.shuffle(indx)\n",
    "        temp = np.asarray(user_dict[i])\n",
    "        R_test[i,temp[indx[:l/2],0]] = temp[indx[:l/2],1]\n",
    "        R_train[i,temp[indx[l/2:],0]] = temp[indx[l/2:],1]\n",
    "        num_train += len(indx[l/2:])\n",
    "        num_test += len(indx[:l/2])\n",
    "\n",
    "    return R_train,R_test,num_users,num_items,num_train,num_test\n",
    "\n",
    "def itemize(data):\n",
    "    _,indx = np.unique(data,return_index=True)\n",
    "    u = data[np.sort(indx)]\n",
    "    n_data = u.shape[0]\n",
    "    new_indx = np.arange(n_data)\n",
    "    d = dict(zip(u,new_indx))\n",
    "    data_indx = np.zeros(data.shape, dtype=np.int32)\n",
    "    for i in range(data_indx.shape[0]):\n",
    "        data_indx[i] = d[data[i]]\n",
    "    return data_indx, n_data\n",
    "\n",
    "def load_data(path):\n",
    "    data = pd.read_csv(path)\n",
    "    data = data.drop(['funny', 'review_id', 'text', 'date', 'useful', 'cool'], axis=1)\n",
    "    data.drop_duplicates(inplace=True)\n",
    "    rows, cols, stars = np.array(data['user_id']), np.array(data['business_id']), np.array(data['stars'],dtype='float32')\n",
    "    # itemize users and items\n",
    "    row_indx, n_users = itemize(rows)\n",
    "    col_indx, n_items = itemize(cols)\n",
    "    return sp.csr_matrix((stars,(row_indx, col_indx)), dtype='float32', shape=(n_users,n_items))\n",
    "\n",
    "# Class for matrix completion\n",
    "class mat_comp():\n",
    "    \n",
    "    def __init__(self,R_train,R_test,num_users,num_items,num_train,num_test,r,lamda):\n",
    "        self.r = r\n",
    "        self.alpha = 0.01\n",
    "        #self.beta = 0.01\n",
    "        self.lamda = lamda\n",
    "        self.iters = 15\n",
    "        self.R_train = R_train\n",
    "        self.R_test = R_test\n",
    "        self.num_users = num_users\n",
    "        self.num_items = num_items\n",
    "        self.num_train = num_train\n",
    "        self.num_test = num_test\n",
    "        self.V = np.random.normal(scale=1.0/self.r,size=(self.num_users,self.r))\n",
    "        self.W = np.random.normal(scale=1.0/self.r,size=(self.num_items,self.r))\n",
    "        #self.b_u = np.zeros(self.num_users)\n",
    "        #self.b_i = np.zeros(self.num_items)\n",
    "        #self.b = np.sum(self.R_train)/self.R_train.nonzero()[0].shape[0]\n",
    "\n",
    "    # Perfrom SGD on train set\n",
    "    def sgd(self):\n",
    "        ind = np.asarray(self.R_train.nonzero()).T\n",
    "        np.random.shuffle(ind)\n",
    "        for i in range(ind.shape[0]):\n",
    "            err = self.R_train[ind[i,0],ind[i,1]] - (np.dot(self.V[ind[i,0],:],self.W[ind[i,1],:]))#+self.b+self.b_u[ind[i,0]]+self.b_i[ind[i,1]])\n",
    "            #self.b_u[ind[i,0]] += self.alpha*(err - self.beta * self.b_u[ind[i,0]])\n",
    "            #self.b_i[ind[i,1]] += self.alpha*(err - self.beta * self.b_i[ind[i,1]])\n",
    "            self.V[ind[i,0],:] += self.alpha*(err*self.W[ind[i,1],:] - self.lamda*self.V[ind[i,0],:])\n",
    "            self.W[ind[i,1],:] += self.alpha*(err*self.V[ind[i,0],:] - self.lamda*self.W[ind[i,1],:])\n",
    "\n",
    "    # Compute RMSE on train / test sets\n",
    "    def rmse(self,R,num):\n",
    "        term = sp.lil_matrix(R.shape)\n",
    "        ind = R.nonzero()\n",
    "        i_prev=0\n",
    "        k=0\n",
    "        for i in range(len(ind[0])-1):\n",
    "            if ind[0][i]==ind[0][i+1]:\n",
    "                i=i+1\n",
    "            else:\n",
    "                term[k,ind[1][i_prev:i+1]] = np.asarray([np.dot(self.V[ind[0][i],:],self.W[j,:])for j in ind[1][i_prev:i+1]])#+self.b+self.b_u[ind[0][i]]+self.b_i[j] \n",
    "                i_prev=i+1\n",
    "                k=k+1\n",
    "        term[k,ind[1][i_prev:i+1]] = np.asarray([np.dot(self.V[ind[0][i],:],self.W[j,:]) for j in ind[1][i_prev:i+1]])\n",
    "        term = R - term\n",
    "        rmse = math.sqrt(sla.norm(term)**2/num)\n",
    "        return rmse\n",
    "    \n",
    "    # Compute MRR on test set\n",
    "    def mrr(self):\n",
    "        mrr = 0\n",
    "        num = self.num_users\n",
    "        for u in range(self.num_users):\n",
    "            ind = self.R_test[u].nonzero()[1]\n",
    "            pred = (np.asarray([np.dot(self.V[u,:],self.W[j,:])+self.b+self.b_u[u]+self.b_i[j] for j in ind]),)\n",
    "            pred = np.argsort(pred)\n",
    "            arginv = np.zeros((len(ind)))\n",
    "            arginv[pred] = np.arange(len(ind))\n",
    "            indg = (self.R_test[u,ind]>=3.0).toarray()[0,:]\n",
    "            if np.sum(indg)>0:\n",
    "                mrr += np.sum((1.0/(arginv+1))[indg]) / np.sum(indg)\n",
    "            else:\n",
    "                num -=1\n",
    "        mrr /= num\n",
    "        return mrr\n",
    "    \n",
    "    # Train model\n",
    "    def train(self):\n",
    "        for i in range(self.iters):\n",
    "            start = time.time()\n",
    "            rmse = self.rmse(self.R_train,self.num_train)\n",
    "            self.sgd()\n",
    "            end = time.time()\n",
    "            print('iter: ',i, ' rmse: ', rmse,' time: ',end-start)\n",
    "        #rmse_test = self.rmse(R_test,num_test)\n",
    "        #mrr_test = self.mrr()\n",
    "        #return rmse_test,mrr_test,rmse"
   ]
  },
  {
   "cell_type": "code",
   "execution_count": 2,
   "metadata": {
    "scrolled": true
   },
   "outputs": [],
   "source": [
    "# Load and pre-process data\n",
    "path = '../../dataset/review.csv'\n",
    "R_train = load_data(path)\n",
    "R_train = R_train[:-1000000,:-100000]\n",
    "R_test = None\n",
    "num_users = R_train.shape[0]\n",
    "num_items = R_train.shape[1]\n",
    "num_train = R_train.count_nonzero()\n",
    "num_test = None\n",
    "\n",
    "\n",
    "# path = '../../../HW1/ml-20m/ratings.csv'\n",
    "# R_train,R_test,num_users,num_items,num_train,num_test = get_data(path)\n",
    "\n",
    "# Define ranges for grid search\n",
    "# l_range = [0.01,0.05,0.1,0.2,0.4,0.8]\n",
    "# r_range = [2,4,8,16,32,64]\n",
    "\n",
    "# Compute and store results\n",
    "# for lamda in l_range:\n",
    "#     for r in r_range:\n",
    "\n",
    "#np.save('resl'+str(lamda)+'r'+str(r),res)"
   ]
  },
  {
   "cell_type": "code",
   "execution_count": 6,
   "metadata": {},
   "outputs": [
    {
     "name": "stdout",
     "output_type": "stream",
     "text": [
      "('iter: ', 0, ' rmse: ', 4.126663507028058, ' time: ', 107.9257869720459)\n",
      "('iter: ', 1, ' rmse: ', 4.045225200557062, ' time: ', 111.27004790306091)\n",
      "('iter: ', 2, ' rmse: ', 4.033651689096913, ' time: ', 108.97926211357117)\n",
      "('iter: ', 3, ' rmse: ', 4.047891371171192, ' time: ', 107.79443907737732)\n",
      "('iter: ', 4, ' rmse: ', 4.103824780763576, ' time: ', 107.57871794700623)\n"
     ]
    },
    {
     "ename": "KeyboardInterrupt",
     "evalue": "",
     "output_type": "error",
     "traceback": [
      "\u001b[0;31m---------------------------------------------------------------------------\u001b[0m",
      "\u001b[0;31mKeyboardInterrupt\u001b[0m                         Traceback (most recent call last)",
      "\u001b[0;32m<ipython-input-6-87f55a33f33a>\u001b[0m in \u001b[0;36m<module>\u001b[0;34m()\u001b[0m\n\u001b[1;32m      2\u001b[0m \u001b[0mlamda\u001b[0m \u001b[0;34m=\u001b[0m \u001b[0;36m0.01\u001b[0m\u001b[0;34m\u001b[0m\u001b[0m\n\u001b[1;32m      3\u001b[0m \u001b[0mMC\u001b[0m \u001b[0;34m=\u001b[0m \u001b[0mmat_comp\u001b[0m\u001b[0;34m(\u001b[0m\u001b[0mR_train\u001b[0m\u001b[0;34m,\u001b[0m\u001b[0mR_test\u001b[0m\u001b[0;34m,\u001b[0m\u001b[0mnum_users\u001b[0m\u001b[0;34m,\u001b[0m\u001b[0mnum_items\u001b[0m\u001b[0;34m,\u001b[0m\u001b[0mnum_train\u001b[0m\u001b[0;34m,\u001b[0m\u001b[0mnum_test\u001b[0m\u001b[0;34m,\u001b[0m\u001b[0mr\u001b[0m\u001b[0;34m,\u001b[0m\u001b[0mlamda\u001b[0m\u001b[0;34m)\u001b[0m\u001b[0;34m\u001b[0m\u001b[0m\n\u001b[0;32m----> 4\u001b[0;31m \u001b[0mMC\u001b[0m\u001b[0;34m.\u001b[0m\u001b[0mtrain\u001b[0m\u001b[0;34m(\u001b[0m\u001b[0;34m)\u001b[0m\u001b[0;34m\u001b[0m\u001b[0m\n\u001b[0m",
      "\u001b[0;32m<ipython-input-5-061ab10e9b3f>\u001b[0m in \u001b[0;36mtrain\u001b[0;34m(self)\u001b[0m\n\u001b[1;32m    141\u001b[0m             \u001b[0mstart\u001b[0m \u001b[0;34m=\u001b[0m \u001b[0mtime\u001b[0m\u001b[0;34m.\u001b[0m\u001b[0mtime\u001b[0m\u001b[0;34m(\u001b[0m\u001b[0;34m)\u001b[0m\u001b[0;34m\u001b[0m\u001b[0m\n\u001b[1;32m    142\u001b[0m             \u001b[0mrmse\u001b[0m \u001b[0;34m=\u001b[0m \u001b[0mself\u001b[0m\u001b[0;34m.\u001b[0m\u001b[0mrmse\u001b[0m\u001b[0;34m(\u001b[0m\u001b[0mself\u001b[0m\u001b[0;34m.\u001b[0m\u001b[0mR_train\u001b[0m\u001b[0;34m,\u001b[0m\u001b[0mself\u001b[0m\u001b[0;34m.\u001b[0m\u001b[0mnum_train\u001b[0m\u001b[0;34m)\u001b[0m\u001b[0;34m\u001b[0m\u001b[0m\n\u001b[0;32m--> 143\u001b[0;31m             \u001b[0mself\u001b[0m\u001b[0;34m.\u001b[0m\u001b[0msgd\u001b[0m\u001b[0;34m(\u001b[0m\u001b[0;34m)\u001b[0m\u001b[0;34m\u001b[0m\u001b[0m\n\u001b[0m\u001b[1;32m    144\u001b[0m             \u001b[0mend\u001b[0m \u001b[0;34m=\u001b[0m \u001b[0mtime\u001b[0m\u001b[0;34m.\u001b[0m\u001b[0mtime\u001b[0m\u001b[0;34m(\u001b[0m\u001b[0;34m)\u001b[0m\u001b[0;34m\u001b[0m\u001b[0m\n\u001b[1;32m    145\u001b[0m             \u001b[0;32mprint\u001b[0m\u001b[0;34m(\u001b[0m\u001b[0;34m'iter: '\u001b[0m\u001b[0;34m,\u001b[0m\u001b[0mi\u001b[0m\u001b[0;34m,\u001b[0m \u001b[0;34m' rmse: '\u001b[0m\u001b[0;34m,\u001b[0m \u001b[0mrmse\u001b[0m\u001b[0;34m,\u001b[0m\u001b[0;34m' time: '\u001b[0m\u001b[0;34m,\u001b[0m\u001b[0mend\u001b[0m\u001b[0;34m-\u001b[0m\u001b[0mstart\u001b[0m\u001b[0;34m)\u001b[0m\u001b[0;34m\u001b[0m\u001b[0m\n",
      "\u001b[0;32m<ipython-input-5-061ab10e9b3f>\u001b[0m in \u001b[0;36msgd\u001b[0;34m(self)\u001b[0m\n\u001b[1;32m     94\u001b[0m         \u001b[0mnp\u001b[0m\u001b[0;34m.\u001b[0m\u001b[0mrandom\u001b[0m\u001b[0;34m.\u001b[0m\u001b[0mshuffle\u001b[0m\u001b[0;34m(\u001b[0m\u001b[0mind\u001b[0m\u001b[0;34m)\u001b[0m\u001b[0;34m\u001b[0m\u001b[0m\n\u001b[1;32m     95\u001b[0m         \u001b[0;32mfor\u001b[0m \u001b[0mi\u001b[0m \u001b[0;32min\u001b[0m \u001b[0mrange\u001b[0m\u001b[0;34m(\u001b[0m\u001b[0mind\u001b[0m\u001b[0;34m.\u001b[0m\u001b[0mshape\u001b[0m\u001b[0;34m[\u001b[0m\u001b[0;36m0\u001b[0m\u001b[0;34m]\u001b[0m\u001b[0;34m)\u001b[0m\u001b[0;34m:\u001b[0m\u001b[0;34m\u001b[0m\u001b[0m\n\u001b[0;32m---> 96\u001b[0;31m             \u001b[0merr\u001b[0m \u001b[0;34m=\u001b[0m \u001b[0mself\u001b[0m\u001b[0;34m.\u001b[0m\u001b[0mR_train\u001b[0m\u001b[0;34m[\u001b[0m\u001b[0mind\u001b[0m\u001b[0;34m[\u001b[0m\u001b[0mi\u001b[0m\u001b[0;34m,\u001b[0m\u001b[0;36m0\u001b[0m\u001b[0;34m]\u001b[0m\u001b[0;34m,\u001b[0m\u001b[0mind\u001b[0m\u001b[0;34m[\u001b[0m\u001b[0mi\u001b[0m\u001b[0;34m,\u001b[0m\u001b[0;36m1\u001b[0m\u001b[0;34m]\u001b[0m\u001b[0;34m]\u001b[0m \u001b[0;34m-\u001b[0m \u001b[0;34m(\u001b[0m\u001b[0mnp\u001b[0m\u001b[0;34m.\u001b[0m\u001b[0mdot\u001b[0m\u001b[0;34m(\u001b[0m\u001b[0mself\u001b[0m\u001b[0;34m.\u001b[0m\u001b[0mV\u001b[0m\u001b[0;34m[\u001b[0m\u001b[0mind\u001b[0m\u001b[0;34m[\u001b[0m\u001b[0mi\u001b[0m\u001b[0;34m,\u001b[0m\u001b[0;36m0\u001b[0m\u001b[0;34m]\u001b[0m\u001b[0;34m,\u001b[0m\u001b[0;34m:\u001b[0m\u001b[0;34m]\u001b[0m\u001b[0;34m,\u001b[0m\u001b[0mself\u001b[0m\u001b[0;34m.\u001b[0m\u001b[0mW\u001b[0m\u001b[0;34m[\u001b[0m\u001b[0mind\u001b[0m\u001b[0;34m[\u001b[0m\u001b[0mi\u001b[0m\u001b[0;34m,\u001b[0m\u001b[0;36m1\u001b[0m\u001b[0;34m]\u001b[0m\u001b[0;34m,\u001b[0m\u001b[0;34m:\u001b[0m\u001b[0;34m]\u001b[0m\u001b[0;34m)\u001b[0m\u001b[0;34m)\u001b[0m\u001b[0;31m#+self.b+self.b_u[ind[i,0]]+self.b_i[ind[i,1]])\u001b[0m\u001b[0;34m\u001b[0m\u001b[0m\n\u001b[0m\u001b[1;32m     97\u001b[0m             \u001b[0;31m#self.b_u[ind[i,0]] += self.alpha*(err - self.beta * self.b_u[ind[i,0]])\u001b[0m\u001b[0;34m\u001b[0m\u001b[0;34m\u001b[0m\u001b[0m\n\u001b[1;32m     98\u001b[0m             \u001b[0;31m#self.b_i[ind[i,1]] += self.alpha*(err - self.beta * self.b_i[ind[i,1]])\u001b[0m\u001b[0;34m\u001b[0m\u001b[0;34m\u001b[0m\u001b[0m\n",
      "\u001b[0;32m/anaconda3/envs/py27/lib/python2.7/site-packages/scipy/sparse/csr.pyc\u001b[0m in \u001b[0;36m__getitem__\u001b[0;34m(self, key)\u001b[0m\n\u001b[1;32m    286\u001b[0m         \u001b[0;32mif\u001b[0m \u001b[0misintlike\u001b[0m\u001b[0;34m(\u001b[0m\u001b[0mrow\u001b[0m\u001b[0;34m)\u001b[0m\u001b[0;34m:\u001b[0m\u001b[0;34m\u001b[0m\u001b[0m\n\u001b[1;32m    287\u001b[0m             \u001b[0;31m# [i, j]\u001b[0m\u001b[0;34m\u001b[0m\u001b[0;34m\u001b[0m\u001b[0m\n\u001b[0;32m--> 288\u001b[0;31m             \u001b[0;32mif\u001b[0m \u001b[0misintlike\u001b[0m\u001b[0;34m(\u001b[0m\u001b[0mcol\u001b[0m\u001b[0;34m)\u001b[0m\u001b[0;34m:\u001b[0m\u001b[0;34m\u001b[0m\u001b[0m\n\u001b[0m\u001b[1;32m    289\u001b[0m                 \u001b[0;32mreturn\u001b[0m \u001b[0mself\u001b[0m\u001b[0;34m.\u001b[0m\u001b[0m_get_single_element\u001b[0m\u001b[0;34m(\u001b[0m\u001b[0mrow\u001b[0m\u001b[0;34m,\u001b[0m \u001b[0mcol\u001b[0m\u001b[0;34m)\u001b[0m\u001b[0;34m\u001b[0m\u001b[0m\n\u001b[1;32m    290\u001b[0m             \u001b[0;31m# [i, 1:2]\u001b[0m\u001b[0;34m\u001b[0m\u001b[0;34m\u001b[0m\u001b[0m\n",
      "\u001b[0;32m/anaconda3/envs/py27/lib/python2.7/site-packages/scipy/sparse/sputils.pyc\u001b[0m in \u001b[0;36misintlike\u001b[0;34m(x)\u001b[0m\n\u001b[1;32m    193\u001b[0m         \u001b[0;32mreturn\u001b[0m \u001b[0mFalse\u001b[0m\u001b[0;34m\u001b[0m\u001b[0m\n\u001b[1;32m    194\u001b[0m     \u001b[0;32mtry\u001b[0m\u001b[0;34m:\u001b[0m\u001b[0;34m\u001b[0m\u001b[0m\n\u001b[0;32m--> 195\u001b[0;31m         \u001b[0;32mreturn\u001b[0m \u001b[0mbool\u001b[0m\u001b[0;34m(\u001b[0m\u001b[0mint\u001b[0m\u001b[0;34m(\u001b[0m\u001b[0mx\u001b[0m\u001b[0;34m)\u001b[0m \u001b[0;34m==\u001b[0m \u001b[0mx\u001b[0m\u001b[0;34m)\u001b[0m\u001b[0;34m\u001b[0m\u001b[0m\n\u001b[0m\u001b[1;32m    196\u001b[0m     \u001b[0;32mexcept\u001b[0m \u001b[0;34m(\u001b[0m\u001b[0mTypeError\u001b[0m\u001b[0;34m,\u001b[0m \u001b[0mValueError\u001b[0m\u001b[0;34m)\u001b[0m\u001b[0;34m:\u001b[0m\u001b[0;34m\u001b[0m\u001b[0m\n\u001b[1;32m    197\u001b[0m         \u001b[0;32mreturn\u001b[0m \u001b[0mFalse\u001b[0m\u001b[0;34m\u001b[0m\u001b[0m\n",
      "\u001b[0;31mKeyboardInterrupt\u001b[0m: "
     ]
    }
   ],
   "source": [
    "r = 1\n",
    "lamda = 0.01\n",
    "MC = mat_comp(R_train,R_test,num_users,num_items,num_train,num_test,r,lamda)\n",
    "MC.train()"
   ]
  },
  {
   "cell_type": "code",
   "execution_count": 59,
   "metadata": {},
   "outputs": [
    {
     "data": {
      "text/plain": [
       "4.891958036776596"
      ]
     },
     "execution_count": 59,
     "metadata": {},
     "output_type": "execute_result"
    }
   ],
   "source": [
    "MC.rmse(R_train,num_train)"
   ]
  },
  {
   "cell_type": "code",
   "execution_count": 58,
   "metadata": {},
   "outputs": [],
   "source": [
    "MC.sgd()"
   ]
  },
  {
   "cell_type": "code",
   "execution_count": 26,
   "metadata": {},
   "outputs": [
    {
     "data": {
      "text/plain": [
       "326101"
      ]
     },
     "execution_count": 26,
     "metadata": {},
     "output_type": "execute_result"
    }
   ],
   "source": [
    "num_users"
   ]
  },
  {
   "cell_type": "code",
   "execution_count": 27,
   "metadata": {},
   "outputs": [
    {
     "data": {
      "text/plain": [
       "74567"
      ]
     },
     "execution_count": 27,
     "metadata": {},
     "output_type": "execute_result"
    }
   ],
   "source": [
    "num_items"
   ]
  },
  {
   "cell_type": "code",
   "execution_count": 1,
   "metadata": {},
   "outputs": [
    {
     "name": "stderr",
     "output_type": "stream",
     "text": [
      "[INFO] graphlab.cython.cy_server: GraphLab Create v2.1 started. Logging: /tmp/graphlab_server_1524851030.log\n"
     ]
    },
    {
     "name": "stdout",
     "output_type": "stream",
     "text": [
      "This non-commercial license of GraphLab Create for academic use is assigned to as5414@columbia.edu and will expire on April 26, 2019.\n"
     ]
    }
   ],
   "source": [
    "import graphlab\n",
    "import pandas as pd\n",
    "from sklearn.metrics import mean_squared_error\n",
    "import numpy as np"
   ]
  },
  {
   "cell_type": "code",
   "execution_count": 2,
   "metadata": {},
   "outputs": [],
   "source": [
    "df = pd.read_csv('../../dataset/review.csv')"
   ]
  },
  {
   "cell_type": "code",
   "execution_count": null,
   "metadata": {
    "scrolled": false
   },
   "outputs": [
    {
     "data": {
      "text/html": [
       "<pre>Recsys training: model = factorization_recommender</pre>"
      ],
      "text/plain": [
       "Recsys training: model = factorization_recommender"
      ]
     },
     "metadata": {},
     "output_type": "display_data"
    },
    {
     "data": {
      "text/html": [
       "<pre>Preparing data set.</pre>"
      ],
      "text/plain": [
       "Preparing data set."
      ]
     },
     "metadata": {},
     "output_type": "display_data"
    },
    {
     "data": {
      "text/html": [
       "<pre>    Data has 4209321 observations with 1184723 users and 174285 items.</pre>"
      ],
      "text/plain": [
       "    Data has 4209321 observations with 1184723 users and 174285 items."
      ]
     },
     "metadata": {},
     "output_type": "display_data"
    },
    {
     "data": {
      "text/html": [
       "<pre>    Data prepared in: 4.7535s</pre>"
      ],
      "text/plain": [
       "    Data prepared in: 4.7535s"
      ]
     },
     "metadata": {},
     "output_type": "display_data"
    },
    {
     "data": {
      "text/html": [
       "<pre>Training factorization_recommender for recommendations.</pre>"
      ],
      "text/plain": [
       "Training factorization_recommender for recommendations."
      ]
     },
     "metadata": {},
     "output_type": "display_data"
    },
    {
     "data": {
      "text/html": [
       "<pre>+------------------------------+--------------------------------------------------+----------+</pre>"
      ],
      "text/plain": [
       "+------------------------------+--------------------------------------------------+----------+"
      ]
     },
     "metadata": {},
     "output_type": "display_data"
    },
    {
     "data": {
      "text/html": [
       "<pre>| Parameter                    | Description                                      | Value    |</pre>"
      ],
      "text/plain": [
       "| Parameter                    | Description                                      | Value    |"
      ]
     },
     "metadata": {},
     "output_type": "display_data"
    },
    {
     "data": {
      "text/html": [
       "<pre>+------------------------------+--------------------------------------------------+----------+</pre>"
      ],
      "text/plain": [
       "+------------------------------+--------------------------------------------------+----------+"
      ]
     },
     "metadata": {},
     "output_type": "display_data"
    },
    {
     "data": {
      "text/html": [
       "<pre>| num_factors                  | Factor Dimension                                 | 50       |</pre>"
      ],
      "text/plain": [
       "| num_factors                  | Factor Dimension                                 | 50       |"
      ]
     },
     "metadata": {},
     "output_type": "display_data"
    },
    {
     "data": {
      "text/html": [
       "<pre>| regularization               | L2 Regularization on Factors                     | 1e-06    |</pre>"
      ],
      "text/plain": [
       "| regularization               | L2 Regularization on Factors                     | 1e-06    |"
      ]
     },
     "metadata": {},
     "output_type": "display_data"
    },
    {
     "data": {
      "text/html": [
       "<pre>| max_iterations               | Maximum Number of Iterations                     | 10       |</pre>"
      ],
      "text/plain": [
       "| max_iterations               | Maximum Number of Iterations                     | 10       |"
      ]
     },
     "metadata": {},
     "output_type": "display_data"
    },
    {
     "data": {
      "text/html": [
       "<pre>| solver                       | Solver used for training                         | als      |</pre>"
      ],
      "text/plain": [
       "| solver                       | Solver used for training                         | als      |"
      ]
     },
     "metadata": {},
     "output_type": "display_data"
    },
    {
     "data": {
      "text/html": [
       "<pre>+------------------------------+--------------------------------------------------+----------+</pre>"
      ],
      "text/plain": [
       "+------------------------------+--------------------------------------------------+----------+"
      ]
     },
     "metadata": {},
     "output_type": "display_data"
    },
    {
     "data": {
      "text/html": [
       "<pre>+---------+--------------+------------------------+</pre>"
      ],
      "text/plain": [
       "+---------+--------------+------------------------+"
      ]
     },
     "metadata": {},
     "output_type": "display_data"
    },
    {
     "data": {
      "text/html": [
       "<pre>| Iter.   | Elapsed time | RMSE                   |</pre>"
      ],
      "text/plain": [
       "| Iter.   | Elapsed time | RMSE                   |"
      ]
     },
     "metadata": {},
     "output_type": "display_data"
    },
    {
     "data": {
      "text/html": [
       "<pre>+---------+--------------+------------------------+</pre>"
      ],
      "text/plain": [
       "+---------+--------------+------------------------+"
      ]
     },
     "metadata": {},
     "output_type": "display_data"
    },
    {
     "data": {
      "text/html": [
       "<pre>| Initial | 200us        | NA                     |</pre>"
      ],
      "text/plain": [
       "| Initial | 200us        | NA                     |"
      ]
     },
     "metadata": {},
     "output_type": "display_data"
    },
    {
     "data": {
      "text/html": [
       "<pre>+---------+--------------+------------------------+</pre>"
      ],
      "text/plain": [
       "+---------+--------------+------------------------+"
      ]
     },
     "metadata": {},
     "output_type": "display_data"
    },
    {
     "data": {
      "text/html": [
       "<pre>| 0       | 20.24s       | 1.43349                |</pre>"
      ],
      "text/plain": [
       "| 0       | 20.24s       | 1.43349                |"
      ]
     },
     "metadata": {},
     "output_type": "display_data"
    },
    {
     "data": {
      "text/html": [
       "<pre>| 1       | 41.97s       | 1.39812                |</pre>"
      ],
      "text/plain": [
       "| 1       | 41.97s       | 1.39812                |"
      ]
     },
     "metadata": {},
     "output_type": "display_data"
    },
    {
     "data": {
      "text/html": [
       "<pre>| 2       | 1m 3s        | 1.08026                |</pre>"
      ],
      "text/plain": [
       "| 2       | 1m 3s        | 1.08026                |"
      ]
     },
     "metadata": {},
     "output_type": "display_data"
    },
    {
     "data": {
      "text/html": [
       "<pre>| 3       | 1m 24s       | 0.716324               |</pre>"
      ],
      "text/plain": [
       "| 3       | 1m 24s       | 0.716324               |"
      ]
     },
     "metadata": {},
     "output_type": "display_data"
    },
    {
     "data": {
      "text/html": [
       "<pre>| 4       | 1m 45s       | 0.621625               |</pre>"
      ],
      "text/plain": [
       "| 4       | 1m 45s       | 0.621625               |"
      ]
     },
     "metadata": {},
     "output_type": "display_data"
    }
   ],
   "source": [
    "# Matrix Factorization recommender using Graphlab\n",
    "sf = graphlab.SFrame(df[['user_id', 'business_id', 'stars']])\n",
    "\n",
    "train, test = graphlab.recommender.util.random_split_by_user(sf,user_id='user_id',item_id='business_id',max_num_users=None)\n",
    "\n",
    "\n",
    "rec = graphlab.recommender.factorization_recommender.create(\n",
    "            train,\n",
    "            user_id='user_id',\n",
    "            item_id='business_id',\n",
    "            target='stars',\n",
    "            solver='als',\n",
    "            max_iterations=10,\n",
    "            regularization=0.000001,\n",
    "            num_factors=50,\n",
    "            side_data_factorization=False)\n",
    "\n",
    "predictions = rec.predict(train)\n",
    "rmse = np.sqrt(mean_squared_error(train['stars'], predictions))\n",
    "\n",
    "print \"graphlab's reported rmse:\", rec['training_rmse']\n",
    "print \"calculated rmse:\", rmse  "
   ]
  },
  {
   "cell_type": "code",
   "execution_count": 16,
   "metadata": {
    "scrolled": true
   },
   "outputs": [
    {
     "data": {
      "text/html": [
       "<pre>recommendations finished on 1000/506003 queries. users per second: 158.455</pre>"
      ],
      "text/plain": [
       "recommendations finished on 1000/506003 queries. users per second: 158.455"
      ]
     },
     "metadata": {},
     "output_type": "display_data"
    },
    {
     "data": {
      "text/html": [
       "<pre>recommendations finished on 2000/506003 queries. users per second: 170.236</pre>"
      ],
      "text/plain": [
       "recommendations finished on 2000/506003 queries. users per second: 170.236"
      ]
     },
     "metadata": {},
     "output_type": "display_data"
    },
    {
     "data": {
      "text/html": [
       "<pre>recommendations finished on 3000/506003 queries. users per second: 173.288</pre>"
      ],
      "text/plain": [
       "recommendations finished on 3000/506003 queries. users per second: 173.288"
      ]
     },
     "metadata": {},
     "output_type": "display_data"
    },
    {
     "data": {
      "text/html": [
       "<pre>recommendations finished on 4000/506003 queries. users per second: 170.372</pre>"
      ],
      "text/plain": [
       "recommendations finished on 4000/506003 queries. users per second: 170.372"
      ]
     },
     "metadata": {},
     "output_type": "display_data"
    },
    {
     "data": {
      "text/html": [
       "<pre>recommendations finished on 5000/506003 queries. users per second: 150.521</pre>"
      ],
      "text/plain": [
       "recommendations finished on 5000/506003 queries. users per second: 150.521"
      ]
     },
     "metadata": {},
     "output_type": "display_data"
    },
    {
     "data": {
      "text/html": [
       "<pre>recommendations finished on 6000/506003 queries. users per second: 144.023</pre>"
      ],
      "text/plain": [
       "recommendations finished on 6000/506003 queries. users per second: 144.023"
      ]
     },
     "metadata": {},
     "output_type": "display_data"
    },
    {
     "name": "stderr",
     "output_type": "stream",
     "text": [
      "[ERROR] graphlab.toolkits._main: Toolkit error: Cancelled by user.\n"
     ]
    },
    {
     "ename": "ToolkitError",
     "evalue": "Cancelled by user.",
     "output_type": "error",
     "traceback": [
      "\u001b[0;31m---------------------------------------------------------------------------\u001b[0m",
      "\u001b[0;31mToolkitError\u001b[0m                              Traceback (most recent call last)",
      "\u001b[0;32m<ipython-input-16-7ff59c6227ca>\u001b[0m in \u001b[0;36m<module>\u001b[0;34m()\u001b[0m\n\u001b[0;32m----> 1\u001b[0;31m \u001b[0mprec_rec\u001b[0m \u001b[0;34m=\u001b[0m \u001b[0mrec\u001b[0m\u001b[0;34m.\u001b[0m\u001b[0mevaluate_precision_recall\u001b[0m\u001b[0;34m(\u001b[0m\u001b[0mtest\u001b[0m\u001b[0;34m,\u001b[0m\u001b[0mcutoffs\u001b[0m\u001b[0;34m=\u001b[0m\u001b[0;34m[\u001b[0m\u001b[0;36m100\u001b[0m\u001b[0;34m]\u001b[0m\u001b[0;34m)\u001b[0m\u001b[0;34m\u001b[0m\u001b[0m\n\u001b[0m",
      "\u001b[0;32m/anaconda3/envs/py27/lib/python2.7/site-packages/graphlab/toolkits/recommender/util.pyc\u001b[0m in \u001b[0;36mevaluate_precision_recall\u001b[0;34m(self, dataset, cutoffs, skip_set, exclude_known, verbose, **kwargs)\u001b[0m\n\u001b[1;32m   2133\u001b[0m                               \u001b[0mexclude_known\u001b[0m\u001b[0;34m=\u001b[0m\u001b[0mexclude_known\u001b[0m\u001b[0;34m,\u001b[0m\u001b[0;34m\u001b[0m\u001b[0m\n\u001b[1;32m   2134\u001b[0m                               \u001b[0mverbose\u001b[0m\u001b[0;34m=\u001b[0m\u001b[0mverbose\u001b[0m\u001b[0;34m,\u001b[0m\u001b[0;34m\u001b[0m\u001b[0m\n\u001b[0;32m-> 2135\u001b[0;31m                               **kwargs)\n\u001b[0m\u001b[1;32m   2136\u001b[0m \u001b[0;34m\u001b[0m\u001b[0m\n\u001b[1;32m   2137\u001b[0m         \u001b[0mprecision_recall_by_user\u001b[0m \u001b[0;34m=\u001b[0m \u001b[0m_graphlab\u001b[0m\u001b[0;34m.\u001b[0m\u001b[0mrecommender\u001b[0m\u001b[0;34m.\u001b[0m\u001b[0mutil\u001b[0m\u001b[0;34m.\u001b[0m\u001b[0mprecision_recall_by_user\u001b[0m\u001b[0;34m(\u001b[0m\u001b[0mdataset\u001b[0m\u001b[0;34m,\u001b[0m \u001b[0mrecs\u001b[0m\u001b[0;34m,\u001b[0m \u001b[0mcutoffs\u001b[0m\u001b[0;34m)\u001b[0m\u001b[0;34m\u001b[0m\u001b[0m\n",
      "\u001b[0;32m/anaconda3/envs/py27/lib/python2.7/site-packages/graphlab/toolkits/recommender/util.pyc\u001b[0m in \u001b[0;36mrecommend\u001b[0;34m(self, users, k, exclude, items, new_observation_data, new_user_data, new_item_data, exclude_known, diversity, random_seed, verbose)\u001b[0m\n\u001b[1;32m   1871\u001b[0m                \u001b[0;34m'random_seed'\u001b[0m \u001b[0;34m:\u001b[0m \u001b[0mrandom_seed\u001b[0m\u001b[0;34m\u001b[0m\u001b[0m\n\u001b[1;32m   1872\u001b[0m                }\n\u001b[0;32m-> 1873\u001b[0;31m         \u001b[0mresponse\u001b[0m \u001b[0;34m=\u001b[0m \u001b[0m_graphlab\u001b[0m\u001b[0;34m.\u001b[0m\u001b[0mtoolkits\u001b[0m\u001b[0;34m.\u001b[0m\u001b[0m_main\u001b[0m\u001b[0;34m.\u001b[0m\u001b[0mrun\u001b[0m\u001b[0;34m(\u001b[0m\u001b[0;34m'recsys_recommend'\u001b[0m\u001b[0;34m,\u001b[0m \u001b[0mopt\u001b[0m\u001b[0;34m,\u001b[0m \u001b[0mverbose\u001b[0m\u001b[0;34m=\u001b[0m\u001b[0mverbose\u001b[0m\u001b[0;34m)\u001b[0m\u001b[0;34m\u001b[0m\u001b[0m\n\u001b[0m\u001b[1;32m   1874\u001b[0m         \u001b[0mrecs\u001b[0m \u001b[0;34m=\u001b[0m \u001b[0m_SFrame\u001b[0m\u001b[0;34m(\u001b[0m\u001b[0mNone\u001b[0m\u001b[0;34m,\u001b[0m \u001b[0m_proxy\u001b[0m\u001b[0;34m=\u001b[0m\u001b[0mresponse\u001b[0m\u001b[0;34m[\u001b[0m\u001b[0;34m'data'\u001b[0m\u001b[0;34m]\u001b[0m\u001b[0;34m)\u001b[0m\u001b[0;34m\u001b[0m\u001b[0m\n\u001b[1;32m   1875\u001b[0m \u001b[0;34m\u001b[0m\u001b[0m\n",
      "\u001b[0;32m/anaconda3/envs/py27/lib/python2.7/site-packages/graphlab/toolkits/_main.pyc\u001b[0m in \u001b[0;36mrun\u001b[0;34m(toolkit_name, options, verbose, show_progress)\u001b[0m\n\u001b[1;32m     87\u001b[0m         \u001b[0m_get_metric_tracker\u001b[0m\u001b[0;34m(\u001b[0m\u001b[0;34m)\u001b[0m\u001b[0;34m.\u001b[0m\u001b[0mtrack\u001b[0m\u001b[0;34m(\u001b[0m\u001b[0mmetric_name\u001b[0m\u001b[0;34m,\u001b[0m \u001b[0mvalue\u001b[0m\u001b[0;34m=\u001b[0m\u001b[0;36m1\u001b[0m\u001b[0;34m,\u001b[0m \u001b[0mproperties\u001b[0m\u001b[0;34m=\u001b[0m\u001b[0mtrack_props\u001b[0m\u001b[0;34m,\u001b[0m \u001b[0msend_sys_info\u001b[0m\u001b[0;34m=\u001b[0m\u001b[0mFalse\u001b[0m\u001b[0;34m)\u001b[0m\u001b[0;34m\u001b[0m\u001b[0m\n\u001b[1;32m     88\u001b[0m \u001b[0;34m\u001b[0m\u001b[0m\n\u001b[0;32m---> 89\u001b[0;31m         \u001b[0;32mraise\u001b[0m \u001b[0mToolkitError\u001b[0m\u001b[0;34m(\u001b[0m\u001b[0mstr\u001b[0m\u001b[0;34m(\u001b[0m\u001b[0mmessage\u001b[0m\u001b[0;34m)\u001b[0m\u001b[0;34m)\u001b[0m\u001b[0;34m\u001b[0m\u001b[0m\n\u001b[0m",
      "\u001b[0;31mToolkitError\u001b[0m: Cancelled by user."
     ]
    }
   ],
   "source": [
    "prec_rec = rec.evaluate_precision_recall(test,cutoffs=[100])"
   ]
  },
  {
   "cell_type": "code",
   "execution_count": 17,
   "metadata": {},
   "outputs": [
    {
     "data": {
      "text/plain": [
       "{'precision_recall_by_user': Columns:\n",
       " \tuser_id\tstr\n",
       " \tcutoff\tint\n",
       " \tprecision\tfloat\n",
       " \trecall\tfloat\n",
       " \tcount\tint\n",
       " \n",
       " Rows: 9108054\n",
       " \n",
       " Data:\n",
       " +------------------------+--------+-----------+--------+-------+\n",
       " |        user_id         | cutoff | precision | recall | count |\n",
       " +------------------------+--------+-----------+--------+-------+\n",
       " | ---1lKK3aKOuomHnwAkAow |   1    |    0.0    |  0.0   |   17  |\n",
       " | ---1lKK3aKOuomHnwAkAow |   2    |    0.0    |  0.0   |   17  |\n",
       " | ---1lKK3aKOuomHnwAkAow |   3    |    0.0    |  0.0   |   17  |\n",
       " | ---1lKK3aKOuomHnwAkAow |   4    |    0.0    |  0.0   |   17  |\n",
       " | ---1lKK3aKOuomHnwAkAow |   5    |    0.0    |  0.0   |   17  |\n",
       " | ---1lKK3aKOuomHnwAkAow |   6    |    0.0    |  0.0   |   17  |\n",
       " | ---1lKK3aKOuomHnwAkAow |   7    |    0.0    |  0.0   |   17  |\n",
       " | ---1lKK3aKOuomHnwAkAow |   8    |    0.0    |  0.0   |   17  |\n",
       " | ---1lKK3aKOuomHnwAkAow |   9    |    0.0    |  0.0   |   17  |\n",
       " | ---1lKK3aKOuomHnwAkAow |   10   |    0.0    |  0.0   |   17  |\n",
       " +------------------------+--------+-----------+--------+-------+\n",
       " [9108054 rows x 5 columns]\n",
       " Note: Only the head of the SFrame is printed.\n",
       " You can use print_rows(num_rows=m, num_columns=n) to print more rows and columns.,\n",
       " 'precision_recall_overall': Columns:\n",
       " \tcutoff\tint\n",
       " \tprecision\tfloat\n",
       " \trecall\tfloat\n",
       " \n",
       " Rows: 18\n",
       " \n",
       " Data:\n",
       " +--------+-------------------+-------------------+\n",
       " | cutoff |     precision     |       recall      |\n",
       " +--------+-------------------+-------------------+\n",
       " |   1    | 0.000966397432426 | 0.000520226315152 |\n",
       " |   2    | 0.000869560061897 | 0.000894905170166 |\n",
       " |   3    | 0.000795120450538 |  0.00119626212343 |\n",
       " |   4    | 0.000751971826254 |  0.00150128168233 |\n",
       " |   5    | 0.000724106378816 |   0.001802966731  |\n",
       " |   6    | 0.000688401715668 |  0.0020442248602  |\n",
       " |   7    | 0.000664592333021 |  0.00230872573865 |\n",
       " |   8    | 0.000646982330144 |  0.00253561034089 |\n",
       " |   9    | 0.000631309388372 |  0.00278851481547 |\n",
       " |   10   | 0.000615608998366 |  0.00302861324083 |\n",
       " +--------+-------------------+-------------------+\n",
       " [18 rows x 3 columns]\n",
       " Note: Only the head of the SFrame is printed.\n",
       " You can use print_rows(num_rows=m, num_columns=n) to print more rows and columns.}"
      ]
     },
     "execution_count": 17,
     "metadata": {},
     "output_type": "execute_result"
    }
   ],
   "source": [
    "prec_rec"
   ]
  },
  {
   "cell_type": "code",
   "execution_count": 33,
   "metadata": {},
   "outputs": [],
   "source": [
    "lat = rec['coefficients']\n",
    "U = np.asarray(lat['user_id']['factors'])\n",
    "V = np.asarray(lat['business_id']['factors'])"
   ]
  },
  {
   "cell_type": "code",
   "execution_count": null,
   "metadata": {},
   "outputs": [],
   "source": []
  }
 ],
 "metadata": {
  "kernelspec": {
   "display_name": "Python 2",
   "language": "python",
   "name": "python2"
  },
  "language_info": {
   "codemirror_mode": {
    "name": "ipython",
    "version": 2
   },
   "file_extension": ".py",
   "mimetype": "text/x-python",
   "name": "python",
   "nbconvert_exporter": "python",
   "pygments_lexer": "ipython2",
   "version": "2.7.14"
  }
 },
 "nbformat": 4,
 "nbformat_minor": 2
}
