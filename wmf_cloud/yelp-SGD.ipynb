{
 "cells": [
  {
   "cell_type": "code",
   "execution_count": 5,
   "metadata": {},
   "outputs": [],
   "source": [
    "# coding: utf-8\n",
    "\"\"\"\n",
    "Source code for matrix completion\n",
    "Author: Abhinav Sharma (as5414)\n",
    "The details of the code and dev environment including descriptions of variables and functions is provided in the report pdf\n",
    "\"\"\"\n",
    "import scipy.sparse as sp\n",
    "import scipy.sparse.linalg as sla\n",
    "import numpy as np\n",
    "import pandas as pd\n",
    "import time\n",
    "import math\n",
    "\n",
    "# Function for loading and pre-processing data\n",
    "def get_data(path):\n",
    "    np_frame = pd.read_csv(path,usecols=[0,1,2]).as_matrix()\n",
    "\n",
    "    users = np_frame[:,0].astype(dtype = 'uint32')-1\n",
    "    items = np_frame[:,1].astype(dtype = 'uint32')-1\n",
    "    ratings = np_frame[:,2].astype(dtype = 'float64')\n",
    "\n",
    "    items_unique, items_cleaned = np.unique(items,return_inverse=True)\n",
    "\n",
    "    num_users = np.max(users)+1\n",
    "    num_items = items_unique.shape[0]\n",
    "\n",
    "    user_dict = {i: [] for i in range(num_users)}\n",
    "\n",
    "    for i in range(len(users)):\n",
    "        user_dict[users[i]].append([items_cleaned[i],ratings[i]])\n",
    "\n",
    "    R_train = sp.lil_matrix((num_users,num_items))\n",
    "    R_test = sp.lil_matrix((num_users,num_items))\n",
    "    num_train = 0\n",
    "    num_test = 0\n",
    "\n",
    "    for i in user_dict.keys():\n",
    "        l = len(user_dict[i])\n",
    "        indx = np.arange(l)\n",
    "        np.random.shuffle(indx)\n",
    "        temp = np.asarray(user_dict[i])\n",
    "        R_test[i,temp[indx[:l/2],0]] = temp[indx[:l/2],1]\n",
    "        R_train[i,temp[indx[l/2:],0]] = temp[indx[l/2:],1]\n",
    "        num_train += len(indx[l/2:])\n",
    "        num_test += len(indx[:l/2])\n",
    "\n",
    "    return R_train,R_test,num_users,num_items,num_train,num_test\n",
    "\n",
    "def itemize(data):\n",
    "    _,indx = np.unique(data,return_index=True)\n",
    "    u = data[np.sort(indx)]\n",
    "    n_data = u.shape[0]\n",
    "    new_indx = np.arange(n_data)\n",
    "    d = dict(zip(u,new_indx))\n",
    "    data_indx = np.zeros(data.shape, dtype=np.int32)\n",
    "    for i in range(data_indx.shape[0]):\n",
    "        data_indx[i] = d[data[i]]\n",
    "    return data_indx, n_data\n",
    "\n",
    "def load_data(path):\n",
    "    data = pd.read_csv(path)\n",
    "    data = data.drop(['funny', 'review_id', 'text', 'date', 'useful', 'cool'], axis=1)\n",
    "    data.drop_duplicates(inplace=True)\n",
    "    rows, cols, stars = np.array(data['user_id']), np.array(data['business_id']), np.array(data['stars'],dtype='float32')\n",
    "    # itemize users and items\n",
    "    row_indx, n_users = itemize(rows)\n",
    "    col_indx, n_items = itemize(cols)\n",
    "    return sp.csr_matrix((stars,(row_indx, col_indx)), dtype='float32', shape=(n_users,n_items))\n",
    "\n",
    "# Class for matrix completion\n",
    "class mat_comp():\n",
    "    \n",
    "    def __init__(self,R_train,R_test,num_users,num_items,num_train,num_test,r,lamda):\n",
    "        self.r = r\n",
    "        self.alpha = 0.01\n",
    "        #self.beta = 0.01\n",
    "        self.lamda = lamda\n",
    "        self.iters = 15\n",
    "        self.R_train = R_train\n",
    "        self.R_test = R_test\n",
    "        self.num_users = num_users\n",
    "        self.num_items = num_items\n",
    "        self.num_train = num_train\n",
    "        self.num_test = num_test\n",
    "        self.V = np.random.normal(scale=1.0/self.r,size=(self.num_users,self.r))\n",
    "        self.W = np.random.normal(scale=1.0/self.r,size=(self.num_items,self.r))\n",
    "        #self.b_u = np.zeros(self.num_users)\n",
    "        #self.b_i = np.zeros(self.num_items)\n",
    "        #self.b = np.sum(self.R_train)/self.R_train.nonzero()[0].shape[0]\n",
    "\n",
    "    # Perfrom SGD on train set\n",
    "    def sgd(self):\n",
    "        ind = np.asarray(self.R_train.nonzero()).T\n",
    "        np.random.shuffle(ind)\n",
    "        for i in range(ind.shape[0]):\n",
    "            err = self.R_train[ind[i,0],ind[i,1]] - (np.dot(self.V[ind[i,0],:],self.W[ind[i,1],:]))#+self.b+self.b_u[ind[i,0]]+self.b_i[ind[i,1]])\n",
    "            #self.b_u[ind[i,0]] += self.alpha*(err - self.beta * self.b_u[ind[i,0]])\n",
    "            #self.b_i[ind[i,1]] += self.alpha*(err - self.beta * self.b_i[ind[i,1]])\n",
    "            self.V[ind[i,0],:] += self.alpha*(err*self.W[ind[i,1],:] - self.lamda*self.V[ind[i,0],:])\n",
    "            self.W[ind[i,1],:] += self.alpha*(err*self.V[ind[i,0],:] - self.lamda*self.W[ind[i,1],:])\n",
    "\n",
    "    # Compute RMSE on train / test sets\n",
    "    def rmse(self,R,num):\n",
    "        term = sp.lil_matrix(R.shape)\n",
    "        ind = R.nonzero()\n",
    "        i_prev=0\n",
    "        k=0\n",
    "        for i in range(len(ind[0])-1):\n",
    "            if ind[0][i]==ind[0][i+1]:\n",
    "                i=i+1\n",
    "            else:\n",
    "                term[k,ind[1][i_prev:i+1]] = np.asarray([np.dot(self.V[ind[0][i],:],self.W[j,:])for j in ind[1][i_prev:i+1]])#+self.b+self.b_u[ind[0][i]]+self.b_i[j] \n",
    "                i_prev=i+1\n",
    "                k=k+1\n",
    "        term[k,ind[1][i_prev:i+1]] = np.asarray([np.dot(self.V[ind[0][i],:],self.W[j,:]) for j in ind[1][i_prev:i+1]])\n",
    "        term = R - term\n",
    "        rmse = math.sqrt(sla.norm(term)**2/num)\n",
    "        return rmse\n",
    "    \n",
    "    # Compute MRR on test set\n",
    "    def mrr(self):\n",
    "        mrr = 0\n",
    "        num = self.num_users\n",
    "        for u in range(self.num_users):\n",
    "            ind = self.R_test[u].nonzero()[1]\n",
    "            pred = (np.asarray([np.dot(self.V[u,:],self.W[j,:])+self.b+self.b_u[u]+self.b_i[j] for j in ind]),)\n",
    "            pred = np.argsort(pred)\n",
    "            arginv = np.zeros((len(ind)))\n",
    "            arginv[pred] = np.arange(len(ind))\n",
    "            indg = (self.R_test[u,ind]>=3.0).toarray()[0,:]\n",
    "            if np.sum(indg)>0:\n",
    "                mrr += np.sum((1.0/(arginv+1))[indg]) / np.sum(indg)\n",
    "            else:\n",
    "                num -=1\n",
    "        mrr /= num\n",
    "        return mrr\n",
    "    \n",
    "    # Train model\n",
    "    def train(self):\n",
    "        for i in range(self.iters):\n",
    "            start = time.time()\n",
    "            rmse = self.rmse(self.R_train,self.num_train)\n",
    "            self.sgd()\n",
    "            end = time.time()\n",
    "            print('iter: ',i, ' rmse: ', rmse,' time: ',end-start)\n",
    "        #rmse_test = self.rmse(R_test,num_test)\n",
    "        #mrr_test = self.mrr()\n",
    "        #return rmse_test,mrr_test,rmse"
   ]
  },
  {
   "cell_type": "code",
   "execution_count": 2,
   "metadata": {
    "scrolled": true
   },
   "outputs": [],
   "source": [
    "# Load and pre-process data\n",
    "path = '../../dataset/review.csv'\n",
    "R_train = load_data(path)\n",
    "R_train = R_train[:-1000000,:-100000]\n",
    "R_test = None\n",
    "num_users = R_train.shape[0]\n",
    "num_items = R_train.shape[1]\n",
    "num_train = R_train.count_nonzero()\n",
    "num_test = None\n",
    "\n",
    "\n",
    "# path = '../../../HW1/ml-20m/ratings.csv'\n",
    "# R_train,R_test,num_users,num_items,num_train,num_test = get_data(path)\n",
    "\n",
    "# Define ranges for grid search\n",
    "# l_range = [0.01,0.05,0.1,0.2,0.4,0.8]\n",
    "# r_range = [2,4,8,16,32,64]\n",
    "\n",
    "# Compute and store results\n",
    "# for lamda in l_range:\n",
    "#     for r in r_range:\n",
    "\n",
    "#np.save('resl'+str(lamda)+'r'+str(r),res)"
   ]
  },
  {
   "cell_type": "code",
   "execution_count": 6,
   "metadata": {
    "scrolled": true
   },
   "outputs": [
    {
     "name": "stdout",
     "output_type": "stream",
     "text": [
      "('iter: ', 0, ' rmse: ', 4.126663507028058, ' time: ', 107.9257869720459)\n",
      "('iter: ', 1, ' rmse: ', 4.045225200557062, ' time: ', 111.27004790306091)\n",
      "('iter: ', 2, ' rmse: ', 4.033651689096913, ' time: ', 108.97926211357117)\n",
      "('iter: ', 3, ' rmse: ', 4.047891371171192, ' time: ', 107.79443907737732)\n",
      "('iter: ', 4, ' rmse: ', 4.103824780763576, ' time: ', 107.57871794700623)\n"
     ]
    },
    {
     "ename": "KeyboardInterrupt",
     "evalue": "",
     "output_type": "error",
     "traceback": [
      "\u001b[0;31m---------------------------------------------------------------------------\u001b[0m",
      "\u001b[0;31mKeyboardInterrupt\u001b[0m                         Traceback (most recent call last)",
      "\u001b[0;32m<ipython-input-6-87f55a33f33a>\u001b[0m in \u001b[0;36m<module>\u001b[0;34m()\u001b[0m\n\u001b[1;32m      2\u001b[0m \u001b[0mlamda\u001b[0m \u001b[0;34m=\u001b[0m \u001b[0;36m0.01\u001b[0m\u001b[0;34m\u001b[0m\u001b[0m\n\u001b[1;32m      3\u001b[0m \u001b[0mMC\u001b[0m \u001b[0;34m=\u001b[0m \u001b[0mmat_comp\u001b[0m\u001b[0;34m(\u001b[0m\u001b[0mR_train\u001b[0m\u001b[0;34m,\u001b[0m\u001b[0mR_test\u001b[0m\u001b[0;34m,\u001b[0m\u001b[0mnum_users\u001b[0m\u001b[0;34m,\u001b[0m\u001b[0mnum_items\u001b[0m\u001b[0;34m,\u001b[0m\u001b[0mnum_train\u001b[0m\u001b[0;34m,\u001b[0m\u001b[0mnum_test\u001b[0m\u001b[0;34m,\u001b[0m\u001b[0mr\u001b[0m\u001b[0;34m,\u001b[0m\u001b[0mlamda\u001b[0m\u001b[0;34m)\u001b[0m\u001b[0;34m\u001b[0m\u001b[0m\n\u001b[0;32m----> 4\u001b[0;31m \u001b[0mMC\u001b[0m\u001b[0;34m.\u001b[0m\u001b[0mtrain\u001b[0m\u001b[0;34m(\u001b[0m\u001b[0;34m)\u001b[0m\u001b[0;34m\u001b[0m\u001b[0m\n\u001b[0m",
      "\u001b[0;32m<ipython-input-5-061ab10e9b3f>\u001b[0m in \u001b[0;36mtrain\u001b[0;34m(self)\u001b[0m\n\u001b[1;32m    141\u001b[0m             \u001b[0mstart\u001b[0m \u001b[0;34m=\u001b[0m \u001b[0mtime\u001b[0m\u001b[0;34m.\u001b[0m\u001b[0mtime\u001b[0m\u001b[0;34m(\u001b[0m\u001b[0;34m)\u001b[0m\u001b[0;34m\u001b[0m\u001b[0m\n\u001b[1;32m    142\u001b[0m             \u001b[0mrmse\u001b[0m \u001b[0;34m=\u001b[0m \u001b[0mself\u001b[0m\u001b[0;34m.\u001b[0m\u001b[0mrmse\u001b[0m\u001b[0;34m(\u001b[0m\u001b[0mself\u001b[0m\u001b[0;34m.\u001b[0m\u001b[0mR_train\u001b[0m\u001b[0;34m,\u001b[0m\u001b[0mself\u001b[0m\u001b[0;34m.\u001b[0m\u001b[0mnum_train\u001b[0m\u001b[0;34m)\u001b[0m\u001b[0;34m\u001b[0m\u001b[0m\n\u001b[0;32m--> 143\u001b[0;31m             \u001b[0mself\u001b[0m\u001b[0;34m.\u001b[0m\u001b[0msgd\u001b[0m\u001b[0;34m(\u001b[0m\u001b[0;34m)\u001b[0m\u001b[0;34m\u001b[0m\u001b[0m\n\u001b[0m\u001b[1;32m    144\u001b[0m             \u001b[0mend\u001b[0m \u001b[0;34m=\u001b[0m \u001b[0mtime\u001b[0m\u001b[0;34m.\u001b[0m\u001b[0mtime\u001b[0m\u001b[0;34m(\u001b[0m\u001b[0;34m)\u001b[0m\u001b[0;34m\u001b[0m\u001b[0m\n\u001b[1;32m    145\u001b[0m             \u001b[0;32mprint\u001b[0m\u001b[0;34m(\u001b[0m\u001b[0;34m'iter: '\u001b[0m\u001b[0;34m,\u001b[0m\u001b[0mi\u001b[0m\u001b[0;34m,\u001b[0m \u001b[0;34m' rmse: '\u001b[0m\u001b[0;34m,\u001b[0m \u001b[0mrmse\u001b[0m\u001b[0;34m,\u001b[0m\u001b[0;34m' time: '\u001b[0m\u001b[0;34m,\u001b[0m\u001b[0mend\u001b[0m\u001b[0;34m-\u001b[0m\u001b[0mstart\u001b[0m\u001b[0;34m)\u001b[0m\u001b[0;34m\u001b[0m\u001b[0m\n",
      "\u001b[0;32m<ipython-input-5-061ab10e9b3f>\u001b[0m in \u001b[0;36msgd\u001b[0;34m(self)\u001b[0m\n\u001b[1;32m     94\u001b[0m         \u001b[0mnp\u001b[0m\u001b[0;34m.\u001b[0m\u001b[0mrandom\u001b[0m\u001b[0;34m.\u001b[0m\u001b[0mshuffle\u001b[0m\u001b[0;34m(\u001b[0m\u001b[0mind\u001b[0m\u001b[0;34m)\u001b[0m\u001b[0;34m\u001b[0m\u001b[0m\n\u001b[1;32m     95\u001b[0m         \u001b[0;32mfor\u001b[0m \u001b[0mi\u001b[0m \u001b[0;32min\u001b[0m \u001b[0mrange\u001b[0m\u001b[0;34m(\u001b[0m\u001b[0mind\u001b[0m\u001b[0;34m.\u001b[0m\u001b[0mshape\u001b[0m\u001b[0;34m[\u001b[0m\u001b[0;36m0\u001b[0m\u001b[0;34m]\u001b[0m\u001b[0;34m)\u001b[0m\u001b[0;34m:\u001b[0m\u001b[0;34m\u001b[0m\u001b[0m\n\u001b[0;32m---> 96\u001b[0;31m             \u001b[0merr\u001b[0m \u001b[0;34m=\u001b[0m \u001b[0mself\u001b[0m\u001b[0;34m.\u001b[0m\u001b[0mR_train\u001b[0m\u001b[0;34m[\u001b[0m\u001b[0mind\u001b[0m\u001b[0;34m[\u001b[0m\u001b[0mi\u001b[0m\u001b[0;34m,\u001b[0m\u001b[0;36m0\u001b[0m\u001b[0;34m]\u001b[0m\u001b[0;34m,\u001b[0m\u001b[0mind\u001b[0m\u001b[0;34m[\u001b[0m\u001b[0mi\u001b[0m\u001b[0;34m,\u001b[0m\u001b[0;36m1\u001b[0m\u001b[0;34m]\u001b[0m\u001b[0;34m]\u001b[0m \u001b[0;34m-\u001b[0m \u001b[0;34m(\u001b[0m\u001b[0mnp\u001b[0m\u001b[0;34m.\u001b[0m\u001b[0mdot\u001b[0m\u001b[0;34m(\u001b[0m\u001b[0mself\u001b[0m\u001b[0;34m.\u001b[0m\u001b[0mV\u001b[0m\u001b[0;34m[\u001b[0m\u001b[0mind\u001b[0m\u001b[0;34m[\u001b[0m\u001b[0mi\u001b[0m\u001b[0;34m,\u001b[0m\u001b[0;36m0\u001b[0m\u001b[0;34m]\u001b[0m\u001b[0;34m,\u001b[0m\u001b[0;34m:\u001b[0m\u001b[0;34m]\u001b[0m\u001b[0;34m,\u001b[0m\u001b[0mself\u001b[0m\u001b[0;34m.\u001b[0m\u001b[0mW\u001b[0m\u001b[0;34m[\u001b[0m\u001b[0mind\u001b[0m\u001b[0;34m[\u001b[0m\u001b[0mi\u001b[0m\u001b[0;34m,\u001b[0m\u001b[0;36m1\u001b[0m\u001b[0;34m]\u001b[0m\u001b[0;34m,\u001b[0m\u001b[0;34m:\u001b[0m\u001b[0;34m]\u001b[0m\u001b[0;34m)\u001b[0m\u001b[0;34m)\u001b[0m\u001b[0;31m#+self.b+self.b_u[ind[i,0]]+self.b_i[ind[i,1]])\u001b[0m\u001b[0;34m\u001b[0m\u001b[0m\n\u001b[0m\u001b[1;32m     97\u001b[0m             \u001b[0;31m#self.b_u[ind[i,0]] += self.alpha*(err - self.beta * self.b_u[ind[i,0]])\u001b[0m\u001b[0;34m\u001b[0m\u001b[0;34m\u001b[0m\u001b[0m\n\u001b[1;32m     98\u001b[0m             \u001b[0;31m#self.b_i[ind[i,1]] += self.alpha*(err - self.beta * self.b_i[ind[i,1]])\u001b[0m\u001b[0;34m\u001b[0m\u001b[0;34m\u001b[0m\u001b[0m\n",
      "\u001b[0;32m/anaconda3/envs/py27/lib/python2.7/site-packages/scipy/sparse/csr.pyc\u001b[0m in \u001b[0;36m__getitem__\u001b[0;34m(self, key)\u001b[0m\n\u001b[1;32m    286\u001b[0m         \u001b[0;32mif\u001b[0m \u001b[0misintlike\u001b[0m\u001b[0;34m(\u001b[0m\u001b[0mrow\u001b[0m\u001b[0;34m)\u001b[0m\u001b[0;34m:\u001b[0m\u001b[0;34m\u001b[0m\u001b[0m\n\u001b[1;32m    287\u001b[0m             \u001b[0;31m# [i, j]\u001b[0m\u001b[0;34m\u001b[0m\u001b[0;34m\u001b[0m\u001b[0m\n\u001b[0;32m--> 288\u001b[0;31m             \u001b[0;32mif\u001b[0m \u001b[0misintlike\u001b[0m\u001b[0;34m(\u001b[0m\u001b[0mcol\u001b[0m\u001b[0;34m)\u001b[0m\u001b[0;34m:\u001b[0m\u001b[0;34m\u001b[0m\u001b[0m\n\u001b[0m\u001b[1;32m    289\u001b[0m                 \u001b[0;32mreturn\u001b[0m \u001b[0mself\u001b[0m\u001b[0;34m.\u001b[0m\u001b[0m_get_single_element\u001b[0m\u001b[0;34m(\u001b[0m\u001b[0mrow\u001b[0m\u001b[0;34m,\u001b[0m \u001b[0mcol\u001b[0m\u001b[0;34m)\u001b[0m\u001b[0;34m\u001b[0m\u001b[0m\n\u001b[1;32m    290\u001b[0m             \u001b[0;31m# [i, 1:2]\u001b[0m\u001b[0;34m\u001b[0m\u001b[0;34m\u001b[0m\u001b[0m\n",
      "\u001b[0;32m/anaconda3/envs/py27/lib/python2.7/site-packages/scipy/sparse/sputils.pyc\u001b[0m in \u001b[0;36misintlike\u001b[0;34m(x)\u001b[0m\n\u001b[1;32m    193\u001b[0m         \u001b[0;32mreturn\u001b[0m \u001b[0mFalse\u001b[0m\u001b[0;34m\u001b[0m\u001b[0m\n\u001b[1;32m    194\u001b[0m     \u001b[0;32mtry\u001b[0m\u001b[0;34m:\u001b[0m\u001b[0;34m\u001b[0m\u001b[0m\n\u001b[0;32m--> 195\u001b[0;31m         \u001b[0;32mreturn\u001b[0m \u001b[0mbool\u001b[0m\u001b[0;34m(\u001b[0m\u001b[0mint\u001b[0m\u001b[0;34m(\u001b[0m\u001b[0mx\u001b[0m\u001b[0;34m)\u001b[0m \u001b[0;34m==\u001b[0m \u001b[0mx\u001b[0m\u001b[0;34m)\u001b[0m\u001b[0;34m\u001b[0m\u001b[0m\n\u001b[0m\u001b[1;32m    196\u001b[0m     \u001b[0;32mexcept\u001b[0m \u001b[0;34m(\u001b[0m\u001b[0mTypeError\u001b[0m\u001b[0;34m,\u001b[0m \u001b[0mValueError\u001b[0m\u001b[0;34m)\u001b[0m\u001b[0;34m:\u001b[0m\u001b[0;34m\u001b[0m\u001b[0m\n\u001b[1;32m    197\u001b[0m         \u001b[0;32mreturn\u001b[0m \u001b[0mFalse\u001b[0m\u001b[0;34m\u001b[0m\u001b[0m\n",
      "\u001b[0;31mKeyboardInterrupt\u001b[0m: "
     ]
    }
   ],
   "source": [
    "r = 1\n",
    "lamda = 0.01\n",
    "MC = mat_comp(R_train,R_test,num_users,num_items,num_train,num_test,r,lamda)\n",
    "MC.train()"
   ]
  },
  {
   "cell_type": "code",
   "execution_count": 1,
   "metadata": {},
   "outputs": [
    {
     "name": "stderr",
     "output_type": "stream",
     "text": [
      "[INFO] graphlab.cython.cy_server: GraphLab Create v2.1 started. Logging: /tmp/graphlab_server_1524936639.log\n"
     ]
    },
    {
     "name": "stdout",
     "output_type": "stream",
     "text": [
      "This non-commercial license of GraphLab Create for academic use is assigned to as5414@columbia.edu and will expire on April 26, 2019.\n"
     ]
    }
   ],
   "source": [
    "import graphlab\n",
    "import pandas as pd\n",
    "from sklearn.metrics import mean_squared_error\n",
    "import numpy as np"
   ]
  },
  {
   "cell_type": "code",
   "execution_count": 76,
   "metadata": {},
   "outputs": [],
   "source": [
    "df = pd.read_csv('../../dataset/train.csv',names=['user_id','business_id','stars','timestamps'])"
   ]
  },
  {
   "cell_type": "code",
   "execution_count": 3,
   "metadata": {},
   "outputs": [],
   "source": [
    "#df['binary']=(df['stars']>2).astype(int)"
   ]
  },
  {
   "cell_type": "code",
   "execution_count": 77,
   "metadata": {
    "scrolled": true
   },
   "outputs": [
    {
     "data": {
      "text/html": [
       "<div>\n",
       "<style scoped>\n",
       "    .dataframe tbody tr th:only-of-type {\n",
       "        vertical-align: middle;\n",
       "    }\n",
       "\n",
       "    .dataframe tbody tr th {\n",
       "        vertical-align: top;\n",
       "    }\n",
       "\n",
       "    .dataframe thead th {\n",
       "        text-align: right;\n",
       "    }\n",
       "</style>\n",
       "<table border=\"1\" class=\"dataframe\">\n",
       "  <thead>\n",
       "    <tr style=\"text-align: right;\">\n",
       "      <th></th>\n",
       "      <th>user_id</th>\n",
       "      <th>business_id</th>\n",
       "      <th>stars</th>\n",
       "      <th>timestamps</th>\n",
       "    </tr>\n",
       "  </thead>\n",
       "  <tbody>\n",
       "    <tr>\n",
       "      <th>0</th>\n",
       "      <td>1</td>\n",
       "      <td>15733</td>\n",
       "      <td>4</td>\n",
       "      <td>155918</td>\n",
       "    </tr>\n",
       "    <tr>\n",
       "      <th>1</th>\n",
       "      <td>1</td>\n",
       "      <td>67856</td>\n",
       "      <td>5</td>\n",
       "      <td>130087</td>\n",
       "    </tr>\n",
       "    <tr>\n",
       "      <th>2</th>\n",
       "      <td>1</td>\n",
       "      <td>87093</td>\n",
       "      <td>5</td>\n",
       "      <td>190773</td>\n",
       "    </tr>\n",
       "    <tr>\n",
       "      <th>3</th>\n",
       "      <td>1</td>\n",
       "      <td>113461</td>\n",
       "      <td>3</td>\n",
       "      <td>6364</td>\n",
       "    </tr>\n",
       "    <tr>\n",
       "      <th>4</th>\n",
       "      <td>1</td>\n",
       "      <td>153617</td>\n",
       "      <td>5</td>\n",
       "      <td>162649</td>\n",
       "    </tr>\n",
       "    <tr>\n",
       "      <th>5</th>\n",
       "      <td>1</td>\n",
       "      <td>160310</td>\n",
       "      <td>5</td>\n",
       "      <td>132535</td>\n",
       "    </tr>\n",
       "    <tr>\n",
       "      <th>6</th>\n",
       "      <td>2</td>\n",
       "      <td>77849</td>\n",
       "      <td>3</td>\n",
       "      <td>169798</td>\n",
       "    </tr>\n",
       "    <tr>\n",
       "      <th>7</th>\n",
       "      <td>3</td>\n",
       "      <td>14970</td>\n",
       "      <td>2</td>\n",
       "      <td>296189</td>\n",
       "    </tr>\n",
       "    <tr>\n",
       "      <th>8</th>\n",
       "      <td>4</td>\n",
       "      <td>18440</td>\n",
       "      <td>4</td>\n",
       "      <td>190213</td>\n",
       "    </tr>\n",
       "    <tr>\n",
       "      <th>9</th>\n",
       "      <td>4</td>\n",
       "      <td>19036</td>\n",
       "      <td>5</td>\n",
       "      <td>371844</td>\n",
       "    </tr>\n",
       "    <tr>\n",
       "      <th>10</th>\n",
       "      <td>4</td>\n",
       "      <td>26905</td>\n",
       "      <td>4</td>\n",
       "      <td>146699</td>\n",
       "    </tr>\n",
       "    <tr>\n",
       "      <th>11</th>\n",
       "      <td>5</td>\n",
       "      <td>90099</td>\n",
       "      <td>4</td>\n",
       "      <td>104148</td>\n",
       "    </tr>\n",
       "    <tr>\n",
       "      <th>12</th>\n",
       "      <td>6</td>\n",
       "      <td>76317</td>\n",
       "      <td>5</td>\n",
       "      <td>150061</td>\n",
       "    </tr>\n",
       "    <tr>\n",
       "      <th>13</th>\n",
       "      <td>6</td>\n",
       "      <td>83769</td>\n",
       "      <td>3</td>\n",
       "      <td>177067</td>\n",
       "    </tr>\n",
       "    <tr>\n",
       "      <th>14</th>\n",
       "      <td>6</td>\n",
       "      <td>85961</td>\n",
       "      <td>1</td>\n",
       "      <td>31202</td>\n",
       "    </tr>\n",
       "    <tr>\n",
       "      <th>15</th>\n",
       "      <td>6</td>\n",
       "      <td>120825</td>\n",
       "      <td>3</td>\n",
       "      <td>138369</td>\n",
       "    </tr>\n",
       "    <tr>\n",
       "      <th>16</th>\n",
       "      <td>8</td>\n",
       "      <td>68020</td>\n",
       "      <td>5</td>\n",
       "      <td>260946</td>\n",
       "    </tr>\n",
       "    <tr>\n",
       "      <th>17</th>\n",
       "      <td>9</td>\n",
       "      <td>53317</td>\n",
       "      <td>1</td>\n",
       "      <td>91565</td>\n",
       "    </tr>\n",
       "    <tr>\n",
       "      <th>18</th>\n",
       "      <td>10</td>\n",
       "      <td>51397</td>\n",
       "      <td>1</td>\n",
       "      <td>29233</td>\n",
       "    </tr>\n",
       "    <tr>\n",
       "      <th>19</th>\n",
       "      <td>11</td>\n",
       "      <td>139891</td>\n",
       "      <td>5</td>\n",
       "      <td>356567</td>\n",
       "    </tr>\n",
       "    <tr>\n",
       "      <th>20</th>\n",
       "      <td>12</td>\n",
       "      <td>285</td>\n",
       "      <td>5</td>\n",
       "      <td>88255</td>\n",
       "    </tr>\n",
       "    <tr>\n",
       "      <th>21</th>\n",
       "      <td>13</td>\n",
       "      <td>12482</td>\n",
       "      <td>1</td>\n",
       "      <td>196885</td>\n",
       "    </tr>\n",
       "    <tr>\n",
       "      <th>22</th>\n",
       "      <td>13</td>\n",
       "      <td>133582</td>\n",
       "      <td>3</td>\n",
       "      <td>169670</td>\n",
       "    </tr>\n",
       "    <tr>\n",
       "      <th>23</th>\n",
       "      <td>14</td>\n",
       "      <td>114641</td>\n",
       "      <td>2</td>\n",
       "      <td>101457</td>\n",
       "    </tr>\n",
       "    <tr>\n",
       "      <th>24</th>\n",
       "      <td>15</td>\n",
       "      <td>832</td>\n",
       "      <td>5</td>\n",
       "      <td>100989</td>\n",
       "    </tr>\n",
       "    <tr>\n",
       "      <th>25</th>\n",
       "      <td>15</td>\n",
       "      <td>37745</td>\n",
       "      <td>1</td>\n",
       "      <td>558</td>\n",
       "    </tr>\n",
       "    <tr>\n",
       "      <th>26</th>\n",
       "      <td>15</td>\n",
       "      <td>79444</td>\n",
       "      <td>5</td>\n",
       "      <td>66706</td>\n",
       "    </tr>\n",
       "    <tr>\n",
       "      <th>27</th>\n",
       "      <td>15</td>\n",
       "      <td>81160</td>\n",
       "      <td>5</td>\n",
       "      <td>380292</td>\n",
       "    </tr>\n",
       "    <tr>\n",
       "      <th>28</th>\n",
       "      <td>16</td>\n",
       "      <td>27893</td>\n",
       "      <td>5</td>\n",
       "      <td>228724</td>\n",
       "    </tr>\n",
       "    <tr>\n",
       "      <th>29</th>\n",
       "      <td>16</td>\n",
       "      <td>114884</td>\n",
       "      <td>1</td>\n",
       "      <td>187564</td>\n",
       "    </tr>\n",
       "    <tr>\n",
       "      <th>...</th>\n",
       "      <td>...</td>\n",
       "      <td>...</td>\n",
       "      <td>...</td>\n",
       "      <td>...</td>\n",
       "    </tr>\n",
       "    <tr>\n",
       "      <th>4801293</th>\n",
       "      <td>1326089</td>\n",
       "      <td>1376</td>\n",
       "      <td>1</td>\n",
       "      <td>273635</td>\n",
       "    </tr>\n",
       "    <tr>\n",
       "      <th>4801294</th>\n",
       "      <td>1326089</td>\n",
       "      <td>137051</td>\n",
       "      <td>1</td>\n",
       "      <td>370670</td>\n",
       "    </tr>\n",
       "    <tr>\n",
       "      <th>4801295</th>\n",
       "      <td>1326090</td>\n",
       "      <td>171047</td>\n",
       "      <td>1</td>\n",
       "      <td>222127</td>\n",
       "    </tr>\n",
       "    <tr>\n",
       "      <th>4801296</th>\n",
       "      <td>1326091</td>\n",
       "      <td>70928</td>\n",
       "      <td>5</td>\n",
       "      <td>245206</td>\n",
       "    </tr>\n",
       "    <tr>\n",
       "      <th>4801297</th>\n",
       "      <td>1326091</td>\n",
       "      <td>96258</td>\n",
       "      <td>5</td>\n",
       "      <td>108033</td>\n",
       "    </tr>\n",
       "    <tr>\n",
       "      <th>4801298</th>\n",
       "      <td>1326091</td>\n",
       "      <td>140383</td>\n",
       "      <td>5</td>\n",
       "      <td>294213</td>\n",
       "    </tr>\n",
       "    <tr>\n",
       "      <th>4801299</th>\n",
       "      <td>1326091</td>\n",
       "      <td>149054</td>\n",
       "      <td>1</td>\n",
       "      <td>59159</td>\n",
       "    </tr>\n",
       "    <tr>\n",
       "      <th>4801300</th>\n",
       "      <td>1326092</td>\n",
       "      <td>59133</td>\n",
       "      <td>4</td>\n",
       "      <td>120514</td>\n",
       "    </tr>\n",
       "    <tr>\n",
       "      <th>4801301</th>\n",
       "      <td>1326092</td>\n",
       "      <td>85180</td>\n",
       "      <td>5</td>\n",
       "      <td>267180</td>\n",
       "    </tr>\n",
       "    <tr>\n",
       "      <th>4801302</th>\n",
       "      <td>1326092</td>\n",
       "      <td>152208</td>\n",
       "      <td>4</td>\n",
       "      <td>228939</td>\n",
       "    </tr>\n",
       "    <tr>\n",
       "      <th>4801303</th>\n",
       "      <td>1326092</td>\n",
       "      <td>164659</td>\n",
       "      <td>5</td>\n",
       "      <td>19448</td>\n",
       "    </tr>\n",
       "    <tr>\n",
       "      <th>4801304</th>\n",
       "      <td>1326093</td>\n",
       "      <td>55124</td>\n",
       "      <td>2</td>\n",
       "      <td>229981</td>\n",
       "    </tr>\n",
       "    <tr>\n",
       "      <th>4801305</th>\n",
       "      <td>1326094</td>\n",
       "      <td>59389</td>\n",
       "      <td>4</td>\n",
       "      <td>212293</td>\n",
       "    </tr>\n",
       "    <tr>\n",
       "      <th>4801306</th>\n",
       "      <td>1326095</td>\n",
       "      <td>10009</td>\n",
       "      <td>5</td>\n",
       "      <td>250416</td>\n",
       "    </tr>\n",
       "    <tr>\n",
       "      <th>4801307</th>\n",
       "      <td>1326095</td>\n",
       "      <td>11144</td>\n",
       "      <td>5</td>\n",
       "      <td>214065</td>\n",
       "    </tr>\n",
       "    <tr>\n",
       "      <th>4801308</th>\n",
       "      <td>1326095</td>\n",
       "      <td>18580</td>\n",
       "      <td>5</td>\n",
       "      <td>291391</td>\n",
       "    </tr>\n",
       "    <tr>\n",
       "      <th>4801309</th>\n",
       "      <td>1326095</td>\n",
       "      <td>53235</td>\n",
       "      <td>2</td>\n",
       "      <td>65447</td>\n",
       "    </tr>\n",
       "    <tr>\n",
       "      <th>4801310</th>\n",
       "      <td>1326095</td>\n",
       "      <td>66574</td>\n",
       "      <td>1</td>\n",
       "      <td>246653</td>\n",
       "    </tr>\n",
       "    <tr>\n",
       "      <th>4801311</th>\n",
       "      <td>1326095</td>\n",
       "      <td>113450</td>\n",
       "      <td>1</td>\n",
       "      <td>321884</td>\n",
       "    </tr>\n",
       "    <tr>\n",
       "      <th>4801312</th>\n",
       "      <td>1326095</td>\n",
       "      <td>152232</td>\n",
       "      <td>5</td>\n",
       "      <td>196940</td>\n",
       "    </tr>\n",
       "    <tr>\n",
       "      <th>4801313</th>\n",
       "      <td>1326096</td>\n",
       "      <td>153225</td>\n",
       "      <td>2</td>\n",
       "      <td>182804</td>\n",
       "    </tr>\n",
       "    <tr>\n",
       "      <th>4801314</th>\n",
       "      <td>1326097</td>\n",
       "      <td>121883</td>\n",
       "      <td>5</td>\n",
       "      <td>332933</td>\n",
       "    </tr>\n",
       "    <tr>\n",
       "      <th>4801315</th>\n",
       "      <td>1326098</td>\n",
       "      <td>2613</td>\n",
       "      <td>5</td>\n",
       "      <td>90439</td>\n",
       "    </tr>\n",
       "    <tr>\n",
       "      <th>4801316</th>\n",
       "      <td>1326099</td>\n",
       "      <td>120053</td>\n",
       "      <td>1</td>\n",
       "      <td>73660</td>\n",
       "    </tr>\n",
       "    <tr>\n",
       "      <th>4801317</th>\n",
       "      <td>1326100</td>\n",
       "      <td>96376</td>\n",
       "      <td>3</td>\n",
       "      <td>27253</td>\n",
       "    </tr>\n",
       "    <tr>\n",
       "      <th>4801318</th>\n",
       "      <td>1326101</td>\n",
       "      <td>21109</td>\n",
       "      <td>4</td>\n",
       "      <td>258061</td>\n",
       "    </tr>\n",
       "    <tr>\n",
       "      <th>4801319</th>\n",
       "      <td>1326101</td>\n",
       "      <td>60317</td>\n",
       "      <td>3</td>\n",
       "      <td>396516</td>\n",
       "    </tr>\n",
       "    <tr>\n",
       "      <th>4801320</th>\n",
       "      <td>1326101</td>\n",
       "      <td>92235</td>\n",
       "      <td>4</td>\n",
       "      <td>186560</td>\n",
       "    </tr>\n",
       "    <tr>\n",
       "      <th>4801321</th>\n",
       "      <td>1326101</td>\n",
       "      <td>116252</td>\n",
       "      <td>2</td>\n",
       "      <td>338403</td>\n",
       "    </tr>\n",
       "    <tr>\n",
       "      <th>4801322</th>\n",
       "      <td>1326101</td>\n",
       "      <td>173192</td>\n",
       "      <td>4</td>\n",
       "      <td>118043</td>\n",
       "    </tr>\n",
       "  </tbody>\n",
       "</table>\n",
       "<p>4801323 rows × 4 columns</p>\n",
       "</div>"
      ],
      "text/plain": [
       "         user_id  business_id  stars  timestamps\n",
       "0              1        15733      4      155918\n",
       "1              1        67856      5      130087\n",
       "2              1        87093      5      190773\n",
       "3              1       113461      3        6364\n",
       "4              1       153617      5      162649\n",
       "5              1       160310      5      132535\n",
       "6              2        77849      3      169798\n",
       "7              3        14970      2      296189\n",
       "8              4        18440      4      190213\n",
       "9              4        19036      5      371844\n",
       "10             4        26905      4      146699\n",
       "11             5        90099      4      104148\n",
       "12             6        76317      5      150061\n",
       "13             6        83769      3      177067\n",
       "14             6        85961      1       31202\n",
       "15             6       120825      3      138369\n",
       "16             8        68020      5      260946\n",
       "17             9        53317      1       91565\n",
       "18            10        51397      1       29233\n",
       "19            11       139891      5      356567\n",
       "20            12          285      5       88255\n",
       "21            13        12482      1      196885\n",
       "22            13       133582      3      169670\n",
       "23            14       114641      2      101457\n",
       "24            15          832      5      100989\n",
       "25            15        37745      1         558\n",
       "26            15        79444      5       66706\n",
       "27            15        81160      5      380292\n",
       "28            16        27893      5      228724\n",
       "29            16       114884      1      187564\n",
       "...          ...          ...    ...         ...\n",
       "4801293  1326089         1376      1      273635\n",
       "4801294  1326089       137051      1      370670\n",
       "4801295  1326090       171047      1      222127\n",
       "4801296  1326091        70928      5      245206\n",
       "4801297  1326091        96258      5      108033\n",
       "4801298  1326091       140383      5      294213\n",
       "4801299  1326091       149054      1       59159\n",
       "4801300  1326092        59133      4      120514\n",
       "4801301  1326092        85180      5      267180\n",
       "4801302  1326092       152208      4      228939\n",
       "4801303  1326092       164659      5       19448\n",
       "4801304  1326093        55124      2      229981\n",
       "4801305  1326094        59389      4      212293\n",
       "4801306  1326095        10009      5      250416\n",
       "4801307  1326095        11144      5      214065\n",
       "4801308  1326095        18580      5      291391\n",
       "4801309  1326095        53235      2       65447\n",
       "4801310  1326095        66574      1      246653\n",
       "4801311  1326095       113450      1      321884\n",
       "4801312  1326095       152232      5      196940\n",
       "4801313  1326096       153225      2      182804\n",
       "4801314  1326097       121883      5      332933\n",
       "4801315  1326098         2613      5       90439\n",
       "4801316  1326099       120053      1       73660\n",
       "4801317  1326100        96376      3       27253\n",
       "4801318  1326101        21109      4      258061\n",
       "4801319  1326101        60317      3      396516\n",
       "4801320  1326101        92235      4      186560\n",
       "4801321  1326101       116252      2      338403\n",
       "4801322  1326101       173192      4      118043\n",
       "\n",
       "[4801323 rows x 4 columns]"
      ]
     },
     "execution_count": 77,
     "metadata": {},
     "output_type": "execute_result"
    }
   ],
   "source": [
    "df"
   ]
  },
  {
   "cell_type": "code",
   "execution_count": 78,
   "metadata": {
    "scrolled": false
   },
   "outputs": [
    {
     "data": {
      "text/html": [
       "<pre>Recsys training: model = factorization_recommender</pre>"
      ],
      "text/plain": [
       "Recsys training: model = factorization_recommender"
      ]
     },
     "metadata": {},
     "output_type": "display_data"
    },
    {
     "data": {
      "text/html": [
       "<pre>Preparing data set.</pre>"
      ],
      "text/plain": [
       "Preparing data set."
      ]
     },
     "metadata": {},
     "output_type": "display_data"
    },
    {
     "data": {
      "text/html": [
       "<pre>    Data has 4801323 observations with 1248782 users and 170198 items.</pre>"
      ],
      "text/plain": [
       "    Data has 4801323 observations with 1248782 users and 170198 items."
      ]
     },
     "metadata": {},
     "output_type": "display_data"
    },
    {
     "data": {
      "text/html": [
       "<pre>    Data prepared in: 4.09772s</pre>"
      ],
      "text/plain": [
       "    Data prepared in: 4.09772s"
      ]
     },
     "metadata": {},
     "output_type": "display_data"
    },
    {
     "data": {
      "text/html": [
       "<pre>Training factorization_recommender for recommendations.</pre>"
      ],
      "text/plain": [
       "Training factorization_recommender for recommendations."
      ]
     },
     "metadata": {},
     "output_type": "display_data"
    },
    {
     "data": {
      "text/html": [
       "<pre>+------------------------------+--------------------------------------------------+----------+</pre>"
      ],
      "text/plain": [
       "+------------------------------+--------------------------------------------------+----------+"
      ]
     },
     "metadata": {},
     "output_type": "display_data"
    },
    {
     "data": {
      "text/html": [
       "<pre>| Parameter                    | Description                                      | Value    |</pre>"
      ],
      "text/plain": [
       "| Parameter                    | Description                                      | Value    |"
      ]
     },
     "metadata": {},
     "output_type": "display_data"
    },
    {
     "data": {
      "text/html": [
       "<pre>+------------------------------+--------------------------------------------------+----------+</pre>"
      ],
      "text/plain": [
       "+------------------------------+--------------------------------------------------+----------+"
      ]
     },
     "metadata": {},
     "output_type": "display_data"
    },
    {
     "data": {
      "text/html": [
       "<pre>| num_factors                  | Factor Dimension                                 | 50       |</pre>"
      ],
      "text/plain": [
       "| num_factors                  | Factor Dimension                                 | 50       |"
      ]
     },
     "metadata": {},
     "output_type": "display_data"
    },
    {
     "data": {
      "text/html": [
       "<pre>| regularization               | L2 Regularization on Factors                     | 1e-06    |</pre>"
      ],
      "text/plain": [
       "| regularization               | L2 Regularization on Factors                     | 1e-06    |"
      ]
     },
     "metadata": {},
     "output_type": "display_data"
    },
    {
     "data": {
      "text/html": [
       "<pre>| max_iterations               | Maximum Number of Iterations                     | 50       |</pre>"
      ],
      "text/plain": [
       "| max_iterations               | Maximum Number of Iterations                     | 50       |"
      ]
     },
     "metadata": {},
     "output_type": "display_data"
    },
    {
     "data": {
      "text/html": [
       "<pre>| solver                       | Solver used for training                         | als      |</pre>"
      ],
      "text/plain": [
       "| solver                       | Solver used for training                         | als      |"
      ]
     },
     "metadata": {},
     "output_type": "display_data"
    },
    {
     "data": {
      "text/html": [
       "<pre>+------------------------------+--------------------------------------------------+----------+</pre>"
      ],
      "text/plain": [
       "+------------------------------+--------------------------------------------------+----------+"
      ]
     },
     "metadata": {},
     "output_type": "display_data"
    },
    {
     "data": {
      "text/html": [
       "<pre>+---------+--------------+------------------------+</pre>"
      ],
      "text/plain": [
       "+---------+--------------+------------------------+"
      ]
     },
     "metadata": {},
     "output_type": "display_data"
    },
    {
     "data": {
      "text/html": [
       "<pre>| Iter.   | Elapsed time | RMSE                   |</pre>"
      ],
      "text/plain": [
       "| Iter.   | Elapsed time | RMSE                   |"
      ]
     },
     "metadata": {},
     "output_type": "display_data"
    },
    {
     "data": {
      "text/html": [
       "<pre>+---------+--------------+------------------------+</pre>"
      ],
      "text/plain": [
       "+---------+--------------+------------------------+"
      ]
     },
     "metadata": {},
     "output_type": "display_data"
    },
    {
     "data": {
      "text/html": [
       "<pre>| Initial | 5.475ms      | NA                     |</pre>"
      ],
      "text/plain": [
       "| Initial | 5.475ms      | NA                     |"
      ]
     },
     "metadata": {},
     "output_type": "display_data"
    },
    {
     "data": {
      "text/html": [
       "<pre>+---------+--------------+------------------------+</pre>"
      ],
      "text/plain": [
       "+---------+--------------+------------------------+"
      ]
     },
     "metadata": {},
     "output_type": "display_data"
    },
    {
     "data": {
      "text/html": [
       "<pre>| 0       | 23.85s       | 1.43399                |</pre>"
      ],
      "text/plain": [
       "| 0       | 23.85s       | 1.43399                |"
      ]
     },
     "metadata": {},
     "output_type": "display_data"
    },
    {
     "data": {
      "text/html": [
       "<pre>| 1       | 47.15s       | 1.40523                |</pre>"
      ],
      "text/plain": [
       "| 1       | 47.15s       | 1.40523                |"
      ]
     },
     "metadata": {},
     "output_type": "display_data"
    },
    {
     "data": {
      "text/html": [
       "<pre>| 2       | 1m 11s       | 1.12344                |</pre>"
      ],
      "text/plain": [
       "| 2       | 1m 11s       | 1.12344                |"
      ]
     },
     "metadata": {},
     "output_type": "display_data"
    },
    {
     "data": {
      "text/html": [
       "<pre>| 3       | 1m 34s       | 0.759296               |</pre>"
      ],
      "text/plain": [
       "| 3       | 1m 34s       | 0.759296               |"
      ]
     },
     "metadata": {},
     "output_type": "display_data"
    },
    {
     "data": {
      "text/html": [
       "<pre>| 4       | 1m 59s       | 0.653089               |</pre>"
      ],
      "text/plain": [
       "| 4       | 1m 59s       | 0.653089               |"
      ]
     },
     "metadata": {},
     "output_type": "display_data"
    },
    {
     "data": {
      "text/html": [
       "<pre>| 5       | 2m 25s       | 0.62759                |</pre>"
      ],
      "text/plain": [
       "| 5       | 2m 25s       | 0.62759                |"
      ]
     },
     "metadata": {},
     "output_type": "display_data"
    },
    {
     "data": {
      "text/html": [
       "<pre>| 6       | 2m 49s       | 0.618403               |</pre>"
      ],
      "text/plain": [
       "| 6       | 2m 49s       | 0.618403               |"
      ]
     },
     "metadata": {},
     "output_type": "display_data"
    },
    {
     "data": {
      "text/html": [
       "<pre>| 7       | 3m 11s       | 0.613802               |</pre>"
      ],
      "text/plain": [
       "| 7       | 3m 11s       | 0.613802               |"
      ]
     },
     "metadata": {},
     "output_type": "display_data"
    },
    {
     "data": {
      "text/html": [
       "<pre>| 8       | 3m 33s       | 0.610987               |</pre>"
      ],
      "text/plain": [
       "| 8       | 3m 33s       | 0.610987               |"
      ]
     },
     "metadata": {},
     "output_type": "display_data"
    },
    {
     "data": {
      "text/html": [
       "<pre>| 9       | 3m 56s       | 0.609038               |</pre>"
      ],
      "text/plain": [
       "| 9       | 3m 56s       | 0.609038               |"
      ]
     },
     "metadata": {},
     "output_type": "display_data"
    },
    {
     "data": {
      "text/html": [
       "<pre>| 10      | 4m 18s       | 0.60758                |</pre>"
      ],
      "text/plain": [
       "| 10      | 4m 18s       | 0.60758                |"
      ]
     },
     "metadata": {},
     "output_type": "display_data"
    },
    {
     "data": {
      "text/html": [
       "<pre>| 11      | 4m 40s       | 0.606437               |</pre>"
      ],
      "text/plain": [
       "| 11      | 4m 40s       | 0.606437               |"
      ]
     },
     "metadata": {},
     "output_type": "display_data"
    },
    {
     "data": {
      "text/html": [
       "<pre>| 12      | 5m 2s        | 0.605514               |</pre>"
      ],
      "text/plain": [
       "| 12      | 5m 2s        | 0.605514               |"
      ]
     },
     "metadata": {},
     "output_type": "display_data"
    },
    {
     "data": {
      "text/html": [
       "<pre>| 13      | 5m 25s       | 0.604747               |</pre>"
      ],
      "text/plain": [
       "| 13      | 5m 25s       | 0.604747               |"
      ]
     },
     "metadata": {},
     "output_type": "display_data"
    },
    {
     "data": {
      "text/html": [
       "<pre>| 14      | 5m 48s       | 0.604096               |</pre>"
      ],
      "text/plain": [
       "| 14      | 5m 48s       | 0.604096               |"
      ]
     },
     "metadata": {},
     "output_type": "display_data"
    },
    {
     "data": {
      "text/html": [
       "<pre>| 15      | 6m 16s       | 0.603536               |</pre>"
      ],
      "text/plain": [
       "| 15      | 6m 16s       | 0.603536               |"
      ]
     },
     "metadata": {},
     "output_type": "display_data"
    },
    {
     "data": {
      "text/html": [
       "<pre>| 16      | 6m 39s       | 0.60305                |</pre>"
      ],
      "text/plain": [
       "| 16      | 6m 39s       | 0.60305                |"
      ]
     },
     "metadata": {},
     "output_type": "display_data"
    },
    {
     "data": {
      "text/html": [
       "<pre>| 17      | 7m 7s        | 0.602626               |</pre>"
      ],
      "text/plain": [
       "| 17      | 7m 7s        | 0.602626               |"
      ]
     },
     "metadata": {},
     "output_type": "display_data"
    },
    {
     "data": {
      "text/html": [
       "<pre>| 18      | 7m 30s       | 0.602251               |</pre>"
      ],
      "text/plain": [
       "| 18      | 7m 30s       | 0.602251               |"
      ]
     },
     "metadata": {},
     "output_type": "display_data"
    },
    {
     "data": {
      "text/html": [
       "<pre>| 19      | 7m 54s       | 0.601917               |</pre>"
      ],
      "text/plain": [
       "| 19      | 7m 54s       | 0.601917               |"
      ]
     },
     "metadata": {},
     "output_type": "display_data"
    },
    {
     "data": {
      "text/html": [
       "<pre>| 20      | 8m 28s       | 0.601616               |</pre>"
      ],
      "text/plain": [
       "| 20      | 8m 28s       | 0.601616               |"
      ]
     },
     "metadata": {},
     "output_type": "display_data"
    },
    {
     "data": {
      "text/html": [
       "<pre>| 21      | 8m 54s       | 0.601344               |</pre>"
      ],
      "text/plain": [
       "| 21      | 8m 54s       | 0.601344               |"
      ]
     },
     "metadata": {},
     "output_type": "display_data"
    },
    {
     "data": {
      "text/html": [
       "<pre>| 22      | 9m 23s       | 0.601096               |</pre>"
      ],
      "text/plain": [
       "| 22      | 9m 23s       | 0.601096               |"
      ]
     },
     "metadata": {},
     "output_type": "display_data"
    },
    {
     "data": {
      "text/html": [
       "<pre>| 23      | 9m 50s       | 0.600869               |</pre>"
      ],
      "text/plain": [
       "| 23      | 9m 50s       | 0.600869               |"
      ]
     },
     "metadata": {},
     "output_type": "display_data"
    },
    {
     "data": {
      "text/html": [
       "<pre>| 24      | 10m 16s      | 0.600659               |</pre>"
      ],
      "text/plain": [
       "| 24      | 10m 16s      | 0.600659               |"
      ]
     },
     "metadata": {},
     "output_type": "display_data"
    },
    {
     "data": {
      "text/html": [
       "<pre>| 25      | 10m 42s      | 0.600466               |</pre>"
      ],
      "text/plain": [
       "| 25      | 10m 42s      | 0.600466               |"
      ]
     },
     "metadata": {},
     "output_type": "display_data"
    },
    {
     "data": {
      "text/html": [
       "<pre>| 26      | 11m 9s       | 0.600287               |</pre>"
      ],
      "text/plain": [
       "| 26      | 11m 9s       | 0.600287               |"
      ]
     },
     "metadata": {},
     "output_type": "display_data"
    },
    {
     "data": {
      "text/html": [
       "<pre>| 27      | 11m 35s      | 0.60012                |</pre>"
      ],
      "text/plain": [
       "| 27      | 11m 35s      | 0.60012                |"
      ]
     },
     "metadata": {},
     "output_type": "display_data"
    },
    {
     "data": {
      "text/html": [
       "<pre>| 28      | 12m 1s       | 0.599964               |</pre>"
      ],
      "text/plain": [
       "| 28      | 12m 1s       | 0.599964               |"
      ]
     },
     "metadata": {},
     "output_type": "display_data"
    },
    {
     "data": {
      "text/html": [
       "<pre>| 29      | 12m 28s      | 0.599819               |</pre>"
      ],
      "text/plain": [
       "| 29      | 12m 28s      | 0.599819               |"
      ]
     },
     "metadata": {},
     "output_type": "display_data"
    },
    {
     "data": {
      "text/html": [
       "<pre>| 30      | 12m 54s      | 0.599683               |</pre>"
      ],
      "text/plain": [
       "| 30      | 12m 54s      | 0.599683               |"
      ]
     },
     "metadata": {},
     "output_type": "display_data"
    },
    {
     "data": {
      "text/html": [
       "<pre>| 31      | 13m 20s      | 0.599556               |</pre>"
      ],
      "text/plain": [
       "| 31      | 13m 20s      | 0.599556               |"
      ]
     },
     "metadata": {},
     "output_type": "display_data"
    },
    {
     "data": {
      "text/html": [
       "<pre>| 32      | 13m 46s      | 0.599436               |</pre>"
      ],
      "text/plain": [
       "| 32      | 13m 46s      | 0.599436               |"
      ]
     },
     "metadata": {},
     "output_type": "display_data"
    },
    {
     "data": {
      "text/html": [
       "<pre>| 33      | 14m 12s      | 0.599324               |</pre>"
      ],
      "text/plain": [
       "| 33      | 14m 12s      | 0.599324               |"
      ]
     },
     "metadata": {},
     "output_type": "display_data"
    },
    {
     "data": {
      "text/html": [
       "<pre>| 34      | 14m 38s      | 0.599217               |</pre>"
      ],
      "text/plain": [
       "| 34      | 14m 38s      | 0.599217               |"
      ]
     },
     "metadata": {},
     "output_type": "display_data"
    },
    {
     "data": {
      "text/html": [
       "<pre>| 35      | 15m 4s       | 0.599116               |</pre>"
      ],
      "text/plain": [
       "| 35      | 15m 4s       | 0.599116               |"
      ]
     },
     "metadata": {},
     "output_type": "display_data"
    },
    {
     "data": {
      "text/html": [
       "<pre>| 36      | 15m 32s      | 0.599021               |</pre>"
      ],
      "text/plain": [
       "| 36      | 15m 32s      | 0.599021               |"
      ]
     },
     "metadata": {},
     "output_type": "display_data"
    },
    {
     "data": {
      "text/html": [
       "<pre>| 37      | 15m 55s      | 0.59893                |</pre>"
      ],
      "text/plain": [
       "| 37      | 15m 55s      | 0.59893                |"
      ]
     },
     "metadata": {},
     "output_type": "display_data"
    },
    {
     "data": {
      "text/html": [
       "<pre>| 38      | 16m 21s      | 0.598844               |</pre>"
      ],
      "text/plain": [
       "| 38      | 16m 21s      | 0.598844               |"
      ]
     },
     "metadata": {},
     "output_type": "display_data"
    },
    {
     "data": {
      "text/html": [
       "<pre>| 39      | 16m 53s      | 0.598762               |</pre>"
      ],
      "text/plain": [
       "| 39      | 16m 53s      | 0.598762               |"
      ]
     },
     "metadata": {},
     "output_type": "display_data"
    },
    {
     "data": {
      "text/html": [
       "<pre>| 40      | 17m 22s      | 0.598683               |</pre>"
      ],
      "text/plain": [
       "| 40      | 17m 22s      | 0.598683               |"
      ]
     },
     "metadata": {},
     "output_type": "display_data"
    },
    {
     "data": {
      "text/html": [
       "<pre>| 41      | 17m 51s      | 0.598608               |</pre>"
      ],
      "text/plain": [
       "| 41      | 17m 51s      | 0.598608               |"
      ]
     },
     "metadata": {},
     "output_type": "display_data"
    },
    {
     "data": {
      "text/html": [
       "<pre>| 42      | 18m 21s      | 0.598537               |</pre>"
      ],
      "text/plain": [
       "| 42      | 18m 21s      | 0.598537               |"
      ]
     },
     "metadata": {},
     "output_type": "display_data"
    },
    {
     "data": {
      "text/html": [
       "<pre>| 43      | 18m 43s      | 0.598468               |</pre>"
      ],
      "text/plain": [
       "| 43      | 18m 43s      | 0.598468               |"
      ]
     },
     "metadata": {},
     "output_type": "display_data"
    },
    {
     "data": {
      "text/html": [
       "<pre>| 44      | 19m 6s       | 0.598403               |</pre>"
      ],
      "text/plain": [
       "| 44      | 19m 6s       | 0.598403               |"
      ]
     },
     "metadata": {},
     "output_type": "display_data"
    },
    {
     "data": {
      "text/html": [
       "<pre>| 45      | 19m 28s      | 0.59834                |</pre>"
      ],
      "text/plain": [
       "| 45      | 19m 28s      | 0.59834                |"
      ]
     },
     "metadata": {},
     "output_type": "display_data"
    },
    {
     "data": {
      "text/html": [
       "<pre>| 46      | 19m 50s      | 0.598279               |</pre>"
      ],
      "text/plain": [
       "| 46      | 19m 50s      | 0.598279               |"
      ]
     },
     "metadata": {},
     "output_type": "display_data"
    },
    {
     "data": {
      "text/html": [
       "<pre>| 47      | 20m 13s      | 0.598221               |</pre>"
      ],
      "text/plain": [
       "| 47      | 20m 13s      | 0.598221               |"
      ]
     },
     "metadata": {},
     "output_type": "display_data"
    },
    {
     "data": {
      "text/html": [
       "<pre>| 48      | 20m 35s      | 0.598165               |</pre>"
      ],
      "text/plain": [
       "| 48      | 20m 35s      | 0.598165               |"
      ]
     },
     "metadata": {},
     "output_type": "display_data"
    },
    {
     "data": {
      "text/html": [
       "<pre>| 49      | 20m 57s      | 0.598111               |</pre>"
      ],
      "text/plain": [
       "| 49      | 20m 57s      | 0.598111               |"
      ]
     },
     "metadata": {},
     "output_type": "display_data"
    },
    {
     "data": {
      "text/html": [
       "<pre>| FINAL   | 20m 57s      | 0.598111               |</pre>"
      ],
      "text/plain": [
       "| FINAL   | 20m 57s      | 0.598111               |"
      ]
     },
     "metadata": {},
     "output_type": "display_data"
    },
    {
     "data": {
      "text/html": [
       "<pre>+---------+--------------+------------------------+</pre>"
      ],
      "text/plain": [
       "+---------+--------------+------------------------+"
      ]
     },
     "metadata": {},
     "output_type": "display_data"
    },
    {
     "data": {
      "text/html": [
       "<pre>Optimization Complete: Iteration limit reached.</pre>"
      ],
      "text/plain": [
       "Optimization Complete: Iteration limit reached."
      ]
     },
     "metadata": {},
     "output_type": "display_data"
    },
    {
     "name": "stdout",
     "output_type": "stream",
     "text": [
      "('\\nOverall RMSE: ', 0.5984260005758971)\n",
      "\n",
      "Per User RMSE (best)\n",
      "+---------+-------+-------------------+\n",
      "| user_id | count |        rmse       |\n",
      "+---------+-------+-------------------+\n",
      "|  209585 |   1   | 7.61630609247e-07 |\n",
      "+---------+-------+-------------------+\n",
      "[1 rows x 3 columns]\n",
      "\n",
      "\n",
      "Per User RMSE (worst)\n",
      "+---------+-------+---------------+\n",
      "| user_id | count |      rmse     |\n",
      "+---------+-------+---------------+\n",
      "|  562948 |   1   | 2.72694296968 |\n",
      "+---------+-------+---------------+\n",
      "[1 rows x 3 columns]\n",
      "\n",
      "\n",
      "Per Item RMSE (best)\n",
      "+-------------+-------+-------------------+\n",
      "| business_id | count |        rmse       |\n",
      "+-------------+-------+-------------------+\n",
      "|    108555   |   1   | 0.000113772037103 |\n",
      "+-------------+-------+-------------------+\n",
      "[1 rows x 3 columns]\n",
      "\n",
      "\n",
      "Per Item RMSE (worst)\n",
      "+-------------+-------+---------------+\n",
      "| business_id | count |      rmse     |\n",
      "+-------------+-------+---------------+\n",
      "|    31443    |   1   | 2.72694296968 |\n",
      "+-------------+-------+---------------+\n",
      "[1 rows x 3 columns]\n",
      "\n"
     ]
    }
   ],
   "source": [
    "# Matrix Factorization recommender using Graphlab\n",
    "sf = graphlab.SFrame(df[['user_id', 'business_id', 'stars']])\n",
    "\n",
    "#train, test = graphlab.recommender.util.random_split_by_user(sf,user_id='user_id',item_id='business_id',item_test_proportion=0.1,max_num_users=None)\n",
    "\n",
    "\n",
    "rec = graphlab.recommender.factorization_recommender.create(\n",
    "            sf,\n",
    "            user_id='user_id',\n",
    "            item_id='business_id',\n",
    "            target='stars',\n",
    "            solver='als',\n",
    "            #sgd_step_size=0.01,\n",
    "            max_iterations=50,\n",
    "            #binary_target=True,\n",
    "            regularization=0.000001,\n",
    "            num_factors=50,\n",
    "            side_data_factorization=False)\n",
    "eval_rmse = rec.evaluate(test,metric='rmse',target='stars')\n",
    "#predictions = rec.predict(train)\n",
    "#rmse = np.sqrt(mean_squared_error(train['stars'], predictions))\n",
    "\n",
    "# print \"graphlab's reported rmse:\", rec['training_rmse']\n",
    "# print \"calculated rmse:\", rmse  "
   ]
  },
  {
   "cell_type": "code",
   "execution_count": 44,
   "metadata": {
    "scrolled": true
   },
   "outputs": [
    {
     "data": {
      "text/html": [
       "<pre>recommendations finished on 1000/304838 queries. users per second: 294.374</pre>"
      ],
      "text/plain": [
       "recommendations finished on 1000/304838 queries. users per second: 294.374"
      ]
     },
     "metadata": {},
     "output_type": "display_data"
    },
    {
     "data": {
      "text/html": [
       "<pre>recommendations finished on 2000/304838 queries. users per second: 316.708</pre>"
      ],
      "text/plain": [
       "recommendations finished on 2000/304838 queries. users per second: 316.708"
      ]
     },
     "metadata": {},
     "output_type": "display_data"
    },
    {
     "data": {
      "text/html": [
       "<pre>recommendations finished on 3000/304838 queries. users per second: 324.134</pre>"
      ],
      "text/plain": [
       "recommendations finished on 3000/304838 queries. users per second: 324.134"
      ]
     },
     "metadata": {},
     "output_type": "display_data"
    },
    {
     "data": {
      "text/html": [
       "<pre>recommendations finished on 4000/304838 queries. users per second: 330.218</pre>"
      ],
      "text/plain": [
       "recommendations finished on 4000/304838 queries. users per second: 330.218"
      ]
     },
     "metadata": {},
     "output_type": "display_data"
    },
    {
     "data": {
      "text/html": [
       "<pre>recommendations finished on 5000/304838 queries. users per second: 336.518</pre>"
      ],
      "text/plain": [
       "recommendations finished on 5000/304838 queries. users per second: 336.518"
      ]
     },
     "metadata": {},
     "output_type": "display_data"
    },
    {
     "data": {
      "text/html": [
       "<pre>recommendations finished on 6000/304838 queries. users per second: 345.052</pre>"
      ],
      "text/plain": [
       "recommendations finished on 6000/304838 queries. users per second: 345.052"
      ]
     },
     "metadata": {},
     "output_type": "display_data"
    },
    {
     "data": {
      "text/html": [
       "<pre>recommendations finished on 7000/304838 queries. users per second: 351.178</pre>"
      ],
      "text/plain": [
       "recommendations finished on 7000/304838 queries. users per second: 351.178"
      ]
     },
     "metadata": {},
     "output_type": "display_data"
    },
    {
     "data": {
      "text/html": [
       "<pre>recommendations finished on 8000/304838 queries. users per second: 355.455</pre>"
      ],
      "text/plain": [
       "recommendations finished on 8000/304838 queries. users per second: 355.455"
      ]
     },
     "metadata": {},
     "output_type": "display_data"
    },
    {
     "data": {
      "text/html": [
       "<pre>recommendations finished on 9000/304838 queries. users per second: 359.741</pre>"
      ],
      "text/plain": [
       "recommendations finished on 9000/304838 queries. users per second: 359.741"
      ]
     },
     "metadata": {},
     "output_type": "display_data"
    },
    {
     "data": {
      "text/html": [
       "<pre>recommendations finished on 10000/304838 queries. users per second: 362.892</pre>"
      ],
      "text/plain": [
       "recommendations finished on 10000/304838 queries. users per second: 362.892"
      ]
     },
     "metadata": {},
     "output_type": "display_data"
    },
    {
     "data": {
      "text/html": [
       "<pre>recommendations finished on 11000/304838 queries. users per second: 365.903</pre>"
      ],
      "text/plain": [
       "recommendations finished on 11000/304838 queries. users per second: 365.903"
      ]
     },
     "metadata": {},
     "output_type": "display_data"
    },
    {
     "data": {
      "text/html": [
       "<pre>recommendations finished on 12000/304838 queries. users per second: 367.438</pre>"
      ],
      "text/plain": [
       "recommendations finished on 12000/304838 queries. users per second: 367.438"
      ]
     },
     "metadata": {},
     "output_type": "display_data"
    },
    {
     "data": {
      "text/html": [
       "<pre>recommendations finished on 13000/304838 queries. users per second: 369.364</pre>"
      ],
      "text/plain": [
       "recommendations finished on 13000/304838 queries. users per second: 369.364"
      ]
     },
     "metadata": {},
     "output_type": "display_data"
    },
    {
     "data": {
      "text/html": [
       "<pre>recommendations finished on 14000/304838 queries. users per second: 370.986</pre>"
      ],
      "text/plain": [
       "recommendations finished on 14000/304838 queries. users per second: 370.986"
      ]
     },
     "metadata": {},
     "output_type": "display_data"
    },
    {
     "data": {
      "text/html": [
       "<pre>recommendations finished on 15000/304838 queries. users per second: 371.963</pre>"
      ],
      "text/plain": [
       "recommendations finished on 15000/304838 queries. users per second: 371.963"
      ]
     },
     "metadata": {},
     "output_type": "display_data"
    },
    {
     "data": {
      "text/html": [
       "<pre>recommendations finished on 16000/304838 queries. users per second: 372.814</pre>"
      ],
      "text/plain": [
       "recommendations finished on 16000/304838 queries. users per second: 372.814"
      ]
     },
     "metadata": {},
     "output_type": "display_data"
    },
    {
     "data": {
      "text/html": [
       "<pre>recommendations finished on 17000/304838 queries. users per second: 374.143</pre>"
      ],
      "text/plain": [
       "recommendations finished on 17000/304838 queries. users per second: 374.143"
      ]
     },
     "metadata": {},
     "output_type": "display_data"
    },
    {
     "data": {
      "text/html": [
       "<pre>recommendations finished on 18000/304838 queries. users per second: 374.885</pre>"
      ],
      "text/plain": [
       "recommendations finished on 18000/304838 queries. users per second: 374.885"
      ]
     },
     "metadata": {},
     "output_type": "display_data"
    },
    {
     "data": {
      "text/html": [
       "<pre>recommendations finished on 19000/304838 queries. users per second: 375.557</pre>"
      ],
      "text/plain": [
       "recommendations finished on 19000/304838 queries. users per second: 375.557"
      ]
     },
     "metadata": {},
     "output_type": "display_data"
    },
    {
     "data": {
      "text/html": [
       "<pre>recommendations finished on 20000/304838 queries. users per second: 376.253</pre>"
      ],
      "text/plain": [
       "recommendations finished on 20000/304838 queries. users per second: 376.253"
      ]
     },
     "metadata": {},
     "output_type": "display_data"
    },
    {
     "data": {
      "text/html": [
       "<pre>recommendations finished on 21000/304838 queries. users per second: 376.441</pre>"
      ],
      "text/plain": [
       "recommendations finished on 21000/304838 queries. users per second: 376.441"
      ]
     },
     "metadata": {},
     "output_type": "display_data"
    },
    {
     "data": {
      "text/html": [
       "<pre>recommendations finished on 22000/304838 queries. users per second: 377.076</pre>"
      ],
      "text/plain": [
       "recommendations finished on 22000/304838 queries. users per second: 377.076"
      ]
     },
     "metadata": {},
     "output_type": "display_data"
    },
    {
     "data": {
      "text/html": [
       "<pre>recommendations finished on 23000/304838 queries. users per second: 377.879</pre>"
      ],
      "text/plain": [
       "recommendations finished on 23000/304838 queries. users per second: 377.879"
      ]
     },
     "metadata": {},
     "output_type": "display_data"
    },
    {
     "data": {
      "text/html": [
       "<pre>recommendations finished on 24000/304838 queries. users per second: 378.335</pre>"
      ],
      "text/plain": [
       "recommendations finished on 24000/304838 queries. users per second: 378.335"
      ]
     },
     "metadata": {},
     "output_type": "display_data"
    },
    {
     "data": {
      "text/html": [
       "<pre>recommendations finished on 25000/304838 queries. users per second: 379.189</pre>"
      ],
      "text/plain": [
       "recommendations finished on 25000/304838 queries. users per second: 379.189"
      ]
     },
     "metadata": {},
     "output_type": "display_data"
    },
    {
     "data": {
      "text/html": [
       "<pre>recommendations finished on 26000/304838 queries. users per second: 379.913</pre>"
      ],
      "text/plain": [
       "recommendations finished on 26000/304838 queries. users per second: 379.913"
      ]
     },
     "metadata": {},
     "output_type": "display_data"
    },
    {
     "data": {
      "text/html": [
       "<pre>recommendations finished on 27000/304838 queries. users per second: 379.638</pre>"
      ],
      "text/plain": [
       "recommendations finished on 27000/304838 queries. users per second: 379.638"
      ]
     },
     "metadata": {},
     "output_type": "display_data"
    },
    {
     "data": {
      "text/html": [
       "<pre>recommendations finished on 28000/304838 queries. users per second: 379.956</pre>"
      ],
      "text/plain": [
       "recommendations finished on 28000/304838 queries. users per second: 379.956"
      ]
     },
     "metadata": {},
     "output_type": "display_data"
    },
    {
     "data": {
      "text/html": [
       "<pre>recommendations finished on 29000/304838 queries. users per second: 380.283</pre>"
      ],
      "text/plain": [
       "recommendations finished on 29000/304838 queries. users per second: 380.283"
      ]
     },
     "metadata": {},
     "output_type": "display_data"
    },
    {
     "data": {
      "text/html": [
       "<pre>recommendations finished on 30000/304838 queries. users per second: 380.883</pre>"
      ],
      "text/plain": [
       "recommendations finished on 30000/304838 queries. users per second: 380.883"
      ]
     },
     "metadata": {},
     "output_type": "display_data"
    },
    {
     "data": {
      "text/html": [
       "<pre>recommendations finished on 31000/304838 queries. users per second: 381.346</pre>"
      ],
      "text/plain": [
       "recommendations finished on 31000/304838 queries. users per second: 381.346"
      ]
     },
     "metadata": {},
     "output_type": "display_data"
    },
    {
     "data": {
      "text/html": [
       "<pre>recommendations finished on 32000/304838 queries. users per second: 381.667</pre>"
      ],
      "text/plain": [
       "recommendations finished on 32000/304838 queries. users per second: 381.667"
      ]
     },
     "metadata": {},
     "output_type": "display_data"
    },
    {
     "data": {
      "text/html": [
       "<pre>recommendations finished on 33000/304838 queries. users per second: 382.064</pre>"
      ],
      "text/plain": [
       "recommendations finished on 33000/304838 queries. users per second: 382.064"
      ]
     },
     "metadata": {},
     "output_type": "display_data"
    },
    {
     "data": {
      "text/html": [
       "<pre>recommendations finished on 34000/304838 queries. users per second: 382.492</pre>"
      ],
      "text/plain": [
       "recommendations finished on 34000/304838 queries. users per second: 382.492"
      ]
     },
     "metadata": {},
     "output_type": "display_data"
    },
    {
     "data": {
      "text/html": [
       "<pre>recommendations finished on 35000/304838 queries. users per second: 382.787</pre>"
      ],
      "text/plain": [
       "recommendations finished on 35000/304838 queries. users per second: 382.787"
      ]
     },
     "metadata": {},
     "output_type": "display_data"
    },
    {
     "data": {
      "text/html": [
       "<pre>recommendations finished on 36000/304838 queries. users per second: 383.034</pre>"
      ],
      "text/plain": [
       "recommendations finished on 36000/304838 queries. users per second: 383.034"
      ]
     },
     "metadata": {},
     "output_type": "display_data"
    },
    {
     "data": {
      "text/html": [
       "<pre>recommendations finished on 37000/304838 queries. users per second: 383.515</pre>"
      ],
      "text/plain": [
       "recommendations finished on 37000/304838 queries. users per second: 383.515"
      ]
     },
     "metadata": {},
     "output_type": "display_data"
    },
    {
     "data": {
      "text/html": [
       "<pre>recommendations finished on 38000/304838 queries. users per second: 383.723</pre>"
      ],
      "text/plain": [
       "recommendations finished on 38000/304838 queries. users per second: 383.723"
      ]
     },
     "metadata": {},
     "output_type": "display_data"
    },
    {
     "data": {
      "text/html": [
       "<pre>recommendations finished on 39000/304838 queries. users per second: 382.538</pre>"
      ],
      "text/plain": [
       "recommendations finished on 39000/304838 queries. users per second: 382.538"
      ]
     },
     "metadata": {},
     "output_type": "display_data"
    },
    {
     "data": {
      "text/html": [
       "<pre>recommendations finished on 40000/304838 queries. users per second: 382.005</pre>"
      ],
      "text/plain": [
       "recommendations finished on 40000/304838 queries. users per second: 382.005"
      ]
     },
     "metadata": {},
     "output_type": "display_data"
    },
    {
     "data": {
      "text/html": [
       "<pre>recommendations finished on 41000/304838 queries. users per second: 382.307</pre>"
      ],
      "text/plain": [
       "recommendations finished on 41000/304838 queries. users per second: 382.307"
      ]
     },
     "metadata": {},
     "output_type": "display_data"
    },
    {
     "data": {
      "text/html": [
       "<pre>recommendations finished on 42000/304838 queries. users per second: 382.566</pre>"
      ],
      "text/plain": [
       "recommendations finished on 42000/304838 queries. users per second: 382.566"
      ]
     },
     "metadata": {},
     "output_type": "display_data"
    },
    {
     "data": {
      "text/html": [
       "<pre>recommendations finished on 43000/304838 queries. users per second: 382.915</pre>"
      ],
      "text/plain": [
       "recommendations finished on 43000/304838 queries. users per second: 382.915"
      ]
     },
     "metadata": {},
     "output_type": "display_data"
    },
    {
     "data": {
      "text/html": [
       "<pre>recommendations finished on 44000/304838 queries. users per second: 381.381</pre>"
      ],
      "text/plain": [
       "recommendations finished on 44000/304838 queries. users per second: 381.381"
      ]
     },
     "metadata": {},
     "output_type": "display_data"
    },
    {
     "data": {
      "text/html": [
       "<pre>recommendations finished on 45000/304838 queries. users per second: 379.854</pre>"
      ],
      "text/plain": [
       "recommendations finished on 45000/304838 queries. users per second: 379.854"
      ]
     },
     "metadata": {},
     "output_type": "display_data"
    },
    {
     "data": {
      "text/html": [
       "<pre>recommendations finished on 46000/304838 queries. users per second: 380.028</pre>"
      ],
      "text/plain": [
       "recommendations finished on 46000/304838 queries. users per second: 380.028"
      ]
     },
     "metadata": {},
     "output_type": "display_data"
    },
    {
     "data": {
      "text/html": [
       "<pre>recommendations finished on 47000/304838 queries. users per second: 380.492</pre>"
      ],
      "text/plain": [
       "recommendations finished on 47000/304838 queries. users per second: 380.492"
      ]
     },
     "metadata": {},
     "output_type": "display_data"
    },
    {
     "data": {
      "text/html": [
       "<pre>recommendations finished on 48000/304838 queries. users per second: 380.642</pre>"
      ],
      "text/plain": [
       "recommendations finished on 48000/304838 queries. users per second: 380.642"
      ]
     },
     "metadata": {},
     "output_type": "display_data"
    },
    {
     "data": {
      "text/html": [
       "<pre>recommendations finished on 49000/304838 queries. users per second: 377.735</pre>"
      ],
      "text/plain": [
       "recommendations finished on 49000/304838 queries. users per second: 377.735"
      ]
     },
     "metadata": {},
     "output_type": "display_data"
    },
    {
     "data": {
      "text/html": [
       "<pre>recommendations finished on 50000/304838 queries. users per second: 376.939</pre>"
      ],
      "text/plain": [
       "recommendations finished on 50000/304838 queries. users per second: 376.939"
      ]
     },
     "metadata": {},
     "output_type": "display_data"
    },
    {
     "data": {
      "text/html": [
       "<pre>recommendations finished on 51000/304838 queries. users per second: 375.709</pre>"
      ],
      "text/plain": [
       "recommendations finished on 51000/304838 queries. users per second: 375.709"
      ]
     },
     "metadata": {},
     "output_type": "display_data"
    },
    {
     "data": {
      "text/html": [
       "<pre>recommendations finished on 52000/304838 queries. users per second: 375.085</pre>"
      ],
      "text/plain": [
       "recommendations finished on 52000/304838 queries. users per second: 375.085"
      ]
     },
     "metadata": {},
     "output_type": "display_data"
    },
    {
     "data": {
      "text/html": [
       "<pre>recommendations finished on 53000/304838 queries. users per second: 374.309</pre>"
      ],
      "text/plain": [
       "recommendations finished on 53000/304838 queries. users per second: 374.309"
      ]
     },
     "metadata": {},
     "output_type": "display_data"
    },
    {
     "data": {
      "text/html": [
       "<pre>recommendations finished on 54000/304838 queries. users per second: 374.611</pre>"
      ],
      "text/plain": [
       "recommendations finished on 54000/304838 queries. users per second: 374.611"
      ]
     },
     "metadata": {},
     "output_type": "display_data"
    },
    {
     "data": {
      "text/html": [
       "<pre>recommendations finished on 55000/304838 queries. users per second: 374.988</pre>"
      ],
      "text/plain": [
       "recommendations finished on 55000/304838 queries. users per second: 374.988"
      ]
     },
     "metadata": {},
     "output_type": "display_data"
    },
    {
     "data": {
      "text/html": [
       "<pre>recommendations finished on 56000/304838 queries. users per second: 375.305</pre>"
      ],
      "text/plain": [
       "recommendations finished on 56000/304838 queries. users per second: 375.305"
      ]
     },
     "metadata": {},
     "output_type": "display_data"
    },
    {
     "data": {
      "text/html": [
       "<pre>recommendations finished on 57000/304838 queries. users per second: 375.555</pre>"
      ],
      "text/plain": [
       "recommendations finished on 57000/304838 queries. users per second: 375.555"
      ]
     },
     "metadata": {},
     "output_type": "display_data"
    },
    {
     "data": {
      "text/html": [
       "<pre>recommendations finished on 58000/304838 queries. users per second: 375.938</pre>"
      ],
      "text/plain": [
       "recommendations finished on 58000/304838 queries. users per second: 375.938"
      ]
     },
     "metadata": {},
     "output_type": "display_data"
    },
    {
     "data": {
      "text/html": [
       "<pre>recommendations finished on 59000/304838 queries. users per second: 376.366</pre>"
      ],
      "text/plain": [
       "recommendations finished on 59000/304838 queries. users per second: 376.366"
      ]
     },
     "metadata": {},
     "output_type": "display_data"
    },
    {
     "data": {
      "text/html": [
       "<pre>recommendations finished on 60000/304838 queries. users per second: 376.841</pre>"
      ],
      "text/plain": [
       "recommendations finished on 60000/304838 queries. users per second: 376.841"
      ]
     },
     "metadata": {},
     "output_type": "display_data"
    },
    {
     "data": {
      "text/html": [
       "<pre>recommendations finished on 61000/304838 queries. users per second: 377.106</pre>"
      ],
      "text/plain": [
       "recommendations finished on 61000/304838 queries. users per second: 377.106"
      ]
     },
     "metadata": {},
     "output_type": "display_data"
    },
    {
     "data": {
      "text/html": [
       "<pre>recommendations finished on 62000/304838 queries. users per second: 377.444</pre>"
      ],
      "text/plain": [
       "recommendations finished on 62000/304838 queries. users per second: 377.444"
      ]
     },
     "metadata": {},
     "output_type": "display_data"
    },
    {
     "data": {
      "text/html": [
       "<pre>recommendations finished on 63000/304838 queries. users per second: 377.727</pre>"
      ],
      "text/plain": [
       "recommendations finished on 63000/304838 queries. users per second: 377.727"
      ]
     },
     "metadata": {},
     "output_type": "display_data"
    },
    {
     "data": {
      "text/html": [
       "<pre>recommendations finished on 64000/304838 queries. users per second: 378.044</pre>"
      ],
      "text/plain": [
       "recommendations finished on 64000/304838 queries. users per second: 378.044"
      ]
     },
     "metadata": {},
     "output_type": "display_data"
    },
    {
     "data": {
      "text/html": [
       "<pre>recommendations finished on 65000/304838 queries. users per second: 377.625</pre>"
      ],
      "text/plain": [
       "recommendations finished on 65000/304838 queries. users per second: 377.625"
      ]
     },
     "metadata": {},
     "output_type": "display_data"
    },
    {
     "data": {
      "text/html": [
       "<pre>recommendations finished on 66000/304838 queries. users per second: 377.281</pre>"
      ],
      "text/plain": [
       "recommendations finished on 66000/304838 queries. users per second: 377.281"
      ]
     },
     "metadata": {},
     "output_type": "display_data"
    },
    {
     "data": {
      "text/html": [
       "<pre>recommendations finished on 67000/304838 queries. users per second: 377.266</pre>"
      ],
      "text/plain": [
       "recommendations finished on 67000/304838 queries. users per second: 377.266"
      ]
     },
     "metadata": {},
     "output_type": "display_data"
    },
    {
     "data": {
      "text/html": [
       "<pre>recommendations finished on 68000/304838 queries. users per second: 377.214</pre>"
      ],
      "text/plain": [
       "recommendations finished on 68000/304838 queries. users per second: 377.214"
      ]
     },
     "metadata": {},
     "output_type": "display_data"
    },
    {
     "data": {
      "text/html": [
       "<pre>recommendations finished on 69000/304838 queries. users per second: 376.904</pre>"
      ],
      "text/plain": [
       "recommendations finished on 69000/304838 queries. users per second: 376.904"
      ]
     },
     "metadata": {},
     "output_type": "display_data"
    },
    {
     "data": {
      "text/html": [
       "<pre>recommendations finished on 70000/304838 queries. users per second: 377.089</pre>"
      ],
      "text/plain": [
       "recommendations finished on 70000/304838 queries. users per second: 377.089"
      ]
     },
     "metadata": {},
     "output_type": "display_data"
    },
    {
     "data": {
      "text/html": [
       "<pre>recommendations finished on 71000/304838 queries. users per second: 377.436</pre>"
      ],
      "text/plain": [
       "recommendations finished on 71000/304838 queries. users per second: 377.436"
      ]
     },
     "metadata": {},
     "output_type": "display_data"
    },
    {
     "data": {
      "text/html": [
       "<pre>recommendations finished on 72000/304838 queries. users per second: 377.681</pre>"
      ],
      "text/plain": [
       "recommendations finished on 72000/304838 queries. users per second: 377.681"
      ]
     },
     "metadata": {},
     "output_type": "display_data"
    },
    {
     "data": {
      "text/html": [
       "<pre>recommendations finished on 73000/304838 queries. users per second: 376.06</pre>"
      ],
      "text/plain": [
       "recommendations finished on 73000/304838 queries. users per second: 376.06"
      ]
     },
     "metadata": {},
     "output_type": "display_data"
    },
    {
     "data": {
      "text/html": [
       "<pre>recommendations finished on 74000/304838 queries. users per second: 373.819</pre>"
      ],
      "text/plain": [
       "recommendations finished on 74000/304838 queries. users per second: 373.819"
      ]
     },
     "metadata": {},
     "output_type": "display_data"
    },
    {
     "data": {
      "text/html": [
       "<pre>recommendations finished on 75000/304838 queries. users per second: 373.546</pre>"
      ],
      "text/plain": [
       "recommendations finished on 75000/304838 queries. users per second: 373.546"
      ]
     },
     "metadata": {},
     "output_type": "display_data"
    },
    {
     "data": {
      "text/html": [
       "<pre>recommendations finished on 76000/304838 queries. users per second: 373.791</pre>"
      ],
      "text/plain": [
       "recommendations finished on 76000/304838 queries. users per second: 373.791"
      ]
     },
     "metadata": {},
     "output_type": "display_data"
    },
    {
     "data": {
      "text/html": [
       "<pre>recommendations finished on 77000/304838 queries. users per second: 374.064</pre>"
      ],
      "text/plain": [
       "recommendations finished on 77000/304838 queries. users per second: 374.064"
      ]
     },
     "metadata": {},
     "output_type": "display_data"
    },
    {
     "data": {
      "text/html": [
       "<pre>recommendations finished on 78000/304838 queries. users per second: 374.27</pre>"
      ],
      "text/plain": [
       "recommendations finished on 78000/304838 queries. users per second: 374.27"
      ]
     },
     "metadata": {},
     "output_type": "display_data"
    },
    {
     "data": {
      "text/html": [
       "<pre>recommendations finished on 79000/304838 queries. users per second: 374.25</pre>"
      ],
      "text/plain": [
       "recommendations finished on 79000/304838 queries. users per second: 374.25"
      ]
     },
     "metadata": {},
     "output_type": "display_data"
    },
    {
     "data": {
      "text/html": [
       "<pre>recommendations finished on 80000/304838 queries. users per second: 374.531</pre>"
      ],
      "text/plain": [
       "recommendations finished on 80000/304838 queries. users per second: 374.531"
      ]
     },
     "metadata": {},
     "output_type": "display_data"
    },
    {
     "data": {
      "text/html": [
       "<pre>recommendations finished on 81000/304838 queries. users per second: 374.819</pre>"
      ],
      "text/plain": [
       "recommendations finished on 81000/304838 queries. users per second: 374.819"
      ]
     },
     "metadata": {},
     "output_type": "display_data"
    },
    {
     "data": {
      "text/html": [
       "<pre>recommendations finished on 82000/304838 queries. users per second: 375.108</pre>"
      ],
      "text/plain": [
       "recommendations finished on 82000/304838 queries. users per second: 375.108"
      ]
     },
     "metadata": {},
     "output_type": "display_data"
    },
    {
     "data": {
      "text/html": [
       "<pre>recommendations finished on 83000/304838 queries. users per second: 375.387</pre>"
      ],
      "text/plain": [
       "recommendations finished on 83000/304838 queries. users per second: 375.387"
      ]
     },
     "metadata": {},
     "output_type": "display_data"
    },
    {
     "data": {
      "text/html": [
       "<pre>recommendations finished on 84000/304838 queries. users per second: 375.577</pre>"
      ],
      "text/plain": [
       "recommendations finished on 84000/304838 queries. users per second: 375.577"
      ]
     },
     "metadata": {},
     "output_type": "display_data"
    },
    {
     "data": {
      "text/html": [
       "<pre>recommendations finished on 85000/304838 queries. users per second: 375.815</pre>"
      ],
      "text/plain": [
       "recommendations finished on 85000/304838 queries. users per second: 375.815"
      ]
     },
     "metadata": {},
     "output_type": "display_data"
    },
    {
     "data": {
      "text/html": [
       "<pre>recommendations finished on 86000/304838 queries. users per second: 376.108</pre>"
      ],
      "text/plain": [
       "recommendations finished on 86000/304838 queries. users per second: 376.108"
      ]
     },
     "metadata": {},
     "output_type": "display_data"
    },
    {
     "data": {
      "text/html": [
       "<pre>recommendations finished on 87000/304838 queries. users per second: 376.347</pre>"
      ],
      "text/plain": [
       "recommendations finished on 87000/304838 queries. users per second: 376.347"
      ]
     },
     "metadata": {},
     "output_type": "display_data"
    },
    {
     "data": {
      "text/html": [
       "<pre>recommendations finished on 88000/304838 queries. users per second: 376.123</pre>"
      ],
      "text/plain": [
       "recommendations finished on 88000/304838 queries. users per second: 376.123"
      ]
     },
     "metadata": {},
     "output_type": "display_data"
    },
    {
     "data": {
      "text/html": [
       "<pre>recommendations finished on 89000/304838 queries. users per second: 376.296</pre>"
      ],
      "text/plain": [
       "recommendations finished on 89000/304838 queries. users per second: 376.296"
      ]
     },
     "metadata": {},
     "output_type": "display_data"
    },
    {
     "data": {
      "text/html": [
       "<pre>recommendations finished on 90000/304838 queries. users per second: 376.481</pre>"
      ],
      "text/plain": [
       "recommendations finished on 90000/304838 queries. users per second: 376.481"
      ]
     },
     "metadata": {},
     "output_type": "display_data"
    },
    {
     "data": {
      "text/html": [
       "<pre>recommendations finished on 91000/304838 queries. users per second: 376.687</pre>"
      ],
      "text/plain": [
       "recommendations finished on 91000/304838 queries. users per second: 376.687"
      ]
     },
     "metadata": {},
     "output_type": "display_data"
    },
    {
     "data": {
      "text/html": [
       "<pre>recommendations finished on 92000/304838 queries. users per second: 376.926</pre>"
      ],
      "text/plain": [
       "recommendations finished on 92000/304838 queries. users per second: 376.926"
      ]
     },
     "metadata": {},
     "output_type": "display_data"
    },
    {
     "data": {
      "text/html": [
       "<pre>recommendations finished on 93000/304838 queries. users per second: 377.21</pre>"
      ],
      "text/plain": [
       "recommendations finished on 93000/304838 queries. users per second: 377.21"
      ]
     },
     "metadata": {},
     "output_type": "display_data"
    },
    {
     "data": {
      "text/html": [
       "<pre>recommendations finished on 94000/304838 queries. users per second: 377.348</pre>"
      ],
      "text/plain": [
       "recommendations finished on 94000/304838 queries. users per second: 377.348"
      ]
     },
     "metadata": {},
     "output_type": "display_data"
    },
    {
     "data": {
      "text/html": [
       "<pre>recommendations finished on 95000/304838 queries. users per second: 377.604</pre>"
      ],
      "text/plain": [
       "recommendations finished on 95000/304838 queries. users per second: 377.604"
      ]
     },
     "metadata": {},
     "output_type": "display_data"
    },
    {
     "data": {
      "text/html": [
       "<pre>recommendations finished on 96000/304838 queries. users per second: 377.804</pre>"
      ],
      "text/plain": [
       "recommendations finished on 96000/304838 queries. users per second: 377.804"
      ]
     },
     "metadata": {},
     "output_type": "display_data"
    },
    {
     "data": {
      "text/html": [
       "<pre>recommendations finished on 97000/304838 queries. users per second: 377.986</pre>"
      ],
      "text/plain": [
       "recommendations finished on 97000/304838 queries. users per second: 377.986"
      ]
     },
     "metadata": {},
     "output_type": "display_data"
    },
    {
     "data": {
      "text/html": [
       "<pre>recommendations finished on 98000/304838 queries. users per second: 378.126</pre>"
      ],
      "text/plain": [
       "recommendations finished on 98000/304838 queries. users per second: 378.126"
      ]
     },
     "metadata": {},
     "output_type": "display_data"
    },
    {
     "data": {
      "text/html": [
       "<pre>recommendations finished on 99000/304838 queries. users per second: 378.299</pre>"
      ],
      "text/plain": [
       "recommendations finished on 99000/304838 queries. users per second: 378.299"
      ]
     },
     "metadata": {},
     "output_type": "display_data"
    },
    {
     "data": {
      "text/html": [
       "<pre>recommendations finished on 100000/304838 queries. users per second: 378.485</pre>"
      ],
      "text/plain": [
       "recommendations finished on 100000/304838 queries. users per second: 378.485"
      ]
     },
     "metadata": {},
     "output_type": "display_data"
    },
    {
     "data": {
      "text/html": [
       "<pre>recommendations finished on 101000/304838 queries. users per second: 378.655</pre>"
      ],
      "text/plain": [
       "recommendations finished on 101000/304838 queries. users per second: 378.655"
      ]
     },
     "metadata": {},
     "output_type": "display_data"
    },
    {
     "data": {
      "text/html": [
       "<pre>recommendations finished on 102000/304838 queries. users per second: 378.401</pre>"
      ],
      "text/plain": [
       "recommendations finished on 102000/304838 queries. users per second: 378.401"
      ]
     },
     "metadata": {},
     "output_type": "display_data"
    },
    {
     "data": {
      "text/html": [
       "<pre>recommendations finished on 103000/304838 queries. users per second: 378.562</pre>"
      ],
      "text/plain": [
       "recommendations finished on 103000/304838 queries. users per second: 378.562"
      ]
     },
     "metadata": {},
     "output_type": "display_data"
    },
    {
     "data": {
      "text/html": [
       "<pre>recommendations finished on 104000/304838 queries. users per second: 378.738</pre>"
      ],
      "text/plain": [
       "recommendations finished on 104000/304838 queries. users per second: 378.738"
      ]
     },
     "metadata": {},
     "output_type": "display_data"
    },
    {
     "data": {
      "text/html": [
       "<pre>recommendations finished on 105000/304838 queries. users per second: 378.953</pre>"
      ],
      "text/plain": [
       "recommendations finished on 105000/304838 queries. users per second: 378.953"
      ]
     },
     "metadata": {},
     "output_type": "display_data"
    },
    {
     "data": {
      "text/html": [
       "<pre>recommendations finished on 106000/304838 queries. users per second: 379.04</pre>"
      ],
      "text/plain": [
       "recommendations finished on 106000/304838 queries. users per second: 379.04"
      ]
     },
     "metadata": {},
     "output_type": "display_data"
    },
    {
     "data": {
      "text/html": [
       "<pre>recommendations finished on 107000/304838 queries. users per second: 379.152</pre>"
      ],
      "text/plain": [
       "recommendations finished on 107000/304838 queries. users per second: 379.152"
      ]
     },
     "metadata": {},
     "output_type": "display_data"
    },
    {
     "data": {
      "text/html": [
       "<pre>recommendations finished on 108000/304838 queries. users per second: 379.323</pre>"
      ],
      "text/plain": [
       "recommendations finished on 108000/304838 queries. users per second: 379.323"
      ]
     },
     "metadata": {},
     "output_type": "display_data"
    },
    {
     "data": {
      "text/html": [
       "<pre>recommendations finished on 109000/304838 queries. users per second: 379.487</pre>"
      ],
      "text/plain": [
       "recommendations finished on 109000/304838 queries. users per second: 379.487"
      ]
     },
     "metadata": {},
     "output_type": "display_data"
    },
    {
     "data": {
      "text/html": [
       "<pre>recommendations finished on 110000/304838 queries. users per second: 379.275</pre>"
      ],
      "text/plain": [
       "recommendations finished on 110000/304838 queries. users per second: 379.275"
      ]
     },
     "metadata": {},
     "output_type": "display_data"
    },
    {
     "data": {
      "text/html": [
       "<pre>recommendations finished on 111000/304838 queries. users per second: 379.349</pre>"
      ],
      "text/plain": [
       "recommendations finished on 111000/304838 queries. users per second: 379.349"
      ]
     },
     "metadata": {},
     "output_type": "display_data"
    },
    {
     "data": {
      "text/html": [
       "<pre>recommendations finished on 112000/304838 queries. users per second: 379.311</pre>"
      ],
      "text/plain": [
       "recommendations finished on 112000/304838 queries. users per second: 379.311"
      ]
     },
     "metadata": {},
     "output_type": "display_data"
    },
    {
     "data": {
      "text/html": [
       "<pre>recommendations finished on 113000/304838 queries. users per second: 379.46</pre>"
      ],
      "text/plain": [
       "recommendations finished on 113000/304838 queries. users per second: 379.46"
      ]
     },
     "metadata": {},
     "output_type": "display_data"
    },
    {
     "data": {
      "text/html": [
       "<pre>recommendations finished on 114000/304838 queries. users per second: 379.65</pre>"
      ],
      "text/plain": [
       "recommendations finished on 114000/304838 queries. users per second: 379.65"
      ]
     },
     "metadata": {},
     "output_type": "display_data"
    },
    {
     "data": {
      "text/html": [
       "<pre>recommendations finished on 115000/304838 queries. users per second: 379.802</pre>"
      ],
      "text/plain": [
       "recommendations finished on 115000/304838 queries. users per second: 379.802"
      ]
     },
     "metadata": {},
     "output_type": "display_data"
    },
    {
     "data": {
      "text/html": [
       "<pre>recommendations finished on 116000/304838 queries. users per second: 379.96</pre>"
      ],
      "text/plain": [
       "recommendations finished on 116000/304838 queries. users per second: 379.96"
      ]
     },
     "metadata": {},
     "output_type": "display_data"
    },
    {
     "data": {
      "text/html": [
       "<pre>recommendations finished on 117000/304838 queries. users per second: 380.124</pre>"
      ],
      "text/plain": [
       "recommendations finished on 117000/304838 queries. users per second: 380.124"
      ]
     },
     "metadata": {},
     "output_type": "display_data"
    },
    {
     "data": {
      "text/html": [
       "<pre>recommendations finished on 118000/304838 queries. users per second: 380.194</pre>"
      ],
      "text/plain": [
       "recommendations finished on 118000/304838 queries. users per second: 380.194"
      ]
     },
     "metadata": {},
     "output_type": "display_data"
    },
    {
     "data": {
      "text/html": [
       "<pre>recommendations finished on 119000/304838 queries. users per second: 380.123</pre>"
      ],
      "text/plain": [
       "recommendations finished on 119000/304838 queries. users per second: 380.123"
      ]
     },
     "metadata": {},
     "output_type": "display_data"
    },
    {
     "data": {
      "text/html": [
       "<pre>recommendations finished on 120000/304838 queries. users per second: 380.191</pre>"
      ],
      "text/plain": [
       "recommendations finished on 120000/304838 queries. users per second: 380.191"
      ]
     },
     "metadata": {},
     "output_type": "display_data"
    },
    {
     "data": {
      "text/html": [
       "<pre>recommendations finished on 121000/304838 queries. users per second: 380.294</pre>"
      ],
      "text/plain": [
       "recommendations finished on 121000/304838 queries. users per second: 380.294"
      ]
     },
     "metadata": {},
     "output_type": "display_data"
    },
    {
     "data": {
      "text/html": [
       "<pre>recommendations finished on 122000/304838 queries. users per second: 380.363</pre>"
      ],
      "text/plain": [
       "recommendations finished on 122000/304838 queries. users per second: 380.363"
      ]
     },
     "metadata": {},
     "output_type": "display_data"
    },
    {
     "data": {
      "text/html": [
       "<pre>recommendations finished on 123000/304838 queries. users per second: 380.484</pre>"
      ],
      "text/plain": [
       "recommendations finished on 123000/304838 queries. users per second: 380.484"
      ]
     },
     "metadata": {},
     "output_type": "display_data"
    },
    {
     "data": {
      "text/html": [
       "<pre>recommendations finished on 124000/304838 queries. users per second: 380.672</pre>"
      ],
      "text/plain": [
       "recommendations finished on 124000/304838 queries. users per second: 380.672"
      ]
     },
     "metadata": {},
     "output_type": "display_data"
    },
    {
     "data": {
      "text/html": [
       "<pre>recommendations finished on 125000/304838 queries. users per second: 380.826</pre>"
      ],
      "text/plain": [
       "recommendations finished on 125000/304838 queries. users per second: 380.826"
      ]
     },
     "metadata": {},
     "output_type": "display_data"
    },
    {
     "data": {
      "text/html": [
       "<pre>recommendations finished on 126000/304838 queries. users per second: 380.916</pre>"
      ],
      "text/plain": [
       "recommendations finished on 126000/304838 queries. users per second: 380.916"
      ]
     },
     "metadata": {},
     "output_type": "display_data"
    },
    {
     "data": {
      "text/html": [
       "<pre>recommendations finished on 127000/304838 queries. users per second: 381.022</pre>"
      ],
      "text/plain": [
       "recommendations finished on 127000/304838 queries. users per second: 381.022"
      ]
     },
     "metadata": {},
     "output_type": "display_data"
    },
    {
     "data": {
      "text/html": [
       "<pre>recommendations finished on 128000/304838 queries. users per second: 381.17</pre>"
      ],
      "text/plain": [
       "recommendations finished on 128000/304838 queries. users per second: 381.17"
      ]
     },
     "metadata": {},
     "output_type": "display_data"
    },
    {
     "data": {
      "text/html": [
       "<pre>recommendations finished on 129000/304838 queries. users per second: 381.271</pre>"
      ],
      "text/plain": [
       "recommendations finished on 129000/304838 queries. users per second: 381.271"
      ]
     },
     "metadata": {},
     "output_type": "display_data"
    },
    {
     "data": {
      "text/html": [
       "<pre>recommendations finished on 130000/304838 queries. users per second: 381.421</pre>"
      ],
      "text/plain": [
       "recommendations finished on 130000/304838 queries. users per second: 381.421"
      ]
     },
     "metadata": {},
     "output_type": "display_data"
    },
    {
     "data": {
      "text/html": [
       "<pre>recommendations finished on 131000/304838 queries. users per second: 381.547</pre>"
      ],
      "text/plain": [
       "recommendations finished on 131000/304838 queries. users per second: 381.547"
      ]
     },
     "metadata": {},
     "output_type": "display_data"
    },
    {
     "data": {
      "text/html": [
       "<pre>recommendations finished on 132000/304838 queries. users per second: 381.667</pre>"
      ],
      "text/plain": [
       "recommendations finished on 132000/304838 queries. users per second: 381.667"
      ]
     },
     "metadata": {},
     "output_type": "display_data"
    },
    {
     "data": {
      "text/html": [
       "<pre>recommendations finished on 133000/304838 queries. users per second: 381.752</pre>"
      ],
      "text/plain": [
       "recommendations finished on 133000/304838 queries. users per second: 381.752"
      ]
     },
     "metadata": {},
     "output_type": "display_data"
    },
    {
     "data": {
      "text/html": [
       "<pre>recommendations finished on 134000/304838 queries. users per second: 381.84</pre>"
      ],
      "text/plain": [
       "recommendations finished on 134000/304838 queries. users per second: 381.84"
      ]
     },
     "metadata": {},
     "output_type": "display_data"
    },
    {
     "data": {
      "text/html": [
       "<pre>recommendations finished on 135000/304838 queries. users per second: 381.965</pre>"
      ],
      "text/plain": [
       "recommendations finished on 135000/304838 queries. users per second: 381.965"
      ]
     },
     "metadata": {},
     "output_type": "display_data"
    },
    {
     "data": {
      "text/html": [
       "<pre>recommendations finished on 136000/304838 queries. users per second: 382.021</pre>"
      ],
      "text/plain": [
       "recommendations finished on 136000/304838 queries. users per second: 382.021"
      ]
     },
     "metadata": {},
     "output_type": "display_data"
    },
    {
     "data": {
      "text/html": [
       "<pre>recommendations finished on 137000/304838 queries. users per second: 382.117</pre>"
      ],
      "text/plain": [
       "recommendations finished on 137000/304838 queries. users per second: 382.117"
      ]
     },
     "metadata": {},
     "output_type": "display_data"
    },
    {
     "data": {
      "text/html": [
       "<pre>recommendations finished on 138000/304838 queries. users per second: 382.169</pre>"
      ],
      "text/plain": [
       "recommendations finished on 138000/304838 queries. users per second: 382.169"
      ]
     },
     "metadata": {},
     "output_type": "display_data"
    },
    {
     "data": {
      "text/html": [
       "<pre>recommendations finished on 139000/304838 queries. users per second: 382.273</pre>"
      ],
      "text/plain": [
       "recommendations finished on 139000/304838 queries. users per second: 382.273"
      ]
     },
     "metadata": {},
     "output_type": "display_data"
    },
    {
     "data": {
      "text/html": [
       "<pre>recommendations finished on 140000/304838 queries. users per second: 382.379</pre>"
      ],
      "text/plain": [
       "recommendations finished on 140000/304838 queries. users per second: 382.379"
      ]
     },
     "metadata": {},
     "output_type": "display_data"
    },
    {
     "data": {
      "text/html": [
       "<pre>recommendations finished on 141000/304838 queries. users per second: 382.421</pre>"
      ],
      "text/plain": [
       "recommendations finished on 141000/304838 queries. users per second: 382.421"
      ]
     },
     "metadata": {},
     "output_type": "display_data"
    },
    {
     "data": {
      "text/html": [
       "<pre>recommendations finished on 142000/304838 queries. users per second: 382.511</pre>"
      ],
      "text/plain": [
       "recommendations finished on 142000/304838 queries. users per second: 382.511"
      ]
     },
     "metadata": {},
     "output_type": "display_data"
    },
    {
     "data": {
      "text/html": [
       "<pre>recommendations finished on 143000/304838 queries. users per second: 382.647</pre>"
      ],
      "text/plain": [
       "recommendations finished on 143000/304838 queries. users per second: 382.647"
      ]
     },
     "metadata": {},
     "output_type": "display_data"
    },
    {
     "data": {
      "text/html": [
       "<pre>recommendations finished on 144000/304838 queries. users per second: 382.738</pre>"
      ],
      "text/plain": [
       "recommendations finished on 144000/304838 queries. users per second: 382.738"
      ]
     },
     "metadata": {},
     "output_type": "display_data"
    },
    {
     "data": {
      "text/html": [
       "<pre>recommendations finished on 145000/304838 queries. users per second: 382.837</pre>"
      ],
      "text/plain": [
       "recommendations finished on 145000/304838 queries. users per second: 382.837"
      ]
     },
     "metadata": {},
     "output_type": "display_data"
    },
    {
     "data": {
      "text/html": [
       "<pre>recommendations finished on 146000/304838 queries. users per second: 382.941</pre>"
      ],
      "text/plain": [
       "recommendations finished on 146000/304838 queries. users per second: 382.941"
      ]
     },
     "metadata": {},
     "output_type": "display_data"
    },
    {
     "data": {
      "text/html": [
       "<pre>recommendations finished on 147000/304838 queries. users per second: 383.004</pre>"
      ],
      "text/plain": [
       "recommendations finished on 147000/304838 queries. users per second: 383.004"
      ]
     },
     "metadata": {},
     "output_type": "display_data"
    },
    {
     "data": {
      "text/html": [
       "<pre>recommendations finished on 148000/304838 queries. users per second: 383.133</pre>"
      ],
      "text/plain": [
       "recommendations finished on 148000/304838 queries. users per second: 383.133"
      ]
     },
     "metadata": {},
     "output_type": "display_data"
    },
    {
     "data": {
      "text/html": [
       "<pre>recommendations finished on 149000/304838 queries. users per second: 383.199</pre>"
      ],
      "text/plain": [
       "recommendations finished on 149000/304838 queries. users per second: 383.199"
      ]
     },
     "metadata": {},
     "output_type": "display_data"
    },
    {
     "data": {
      "text/html": [
       "<pre>recommendations finished on 150000/304838 queries. users per second: 383.296</pre>"
      ],
      "text/plain": [
       "recommendations finished on 150000/304838 queries. users per second: 383.296"
      ]
     },
     "metadata": {},
     "output_type": "display_data"
    },
    {
     "data": {
      "text/html": [
       "<pre>recommendations finished on 151000/304838 queries. users per second: 383.385</pre>"
      ],
      "text/plain": [
       "recommendations finished on 151000/304838 queries. users per second: 383.385"
      ]
     },
     "metadata": {},
     "output_type": "display_data"
    },
    {
     "data": {
      "text/html": [
       "<pre>recommendations finished on 152000/304838 queries. users per second: 383.491</pre>"
      ],
      "text/plain": [
       "recommendations finished on 152000/304838 queries. users per second: 383.491"
      ]
     },
     "metadata": {},
     "output_type": "display_data"
    },
    {
     "data": {
      "text/html": [
       "<pre>recommendations finished on 153000/304838 queries. users per second: 383.526</pre>"
      ],
      "text/plain": [
       "recommendations finished on 153000/304838 queries. users per second: 383.526"
      ]
     },
     "metadata": {},
     "output_type": "display_data"
    },
    {
     "data": {
      "text/html": [
       "<pre>recommendations finished on 154000/304838 queries. users per second: 383.609</pre>"
      ],
      "text/plain": [
       "recommendations finished on 154000/304838 queries. users per second: 383.609"
      ]
     },
     "metadata": {},
     "output_type": "display_data"
    },
    {
     "data": {
      "text/html": [
       "<pre>recommendations finished on 155000/304838 queries. users per second: 383.713</pre>"
      ],
      "text/plain": [
       "recommendations finished on 155000/304838 queries. users per second: 383.713"
      ]
     },
     "metadata": {},
     "output_type": "display_data"
    },
    {
     "data": {
      "text/html": [
       "<pre>recommendations finished on 156000/304838 queries. users per second: 383.729</pre>"
      ],
      "text/plain": [
       "recommendations finished on 156000/304838 queries. users per second: 383.729"
      ]
     },
     "metadata": {},
     "output_type": "display_data"
    },
    {
     "data": {
      "text/html": [
       "<pre>recommendations finished on 157000/304838 queries. users per second: 383.763</pre>"
      ],
      "text/plain": [
       "recommendations finished on 157000/304838 queries. users per second: 383.763"
      ]
     },
     "metadata": {},
     "output_type": "display_data"
    },
    {
     "data": {
      "text/html": [
       "<pre>recommendations finished on 158000/304838 queries. users per second: 383.86</pre>"
      ],
      "text/plain": [
       "recommendations finished on 158000/304838 queries. users per second: 383.86"
      ]
     },
     "metadata": {},
     "output_type": "display_data"
    },
    {
     "data": {
      "text/html": [
       "<pre>recommendations finished on 159000/304838 queries. users per second: 383.661</pre>"
      ],
      "text/plain": [
       "recommendations finished on 159000/304838 queries. users per second: 383.661"
      ]
     },
     "metadata": {},
     "output_type": "display_data"
    },
    {
     "data": {
      "text/html": [
       "<pre>recommendations finished on 160000/304838 queries. users per second: 383.733</pre>"
      ],
      "text/plain": [
       "recommendations finished on 160000/304838 queries. users per second: 383.733"
      ]
     },
     "metadata": {},
     "output_type": "display_data"
    },
    {
     "data": {
      "text/html": [
       "<pre>recommendations finished on 161000/304838 queries. users per second: 383.791</pre>"
      ],
      "text/plain": [
       "recommendations finished on 161000/304838 queries. users per second: 383.791"
      ]
     },
     "metadata": {},
     "output_type": "display_data"
    },
    {
     "data": {
      "text/html": [
       "<pre>recommendations finished on 162000/304838 queries. users per second: 383.883</pre>"
      ],
      "text/plain": [
       "recommendations finished on 162000/304838 queries. users per second: 383.883"
      ]
     },
     "metadata": {},
     "output_type": "display_data"
    },
    {
     "data": {
      "text/html": [
       "<pre>recommendations finished on 163000/304838 queries. users per second: 383.994</pre>"
      ],
      "text/plain": [
       "recommendations finished on 163000/304838 queries. users per second: 383.994"
      ]
     },
     "metadata": {},
     "output_type": "display_data"
    },
    {
     "data": {
      "text/html": [
       "<pre>recommendations finished on 164000/304838 queries. users per second: 384.047</pre>"
      ],
      "text/plain": [
       "recommendations finished on 164000/304838 queries. users per second: 384.047"
      ]
     },
     "metadata": {},
     "output_type": "display_data"
    },
    {
     "data": {
      "text/html": [
       "<pre>recommendations finished on 165000/304838 queries. users per second: 384.119</pre>"
      ],
      "text/plain": [
       "recommendations finished on 165000/304838 queries. users per second: 384.119"
      ]
     },
     "metadata": {},
     "output_type": "display_data"
    },
    {
     "data": {
      "text/html": [
       "<pre>recommendations finished on 166000/304838 queries. users per second: 383.992</pre>"
      ],
      "text/plain": [
       "recommendations finished on 166000/304838 queries. users per second: 383.992"
      ]
     },
     "metadata": {},
     "output_type": "display_data"
    },
    {
     "data": {
      "text/html": [
       "<pre>recommendations finished on 167000/304838 queries. users per second: 383.989</pre>"
      ],
      "text/plain": [
       "recommendations finished on 167000/304838 queries. users per second: 383.989"
      ]
     },
     "metadata": {},
     "output_type": "display_data"
    },
    {
     "data": {
      "text/html": [
       "<pre>recommendations finished on 168000/304838 queries. users per second: 384.051</pre>"
      ],
      "text/plain": [
       "recommendations finished on 168000/304838 queries. users per second: 384.051"
      ]
     },
     "metadata": {},
     "output_type": "display_data"
    },
    {
     "data": {
      "text/html": [
       "<pre>recommendations finished on 169000/304838 queries. users per second: 384.068</pre>"
      ],
      "text/plain": [
       "recommendations finished on 169000/304838 queries. users per second: 384.068"
      ]
     },
     "metadata": {},
     "output_type": "display_data"
    },
    {
     "data": {
      "text/html": [
       "<pre>recommendations finished on 170000/304838 queries. users per second: 384.128</pre>"
      ],
      "text/plain": [
       "recommendations finished on 170000/304838 queries. users per second: 384.128"
      ]
     },
     "metadata": {},
     "output_type": "display_data"
    },
    {
     "data": {
      "text/html": [
       "<pre>recommendations finished on 171000/304838 queries. users per second: 384.191</pre>"
      ],
      "text/plain": [
       "recommendations finished on 171000/304838 queries. users per second: 384.191"
      ]
     },
     "metadata": {},
     "output_type": "display_data"
    },
    {
     "data": {
      "text/html": [
       "<pre>recommendations finished on 172000/304838 queries. users per second: 384.229</pre>"
      ],
      "text/plain": [
       "recommendations finished on 172000/304838 queries. users per second: 384.229"
      ]
     },
     "metadata": {},
     "output_type": "display_data"
    },
    {
     "data": {
      "text/html": [
       "<pre>recommendations finished on 173000/304838 queries. users per second: 384.268</pre>"
      ],
      "text/plain": [
       "recommendations finished on 173000/304838 queries. users per second: 384.268"
      ]
     },
     "metadata": {},
     "output_type": "display_data"
    },
    {
     "data": {
      "text/html": [
       "<pre>recommendations finished on 174000/304838 queries. users per second: 384.326</pre>"
      ],
      "text/plain": [
       "recommendations finished on 174000/304838 queries. users per second: 384.326"
      ]
     },
     "metadata": {},
     "output_type": "display_data"
    },
    {
     "data": {
      "text/html": [
       "<pre>recommendations finished on 175000/304838 queries. users per second: 384.383</pre>"
      ],
      "text/plain": [
       "recommendations finished on 175000/304838 queries. users per second: 384.383"
      ]
     },
     "metadata": {},
     "output_type": "display_data"
    },
    {
     "data": {
      "text/html": [
       "<pre>recommendations finished on 176000/304838 queries. users per second: 384.444</pre>"
      ],
      "text/plain": [
       "recommendations finished on 176000/304838 queries. users per second: 384.444"
      ]
     },
     "metadata": {},
     "output_type": "display_data"
    },
    {
     "data": {
      "text/html": [
       "<pre>recommendations finished on 177000/304838 queries. users per second: 384.457</pre>"
      ],
      "text/plain": [
       "recommendations finished on 177000/304838 queries. users per second: 384.457"
      ]
     },
     "metadata": {},
     "output_type": "display_data"
    },
    {
     "data": {
      "text/html": [
       "<pre>recommendations finished on 178000/304838 queries. users per second: 384.55</pre>"
      ],
      "text/plain": [
       "recommendations finished on 178000/304838 queries. users per second: 384.55"
      ]
     },
     "metadata": {},
     "output_type": "display_data"
    },
    {
     "data": {
      "text/html": [
       "<pre>recommendations finished on 179000/304838 queries. users per second: 384.596</pre>"
      ],
      "text/plain": [
       "recommendations finished on 179000/304838 queries. users per second: 384.596"
      ]
     },
     "metadata": {},
     "output_type": "display_data"
    },
    {
     "data": {
      "text/html": [
       "<pre>recommendations finished on 180000/304838 queries. users per second: 384.661</pre>"
      ],
      "text/plain": [
       "recommendations finished on 180000/304838 queries. users per second: 384.661"
      ]
     },
     "metadata": {},
     "output_type": "display_data"
    },
    {
     "data": {
      "text/html": [
       "<pre>recommendations finished on 181000/304838 queries. users per second: 384.597</pre>"
      ],
      "text/plain": [
       "recommendations finished on 181000/304838 queries. users per second: 384.597"
      ]
     },
     "metadata": {},
     "output_type": "display_data"
    },
    {
     "data": {
      "text/html": [
       "<pre>recommendations finished on 182000/304838 queries. users per second: 384.62</pre>"
      ],
      "text/plain": [
       "recommendations finished on 182000/304838 queries. users per second: 384.62"
      ]
     },
     "metadata": {},
     "output_type": "display_data"
    },
    {
     "data": {
      "text/html": [
       "<pre>recommendations finished on 183000/304838 queries. users per second: 384.664</pre>"
      ],
      "text/plain": [
       "recommendations finished on 183000/304838 queries. users per second: 384.664"
      ]
     },
     "metadata": {},
     "output_type": "display_data"
    },
    {
     "data": {
      "text/html": [
       "<pre>recommendations finished on 184000/304838 queries. users per second: 384.742</pre>"
      ],
      "text/plain": [
       "recommendations finished on 184000/304838 queries. users per second: 384.742"
      ]
     },
     "metadata": {},
     "output_type": "display_data"
    },
    {
     "data": {
      "text/html": [
       "<pre>recommendations finished on 185000/304838 queries. users per second: 384.782</pre>"
      ],
      "text/plain": [
       "recommendations finished on 185000/304838 queries. users per second: 384.782"
      ]
     },
     "metadata": {},
     "output_type": "display_data"
    },
    {
     "data": {
      "text/html": [
       "<pre>recommendations finished on 186000/304838 queries. users per second: 384.839</pre>"
      ],
      "text/plain": [
       "recommendations finished on 186000/304838 queries. users per second: 384.839"
      ]
     },
     "metadata": {},
     "output_type": "display_data"
    },
    {
     "data": {
      "text/html": [
       "<pre>recommendations finished on 187000/304838 queries. users per second: 384.868</pre>"
      ],
      "text/plain": [
       "recommendations finished on 187000/304838 queries. users per second: 384.868"
      ]
     },
     "metadata": {},
     "output_type": "display_data"
    },
    {
     "data": {
      "text/html": [
       "<pre>recommendations finished on 188000/304838 queries. users per second: 384.922</pre>"
      ],
      "text/plain": [
       "recommendations finished on 188000/304838 queries. users per second: 384.922"
      ]
     },
     "metadata": {},
     "output_type": "display_data"
    },
    {
     "data": {
      "text/html": [
       "<pre>recommendations finished on 189000/304838 queries. users per second: 384.936</pre>"
      ],
      "text/plain": [
       "recommendations finished on 189000/304838 queries. users per second: 384.936"
      ]
     },
     "metadata": {},
     "output_type": "display_data"
    },
    {
     "data": {
      "text/html": [
       "<pre>recommendations finished on 190000/304838 queries. users per second: 384.915</pre>"
      ],
      "text/plain": [
       "recommendations finished on 190000/304838 queries. users per second: 384.915"
      ]
     },
     "metadata": {},
     "output_type": "display_data"
    },
    {
     "data": {
      "text/html": [
       "<pre>recommendations finished on 191000/304838 queries. users per second: 384.944</pre>"
      ],
      "text/plain": [
       "recommendations finished on 191000/304838 queries. users per second: 384.944"
      ]
     },
     "metadata": {},
     "output_type": "display_data"
    },
    {
     "data": {
      "text/html": [
       "<pre>recommendations finished on 192000/304838 queries. users per second: 384.952</pre>"
      ],
      "text/plain": [
       "recommendations finished on 192000/304838 queries. users per second: 384.952"
      ]
     },
     "metadata": {},
     "output_type": "display_data"
    },
    {
     "data": {
      "text/html": [
       "<pre>recommendations finished on 193000/304838 queries. users per second: 385.007</pre>"
      ],
      "text/plain": [
       "recommendations finished on 193000/304838 queries. users per second: 385.007"
      ]
     },
     "metadata": {},
     "output_type": "display_data"
    },
    {
     "data": {
      "text/html": [
       "<pre>recommendations finished on 194000/304838 queries. users per second: 385.057</pre>"
      ],
      "text/plain": [
       "recommendations finished on 194000/304838 queries. users per second: 385.057"
      ]
     },
     "metadata": {},
     "output_type": "display_data"
    },
    {
     "data": {
      "text/html": [
       "<pre>recommendations finished on 195000/304838 queries. users per second: 385.077</pre>"
      ],
      "text/plain": [
       "recommendations finished on 195000/304838 queries. users per second: 385.077"
      ]
     },
     "metadata": {},
     "output_type": "display_data"
    },
    {
     "data": {
      "text/html": [
       "<pre>recommendations finished on 196000/304838 queries. users per second: 385.138</pre>"
      ],
      "text/plain": [
       "recommendations finished on 196000/304838 queries. users per second: 385.138"
      ]
     },
     "metadata": {},
     "output_type": "display_data"
    },
    {
     "data": {
      "text/html": [
       "<pre>recommendations finished on 197000/304838 queries. users per second: 385.13</pre>"
      ],
      "text/plain": [
       "recommendations finished on 197000/304838 queries. users per second: 385.13"
      ]
     },
     "metadata": {},
     "output_type": "display_data"
    },
    {
     "data": {
      "text/html": [
       "<pre>recommendations finished on 198000/304838 queries. users per second: 385.201</pre>"
      ],
      "text/plain": [
       "recommendations finished on 198000/304838 queries. users per second: 385.201"
      ]
     },
     "metadata": {},
     "output_type": "display_data"
    },
    {
     "data": {
      "text/html": [
       "<pre>recommendations finished on 199000/304838 queries. users per second: 385.218</pre>"
      ],
      "text/plain": [
       "recommendations finished on 199000/304838 queries. users per second: 385.218"
      ]
     },
     "metadata": {},
     "output_type": "display_data"
    },
    {
     "data": {
      "text/html": [
       "<pre>recommendations finished on 200000/304838 queries. users per second: 385.267</pre>"
      ],
      "text/plain": [
       "recommendations finished on 200000/304838 queries. users per second: 385.267"
      ]
     },
     "metadata": {},
     "output_type": "display_data"
    },
    {
     "data": {
      "text/html": [
       "<pre>recommendations finished on 201000/304838 queries. users per second: 385.268</pre>"
      ],
      "text/plain": [
       "recommendations finished on 201000/304838 queries. users per second: 385.268"
      ]
     },
     "metadata": {},
     "output_type": "display_data"
    },
    {
     "data": {
      "text/html": [
       "<pre>recommendations finished on 202000/304838 queries. users per second: 385.323</pre>"
      ],
      "text/plain": [
       "recommendations finished on 202000/304838 queries. users per second: 385.323"
      ]
     },
     "metadata": {},
     "output_type": "display_data"
    },
    {
     "data": {
      "text/html": [
       "<pre>recommendations finished on 203000/304838 queries. users per second: 385.365</pre>"
      ],
      "text/plain": [
       "recommendations finished on 203000/304838 queries. users per second: 385.365"
      ]
     },
     "metadata": {},
     "output_type": "display_data"
    },
    {
     "data": {
      "text/html": [
       "<pre>recommendations finished on 204000/304838 queries. users per second: 385.39</pre>"
      ],
      "text/plain": [
       "recommendations finished on 204000/304838 queries. users per second: 385.39"
      ]
     },
     "metadata": {},
     "output_type": "display_data"
    },
    {
     "data": {
      "text/html": [
       "<pre>recommendations finished on 205000/304838 queries. users per second: 385.441</pre>"
      ],
      "text/plain": [
       "recommendations finished on 205000/304838 queries. users per second: 385.441"
      ]
     },
     "metadata": {},
     "output_type": "display_data"
    },
    {
     "data": {
      "text/html": [
       "<pre>recommendations finished on 206000/304838 queries. users per second: 385.451</pre>"
      ],
      "text/plain": [
       "recommendations finished on 206000/304838 queries. users per second: 385.451"
      ]
     },
     "metadata": {},
     "output_type": "display_data"
    },
    {
     "data": {
      "text/html": [
       "<pre>recommendations finished on 207000/304838 queries. users per second: 385.513</pre>"
      ],
      "text/plain": [
       "recommendations finished on 207000/304838 queries. users per second: 385.513"
      ]
     },
     "metadata": {},
     "output_type": "display_data"
    },
    {
     "data": {
      "text/html": [
       "<pre>recommendations finished on 208000/304838 queries. users per second: 385.531</pre>"
      ],
      "text/plain": [
       "recommendations finished on 208000/304838 queries. users per second: 385.531"
      ]
     },
     "metadata": {},
     "output_type": "display_data"
    },
    {
     "data": {
      "text/html": [
       "<pre>recommendations finished on 209000/304838 queries. users per second: 385.582</pre>"
      ],
      "text/plain": [
       "recommendations finished on 209000/304838 queries. users per second: 385.582"
      ]
     },
     "metadata": {},
     "output_type": "display_data"
    },
    {
     "data": {
      "text/html": [
       "<pre>recommendations finished on 210000/304838 queries. users per second: 385.608</pre>"
      ],
      "text/plain": [
       "recommendations finished on 210000/304838 queries. users per second: 385.608"
      ]
     },
     "metadata": {},
     "output_type": "display_data"
    },
    {
     "data": {
      "text/html": [
       "<pre>recommendations finished on 211000/304838 queries. users per second: 385.646</pre>"
      ],
      "text/plain": [
       "recommendations finished on 211000/304838 queries. users per second: 385.646"
      ]
     },
     "metadata": {},
     "output_type": "display_data"
    },
    {
     "data": {
      "text/html": [
       "<pre>recommendations finished on 212000/304838 queries. users per second: 385.705</pre>"
      ],
      "text/plain": [
       "recommendations finished on 212000/304838 queries. users per second: 385.705"
      ]
     },
     "metadata": {},
     "output_type": "display_data"
    },
    {
     "data": {
      "text/html": [
       "<pre>recommendations finished on 213000/304838 queries. users per second: 385.568</pre>"
      ],
      "text/plain": [
       "recommendations finished on 213000/304838 queries. users per second: 385.568"
      ]
     },
     "metadata": {},
     "output_type": "display_data"
    },
    {
     "data": {
      "text/html": [
       "<pre>recommendations finished on 214000/304838 queries. users per second: 385.24</pre>"
      ],
      "text/plain": [
       "recommendations finished on 214000/304838 queries. users per second: 385.24"
      ]
     },
     "metadata": {},
     "output_type": "display_data"
    },
    {
     "data": {
      "text/html": [
       "<pre>recommendations finished on 215000/304838 queries. users per second: 384.605</pre>"
      ],
      "text/plain": [
       "recommendations finished on 215000/304838 queries. users per second: 384.605"
      ]
     },
     "metadata": {},
     "output_type": "display_data"
    },
    {
     "data": {
      "text/html": [
       "<pre>recommendations finished on 216000/304838 queries. users per second: 383.919</pre>"
      ],
      "text/plain": [
       "recommendations finished on 216000/304838 queries. users per second: 383.919"
      ]
     },
     "metadata": {},
     "output_type": "display_data"
    },
    {
     "data": {
      "text/html": [
       "<pre>recommendations finished on 217000/304838 queries. users per second: 383.758</pre>"
      ],
      "text/plain": [
       "recommendations finished on 217000/304838 queries. users per second: 383.758"
      ]
     },
     "metadata": {},
     "output_type": "display_data"
    },
    {
     "data": {
      "text/html": [
       "<pre>recommendations finished on 218000/304838 queries. users per second: 383.684</pre>"
      ],
      "text/plain": [
       "recommendations finished on 218000/304838 queries. users per second: 383.684"
      ]
     },
     "metadata": {},
     "output_type": "display_data"
    },
    {
     "data": {
      "text/html": [
       "<pre>recommendations finished on 219000/304838 queries. users per second: 383.603</pre>"
      ],
      "text/plain": [
       "recommendations finished on 219000/304838 queries. users per second: 383.603"
      ]
     },
     "metadata": {},
     "output_type": "display_data"
    },
    {
     "data": {
      "text/html": [
       "<pre>recommendations finished on 220000/304838 queries. users per second: 382.727</pre>"
      ],
      "text/plain": [
       "recommendations finished on 220000/304838 queries. users per second: 382.727"
      ]
     },
     "metadata": {},
     "output_type": "display_data"
    },
    {
     "data": {
      "text/html": [
       "<pre>recommendations finished on 221000/304838 queries. users per second: 382.342</pre>"
      ],
      "text/plain": [
       "recommendations finished on 221000/304838 queries. users per second: 382.342"
      ]
     },
     "metadata": {},
     "output_type": "display_data"
    },
    {
     "data": {
      "text/html": [
       "<pre>recommendations finished on 222000/304838 queries. users per second: 382.238</pre>"
      ],
      "text/plain": [
       "recommendations finished on 222000/304838 queries. users per second: 382.238"
      ]
     },
     "metadata": {},
     "output_type": "display_data"
    },
    {
     "data": {
      "text/html": [
       "<pre>recommendations finished on 223000/304838 queries. users per second: 382.119</pre>"
      ],
      "text/plain": [
       "recommendations finished on 223000/304838 queries. users per second: 382.119"
      ]
     },
     "metadata": {},
     "output_type": "display_data"
    },
    {
     "data": {
      "text/html": [
       "<pre>recommendations finished on 224000/304838 queries. users per second: 381.476</pre>"
      ],
      "text/plain": [
       "recommendations finished on 224000/304838 queries. users per second: 381.476"
      ]
     },
     "metadata": {},
     "output_type": "display_data"
    },
    {
     "data": {
      "text/html": [
       "<pre>recommendations finished on 225000/304838 queries. users per second: 381.048</pre>"
      ],
      "text/plain": [
       "recommendations finished on 225000/304838 queries. users per second: 381.048"
      ]
     },
     "metadata": {},
     "output_type": "display_data"
    },
    {
     "data": {
      "text/html": [
       "<pre>recommendations finished on 226000/304838 queries. users per second: 381.013</pre>"
      ],
      "text/plain": [
       "recommendations finished on 226000/304838 queries. users per second: 381.013"
      ]
     },
     "metadata": {},
     "output_type": "display_data"
    },
    {
     "data": {
      "text/html": [
       "<pre>recommendations finished on 227000/304838 queries. users per second: 380.894</pre>"
      ],
      "text/plain": [
       "recommendations finished on 227000/304838 queries. users per second: 380.894"
      ]
     },
     "metadata": {},
     "output_type": "display_data"
    },
    {
     "data": {
      "text/html": [
       "<pre>recommendations finished on 228000/304838 queries. users per second: 380.817</pre>"
      ],
      "text/plain": [
       "recommendations finished on 228000/304838 queries. users per second: 380.817"
      ]
     },
     "metadata": {},
     "output_type": "display_data"
    },
    {
     "data": {
      "text/html": [
       "<pre>recommendations finished on 229000/304838 queries. users per second: 380.753</pre>"
      ],
      "text/plain": [
       "recommendations finished on 229000/304838 queries. users per second: 380.753"
      ]
     },
     "metadata": {},
     "output_type": "display_data"
    },
    {
     "data": {
      "text/html": [
       "<pre>recommendations finished on 230000/304838 queries. users per second: 380.683</pre>"
      ],
      "text/plain": [
       "recommendations finished on 230000/304838 queries. users per second: 380.683"
      ]
     },
     "metadata": {},
     "output_type": "display_data"
    },
    {
     "data": {
      "text/html": [
       "<pre>recommendations finished on 231000/304838 queries. users per second: 380.507</pre>"
      ],
      "text/plain": [
       "recommendations finished on 231000/304838 queries. users per second: 380.507"
      ]
     },
     "metadata": {},
     "output_type": "display_data"
    },
    {
     "data": {
      "text/html": [
       "<pre>recommendations finished on 232000/304838 queries. users per second: 380.435</pre>"
      ],
      "text/plain": [
       "recommendations finished on 232000/304838 queries. users per second: 380.435"
      ]
     },
     "metadata": {},
     "output_type": "display_data"
    },
    {
     "data": {
      "text/html": [
       "<pre>recommendations finished on 233000/304838 queries. users per second: 380.307</pre>"
      ],
      "text/plain": [
       "recommendations finished on 233000/304838 queries. users per second: 380.307"
      ]
     },
     "metadata": {},
     "output_type": "display_data"
    },
    {
     "data": {
      "text/html": [
       "<pre>recommendations finished on 234000/304838 queries. users per second: 379.967</pre>"
      ],
      "text/plain": [
       "recommendations finished on 234000/304838 queries. users per second: 379.967"
      ]
     },
     "metadata": {},
     "output_type": "display_data"
    },
    {
     "data": {
      "text/html": [
       "<pre>recommendations finished on 235000/304838 queries. users per second: 379.889</pre>"
      ],
      "text/plain": [
       "recommendations finished on 235000/304838 queries. users per second: 379.889"
      ]
     },
     "metadata": {},
     "output_type": "display_data"
    },
    {
     "data": {
      "text/html": [
       "<pre>recommendations finished on 236000/304838 queries. users per second: 379.826</pre>"
      ],
      "text/plain": [
       "recommendations finished on 236000/304838 queries. users per second: 379.826"
      ]
     },
     "metadata": {},
     "output_type": "display_data"
    },
    {
     "data": {
      "text/html": [
       "<pre>recommendations finished on 237000/304838 queries. users per second: 379.761</pre>"
      ],
      "text/plain": [
       "recommendations finished on 237000/304838 queries. users per second: 379.761"
      ]
     },
     "metadata": {},
     "output_type": "display_data"
    },
    {
     "data": {
      "text/html": [
       "<pre>recommendations finished on 238000/304838 queries. users per second: 379.58</pre>"
      ],
      "text/plain": [
       "recommendations finished on 238000/304838 queries. users per second: 379.58"
      ]
     },
     "metadata": {},
     "output_type": "display_data"
    },
    {
     "data": {
      "text/html": [
       "<pre>recommendations finished on 239000/304838 queries. users per second: 379.428</pre>"
      ],
      "text/plain": [
       "recommendations finished on 239000/304838 queries. users per second: 379.428"
      ]
     },
     "metadata": {},
     "output_type": "display_data"
    },
    {
     "data": {
      "text/html": [
       "<pre>recommendations finished on 240000/304838 queries. users per second: 379.026</pre>"
      ],
      "text/plain": [
       "recommendations finished on 240000/304838 queries. users per second: 379.026"
      ]
     },
     "metadata": {},
     "output_type": "display_data"
    },
    {
     "data": {
      "text/html": [
       "<pre>recommendations finished on 241000/304838 queries. users per second: 378.531</pre>"
      ],
      "text/plain": [
       "recommendations finished on 241000/304838 queries. users per second: 378.531"
      ]
     },
     "metadata": {},
     "output_type": "display_data"
    },
    {
     "data": {
      "text/html": [
       "<pre>recommendations finished on 242000/304838 queries. users per second: 377.794</pre>"
      ],
      "text/plain": [
       "recommendations finished on 242000/304838 queries. users per second: 377.794"
      ]
     },
     "metadata": {},
     "output_type": "display_data"
    },
    {
     "data": {
      "text/html": [
       "<pre>recommendations finished on 243000/304838 queries. users per second: 377.375</pre>"
      ],
      "text/plain": [
       "recommendations finished on 243000/304838 queries. users per second: 377.375"
      ]
     },
     "metadata": {},
     "output_type": "display_data"
    },
    {
     "data": {
      "text/html": [
       "<pre>recommendations finished on 244000/304838 queries. users per second: 377.361</pre>"
      ],
      "text/plain": [
       "recommendations finished on 244000/304838 queries. users per second: 377.361"
      ]
     },
     "metadata": {},
     "output_type": "display_data"
    },
    {
     "data": {
      "text/html": [
       "<pre>recommendations finished on 245000/304838 queries. users per second: 377.16</pre>"
      ],
      "text/plain": [
       "recommendations finished on 245000/304838 queries. users per second: 377.16"
      ]
     },
     "metadata": {},
     "output_type": "display_data"
    },
    {
     "data": {
      "text/html": [
       "<pre>recommendations finished on 246000/304838 queries. users per second: 376.982</pre>"
      ],
      "text/plain": [
       "recommendations finished on 246000/304838 queries. users per second: 376.982"
      ]
     },
     "metadata": {},
     "output_type": "display_data"
    },
    {
     "data": {
      "text/html": [
       "<pre>recommendations finished on 247000/304838 queries. users per second: 376.841</pre>"
      ],
      "text/plain": [
       "recommendations finished on 247000/304838 queries. users per second: 376.841"
      ]
     },
     "metadata": {},
     "output_type": "display_data"
    },
    {
     "data": {
      "text/html": [
       "<pre>recommendations finished on 248000/304838 queries. users per second: 376.856</pre>"
      ],
      "text/plain": [
       "recommendations finished on 248000/304838 queries. users per second: 376.856"
      ]
     },
     "metadata": {},
     "output_type": "display_data"
    },
    {
     "data": {
      "text/html": [
       "<pre>recommendations finished on 249000/304838 queries. users per second: 376.826</pre>"
      ],
      "text/plain": [
       "recommendations finished on 249000/304838 queries. users per second: 376.826"
      ]
     },
     "metadata": {},
     "output_type": "display_data"
    },
    {
     "data": {
      "text/html": [
       "<pre>recommendations finished on 250000/304838 queries. users per second: 376.808</pre>"
      ],
      "text/plain": [
       "recommendations finished on 250000/304838 queries. users per second: 376.808"
      ]
     },
     "metadata": {},
     "output_type": "display_data"
    },
    {
     "data": {
      "text/html": [
       "<pre>recommendations finished on 251000/304838 queries. users per second: 376.642</pre>"
      ],
      "text/plain": [
       "recommendations finished on 251000/304838 queries. users per second: 376.642"
      ]
     },
     "metadata": {},
     "output_type": "display_data"
    },
    {
     "data": {
      "text/html": [
       "<pre>recommendations finished on 252000/304838 queries. users per second: 376.185</pre>"
      ],
      "text/plain": [
       "recommendations finished on 252000/304838 queries. users per second: 376.185"
      ]
     },
     "metadata": {},
     "output_type": "display_data"
    },
    {
     "data": {
      "text/html": [
       "<pre>recommendations finished on 253000/304838 queries. users per second: 375.55</pre>"
      ],
      "text/plain": [
       "recommendations finished on 253000/304838 queries. users per second: 375.55"
      ]
     },
     "metadata": {},
     "output_type": "display_data"
    },
    {
     "data": {
      "text/html": [
       "<pre>recommendations finished on 254000/304838 queries. users per second: 375.343</pre>"
      ],
      "text/plain": [
       "recommendations finished on 254000/304838 queries. users per second: 375.343"
      ]
     },
     "metadata": {},
     "output_type": "display_data"
    },
    {
     "data": {
      "text/html": [
       "<pre>recommendations finished on 255000/304838 queries. users per second: 374.98</pre>"
      ],
      "text/plain": [
       "recommendations finished on 255000/304838 queries. users per second: 374.98"
      ]
     },
     "metadata": {},
     "output_type": "display_data"
    },
    {
     "data": {
      "text/html": [
       "<pre>recommendations finished on 256000/304838 queries. users per second: 374.793</pre>"
      ],
      "text/plain": [
       "recommendations finished on 256000/304838 queries. users per second: 374.793"
      ]
     },
     "metadata": {},
     "output_type": "display_data"
    },
    {
     "data": {
      "text/html": [
       "<pre>recommendations finished on 257000/304838 queries. users per second: 374.529</pre>"
      ],
      "text/plain": [
       "recommendations finished on 257000/304838 queries. users per second: 374.529"
      ]
     },
     "metadata": {},
     "output_type": "display_data"
    },
    {
     "data": {
      "text/html": [
       "<pre>recommendations finished on 258000/304838 queries. users per second: 374.104</pre>"
      ],
      "text/plain": [
       "recommendations finished on 258000/304838 queries. users per second: 374.104"
      ]
     },
     "metadata": {},
     "output_type": "display_data"
    },
    {
     "data": {
      "text/html": [
       "<pre>recommendations finished on 259000/304838 queries. users per second: 373.807</pre>"
      ],
      "text/plain": [
       "recommendations finished on 259000/304838 queries. users per second: 373.807"
      ]
     },
     "metadata": {},
     "output_type": "display_data"
    },
    {
     "data": {
      "text/html": [
       "<pre>recommendations finished on 260000/304838 queries. users per second: 373.072</pre>"
      ],
      "text/plain": [
       "recommendations finished on 260000/304838 queries. users per second: 373.072"
      ]
     },
     "metadata": {},
     "output_type": "display_data"
    },
    {
     "data": {
      "text/html": [
       "<pre>recommendations finished on 261000/304838 queries. users per second: 372.697</pre>"
      ],
      "text/plain": [
       "recommendations finished on 261000/304838 queries. users per second: 372.697"
      ]
     },
     "metadata": {},
     "output_type": "display_data"
    },
    {
     "data": {
      "text/html": [
       "<pre>recommendations finished on 262000/304838 queries. users per second: 372.495</pre>"
      ],
      "text/plain": [
       "recommendations finished on 262000/304838 queries. users per second: 372.495"
      ]
     },
     "metadata": {},
     "output_type": "display_data"
    },
    {
     "data": {
      "text/html": [
       "<pre>recommendations finished on 263000/304838 queries. users per second: 372.279</pre>"
      ],
      "text/plain": [
       "recommendations finished on 263000/304838 queries. users per second: 372.279"
      ]
     },
     "metadata": {},
     "output_type": "display_data"
    },
    {
     "data": {
      "text/html": [
       "<pre>recommendations finished on 264000/304838 queries. users per second: 371.986</pre>"
      ],
      "text/plain": [
       "recommendations finished on 264000/304838 queries. users per second: 371.986"
      ]
     },
     "metadata": {},
     "output_type": "display_data"
    },
    {
     "data": {
      "text/html": [
       "<pre>recommendations finished on 265000/304838 queries. users per second: 371.786</pre>"
      ],
      "text/plain": [
       "recommendations finished on 265000/304838 queries. users per second: 371.786"
      ]
     },
     "metadata": {},
     "output_type": "display_data"
    },
    {
     "data": {
      "text/html": [
       "<pre>recommendations finished on 266000/304838 queries. users per second: 371.164</pre>"
      ],
      "text/plain": [
       "recommendations finished on 266000/304838 queries. users per second: 371.164"
      ]
     },
     "metadata": {},
     "output_type": "display_data"
    },
    {
     "data": {
      "text/html": [
       "<pre>recommendations finished on 267000/304838 queries. users per second: 370.593</pre>"
      ],
      "text/plain": [
       "recommendations finished on 267000/304838 queries. users per second: 370.593"
      ]
     },
     "metadata": {},
     "output_type": "display_data"
    },
    {
     "data": {
      "text/html": [
       "<pre>recommendations finished on 268000/304838 queries. users per second: 370.218</pre>"
      ],
      "text/plain": [
       "recommendations finished on 268000/304838 queries. users per second: 370.218"
      ]
     },
     "metadata": {},
     "output_type": "display_data"
    },
    {
     "data": {
      "text/html": [
       "<pre>recommendations finished on 269000/304838 queries. users per second: 369.821</pre>"
      ],
      "text/plain": [
       "recommendations finished on 269000/304838 queries. users per second: 369.821"
      ]
     },
     "metadata": {},
     "output_type": "display_data"
    },
    {
     "data": {
      "text/html": [
       "<pre>recommendations finished on 270000/304838 queries. users per second: 368.781</pre>"
      ],
      "text/plain": [
       "recommendations finished on 270000/304838 queries. users per second: 368.781"
      ]
     },
     "metadata": {},
     "output_type": "display_data"
    },
    {
     "data": {
      "text/html": [
       "<pre>recommendations finished on 271000/304838 queries. users per second: 367.487</pre>"
      ],
      "text/plain": [
       "recommendations finished on 271000/304838 queries. users per second: 367.487"
      ]
     },
     "metadata": {},
     "output_type": "display_data"
    },
    {
     "data": {
      "text/html": [
       "<pre>recommendations finished on 272000/304838 queries. users per second: 367.138</pre>"
      ],
      "text/plain": [
       "recommendations finished on 272000/304838 queries. users per second: 367.138"
      ]
     },
     "metadata": {},
     "output_type": "display_data"
    },
    {
     "data": {
      "text/html": [
       "<pre>recommendations finished on 273000/304838 queries. users per second: 367.081</pre>"
      ],
      "text/plain": [
       "recommendations finished on 273000/304838 queries. users per second: 367.081"
      ]
     },
     "metadata": {},
     "output_type": "display_data"
    },
    {
     "data": {
      "text/html": [
       "<pre>recommendations finished on 274000/304838 queries. users per second: 367.018</pre>"
      ],
      "text/plain": [
       "recommendations finished on 274000/304838 queries. users per second: 367.018"
      ]
     },
     "metadata": {},
     "output_type": "display_data"
    },
    {
     "data": {
      "text/html": [
       "<pre>recommendations finished on 275000/304838 queries. users per second: 366.78</pre>"
      ],
      "text/plain": [
       "recommendations finished on 275000/304838 queries. users per second: 366.78"
      ]
     },
     "metadata": {},
     "output_type": "display_data"
    },
    {
     "data": {
      "text/html": [
       "<pre>recommendations finished on 276000/304838 queries. users per second: 366.627</pre>"
      ],
      "text/plain": [
       "recommendations finished on 276000/304838 queries. users per second: 366.627"
      ]
     },
     "metadata": {},
     "output_type": "display_data"
    },
    {
     "data": {
      "text/html": [
       "<pre>recommendations finished on 277000/304838 queries. users per second: 366.512</pre>"
      ],
      "text/plain": [
       "recommendations finished on 277000/304838 queries. users per second: 366.512"
      ]
     },
     "metadata": {},
     "output_type": "display_data"
    },
    {
     "data": {
      "text/html": [
       "<pre>recommendations finished on 278000/304838 queries. users per second: 366.392</pre>"
      ],
      "text/plain": [
       "recommendations finished on 278000/304838 queries. users per second: 366.392"
      ]
     },
     "metadata": {},
     "output_type": "display_data"
    },
    {
     "data": {
      "text/html": [
       "<pre>recommendations finished on 279000/304838 queries. users per second: 366.409</pre>"
      ],
      "text/plain": [
       "recommendations finished on 279000/304838 queries. users per second: 366.409"
      ]
     },
     "metadata": {},
     "output_type": "display_data"
    },
    {
     "data": {
      "text/html": [
       "<pre>recommendations finished on 280000/304838 queries. users per second: 366.376</pre>"
      ],
      "text/plain": [
       "recommendations finished on 280000/304838 queries. users per second: 366.376"
      ]
     },
     "metadata": {},
     "output_type": "display_data"
    },
    {
     "data": {
      "text/html": [
       "<pre>recommendations finished on 281000/304838 queries. users per second: 366.381</pre>"
      ],
      "text/plain": [
       "recommendations finished on 281000/304838 queries. users per second: 366.381"
      ]
     },
     "metadata": {},
     "output_type": "display_data"
    },
    {
     "data": {
      "text/html": [
       "<pre>recommendations finished on 282000/304838 queries. users per second: 366.425</pre>"
      ],
      "text/plain": [
       "recommendations finished on 282000/304838 queries. users per second: 366.425"
      ]
     },
     "metadata": {},
     "output_type": "display_data"
    },
    {
     "data": {
      "text/html": [
       "<pre>recommendations finished on 283000/304838 queries. users per second: 366.375</pre>"
      ],
      "text/plain": [
       "recommendations finished on 283000/304838 queries. users per second: 366.375"
      ]
     },
     "metadata": {},
     "output_type": "display_data"
    },
    {
     "data": {
      "text/html": [
       "<pre>recommendations finished on 284000/304838 queries. users per second: 366.309</pre>"
      ],
      "text/plain": [
       "recommendations finished on 284000/304838 queries. users per second: 366.309"
      ]
     },
     "metadata": {},
     "output_type": "display_data"
    },
    {
     "data": {
      "text/html": [
       "<pre>recommendations finished on 285000/304838 queries. users per second: 366.245</pre>"
      ],
      "text/plain": [
       "recommendations finished on 285000/304838 queries. users per second: 366.245"
      ]
     },
     "metadata": {},
     "output_type": "display_data"
    },
    {
     "data": {
      "text/html": [
       "<pre>recommendations finished on 286000/304838 queries. users per second: 365.73</pre>"
      ],
      "text/plain": [
       "recommendations finished on 286000/304838 queries. users per second: 365.73"
      ]
     },
     "metadata": {},
     "output_type": "display_data"
    },
    {
     "data": {
      "text/html": [
       "<pre>recommendations finished on 287000/304838 queries. users per second: 365.453</pre>"
      ],
      "text/plain": [
       "recommendations finished on 287000/304838 queries. users per second: 365.453"
      ]
     },
     "metadata": {},
     "output_type": "display_data"
    },
    {
     "data": {
      "text/html": [
       "<pre>recommendations finished on 288000/304838 queries. users per second: 365.387</pre>"
      ],
      "text/plain": [
       "recommendations finished on 288000/304838 queries. users per second: 365.387"
      ]
     },
     "metadata": {},
     "output_type": "display_data"
    },
    {
     "data": {
      "text/html": [
       "<pre>recommendations finished on 289000/304838 queries. users per second: 365.036</pre>"
      ],
      "text/plain": [
       "recommendations finished on 289000/304838 queries. users per second: 365.036"
      ]
     },
     "metadata": {},
     "output_type": "display_data"
    },
    {
     "data": {
      "text/html": [
       "<pre>recommendations finished on 290000/304838 queries. users per second: 364.66</pre>"
      ],
      "text/plain": [
       "recommendations finished on 290000/304838 queries. users per second: 364.66"
      ]
     },
     "metadata": {},
     "output_type": "display_data"
    },
    {
     "data": {
      "text/html": [
       "<pre>recommendations finished on 291000/304838 queries. users per second: 364.46</pre>"
      ],
      "text/plain": [
       "recommendations finished on 291000/304838 queries. users per second: 364.46"
      ]
     },
     "metadata": {},
     "output_type": "display_data"
    },
    {
     "data": {
      "text/html": [
       "<pre>recommendations finished on 292000/304838 queries. users per second: 364.167</pre>"
      ],
      "text/plain": [
       "recommendations finished on 292000/304838 queries. users per second: 364.167"
      ]
     },
     "metadata": {},
     "output_type": "display_data"
    },
    {
     "data": {
      "text/html": [
       "<pre>recommendations finished on 293000/304838 queries. users per second: 363.746</pre>"
      ],
      "text/plain": [
       "recommendations finished on 293000/304838 queries. users per second: 363.746"
      ]
     },
     "metadata": {},
     "output_type": "display_data"
    },
    {
     "data": {
      "text/html": [
       "<pre>recommendations finished on 294000/304838 queries. users per second: 363.5</pre>"
      ],
      "text/plain": [
       "recommendations finished on 294000/304838 queries. users per second: 363.5"
      ]
     },
     "metadata": {},
     "output_type": "display_data"
    },
    {
     "data": {
      "text/html": [
       "<pre>recommendations finished on 295000/304838 queries. users per second: 363.409</pre>"
      ],
      "text/plain": [
       "recommendations finished on 295000/304838 queries. users per second: 363.409"
      ]
     },
     "metadata": {},
     "output_type": "display_data"
    },
    {
     "data": {
      "text/html": [
       "<pre>recommendations finished on 296000/304838 queries. users per second: 363.292</pre>"
      ],
      "text/plain": [
       "recommendations finished on 296000/304838 queries. users per second: 363.292"
      ]
     },
     "metadata": {},
     "output_type": "display_data"
    },
    {
     "data": {
      "text/html": [
       "<pre>recommendations finished on 297000/304838 queries. users per second: 363.212</pre>"
      ],
      "text/plain": [
       "recommendations finished on 297000/304838 queries. users per second: 363.212"
      ]
     },
     "metadata": {},
     "output_type": "display_data"
    },
    {
     "data": {
      "text/html": [
       "<pre>recommendations finished on 298000/304838 queries. users per second: 363.141</pre>"
      ],
      "text/plain": [
       "recommendations finished on 298000/304838 queries. users per second: 363.141"
      ]
     },
     "metadata": {},
     "output_type": "display_data"
    },
    {
     "data": {
      "text/html": [
       "<pre>recommendations finished on 299000/304838 queries. users per second: 363.083</pre>"
      ],
      "text/plain": [
       "recommendations finished on 299000/304838 queries. users per second: 363.083"
      ]
     },
     "metadata": {},
     "output_type": "display_data"
    },
    {
     "data": {
      "text/html": [
       "<pre>recommendations finished on 300000/304838 queries. users per second: 362.938</pre>"
      ],
      "text/plain": [
       "recommendations finished on 300000/304838 queries. users per second: 362.938"
      ]
     },
     "metadata": {},
     "output_type": "display_data"
    },
    {
     "data": {
      "text/html": [
       "<pre>recommendations finished on 301000/304838 queries. users per second: 362.657</pre>"
      ],
      "text/plain": [
       "recommendations finished on 301000/304838 queries. users per second: 362.657"
      ]
     },
     "metadata": {},
     "output_type": "display_data"
    },
    {
     "data": {
      "text/html": [
       "<pre>recommendations finished on 302000/304838 queries. users per second: 362.275</pre>"
      ],
      "text/plain": [
       "recommendations finished on 302000/304838 queries. users per second: 362.275"
      ]
     },
     "metadata": {},
     "output_type": "display_data"
    },
    {
     "data": {
      "text/html": [
       "<pre>recommendations finished on 303000/304838 queries. users per second: 361.952</pre>"
      ],
      "text/plain": [
       "recommendations finished on 303000/304838 queries. users per second: 361.952"
      ]
     },
     "metadata": {},
     "output_type": "display_data"
    },
    {
     "data": {
      "text/html": [
       "<pre>recommendations finished on 304000/304838 queries. users per second: 361.726</pre>"
      ],
      "text/plain": [
       "recommendations finished on 304000/304838 queries. users per second: 361.726"
      ]
     },
     "metadata": {},
     "output_type": "display_data"
    }
   ],
   "source": [
    "prec_rec = rec.evaluate_precision_recall(test,cutoffs=[100])"
   ]
  },
  {
   "cell_type": "code",
   "execution_count": 45,
   "metadata": {},
   "outputs": [
    {
     "data": {
      "text/plain": [
       "{'precision_recall_by_user': Columns:\n",
       " \tuser_id\tstr\n",
       " \tcutoff\tint\n",
       " \tprecision\tfloat\n",
       " \trecall\tfloat\n",
       " \tcount\tint\n",
       " \n",
       " Rows: 304838\n",
       " \n",
       " Data:\n",
       " +------------------------+--------+-----------+--------+-------+\n",
       " |        user_id         | cutoff | precision | recall | count |\n",
       " +------------------------+--------+-----------+--------+-------+\n",
       " | ---1lKK3aKOuomHnwAkAow |  100   |    0.0    |  0.0   |   8   |\n",
       " | ---PLwSf5gKdIoVnyRHgBA |  100   |    0.0    |  0.0   |   1   |\n",
       " | ---cu1hq55BP9DWVXXKHZg |  100   |    0.0    |  0.0   |   1   |\n",
       " | ---fhiwiwBYrvqhpXgcWDQ |  100   |    0.0    |  0.0   |   1   |\n",
       " | --0kuuLmuYBe3Rmu0Iycww |  100   |    0.0    |  0.0   |   1   |\n",
       " | --2HUmLkcNHZp0xw6AMBPg |  100   |    0.0    |  0.0   |   4   |\n",
       " | --2vR0DIsmQ6WfcSzKWigw |  100   |    0.0    |  0.0   |   2   |\n",
       " | --3WaS23LcIXtxyFULJHTA |  100   |    0.0    |  0.0   |   2   |\n",
       " | --3oMd6gjXpAzhjLBrsVCQ |  100   |    0.0    |  0.0   |   1   |\n",
       " | --4rAAfZnEIAKJE80aIiYg |  100   |    0.0    |  0.0   |   4   |\n",
       " +------------------------+--------+-----------+--------+-------+\n",
       " [304838 rows x 5 columns]\n",
       " Note: Only the head of the SFrame is printed.\n",
       " You can use print_rows(num_rows=m, num_columns=n) to print more rows and columns.,\n",
       " 'precision_recall_overall': Columns:\n",
       " \tcutoff\tint\n",
       " \tprecision\tfloat\n",
       " \trecall\tfloat\n",
       " \n",
       " Rows: 1\n",
       " \n",
       " Data:\n",
       " +--------+-------------------+-----------------+\n",
       " | cutoff |     precision     |      recall     |\n",
       " +--------+-------------------+-----------------+\n",
       " |  100   | 0.000262073625992 | 0.0152775390202 |\n",
       " +--------+-------------------+-----------------+\n",
       " [1 rows x 3 columns]}"
      ]
     },
     "execution_count": 45,
     "metadata": {},
     "output_type": "execute_result"
    }
   ],
   "source": [
    "prec_rec"
   ]
  },
  {
   "cell_type": "code",
   "execution_count": 14,
   "metadata": {},
   "outputs": [
    {
     "data": {
      "text/plain": [
       "{'rmse_by_item': Columns:\n",
       " \tbusiness_id\tstr\n",
       " \tcount\tint\n",
       " \trmse\tfloat\n",
       " \n",
       " Rows: 138454\n",
       " \n",
       " Data:\n",
       " +------------------------+-------+---------------+\n",
       " |      business_id       | count |      rmse     |\n",
       " +------------------------+-------+---------------+\n",
       " | JDm9c_Gkm-N01H9K2PdgMw |   1   | 2.76938159419 |\n",
       " | icrwcgr0Pqle5PCL-Ki8Rw |   2   | 1.26835248405 |\n",
       " | Ijw0d-2wTcsciDesjCVgsA |   13  | 1.90521454565 |\n",
       " | L5CF9zPE5G0lCEExKn_qQg |   9   | 1.64238110263 |\n",
       " | o3oC0UK97tiV4cw97rAgfw |   7   |  1.3014528242 |\n",
       " | VDGMgPcGFB6acVw1qEoooA |   1   | 2.72806540532 |\n",
       " | PkM2kRiW_HJiV0E8p8yJsg |   1   | 1.66773834108 |\n",
       " | pUI96wpoJtsQc-aDP9UIqw |   2   | 1.18124971271 |\n",
       " | Bl7-eu0cRYJ6BiydS23-jw |   5   | 1.02134734084 |\n",
       " | K0QZq5UwpAZCUk9yWeOFcQ |   2   | 0.30406193632 |\n",
       " +------------------------+-------+---------------+\n",
       " [138454 rows x 3 columns]\n",
       " Note: Only the head of the SFrame is printed.\n",
       " You can use print_rows(num_rows=m, num_columns=n) to print more rows and columns.,\n",
       " 'rmse_by_user': Columns:\n",
       " \tuser_id\tstr\n",
       " \tcount\tint\n",
       " \trmse\tfloat\n",
       " \n",
       " Rows: 506003\n",
       " \n",
       " Data:\n",
       " +------------------------+-------+----------------+\n",
       " |        user_id         | count |      rmse      |\n",
       " +------------------------+-------+----------------+\n",
       " | 0BaJ43WuBnP-G6fmstEmNQ |   23  | 1.97611042903  |\n",
       " | 8O6LZqtQgGly4T4--HR-Nw |   1   | 1.44066864653  |\n",
       " | k0_OJy1YvtxCOyomdtHW4A |   7   | 0.969943377426 |\n",
       " | yXhe0xiTceaXq_PbFVGNkA |   1   | 1.25461381459  |\n",
       " | ojyAJnOaHy9OqXT-zmMH-A |   1   | 2.72806540532  |\n",
       " | X3LRAbZcdIebdJU1bEqpKQ |   1   | 1.28122824309  |\n",
       " | AqO_Ltv5Rr5qYSAx_kSX-g |   1   | 1.70826396002  |\n",
       " | s1PwuoKcKJHJ0Sx_3LWHBQ |   1   | 2.72806540532  |\n",
       " | iRTWVO4NKIgwBo957h2Zrw |   1   | 2.78660481824  |\n",
       " | EcEvSYL9hqa35IDAvJhljw |   1   | 0.182341795133 |\n",
       " +------------------------+-------+----------------+\n",
       " [506003 rows x 3 columns]\n",
       " Note: Only the head of the SFrame is printed.\n",
       " You can use print_rows(num_rows=m, num_columns=n) to print more rows and columns.,\n",
       " 'rmse_overall': 1.5458866492140457}"
      ]
     },
     "execution_count": 14,
     "metadata": {},
     "output_type": "execute_result"
    }
   ],
   "source": [
    "evla_rmse"
   ]
  },
  {
   "cell_type": "code",
   "execution_count": 79,
   "metadata": {},
   "outputs": [],
   "source": [
    "lat = rec['coefficients']\n",
    "# U = np.asarray(lat['user_id']['factors'])\n",
    "# V = np.asarray(lat['business_id']['factors'])"
   ]
  },
  {
   "cell_type": "code",
   "execution_count": 33,
   "metadata": {},
   "outputs": [
    {
     "data": {
      "text/plain": [
       "{'business_id': Columns:\n",
       " \tbusiness_id\tstr\n",
       " \tlinear_terms\tfloat\n",
       " \tfactors\tarray\n",
       " \n",
       " Rows: 174527\n",
       " \n",
       " Data:\n",
       " +------------------------+--------------+-------------------------------+\n",
       " |      business_id       | linear_terms |            factors            |\n",
       " +------------------------+--------------+-------------------------------+\n",
       " | 0W4lkclzZThpx3V65bVgig |     0.0      | [0.110865205526, -0.220378... |\n",
       " | AEx2SYEUJmTxVVB18LlCwA |     0.0      | [-0.3704867661, 0.22581845... |\n",
       " | VR6GpWIda3SfvPC-lg9H3w |     0.0      | [0.0297298450023, -0.05375... |\n",
       " | CKC0-MOWMqoeWf6s-szl8g |     0.0      | [0.171153023839, 0.0195247... |\n",
       " | s2I_Ni76bjJNK9yG60iD-Q |     0.0      | [1.16181898117, -0.7736879... |\n",
       " | 9_CGhHMz8698M9-PkVf0CQ |     0.0      | [-0.207228899002, 0.047974... |\n",
       " | gkCorLgPyQLsptTHalL61g |     0.0      | [0.312030762434, 0.1039082... |\n",
       " | fDF_o2JPU8BR1Gya--jRIA |     0.0      | [-0.0098201148212, -0.0104... |\n",
       " | XWTPNfskXoUL-Lf32wSk0Q |     0.0      | [0.112907446921, -0.411611... |\n",
       " | 13nKUHH-uEUXVZylgxchPA |     0.0      | [0.0738489031792, -0.11674... |\n",
       " +------------------------+--------------+-------------------------------+\n",
       " [174527 rows x 3 columns]\n",
       " Note: Only the head of the SFrame is printed.\n",
       " You can use print_rows(num_rows=m, num_columns=n) to print more rows and columns.,\n",
       " 'intercept': 3.727871878095012,\n",
       " 'user_id': Columns:\n",
       " \tuser_id\tstr\n",
       " \tlinear_terms\tfloat\n",
       " \tfactors\tarray\n",
       " \n",
       " Rows: 1255812\n",
       " \n",
       " Data:\n",
       " +------------------------+--------------+-------------------------------+\n",
       " |        user_id         | linear_terms |            factors            |\n",
       " +------------------------+--------------+-------------------------------+\n",
       " | bv2nCi5Qv5vroFiqKGopiw |     0.0      | [-0.0221787896007, 0.01951... |\n",
       " | u0LXt3Uea_GidxRW1xcsfg |     0.0      | [-0.200544327497, 0.245527... |\n",
       " | r9HwWzRRd0EvcwnDX9TLTg |     0.0      | [-0.0092930868268, 0.07329... |\n",
       " | _L2SZSwf7A6YSrIHy_q4cw |     0.0      | [0.0731073245406, 0.002662... |\n",
       " | ssuXFjkH4neiBgwv-oN4IA |     0.0      | [0.0437398664653, 0.035164... |\n",
       " | xJbxpra6iyCsph35Pt0cZg |     0.0      | [-0.0590896941721, -0.0417... |\n",
       " | nOTl4aPC4tKHK35T3bNauQ |     0.0      | [-0.000987745122984, -0.24... |\n",
       " | PWKrsnhlNUN6_oMaQAIajQ |     0.0      | [-0.01307971403, -0.042582... |\n",
       " | 6cYXyJE-qAR0injjjEcHfA |     0.0      | [0.0989041849971, -0.09180... |\n",
       " | G7RzOnERzSWJXPCvreXzBA |     0.0      | [0.0106893973425, -0.00290... |\n",
       " +------------------------+--------------+-------------------------------+\n",
       " [1255812 rows x 3 columns]\n",
       " Note: Only the head of the SFrame is printed.\n",
       " You can use print_rows(num_rows=m, num_columns=n) to print more rows and columns.}"
      ]
     },
     "execution_count": 33,
     "metadata": {},
     "output_type": "execute_result"
    }
   ],
   "source": [
    "lat"
   ]
  },
  {
   "cell_type": "code",
   "execution_count": 84,
   "metadata": {},
   "outputs": [
    {
     "data": {
      "text/html": [
       "<div style=\"max-height:1000px;max-width:1500px;overflow:auto;\"><table frame=\"box\" rules=\"cols\">\n",
       "    <tr>\n",
       "        <th style=\"padding-left: 1em; padding-right: 1em; text-align: center\">business_id</th>\n",
       "        <th style=\"padding-left: 1em; padding-right: 1em; text-align: center\">linear_terms</th>\n",
       "        <th style=\"padding-left: 1em; padding-right: 1em; text-align: center\">factors</th>\n",
       "    </tr>\n",
       "    <tr>\n",
       "        <td style=\"padding-left: 1em; padding-right: 1em; text-align: center; vertical-align: top\">15733</td>\n",
       "        <td style=\"padding-left: 1em; padding-right: 1em; text-align: center; vertical-align: top\">0.0</td>\n",
       "        <td style=\"padding-left: 1em; padding-right: 1em; text-align: center; vertical-align: top\">[-2.29444241524,<br>-0.190278142691, ...</td>\n",
       "    </tr>\n",
       "    <tr>\n",
       "        <td style=\"padding-left: 1em; padding-right: 1em; text-align: center; vertical-align: top\">67856</td>\n",
       "        <td style=\"padding-left: 1em; padding-right: 1em; text-align: center; vertical-align: top\">0.0</td>\n",
       "        <td style=\"padding-left: 1em; padding-right: 1em; text-align: center; vertical-align: top\">[-0.0834979042411,<br>0.248652398586, ...</td>\n",
       "    </tr>\n",
       "    <tr>\n",
       "        <td style=\"padding-left: 1em; padding-right: 1em; text-align: center; vertical-align: top\">87093</td>\n",
       "        <td style=\"padding-left: 1em; padding-right: 1em; text-align: center; vertical-align: top\">0.0</td>\n",
       "        <td style=\"padding-left: 1em; padding-right: 1em; text-align: center; vertical-align: top\">[-0.430200666189,<br>0.171280190349, ...</td>\n",
       "    </tr>\n",
       "    <tr>\n",
       "        <td style=\"padding-left: 1em; padding-right: 1em; text-align: center; vertical-align: top\">113461</td>\n",
       "        <td style=\"padding-left: 1em; padding-right: 1em; text-align: center; vertical-align: top\">0.0</td>\n",
       "        <td style=\"padding-left: 1em; padding-right: 1em; text-align: center; vertical-align: top\">[0.12626734376,<br>0.476456314325, ...</td>\n",
       "    </tr>\n",
       "    <tr>\n",
       "        <td style=\"padding-left: 1em; padding-right: 1em; text-align: center; vertical-align: top\">153617</td>\n",
       "        <td style=\"padding-left: 1em; padding-right: 1em; text-align: center; vertical-align: top\">0.0</td>\n",
       "        <td style=\"padding-left: 1em; padding-right: 1em; text-align: center; vertical-align: top\">[-0.369370728731,<br>-0.4785169065, ...</td>\n",
       "    </tr>\n",
       "    <tr>\n",
       "        <td style=\"padding-left: 1em; padding-right: 1em; text-align: center; vertical-align: top\">160310</td>\n",
       "        <td style=\"padding-left: 1em; padding-right: 1em; text-align: center; vertical-align: top\">0.0</td>\n",
       "        <td style=\"padding-left: 1em; padding-right: 1em; text-align: center; vertical-align: top\">[-0.145162463188,<br>0.408921837807, ...</td>\n",
       "    </tr>\n",
       "    <tr>\n",
       "        <td style=\"padding-left: 1em; padding-right: 1em; text-align: center; vertical-align: top\">77849</td>\n",
       "        <td style=\"padding-left: 1em; padding-right: 1em; text-align: center; vertical-align: top\">0.0</td>\n",
       "        <td style=\"padding-left: 1em; padding-right: 1em; text-align: center; vertical-align: top\">[0.139533624053,<br>0.527646362782, ...</td>\n",
       "    </tr>\n",
       "    <tr>\n",
       "        <td style=\"padding-left: 1em; padding-right: 1em; text-align: center; vertical-align: top\">14970</td>\n",
       "        <td style=\"padding-left: 1em; padding-right: 1em; text-align: center; vertical-align: top\">0.0</td>\n",
       "        <td style=\"padding-left: 1em; padding-right: 1em; text-align: center; vertical-align: top\">[-0.149486914277,<br>-0.497407972813, ...</td>\n",
       "    </tr>\n",
       "    <tr>\n",
       "        <td style=\"padding-left: 1em; padding-right: 1em; text-align: center; vertical-align: top\">18440</td>\n",
       "        <td style=\"padding-left: 1em; padding-right: 1em; text-align: center; vertical-align: top\">0.0</td>\n",
       "        <td style=\"padding-left: 1em; padding-right: 1em; text-align: center; vertical-align: top\">[-0.447024136782,<br>0.223997220397, ...</td>\n",
       "    </tr>\n",
       "    <tr>\n",
       "        <td style=\"padding-left: 1em; padding-right: 1em; text-align: center; vertical-align: top\">19036</td>\n",
       "        <td style=\"padding-left: 1em; padding-right: 1em; text-align: center; vertical-align: top\">0.0</td>\n",
       "        <td style=\"padding-left: 1em; padding-right: 1em; text-align: center; vertical-align: top\">[-0.090262234211,<br>0.261503517628, ...</td>\n",
       "    </tr>\n",
       "</table>\n",
       "[170198 rows x 3 columns]<br/>Note: Only the head of the SFrame is printed.<br/>You can use print_rows(num_rows=m, num_columns=n) to print more rows and columns.\n",
       "</div>"
      ],
      "text/plain": [
       "Columns:\n",
       "\tbusiness_id\tint\n",
       "\tlinear_terms\tfloat\n",
       "\tfactors\tarray\n",
       "\n",
       "Rows: 170198\n",
       "\n",
       "Data:\n",
       "+-------------+--------------+-------------------------------+\n",
       "| business_id | linear_terms |            factors            |\n",
       "+-------------+--------------+-------------------------------+\n",
       "|    15733    |     0.0      | [-2.29444241524, -0.190278... |\n",
       "|    67856    |     0.0      | [-0.0834979042411, 0.24865... |\n",
       "|    87093    |     0.0      | [-0.430200666189, 0.171280... |\n",
       "|    113461   |     0.0      | [0.12626734376, 0.47645631... |\n",
       "|    153617   |     0.0      | [-0.369370728731, -0.47851... |\n",
       "|    160310   |     0.0      | [-0.145162463188, 0.408921... |\n",
       "|    77849    |     0.0      | [0.139533624053, 0.5276463... |\n",
       "|    14970    |     0.0      | [-0.149486914277, -0.49740... |\n",
       "|    18440    |     0.0      | [-0.447024136782, 0.223997... |\n",
       "|    19036    |     0.0      | [-0.090262234211, 0.261503... |\n",
       "+-------------+--------------+-------------------------------+\n",
       "[170198 rows x 3 columns]\n",
       "Note: Only the head of the SFrame is printed.\n",
       "You can use print_rows(num_rows=m, num_columns=n) to print more rows and columns."
      ]
     },
     "execution_count": 84,
     "metadata": {},
     "output_type": "execute_result"
    }
   ],
   "source": [
    "lat['business_id']"
   ]
  },
  {
   "cell_type": "code",
   "execution_count": 80,
   "metadata": {},
   "outputs": [
    {
     "data": {
      "text/plain": [
       "(1248782,)"
      ]
     },
     "execution_count": 80,
     "metadata": {},
     "output_type": "execute_result"
    }
   ],
   "source": [
    "np.unique(np.asarray(df['user_id'])).shape"
   ]
  },
  {
   "cell_type": "code",
   "execution_count": 81,
   "metadata": {},
   "outputs": [
    {
     "data": {
      "text/plain": [
       "(1248782,)"
      ]
     },
     "execution_count": 81,
     "metadata": {},
     "output_type": "execute_result"
    }
   ],
   "source": [
    "np.unique(np.asarray(lat['user_id']['user_id'])).shape"
   ]
  },
  {
   "cell_type": "code",
   "execution_count": 41,
   "metadata": {},
   "outputs": [],
   "source": [
    "import pickle\n",
    "def save_obj(obj, name ):\n",
    "    with open('dumps/'+name + '.pkl', 'wb') as f:\n",
    "        pickle.dump(obj, f, pickle.HIGHEST_PROTOCOL)"
   ]
  },
  {
   "cell_type": "code",
   "execution_count": null,
   "metadata": {},
   "outputs": [],
   "source": []
  },
  {
   "cell_type": "code",
   "execution_count": 43,
   "metadata": {},
   "outputs": [],
   "source": [
    "save_obj(lat,'lat_exp')"
   ]
  },
  {
   "cell_type": "code",
   "execution_count": 85,
   "metadata": {},
   "outputs": [],
   "source": [
    "lat['user_id'].export_csv('dumps/lat_user')\n",
    "lat['business_id'].export_csv('dumps/lat_item')"
   ]
  },
  {
   "cell_type": "code",
   "execution_count": null,
   "metadata": {},
   "outputs": [],
   "source": []
  }
 ],
 "metadata": {
  "kernelspec": {
   "display_name": "Python 2",
   "language": "python",
   "name": "python2"
  },
  "language_info": {
   "codemirror_mode": {
    "name": "ipython",
    "version": 2
   },
   "file_extension": ".py",
   "mimetype": "text/x-python",
   "name": "python",
   "nbconvert_exporter": "python",
   "pygments_lexer": "ipython2",
   "version": "2.7.14"
  }
 },
 "nbformat": 4,
 "nbformat_minor": 2
}
