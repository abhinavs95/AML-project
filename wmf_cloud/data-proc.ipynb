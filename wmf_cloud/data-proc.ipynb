{
 "cells": [
  {
   "cell_type": "code",
   "execution_count": 1,
   "metadata": {},
   "outputs": [],
   "source": [
    "import pandas as pd\n",
    "import numpy as np\n",
    "import scipy.sparse\n",
    "import wmf\n",
    "import scipy.sparse.linalg as sla\n",
    "import math"
   ]
  },
  {
   "cell_type": "code",
   "execution_count": 18,
   "metadata": {},
   "outputs": [],
   "source": [
    "def itemize(data):\n",
    "    _,indx = np.unique(data,return_index=True)\n",
    "    u = data[np.sort(indx)]\n",
    "    n_data = u.shape[0]\n",
    "    new_indx = np.arange(n_data)\n",
    "    d = dict(zip(u,new_indx))\n",
    "    data_indx = np.zeros(data.shape, dtype=np.int32)\n",
    "    for i in range(data_indx.shape[0]):\n",
    "        data_indx[i] = d[data[i]]\n",
    "    return data_indx, n_data\n",
    "\n",
    "def load_data():\n",
    "    data = pd.read_csv('../../dataset/review.csv')\n",
    "    data = data.drop(['funny', 'review_id', 'text', 'date', 'useful', 'cool'], axis=1)\n",
    "    data.drop_duplicates(inplace=True)\n",
    "    rows, cols, stars = np.array(data['user_id']), np.array(data['business_id']), np.array(data['stars'],dtype=np.uint8)\n",
    "    # itemize users and items\n",
    "    row_indx, n_users = itemize(rows)\n",
    "    col_indx, n_items = itemize(cols)\n",
    "    return scipy.sparse.csr_matrix((stars,(row_indx, col_indx)), dtype=np.uint8, shape=(n_users,n_items))"
   ]
  },
  {
   "cell_type": "code",
   "execution_count": 32,
   "metadata": {},
   "outputs": [],
   "source": [
    "data = pd.read_csv('../../dataset/review.csv')\n",
    "data = data.drop(['funny', 'review_id', 'text', 'date', 'useful', 'cool'], axis=1)\n",
    "data.drop_duplicates(inplace=True)\n",
    "rows, cols, stars = np.array(data['user_id']), np.array(data['business_id']), np.array(data['stars'],dtype=np.uint8)"
   ]
  },
  {
   "cell_type": "code",
   "execution_count": 39,
   "metadata": {},
   "outputs": [],
   "source": [
    "row_indx, n_users = itemize(rows)\n",
    "col_indx, n_items = itemize(cols)"
   ]
  },
  {
   "cell_type": "code",
   "execution_count": 44,
   "metadata": {},
   "outputs": [],
   "source": [
    "R = scipy.sparse.csr_matrix((stars,(row_indx, col_indx)), dtype=np.uint8, shape=(n_users,n_items))"
   ]
  },
  {
   "cell_type": "code",
   "execution_count": 49,
   "metadata": {},
   "outputs": [
    {
     "data": {
      "text/plain": [
       "0"
      ]
     },
     "execution_count": 49,
     "metadata": {},
     "output_type": "execute_result"
    }
   ],
   "source": [
    "np.min(R)"
   ]
  },
  {
   "cell_type": "code",
   "execution_count": 43,
   "metadata": {},
   "outputs": [
    {
     "data": {
      "text/plain": [
       "(4092144,)"
      ]
     },
     "execution_count": 43,
     "metadata": {},
     "output_type": "execute_result"
    }
   ],
   "source": [
    "stars.shape"
   ]
  },
  {
   "cell_type": "code",
   "execution_count": 42,
   "metadata": {},
   "outputs": [],
   "source": [
    "stars = stars[stars>=3]"
   ]
  },
  {
   "cell_type": "code",
   "execution_count": 35,
   "metadata": {},
   "outputs": [],
   "source": [
    "cols = cols[stars>=3]"
   ]
  },
  {
   "cell_type": "code",
   "execution_count": 36,
   "metadata": {},
   "outputs": [
    {
     "data": {
      "text/plain": [
       "(4092144,)"
      ]
     },
     "execution_count": 36,
     "metadata": {},
     "output_type": "execute_result"
    }
   ],
   "source": [
    "cols.shape"
   ]
  },
  {
   "cell_type": "code",
   "execution_count": 46,
   "metadata": {},
   "outputs": [],
   "source": [
    "R.data = np.ones_like(R.data)"
   ]
  },
  {
   "cell_type": "code",
   "execution_count": 29,
   "metadata": {},
   "outputs": [
    {
     "data": {
      "text/plain": [
       "5261667"
      ]
     },
     "execution_count": 29,
     "metadata": {},
     "output_type": "execute_result"
    }
   ],
   "source": [
    "R.count_nonzero()"
   ]
  },
  {
   "cell_type": "code",
   "execution_count": 15,
   "metadata": {},
   "outputs": [],
   "source": [
    "stars[stars<3]=0"
   ]
  },
  {
   "cell_type": "code",
   "execution_count": 16,
   "metadata": {},
   "outputs": [
    {
     "data": {
      "text/plain": [
       "4092144"
      ]
     },
     "execution_count": 16,
     "metadata": {},
     "output_type": "execute_result"
    }
   ],
   "source": [
    "np.sum(stars>0)"
   ]
  },
  {
   "cell_type": "code",
   "execution_count": 12,
   "metadata": {},
   "outputs": [
    {
     "data": {
      "text/plain": [
       "1169523"
      ]
     },
     "execution_count": 12,
     "metadata": {},
     "output_type": "execute_result"
    }
   ],
   "source": [
    "5261667-4092144"
   ]
  },
  {
   "cell_type": "code",
   "execution_count": 4,
   "metadata": {},
   "outputs": [],
   "source": [
    "R = load_data()"
   ]
  },
  {
   "cell_type": "code",
   "execution_count": 5,
   "metadata": {},
   "outputs": [
    {
     "data": {
      "text/plain": [
       "(1326101, 174567)"
      ]
     },
     "execution_count": 5,
     "metadata": {},
     "output_type": "execute_result"
    }
   ],
   "source": [
    "R.shape"
   ]
  },
  {
   "cell_type": "code",
   "execution_count": 24,
   "metadata": {},
   "outputs": [],
   "source": [
    "V = np.random.randn(26744,50).astype('float32')*0.01\n",
    "U = np.random.randn(138493,50).astype('float32')*0.01"
   ]
  },
  {
   "cell_type": "code",
   "execution_count": 9,
   "metadata": {},
   "outputs": [
    {
     "data": {
      "text/plain": [
       "array([[-0.00932499, -0.00336239, -0.00701297, ..., -0.00855676,\n",
       "        -0.00414298, -0.00803222],\n",
       "       [-0.0023182 , -0.00637991, -0.00130385, ..., -0.00871569,\n",
       "         0.0162383 , -0.01480562],\n",
       "       [ 0.00972943,  0.00264119,  0.02311968, ...,  0.01302849,\n",
       "        -0.00845836, -0.01661776],\n",
       "       ...,\n",
       "       [ 0.00699472,  0.00051567,  0.01317331, ...,  0.00277903,\n",
       "         0.0146654 ,  0.00650031],\n",
       "       [-0.00245316,  0.01889137, -0.00448005, ..., -0.00132854,\n",
       "        -0.02452814,  0.01086835],\n",
       "       [-0.00424517, -0.0111349 ,  0.01505396, ...,  0.00240241,\n",
       "         0.00481974, -0.00955946]], dtype=float32)"
      ]
     },
     "execution_count": 9,
     "metadata": {},
     "output_type": "execute_result"
    }
   ],
   "source": [
    "V"
   ]
  },
  {
   "cell_type": "code",
   "execution_count": 10,
   "metadata": {},
   "outputs": [],
   "source": [
    "R.data = np.ones_like(R.data)"
   ]
  },
  {
   "cell_type": "code",
   "execution_count": 13,
   "metadata": {},
   "outputs": [
    {
     "data": {
      "text/plain": [
       "0"
      ]
     },
     "execution_count": 13,
     "metadata": {},
     "output_type": "execute_result"
    }
   ],
   "source": [
    "R.min()"
   ]
  },
  {
   "cell_type": "code",
   "execution_count": 5,
   "metadata": {},
   "outputs": [],
   "source": [
    "S = wmf.log_surplus_confidence_matrix(R, alpha=2.0, epsilon=1e-6)"
   ]
  },
  {
   "cell_type": "code",
   "execution_count": 6,
   "metadata": {},
   "outputs": [],
   "source": [
    "num_iters = 2\n",
    "num_factors = 100"
   ]
  },
  {
   "cell_type": "code",
   "execution_count": 7,
   "metadata": {},
   "outputs": [
    {
     "name": "stdout",
     "output_type": "stream",
     "text": [
      "precompute transpose\n",
      "  took 0.151 seconds\n",
      "run ALS algorithm\n",
      "  iteration 0\n",
      "    recompute user factors U\n",
      "parallel\n",
      "    time since start: 469.852 seconds\n",
      "    recompute item factors V\n",
      "parallel\n",
      "    time since start: 519.650 seconds\n",
      "  iteration 1\n",
      "    recompute user factors U\n",
      "parallel\n",
      "    time since start: 985.633 seconds\n",
      "    recompute item factors V\n",
      "parallel\n",
      "    time since start: 1037.617 seconds\n"
     ]
    }
   ],
   "source": [
    "U,V = wmf.factorize(S,num_factors,num_iterations=num_iters, verbose=True)"
   ]
  },
  {
   "cell_type": "code",
   "execution_count": 10,
   "metadata": {},
   "outputs": [],
   "source": [
    "np.save('U_wmf',U)\n",
    "np.save('V_wmf',V)"
   ]
  },
  {
   "cell_type": "code",
   "execution_count": 25,
   "metadata": {},
   "outputs": [],
   "source": [
    "def rmse(R,V,W):\n",
    "    num = R.count_nonzero()\n",
    "    term = scipy.sparse.lil_matrix(R.shape)\n",
    "    ind = R.nonzero()\n",
    "    i_prev=0\n",
    "    k=0\n",
    "    for i in range(len(ind[0])-1):\n",
    "        if ind[0][i]==ind[0][i+1]:\n",
    "            i=i+1\n",
    "        else:\n",
    "            term[k,ind[1][i_prev:i+1]] = np.asarray([np.dot(V[ind[0][i],:],W[j,:]) for j in ind[1][i_prev:i+1]])\n",
    "            i_prev=i+1\n",
    "            k=k+1\n",
    "    term[k,ind[1][i_prev:i+1]] = np.asarray([np.dot(V[ind[0][i],:],W[j,:]) for j in ind[1][i_prev:i+1]])\n",
    "    term = R - term\n",
    "    rmse = math.sqrt(sla.norm(term)**2/num)\n",
    "    return rmse"
   ]
  },
  {
   "cell_type": "code",
   "execution_count": 26,
   "metadata": {},
   "outputs": [
    {
     "data": {
      "text/plain": [
       "5.081027938038781"
      ]
     },
     "execution_count": 26,
     "metadata": {},
     "output_type": "execute_result"
    }
   ],
   "source": [
    "rmse(R_ml,U,V)"
   ]
  },
  {
   "cell_type": "code",
   "execution_count": 14,
   "metadata": {},
   "outputs": [
    {
     "data": {
      "text/plain": [
       "(1326101, 174567)"
      ]
     },
     "execution_count": 14,
     "metadata": {},
     "output_type": "execute_result"
    }
   ],
   "source": [
    "R.shape"
   ]
  },
  {
   "cell_type": "code",
   "execution_count": 6,
   "metadata": {},
   "outputs": [],
   "source": [
    "R = R[:-1000000,:-100000]"
   ]
  },
  {
   "cell_type": "code",
   "execution_count": 7,
   "metadata": {},
   "outputs": [
    {
     "data": {
      "text/plain": [
       "(326101, 74567)"
      ]
     },
     "execution_count": 7,
     "metadata": {},
     "output_type": "execute_result"
    }
   ],
   "source": [
    "R.shape"
   ]
  },
  {
   "cell_type": "code",
   "execution_count": 17,
   "metadata": {},
   "outputs": [
    {
     "data": {
      "text/plain": [
       "1107133"
      ]
     },
     "execution_count": 17,
     "metadata": {},
     "output_type": "execute_result"
    }
   ],
   "source": [
    "R1.count_nonzero()"
   ]
  },
  {
   "cell_type": "code",
   "execution_count": 18,
   "metadata": {},
   "outputs": [],
   "source": [
    "# Function for loading and pre-processing data\n",
    "def get_data(path):\n",
    "    np_frame = pd.read_csv(path,usecols=[0,1,2]).as_matrix()\n",
    "\n",
    "    users = np_frame[:,0].astype(dtype = 'uint32')-1\n",
    "    items = np_frame[:,1].astype(dtype = 'uint32')-1\n",
    "    ratings = np_frame[:,2].astype(dtype = 'float64')\n",
    "\n",
    "    items_unique, items_cleaned = np.unique(items,return_inverse=True)\n",
    "\n",
    "    num_users = np.max(users)+1\n",
    "    num_items = items_unique.shape[0]\n",
    "\n",
    "    user_dict = {i: [] for i in range(num_users)}\n",
    "\n",
    "    for i in range(len(users)):\n",
    "        user_dict[users[i]].append([items_cleaned[i],ratings[i]])\n",
    "\n",
    "    R_train = scipy.sparse.lil_matrix((num_users,num_items))\n",
    "    R_test = scipy.sparse.lil_matrix((num_users,num_items))\n",
    "    num_train = 0\n",
    "    num_test = 0\n",
    "\n",
    "    for i in user_dict.keys():\n",
    "        l = len(user_dict[i])\n",
    "        indx = np.arange(l)\n",
    "        np.random.shuffle(indx)\n",
    "        temp = np.asarray(user_dict[i])\n",
    "        R_test[i,temp[indx[:l/2],0]] = temp[indx[:l/2],1]\n",
    "        R_train[i,temp[indx[l/2:],0]] = temp[indx[l/2:],1]\n",
    "        num_train += len(indx[l/2:])\n",
    "        num_test += len(indx[:l/2])\n",
    "\n",
    "    return R_train.tocsr()"
   ]
  },
  {
   "cell_type": "code",
   "execution_count": 19,
   "metadata": {},
   "outputs": [],
   "source": [
    "path = '../../../HW1/ml-20m/ratings.csv'\n",
    "R_ml = get_data(path)"
   ]
  },
  {
   "cell_type": "code",
   "execution_count": 20,
   "metadata": {},
   "outputs": [
    {
     "data": {
      "text/plain": [
       "(138493, 26744)"
      ]
     },
     "execution_count": 20,
     "metadata": {},
     "output_type": "execute_result"
    }
   ],
   "source": [
    "R_ml.shape"
   ]
  },
  {
   "cell_type": "code",
   "execution_count": 21,
   "metadata": {},
   "outputs": [
    {
     "data": {
      "text/plain": [
       "10033855"
      ]
     },
     "execution_count": 21,
     "metadata": {},
     "output_type": "execute_result"
    }
   ],
   "source": [
    "R_ml.count_nonzero()"
   ]
  },
  {
   "cell_type": "code",
   "execution_count": 27,
   "metadata": {},
   "outputs": [
    {
     "data": {
      "text/plain": [
       "matrix([[3.5, 3.5, 3.5, ..., 4.5, 3. , 5. ]])"
      ]
     },
     "execution_count": 27,
     "metadata": {},
     "output_type": "execute_result"
    }
   ],
   "source": [
    "R_ml_bin=R_ml[R_ml>=3.0]"
   ]
  },
  {
   "cell_type": "code",
   "execution_count": null,
   "metadata": {},
   "outputs": [
    {
     "name": "stderr",
     "output_type": "stream",
     "text": [
      "/anaconda3/envs/py27/lib/python2.7/site-packages/scipy/sparse/compressed.py:274: SparseEfficiencyWarning: Comparing a sparse matrix with a scalar greater than zero using < is inefficient, try using >= instead.\n",
      "  warn(bad_scalar_msg, SparseEfficiencyWarning)\n"
     ]
    }
   ],
   "source": [
    "R_ml[R_ml<3.0]=0.0"
   ]
  },
  {
   "cell_type": "code",
   "execution_count": null,
   "metadata": {},
   "outputs": [],
   "source": [
    "R_ml.shape"
   ]
  },
  {
   "cell_type": "code",
   "execution_count": null,
   "metadata": {},
   "outputs": [],
   "source": []
  }
 ],
 "metadata": {
  "kernelspec": {
   "display_name": "Python 2",
   "language": "python",
   "name": "python2"
  },
  "language_info": {
   "codemirror_mode": {
    "name": "ipython",
    "version": 2
   },
   "file_extension": ".py",
   "mimetype": "text/x-python",
   "name": "python",
   "nbconvert_exporter": "python",
   "pygments_lexer": "ipython2",
   "version": "2.7.14"
  }
 },
 "nbformat": 4,
 "nbformat_minor": 2
}
