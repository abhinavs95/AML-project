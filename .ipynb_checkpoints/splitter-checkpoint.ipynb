{
 "cells": [
  {
   "cell_type": "code",
   "execution_count": 1,
   "metadata": {
    "collapsed": true
   },
   "outputs": [],
   "source": [
    "import pandas as pd\n",
    "import numpy as np\n",
    "import scipy.sparse\n",
    "\n",
    "def itemize(data):\n",
    "    _,indx = np.unique(data,return_index=True)\n",
    "    u = data[np.sort(indx)]\n",
    "    n_data = u.shape[0]\n",
    "    new_indx = np.arange(n_data)\n",
    "    d = dict(zip(u,new_indx))\n",
    "    data_indx = np.zeros(data.shape, dtype=np.int32)\n",
    "    for i in range(data_indx.shape[0]):\n",
    "        data_indx[i] = d[data[i]]\n",
    "    return data_indx, n_data\n",
    "\n",
    "def load_data():\n",
    "    data = pd.read_csv('review.csv')\n",
    "    data = data.drop(['funny', 'review_id', 'text', 'date', 'useful', 'cool'], axis=1)\n",
    "    data.drop_duplicates(inplace=True)\n",
    "    rows, cols, stars = np.array(data['user_id']), np.array(data['business_id']), np.array(data['stars'],dtype=np.uint8)\n",
    "    # itemize users and items\n",
    "    row_indx, n_users = itemize(rows)\n",
    "    col_indx, n_items = itemize(cols)\n",
    "    return scipy.sparse.csr_matrix((stars,(row_indx, col_indx)), dtype=np.uint8, shape=(n_users,n_items))\n",
    "\n",
    "\n",
    "R = load_data()"
   ]
  },
  {
   "cell_type": "code",
   "execution_count": 16,
   "metadata": {},
   "outputs": [
    {
     "name": "stdout",
     "output_type": "stream",
     "text": [
      "5261667\n"
     ]
    }
   ],
   "source": [
    "tr_list = R.nonzero()\n",
    "No_entries = len(tr_list[0])\n",
    "print (No_entries)"
   ]
  },
  {
   "cell_type": "code",
   "execution_count": 17,
   "metadata": {},
   "outputs": [
    {
     "data": {
      "text/plain": [
       "(1326101, 174567)"
      ]
     },
     "execution_count": 17,
     "metadata": {},
     "output_type": "execute_result"
    }
   ],
   "source": [
    "R.shape  # (users, businesses) "
   ]
  },
  {
   "cell_type": "code",
   "execution_count": 18,
   "metadata": {
    "collapsed": true
   },
   "outputs": [],
   "source": [
    "import random\n",
    "import copy"
   ]
  },
  {
   "cell_type": "code",
   "execution_count": 19,
   "metadata": {},
   "outputs": [],
   "source": [
    "cold_start_users = random.sample(range(R.shape[0]),int(R.shape[0]*0.025))\n",
    "cold_start_items = random.sample(range(R.shape[1]),int(R.shape[1]*0.025))"
   ]
  },
  {
   "cell_type": "code",
   "execution_count": 20,
   "metadata": {
    "collapsed": true
   },
   "outputs": [],
   "source": [
    "cold_start_users = set(cold_start_users)\n",
    "cold_start_items = set(cold_start_items)"
   ]
  },
  {
   "cell_type": "code",
   "execution_count": 21,
   "metadata": {
    "collapsed": true
   },
   "outputs": [],
   "source": [
    "R_copy = copy.deepcopy(R)"
   ]
  },
  {
   "cell_type": "code",
   "execution_count": 22,
   "metadata": {
    "collapsed": true
   },
   "outputs": [],
   "source": [
    "cold_start_user_triplet = []\n",
    "cold_start_item_triplet = []"
   ]
  },
  {
   "cell_type": "code",
   "execution_count": 23,
   "metadata": {},
   "outputs": [
    {
     "name": "stdout",
     "output_type": "stream",
     "text": [
      "5261667\n"
     ]
    }
   ],
   "source": [
    "print (len(tr_list[0]))\n",
    "total = len(tr_list[0])"
   ]
  },
  {
   "cell_type": "code",
   "execution_count": 24,
   "metadata": {},
   "outputs": [
    {
     "name": "stdout",
     "output_type": "stream",
     "text": [
      "33152 4364\n"
     ]
    }
   ],
   "source": [
    "print (len(cold_start_users),len(cold_start_items))"
   ]
  },
  {
   "cell_type": "code",
   "execution_count": 25,
   "metadata": {
    "scrolled": true
   },
   "outputs": [
    {
     "name": "stdout",
     "output_type": "stream",
     "text": [
      "0\n",
      "1\n",
      "2\n",
      "3\n",
      "4\n",
      "5\n",
      "6\n",
      "7\n",
      "8\n",
      "9\n",
      "10\n"
     ]
    }
   ],
   "source": [
    "count = 0\n",
    "perc = 0\n",
    "for i in zip(tr_list[0],tr_list[1]):\n",
    "    if count%500000==1:\n",
    "        print (perc)\n",
    "        perc+=1\n",
    "    count+=1\n",
    "    if i[0] in cold_start_users:\n",
    "        cold_start_user_triplet.append(i)\n",
    "        R_copy[i[0],i[1]] = 0\n",
    "    if i[1] in cold_start_items:\n",
    "        cold_start_item_triplet.append(i)\n",
    "        R_copy[i[0],i[1]] = 0"
   ]
  },
  {
   "cell_type": "code",
   "execution_count": 26,
   "metadata": {},
   "outputs": [
    {
     "name": "stdout",
     "output_type": "stream",
     "text": [
      "5005527\n",
      "4805527\n"
     ]
    }
   ],
   "source": [
    "train_warmTest_TMP = R_copy.nonzero()\n",
    "print (len(train_warmTest_TMP[0]))\n",
    "train_warmTest = [(i[0],i[1]) for i in zip(train_warmTest_TMP[0],train_warmTest_TMP[1])]\n",
    "warm_test = random.sample(train_warmTest,200000)\n",
    "for i in warm_test:\n",
    "    R_copy[i[0],i[1]] = 0\n",
    "\n",
    "train = R_copy.nonzero()\n",
    "\n",
    "train = [(i[0],i[1]) for i in zip(train[0],train[1])]\n",
    "\n",
    "print (len(train))"
   ]
  },
  {
   "cell_type": "code",
   "execution_count": 27,
   "metadata": {},
   "outputs": [
    {
     "name": "stdout",
     "output_type": "stream",
     "text": [
      "train 4805527\n",
      "warm_test 200000\n",
      "cold_item 132384\n",
      "cold_user 127064\n"
     ]
    }
   ],
   "source": [
    "print ('train',len(train))\n",
    "print ('warm_test',len(warm_test))\n",
    "print ('cold_item',len(cold_start_item_triplet))\n",
    "print ('cold_user',len(cold_start_user_triplet))"
   ]
  },
  {
   "cell_type": "code",
   "execution_count": 37,
   "metadata": {},
   "outputs": [],
   "source": [
    "with open('test_cold_item.csv','w') as f:\n",
    "    for i in cold_start_item_triplet:\n",
    "        f.write(   str(i[0])+','+str(i[1])+','+str(R[i[0],i[1]])+ ','+ str(random.randint(1,400000))+'\\n')"
   ]
  },
  {
   "cell_type": "code",
   "execution_count": 38,
   "metadata": {},
   "outputs": [],
   "source": [
    "with open('test_cold_user.csv','w') as f:\n",
    "    for i in cold_start_user_triplet:\n",
    "        f.write(   str(i[0])+','+str(i[1])+','+str(R[i[0],i[1]])+ ','+ str(random.randint(1,400000))+'\\n')"
   ]
  },
  {
   "cell_type": "code",
   "execution_count": 39,
   "metadata": {
    "collapsed": true
   },
   "outputs": [],
   "source": [
    "with open('test_warm.csv','w') as f:\n",
    "    for i in warm_test:\n",
    "        f.write(   str(i[0])+','+str(i[1])+','+str(R[i[0],i[1]])+ ','+ str(random.randint(1,400000))+'\\n')"
   ]
  },
  {
   "cell_type": "code",
   "execution_count": 40,
   "metadata": {
    "collapsed": true
   },
   "outputs": [],
   "source": [
    "with open('train.csv','w') as f:\n",
    "    for i in train:\n",
    "        f.write(   str(i[0])+','+str(i[1])+','+str(R[i[0],i[1]])+ ','+ str(random.randint(1,400000))+'\\n')"
   ]
  },
  {
   "cell_type": "code",
   "execution_count": 42,
   "metadata": {},
   "outputs": [],
   "source": [
    "with open('test_cold_item_item_ids.csv','w') as f:\n",
    "    for i in cold_start_item_triplet:\n",
    "        f.write(str(i[1])+'\\n')\n",
    "        \n",
    "with open('test_cold_user_item_ids.csv','w') as f:\n",
    "    for i in cold_start_user_triplet:\n",
    "        f.write(str(i[1])+'\\n')\n",
    "        \n",
    "with open('test_warm_item_ids.csv','w') as f:\n",
    "    for i in warm_test:\n",
    "        f.write(str(i[1])+'\\n')"
   ]
  },
  {
   "cell_type": "code",
   "execution_count": null,
   "metadata": {
    "collapsed": true
   },
   "outputs": [],
   "source": []
  }
 ],
 "metadata": {
  "kernelspec": {
   "display_name": "Python 2",
   "language": "python",
   "name": "python2"
  },
  "language_info": {
   "codemirror_mode": {
    "name": "ipython",
    "version": 2
   },
   "file_extension": ".py",
   "mimetype": "text/x-python",
   "name": "python",
   "nbconvert_exporter": "python",
   "pygments_lexer": "ipython2",
   "version": "2.7.14"
  }
 },
 "nbformat": 4,
 "nbformat_minor": 2
}
