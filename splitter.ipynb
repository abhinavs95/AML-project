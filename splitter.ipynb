{
 "cells": [
  {
   "cell_type": "code",
   "execution_count": 38,
   "metadata": {},
   "outputs": [],
   "source": [
    "import pandas as pd\n",
    "import numpy as np\n",
    "import scipy.sparse\n",
    "import csv\n",
    "import sys\n",
    "from scipy.sparse import csr_matrix"
   ]
  },
  {
   "cell_type": "code",
   "execution_count": 39,
   "metadata": {},
   "outputs": [],
   "source": [
    "import pickle\n",
    "import timeit\n",
    "def save_obj(obj, name ):\n",
    "    with open('dumps/'+name + '.pkl', 'wb') as f:\n",
    "        pickle.dump(obj, f, pickle.HIGHEST_PROTOCOL)\n",
    "\n",
    "def load_obj(name ):\n",
    "    with open('dumps/'+name + '.pkl', 'rb') as f:\n",
    "        return pickle.load(f)"
   ]
  },
  {
   "cell_type": "code",
   "execution_count": 40,
   "metadata": {},
   "outputs": [
    {
     "data": {
      "text/plain": [
       "9223372036854775807"
      ]
     },
     "execution_count": 40,
     "metadata": {},
     "output_type": "execute_result"
    }
   ],
   "source": [
    "csv.field_size_limit(sys.maxsize)\n",
    "csv.field_size_limit(sys.maxsize)"
   ]
  },
  {
   "cell_type": "code",
   "execution_count": 41,
   "metadata": {},
   "outputs": [],
   "source": [
    "f = open('user.csv', 'r')\n",
    "reader = csv.reader(f)\n",
    "reader = csv.DictReader(f)\n",
    "user_id_list = []\n",
    "for i,row in enumerate(reader):\n",
    "        user_id_list.append(row['user_id'])"
   ]
  },
  {
   "cell_type": "code",
   "execution_count": 42,
   "metadata": {},
   "outputs": [
    {
     "name": "stdout",
     "output_type": "stream",
     "text": [
      "(1326101, 1326101)\n"
     ]
    }
   ],
   "source": [
    "print (len(set(user_id_list)),len(user_id_list))"
   ]
  },
  {
   "cell_type": "code",
   "execution_count": 43,
   "metadata": {},
   "outputs": [],
   "source": [
    "f = open('business.csv', 'r')\n",
    "reader = csv.reader(f)\n",
    "reader = csv.DictReader(f)\n",
    "business_id_list = []\n",
    "for i,row in enumerate(reader):\n",
    "        business_id_list.append(row['business_id'])"
   ]
  },
  {
   "cell_type": "code",
   "execution_count": 44,
   "metadata": {},
   "outputs": [
    {
     "name": "stdout",
     "output_type": "stream",
     "text": [
      "(174567, 174567)\n"
     ]
    }
   ],
   "source": [
    "print (len(set(business_id_list)),len(business_id_list))"
   ]
  },
  {
   "cell_type": "code",
   "execution_count": 8,
   "metadata": {},
   "outputs": [],
   "source": [
    "# lat_items = open('files/lat_item.csv').readlines()\n",
    "# item_dict = {}\n",
    "# for i, item in enumerate(lat_items[1:]):\n",
    "#     item_parts = item.strip().split(',')\n",
    "#     item_dict[int(item_parts[0])] = np.asarray((item_parts[-1])[2:-2].split(),dtype = np.float32) "
   ]
  },
  {
   "cell_type": "code",
   "execution_count": 9,
   "metadata": {},
   "outputs": [],
   "source": [
    "# R.shape (1326101, 174567)"
   ]
  },
  {
   "cell_type": "code",
   "execution_count": 45,
   "metadata": {},
   "outputs": [
    {
     "name": "stdout",
     "output_type": "stream",
     "text": [
      "business_id,linear_terms,factors\n",
      "\n",
      "(4369, 170198)\n"
     ]
    }
   ],
   "source": [
    "lat_items = open('files/lat_item.csv').readlines()\n",
    "item_dict = {}\n",
    "print (lat_items[0])\n",
    "for i, item in enumerate(lat_items[1:]):\n",
    "    item_parts = item.strip().split(',')\n",
    "    item_dict[int(item_parts[0])] = np.asarray((item_parts[-1])[2:-2].split(),dtype = np.float32) \n",
    "    \n",
    "rank = np.asarray((item_parts[-1])[2:-2].split(),dtype = np.float32).shape[0]\n",
    "\n",
    "\n",
    "item_mat = np.zeros((174567,rank))\n",
    "z = np.zeros((rank,))\n",
    "zer = 0\n",
    "nzer = 0\n",
    "for i in range(item_mat.shape[0]):\n",
    "    if i+1 in item_dict:\n",
    "        item_mat[i,:] = item_dict[i+1]\n",
    "        nzer +=1\n",
    "    else:\n",
    "        item_mat[i,:] = z\n",
    "        zer+=1\n",
    "print (zer,nzer)\n",
    "        "
   ]
  },
  {
   "cell_type": "code",
   "execution_count": 46,
   "metadata": {},
   "outputs": [
    {
     "name": "stdout",
     "output_type": "stream",
     "text": [
      "user_id,linear_terms,factors\n",
      "\n",
      "(77319, 1248782)\n"
     ]
    }
   ],
   "source": [
    "lat_users = open('files/lat_user.csv').readlines()\n",
    "user_dict = {}\n",
    "print (lat_users[0])\n",
    "for i, item in enumerate(lat_users[1:]):\n",
    "    item_parts = item.strip().split(',')\n",
    "    user_dict[int(item_parts[0])] = np.asarray((item_parts[-1])[2:-2].split(),dtype = np.float32) \n",
    "    \n",
    "rank = np.asarray((item_parts[-1])[2:-2].split(),dtype = np.float32).shape[0]\n",
    "zer = 0\n",
    "nzer = 0\n",
    "\n",
    "user_mat = np.zeros((1326101,rank))\n",
    "z = np.zeros((rank,))\n",
    "for i in range(user_mat.shape[0]):\n",
    "    if i+1 in user_dict:\n",
    "        user_mat[i,:] = user_dict[i+1]\n",
    "        nzer +=1\n",
    "    else:\n",
    "        user_mat[i,:] = z\n",
    "        zer+=1\n",
    "print (zer,nzer)"
   ]
  },
  {
   "cell_type": "code",
   "execution_count": 12,
   "metadata": {},
   "outputs": [
    {
     "data": {
      "text/plain": [
       "dtype('float64')"
      ]
     },
     "execution_count": 12,
     "metadata": {},
     "output_type": "execute_result"
    }
   ],
   "source": [
    "user_mat.dtype"
   ]
  },
  {
   "cell_type": "code",
   "execution_count": null,
   "metadata": {},
   "outputs": [],
   "source": [
    "np.save('files/user_mat',user_mat)\n",
    "np.save('files/item_mat',item_mat)"
   ]
  },
  {
   "cell_type": "code",
   "execution_count": 3,
   "metadata": {},
   "outputs": [
    {
     "ename": "NameError",
     "evalue": "name 'user_mat' is not defined",
     "output_type": "error",
     "traceback": [
      "\u001b[0;31m---------------------------------------------------------------------------\u001b[0m",
      "\u001b[0;31mNameError\u001b[0m                                 Traceback (most recent call last)",
      "\u001b[0;32m<ipython-input-3-f42674ab4867>\u001b[0m in \u001b[0;36m<module>\u001b[0;34m()\u001b[0m\n\u001b[0;32m----> 1\u001b[0;31m \u001b[0muser_mat\u001b[0m\u001b[0;34m.\u001b[0m\u001b[0mreshape\u001b[0m\u001b[0;34m(\u001b[0m\u001b[0muser_mat\u001b[0m\u001b[0;34m.\u001b[0m\u001b[0mshape\u001b[0m\u001b[0;34m[\u001b[0m\u001b[0;36m0\u001b[0m\u001b[0;34m]\u001b[0m\u001b[0;34m*\u001b[0m\u001b[0muser_mat\u001b[0m\u001b[0;34m.\u001b[0m\u001b[0mshape\u001b[0m\u001b[0;34m[\u001b[0m\u001b[0;36m1\u001b[0m\u001b[0;34m]\u001b[0m\u001b[0;34m)\u001b[0m\u001b[0;34m.\u001b[0m\u001b[0mtofile\u001b[0m\u001b[0;34m(\u001b[0m\u001b[0;34m'files/U.csv.bin'\u001b[0m\u001b[0;34m)\u001b[0m\u001b[0;34m\u001b[0m\u001b[0m\n\u001b[0m\u001b[1;32m      2\u001b[0m \u001b[0mitem_mat\u001b[0m\u001b[0;34m.\u001b[0m\u001b[0mreshape\u001b[0m\u001b[0;34m(\u001b[0m\u001b[0mitem_mat\u001b[0m\u001b[0;34m.\u001b[0m\u001b[0mshape\u001b[0m\u001b[0;34m[\u001b[0m\u001b[0;36m0\u001b[0m\u001b[0;34m]\u001b[0m\u001b[0;34m*\u001b[0m\u001b[0mitem_mat\u001b[0m\u001b[0;34m.\u001b[0m\u001b[0mshape\u001b[0m\u001b[0;34m[\u001b[0m\u001b[0;36m1\u001b[0m\u001b[0;34m]\u001b[0m\u001b[0;34m)\u001b[0m\u001b[0;34m.\u001b[0m\u001b[0mtofile\u001b[0m\u001b[0;34m(\u001b[0m\u001b[0;34m'files/V.csv.bin'\u001b[0m\u001b[0;34m)\u001b[0m\u001b[0;34m\u001b[0m\u001b[0m\n",
      "\u001b[0;31mNameError\u001b[0m: name 'user_mat' is not defined"
     ]
    }
   ],
   "source": [
    "user_mat.reshape(user_mat.shape[0]*user_mat.shape[1]).tofile('files/U.csv.bin')\n",
    "item_mat.reshape(item_mat.shape[0]*item_mat.shape[1]).tofile('files/V.csv.bin')"
   ]
  },
  {
   "cell_type": "code",
   "execution_count": 11,
   "metadata": {},
   "outputs": [
    {
     "data": {
      "text/plain": [
       "(1326101, 50)"
      ]
     },
     "execution_count": 11,
     "metadata": {},
     "output_type": "execute_result"
    }
   ],
   "source": [
    "A.shape"
   ]
  },
  {
   "cell_type": "code",
   "execution_count": 4,
   "metadata": {},
   "outputs": [
    {
     "data": {
      "text/plain": [
       "(66305050,)"
      ]
     },
     "execution_count": 4,
     "metadata": {},
     "output_type": "execute_result"
    }
   ],
   "source": [
    "np.fromfile('files/U.csv.bin').shape"
   ]
  },
  {
   "cell_type": "code",
   "execution_count": 6,
   "metadata": {
    "collapsed": true
   },
   "outputs": [],
   "source": [
    "rank =50"
   ]
  },
  {
   "cell_type": "code",
   "execution_count": 7,
   "metadata": {},
   "outputs": [],
   "source": [
    "A = np.fromfile('files/U.csv.bin').reshape(1326101,rank)"
   ]
  },
  {
   "cell_type": "code",
   "execution_count": null,
   "metadata": {
    "collapsed": true
   },
   "outputs": [],
   "source": []
  },
  {
   "cell_type": "code",
   "execution_count": 10,
   "metadata": {},
   "outputs": [
    {
     "data": {
      "text/plain": [
       "0.0"
      ]
     },
     "execution_count": 10,
     "metadata": {},
     "output_type": "execute_result"
    }
   ],
   "source": [
    "np.linalg.norm(A-user_mat)"
   ]
  },
  {
   "cell_type": "code",
   "execution_count": 8,
   "metadata": {
    "collapsed": true
   },
   "outputs": [],
   "source": [
    "save_obj(business_id_list, 'business_id_list' )\n",
    "save_obj(user_id_list, 'user_id_list' )"
   ]
  },
  {
   "cell_type": "code",
   "execution_count": 9,
   "metadata": {
    "collapsed": true
   },
   "outputs": [],
   "source": [
    "def itemize(data,s):\n",
    "#     _,indx = np.unique(data,return_index=True)\n",
    "#     u = data[np.sort(indx)]\n",
    "    u = load_obj(s)\n",
    "    n_data = len(u)\n",
    "    new_indx = np.arange(n_data)\n",
    "    d = dict(zip(u,new_indx))\n",
    "    data_indx = np.zeros(data.shape, dtype=np.int32)\n",
    "    for i in range(data_indx.shape[0]):\n",
    "        data_indx[i] = d[data[i]]\n",
    "    return data_indx, n_data\n",
    "\n",
    "def load_data():\n",
    "    data = pd.read_csv('review.csv')\n",
    "    data = data.drop(['funny', 'review_id', 'text', 'date', 'useful', 'cool'], axis=1)\n",
    "    data.drop_duplicates(inplace=True)\n",
    "    rows, cols, stars = np.array(data['user_id']), np.array(data['business_id']), np.array(data['stars'],dtype=np.uint8)\n",
    "    # itemize users and items\n",
    "    row_indx, n_users = itemize(rows,'user_id_list')\n",
    "    col_indx, n_items = itemize(cols,'business_id_list' )\n",
    "    return scipy.sparse.csr_matrix((stars,(row_indx, col_indx)), dtype=np.uint8, shape=(n_users,n_items))\n",
    "\n",
    "# R = scipy.sparse.csr_matrix((stars,(row_indx, col_indx)), dtype=np.uint8, shape=(n_users,n_items))\n",
    "R = load_data()"
   ]
  },
  {
   "cell_type": "code",
   "execution_count": 10,
   "metadata": {},
   "outputs": [
    {
     "name": "stdout",
     "output_type": "stream",
     "text": [
      "5261667\n"
     ]
    }
   ],
   "source": [
    "tr_list = R.nonzero()\n",
    "No_entries = len(tr_list[0])\n",
    "print (No_entries)"
   ]
  },
  {
   "cell_type": "code",
   "execution_count": 11,
   "metadata": {
    "scrolled": true
   },
   "outputs": [
    {
     "data": {
      "text/plain": [
       "(1326101, 174567)"
      ]
     },
     "execution_count": 11,
     "metadata": {},
     "output_type": "execute_result"
    }
   ],
   "source": [
    "R.shape  # (users, businesses) "
   ]
  },
  {
   "cell_type": "code",
   "execution_count": 12,
   "metadata": {
    "collapsed": true
   },
   "outputs": [],
   "source": [
    "import random\n",
    "import copy"
   ]
  },
  {
   "cell_type": "code",
   "execution_count": 13,
   "metadata": {
    "collapsed": true
   },
   "outputs": [],
   "source": [
    "cold_start_users = random.sample(range(R.shape[0]),int(R.shape[0]*0.025))\n",
    "cold_start_items = random.sample(range(R.shape[1]),int(R.shape[1]*0.025))"
   ]
  },
  {
   "cell_type": "code",
   "execution_count": 14,
   "metadata": {
    "collapsed": true
   },
   "outputs": [],
   "source": [
    "cold_start_users = set(cold_start_users)\n",
    "cold_start_items = set(cold_start_items)"
   ]
  },
  {
   "cell_type": "code",
   "execution_count": 15,
   "metadata": {
    "collapsed": true
   },
   "outputs": [],
   "source": [
    "R_copy = copy.deepcopy(R)"
   ]
  },
  {
   "cell_type": "code",
   "execution_count": 16,
   "metadata": {
    "collapsed": true
   },
   "outputs": [],
   "source": [
    "cold_start_user_triplet = []\n",
    "cold_start_item_triplet = []"
   ]
  },
  {
   "cell_type": "code",
   "execution_count": 17,
   "metadata": {
    "scrolled": true
   },
   "outputs": [
    {
     "name": "stdout",
     "output_type": "stream",
     "text": [
      "5261667\n"
     ]
    }
   ],
   "source": [
    "print (len(tr_list[0]))\n",
    "total = len(tr_list[0])"
   ]
  },
  {
   "cell_type": "code",
   "execution_count": 18,
   "metadata": {},
   "outputs": [
    {
     "name": "stdout",
     "output_type": "stream",
     "text": [
      "(33152, 4364)\n"
     ]
    }
   ],
   "source": [
    "print (len(cold_start_users),len(cold_start_items))"
   ]
  },
  {
   "cell_type": "code",
   "execution_count": 19,
   "metadata": {
    "collapsed": true,
    "scrolled": false
   },
   "outputs": [],
   "source": [
    "for i in zip(tr_list[0],tr_list[1]):\n",
    "    if i[0] in cold_start_users:\n",
    "        cold_start_user_triplet.append(i)\n",
    "        R_copy[i[0],i[1]] = 0\n",
    "    if i[1] in cold_start_items:\n",
    "        cold_start_item_triplet.append(i)\n",
    "        R_copy[i[0],i[1]] = 0"
   ]
  },
  {
   "cell_type": "code",
   "execution_count": 20,
   "metadata": {},
   "outputs": [
    {
     "name": "stdout",
     "output_type": "stream",
     "text": [
      "5001323\n",
      "4801323\n"
     ]
    }
   ],
   "source": [
    "train_warmTest_TMP = R_copy.nonzero()\n",
    "print (len(train_warmTest_TMP[0]))\n",
    "train_warmTest = [(i[0],i[1]) for i in zip(train_warmTest_TMP[0],train_warmTest_TMP[1])]\n",
    "warm_test = random.sample(train_warmTest,200000)\n",
    "for i in warm_test:\n",
    "    R_copy[i[0],i[1]] = 0\n",
    "\n",
    "train = R_copy.nonzero()\n",
    "\n",
    "train = [(i[0],i[1]) for i in zip(train[0],train[1])]\n",
    "\n",
    "print (len(train))"
   ]
  },
  {
   "cell_type": "code",
   "execution_count": 21,
   "metadata": {},
   "outputs": [
    {
     "name": "stdout",
     "output_type": "stream",
     "text": [
      "('train', 4801323)\n",
      "('warm_test', 200000)\n",
      "('cold_item', 129248)\n",
      "('cold_user', 134378)\n"
     ]
    }
   ],
   "source": [
    "print ('train',len(train))\n",
    "print ('warm_test',len(warm_test))\n",
    "print ('cold_item',len(cold_start_item_triplet))\n",
    "print ('cold_user',len(cold_start_user_triplet))"
   ]
  },
  {
   "cell_type": "code",
   "execution_count": 28,
   "metadata": {
    "collapsed": true
   },
   "outputs": [],
   "source": [
    "with open('files/test_cold_item.csv','w') as f:\n",
    "    for i in cold_start_item_triplet:\n",
    "        f.write(   str(i[0]+1)+','+str(i[1]+1)+','+str(R[i[0],i[1]])+ ','+ str(random.randint(1,400000))+'\\n')"
   ]
  },
  {
   "cell_type": "code",
   "execution_count": 29,
   "metadata": {
    "collapsed": true
   },
   "outputs": [],
   "source": [
    "with open('files/test_cold_user.csv','w') as f:\n",
    "    for i in cold_start_user_triplet:\n",
    "        f.write(   str(i[0]+1)+','+str(i[1]+1)+','+str(R[i[0],i[1]])+ ','+ str(random.randint(1,400000))+'\\n')"
   ]
  },
  {
   "cell_type": "code",
   "execution_count": 30,
   "metadata": {
    "collapsed": true
   },
   "outputs": [],
   "source": [
    "with open('files/test_warm.csv','w') as f:\n",
    "    for i in warm_test:\n",
    "        f.write(   str(i[0]+1)+','+str(i[1]+1)+','+str(R[i[0],i[1]])+ ','+ str(random.randint(1,400000))+'\\n')"
   ]
  },
  {
   "cell_type": "code",
   "execution_count": 31,
   "metadata": {
    "collapsed": true
   },
   "outputs": [],
   "source": [
    "with open('files/train.csv','w') as f:\n",
    "    for i in train:\n",
    "        f.write(   str(i[0]+1)+','+str(i[1]+1)+','+str(R[i[0],i[1]])+ ','+ str(random.randint(1,400000))+'\\n')"
   ]
  },
  {
   "cell_type": "code",
   "execution_count": 32,
   "metadata": {
    "collapsed": true
   },
   "outputs": [],
   "source": [
    "with open('files/test_cold_item_item_ids.csv','w') as f:\n",
    "    for i in cold_start_item_triplet:\n",
    "        f.write(str(i[1]+1)+'\\n')\n",
    "        \n",
    "with open('files/test_cold_user_item_ids.csv','w') as f:\n",
    "    for i in cold_start_user_triplet:\n",
    "        f.write(str(i[1]+1)+'\\n')\n",
    "        \n",
    "with open('files/test_warm_item_ids.csv','w') as f:\n",
    "    for i in warm_test:\n",
    "        f.write(str(i[1]+1)+'\\n')"
   ]
  },
  {
   "cell_type": "code",
   "execution_count": 35,
   "metadata": {
    "collapsed": true,
    "scrolled": true
   },
   "outputs": [],
   "source": [
    "# save_obj(warm_test,'warm_test')\n",
    "# save_obj(cold_start_item_triplet,'cold_item')\n",
    "# save_obj(cold_start_user_triplet,'cold_user')\n",
    "# save_obj(train,'train')\n",
    "# save_obj(R_copy,'R_train')\n",
    "# save_obj(R,'R_full')"
   ]
  },
  {
   "cell_type": "code",
   "execution_count": 13,
   "metadata": {},
   "outputs": [
    {
     "name": "stdout",
     "output_type": "stream",
     "text": [
      "4801323 4801323\n"
     ]
    }
   ],
   "source": [
    "lines = open('files/train.csv').readlines()\n",
    "x = []\n",
    "y = []\n",
    "rat = []\n",
    "for line in lines:\n",
    "    line_parts = line.split(',')\n",
    "    x.append(int(line_parts[0])-1)\n",
    "    y.append(int(line_parts[1])-1)\n",
    "    rat.append(int(line_parts[2]))\n",
    "\n",
    "R_train = csr_matrix((rat,(x, y)), dtype=np.int, shape=(1326101, 174567))\n",
    "\n",
    "print len(R_train.nonzero()[0]),len(x)"
   ]
  },
  {
   "cell_type": "code",
   "execution_count": 53,
   "metadata": {},
   "outputs": [
    {
     "name": "stdout",
     "output_type": "stream",
     "text": [
      "4\n"
     ]
    }
   ],
   "source": [
    "# 1,15733,4\n",
    "# R[0,15732] should be 4\n",
    "print R_train[0,15732]"
   ]
  },
  {
   "cell_type": "code",
   "execution_count": 54,
   "metadata": {},
   "outputs": [
    {
     "name": "stdout",
     "output_type": "stream",
     "text": [
      "0.015262493743269774\n"
     ]
    }
   ],
   "source": [
    "print np.matmul(user_mat[0,:] ,item_mat.T[:,15372])"
   ]
  },
  {
   "cell_type": "code",
   "execution_count": 16,
   "metadata": {},
   "outputs": [
    {
     "name": "stdout",
     "output_type": "stream",
     "text": [
      "((174567, 50), (1326101, 50), (1326101, 174567))\n"
     ]
    }
   ],
   "source": [
    "print(item_mat.shape,user_mat.shape,R_train.shape)"
   ]
  },
  {
   "cell_type": "code",
   "execution_count": 22,
   "metadata": {},
   "outputs": [
    {
     "ename": "MemoryError",
     "evalue": "",
     "output_type": "error",
     "traceback": [
      "\u001b[0;31m---------------------------------------------------------------------------\u001b[0m",
      "\u001b[0;31mMemoryError\u001b[0m                               Traceback (most recent call last)",
      "\u001b[0;32m<ipython-input-22-989f1f7a14f9>\u001b[0m in \u001b[0;36m<module>\u001b[0;34m()\u001b[0m\n\u001b[1;32m      1\u001b[0m \u001b[0;31m# R = user_mat * item_mat\u001b[0m\u001b[0;34m\u001b[0m\u001b[0;34m\u001b[0m\u001b[0m\n\u001b[0;32m----> 2\u001b[0;31m \u001b[0mR_pred\u001b[0m \u001b[0;34m=\u001b[0m \u001b[0mnp\u001b[0m\u001b[0;34m.\u001b[0m\u001b[0mmatmul\u001b[0m\u001b[0;34m(\u001b[0m\u001b[0mitem_mat\u001b[0m\u001b[0;34m[\u001b[0m\u001b[0;34m:\u001b[0m\u001b[0;34m,\u001b[0m\u001b[0;34m:\u001b[0m\u001b[0;34m]\u001b[0m\u001b[0;34m,\u001b[0m \u001b[0muser_mat\u001b[0m\u001b[0;34m.\u001b[0m\u001b[0mT\u001b[0m\u001b[0;34m[\u001b[0m\u001b[0;34m:\u001b[0m\u001b[0;34m,\u001b[0m\u001b[0;34m:\u001b[0m\u001b[0;34m]\u001b[0m\u001b[0;34m)\u001b[0m\u001b[0;34m\u001b[0m\u001b[0m\n\u001b[0m",
      "\u001b[0;31mMemoryError\u001b[0m: "
     ]
    }
   ],
   "source": [
    "# R = user_mat * item_mat\n",
    "R_pred = np.matmul(user_mat[:,:], item_mat.T[:,:])"
   ]
  },
  {
   "cell_type": "code",
   "execution_count": 23,
   "metadata": {},
   "outputs": [],
   "source": [
    "train_list = R_train.nonzero()"
   ]
  },
  {
   "cell_type": "code",
   "execution_count": 36,
   "metadata": {},
   "outputs": [
    {
     "name": "stdout",
     "output_type": "stream",
     "text": [
      "1/4\n",
      "1/4\n",
      "1/4\n",
      "1/4\n",
      "1/4\n",
      "1/4\n",
      "1/4\n",
      "1/4\n",
      "1/4\n",
      "1/4\n"
     ]
    }
   ],
   "source": [
    "e = 0\n",
    "count = 0\n",
    "for i,j in zip(train_list[0],train_list[1]):\n",
    "    count+=1\n",
    "    if count%500000==1:\n",
    "        print ('1/4')\n",
    "    e+=(R_train[i,j] - np.matmul(user_mat[i,:] ,item_mat.T[:,j]))**2"
   ]
  },
  {
   "cell_type": "code",
   "execution_count": 33,
   "metadata": {},
   "outputs": [
    {
     "data": {
      "text/plain": [
       "(174567, 50)"
      ]
     },
     "execution_count": 33,
     "metadata": {},
     "output_type": "execute_result"
    }
   ],
   "source": [
    "item_mat.shape"
   ]
  },
  {
   "cell_type": "code",
   "execution_count": 30,
   "metadata": {},
   "outputs": [
    {
     "data": {
      "text/plain": [
       "(1326101, 174567)"
      ]
     },
     "execution_count": 30,
     "metadata": {},
     "output_type": "execute_result"
    }
   ],
   "source": [
    "R_train.shape"
   ]
  },
  {
   "cell_type": "code",
   "execution_count": 37,
   "metadata": {},
   "outputs": [
    {
     "name": "stdout",
     "output_type": "stream",
     "text": [
      "3.784617985113\n"
     ]
    }
   ],
   "source": [
    "print np.sqrt(e/float(count))"
   ]
  },
  {
   "cell_type": "code",
   "execution_count": 50,
   "metadata": {},
   "outputs": [],
   "source": [
    "tmp = np.array([[1,2],[3,4]])"
   ]
  },
  {
   "cell_type": "code",
   "execution_count": 51,
   "metadata": {},
   "outputs": [
    {
     "name": "stdout",
     "output_type": "stream",
     "text": [
      "[[1 2]\n",
      " [3 4]]\n"
     ]
    }
   ],
   "source": [
    "print tmp"
   ]
  },
  {
   "cell_type": "code",
   "execution_count": 52,
   "metadata": {},
   "outputs": [
    {
     "name": "stdout",
     "output_type": "stream",
     "text": [
      "[[1 3]\n",
      " [2 4]]\n"
     ]
    }
   ],
   "source": [
    "print tmp.T"
   ]
  },
  {
   "cell_type": "code",
   "execution_count": 73,
   "metadata": {},
   "outputs": [
    {
     "name": "stdout",
     "output_type": "stream",
     "text": [
      "0.20868959357697497\n"
     ]
    }
   ],
   "source": [
    "t1 = '-0.126172 0.00669824 0.0856417 -0.00666537 0.0482466 0.19337 0.0489063 -0.175737 -0.0421224 -0.0472006 -0.0071823 0.0105873 0.180058 -0.0835943 -0.0381727 0.0816491 0.0131445 0.00173505 -0.0175601 -0.0189759 0.0346226 -0.0350418 0.0854079 0.048259 0.0804236 -0.0150052 0.0235103 -0.0372168 -0.0190828 0.0860885 -0.034538 -0.0690639 -0.0384557 0.0798686 0.125233 0.0755056 -0.164857 0.0269163 -0.0200484 -0.0045255 0.022784 0.0794056 -0.12472 0.0664455 -0.160448 -0.0120457 -0.0943106 -0.0166067 -0.0430007 -0.0179245'\n",
    "t1 = np.asarray(t1.split(),dtype = np.float64)\n",
    "t2 = '-2.29444 -0.190278 -0.141641 -2.83498 0.216228 0.0151211 -0.334125 0.056945 0.295955 0.242633 0.261271 -0.133781 -0.275056 0.992787 -0.61381 0.398392 0.580795 0.0153873 0.302425 0.71524 -0.188693 0.389066 0.0564784 0.0259949 0.0304832 -0.522227 0.339366 -0.8946 -0.326001 -0.00365818 0.363473 -0.0509826 0.540101 0.529359 -0.402325 0.081239 -0.447601 0.0248618 0.561501 0.802014 -0.888769 -0.339893 -0.428042 0.023777 0.467606 -0.792586 -0.254688 -0.10963 0.475922 -1.27695'\n",
    "t2 = np.asarray(t2.split(),dtype = np.float64)\n",
    "print np.matmul(t1,t2)"
   ]
  },
  {
   "cell_type": "code",
   "execution_count": 91,
   "metadata": {},
   "outputs": [
    {
     "name": "stdout",
     "output_type": "stream",
     "text": [
      "(50,) (50,)\n"
     ]
    }
   ],
   "source": [
    "print user_mat[0,:].shape,item_mat.T[:,15372].shape\n"
   ]
  },
  {
   "cell_type": "code",
   "execution_count": 89,
   "metadata": {},
   "outputs": [
    {
     "name": "stdout",
     "output_type": "stream",
     "text": [
      "0.015262493743269774\n"
     ]
    }
   ],
   "source": [
    "print np.dot(user_mat[0,:],item_mat.T[:,15372])"
   ]
  },
  {
   "cell_type": "code",
   "execution_count": 84,
   "metadata": {},
   "outputs": [
    {
     "data": {
      "text/plain": [
       "4"
      ]
     },
     "execution_count": 84,
     "metadata": {},
     "output_type": "execute_result"
    }
   ],
   "source": [
    "R_train[19,113332] # 20,113333,4,154155 line 63"
   ]
  },
  {
   "cell_type": "code",
   "execution_count": 86,
   "metadata": {},
   "outputs": [
    {
     "name": "stdout",
     "output_type": "stream",
     "text": [
      "0.0795220291808938\n"
     ]
    }
   ],
   "source": [
    "print np.matmul(user_mat[19,:],item_mat.T[:,113332])"
   ]
  },
  {
   "cell_type": "code",
   "execution_count": 88,
   "metadata": {},
   "outputs": [
    {
     "data": {
      "text/plain": [
       "array([ 0.38905099,  0.0440753 , -0.125948  , -0.28595001, -0.17746501,\n",
       "       -0.103179  ,  0.35663101,  0.71668297, -0.14459901, -0.81481397,\n",
       "        1.07113004, -0.357281  , -0.0234064 ,  0.56392998,  0.0519976 ,\n",
       "       -0.118972  , -0.0275773 ,  0.0289079 , -0.18492299, -0.60428602,\n",
       "       -0.47387901,  0.89310497, -0.107237  ,  0.35916501,  0.0971235 ,\n",
       "       -0.64525098,  1.01301003, -0.57667601, -0.84869498,  0.0603798 ,\n",
       "       -0.36735001, -0.44551101, -0.24007   , -0.30570501, -0.0586973 ,\n",
       "        0.45509499,  0.72814202, -0.0356238 ,  0.25022   ,  0.16923299,\n",
       "       -0.55735898,  0.75028402, -0.0839065 ,  0.82292002,  0.383167  ,\n",
       "       -0.52037197,  0.40407801,  0.71022499, -0.327209  , -0.333763  ])"
      ]
     },
     "execution_count": 88,
     "metadata": {},
     "output_type": "execute_result"
    }
   ],
   "source": [
    "item_mat.T[:,113332]"
   ]
  },
  {
   "cell_type": "code",
   "execution_count": 87,
   "metadata": {},
   "outputs": [
    {
     "data": {
      "text/plain": [
       "array([ 0.0280626 , -0.46173999, -0.16196799,  0.0707588 , -0.244177  ,\n",
       "        0.21941   ,  0.108033  ,  0.0129072 , -0.195823  ,  0.208158  ,\n",
       "        0.147588  , -0.118327  , -0.237838  , -0.16970401, -0.14234801,\n",
       "       -0.166539  , -0.22200599,  0.0327778 , -0.142409  , -0.00920581,\n",
       "       -0.205639  ,  0.23772299, -0.111075  ,  0.31029901,  0.0234277 ,\n",
       "        0.204748  ,  0.198129  ,  0.172621  ,  0.165396  , -0.46042499,\n",
       "       -0.18631101,  0.364934  ,  0.31565401,  0.34031001,  0.125149  ,\n",
       "       -0.35950699,  0.100071  , -0.164794  , -0.197124  ,  0.0241293 ,\n",
       "       -0.0435426 ,  0.143663  , -0.0582582 ,  0.209361  , -0.18351001,\n",
       "        0.15114699, -0.0399747 ,  0.0766665 ,  0.21115901, -0.136861  ])"
      ]
     },
     "execution_count": 87,
     "metadata": {},
     "output_type": "execute_result"
    }
   ],
   "source": [
    "user_mat[19,:]"
   ]
  },
  {
   "cell_type": "code",
   "execution_count": 79,
   "metadata": {},
   "outputs": [
    {
     "data": {
      "text/plain": [
       "1.32221975491854e-08"
      ]
     },
     "execution_count": 79,
     "metadata": {},
     "output_type": "execute_result"
    }
   ],
   "source": [
    "np.linalg.norm(t1-user_mat[0,:])"
   ]
  },
  {
   "cell_type": "code",
   "execution_count": 80,
   "metadata": {},
   "outputs": [
    {
     "data": {
      "text/plain": [
       "array([-0.126172  ,  0.00669824,  0.0856417 , -0.00666537,  0.0482466 ,\n",
       "        0.19337   ,  0.0489063 , -0.175737  , -0.0421224 , -0.0472006 ,\n",
       "       -0.0071823 ,  0.0105873 ,  0.180058  , -0.0835943 , -0.0381727 ,\n",
       "        0.0816491 ,  0.0131445 ,  0.00173505, -0.0175601 , -0.0189759 ,\n",
       "        0.0346226 , -0.0350418 ,  0.0854079 ,  0.048259  ,  0.0804236 ,\n",
       "       -0.0150052 ,  0.0235103 , -0.0372168 , -0.0190828 ,  0.0860885 ,\n",
       "       -0.034538  , -0.0690639 , -0.0384557 ,  0.0798686 ,  0.125233  ,\n",
       "        0.0755056 , -0.164857  ,  0.0269163 , -0.0200484 , -0.0045255 ,\n",
       "        0.022784  ,  0.0794056 , -0.12472   ,  0.0664455 , -0.160448  ,\n",
       "       -0.0120457 , -0.0943106 , -0.0166067 , -0.0430007 , -0.0179245 ])"
      ]
     },
     "execution_count": 80,
     "metadata": {},
     "output_type": "execute_result"
    }
   ],
   "source": [
    "t1"
   ]
  },
  {
   "cell_type": "code",
   "execution_count": 81,
   "metadata": {},
   "outputs": [
    {
     "data": {
      "text/plain": [
       "array([-0.12617201,  0.00669824,  0.0856417 , -0.00666537,  0.0482466 ,\n",
       "        0.19337   ,  0.0489063 , -0.17573699, -0.0421224 , -0.0472006 ,\n",
       "       -0.0071823 ,  0.0105873 ,  0.180058  , -0.0835943 , -0.0381727 ,\n",
       "        0.0816491 ,  0.0131445 ,  0.00173505, -0.0175601 , -0.0189759 ,\n",
       "        0.0346226 , -0.0350418 ,  0.0854079 ,  0.048259  ,  0.0804236 ,\n",
       "       -0.0150052 ,  0.0235103 , -0.0372168 , -0.0190828 ,  0.0860885 ,\n",
       "       -0.034538  , -0.0690639 , -0.0384557 ,  0.0798686 ,  0.12523299,\n",
       "        0.0755056 , -0.164857  ,  0.0269163 , -0.0200484 , -0.0045255 ,\n",
       "        0.022784  ,  0.0794056 , -0.12472   ,  0.0664455 , -0.160448  ,\n",
       "       -0.0120457 , -0.0943106 , -0.0166067 , -0.0430007 , -0.0179245 ])"
      ]
     },
     "execution_count": 81,
     "metadata": {},
     "output_type": "execute_result"
    }
   ],
   "source": [
    "user_mat[0,:]"
   ]
  },
  {
   "cell_type": "code",
   "execution_count": 60,
   "metadata": {
    "scrolled": false
   },
   "outputs": [
    {
     "data": {
      "text/plain": [
       "array([-2.29444003, -0.19027799, -0.14164101, -2.83498001,  0.21622799,\n",
       "        0.0151211 , -0.33412501,  0.056945  ,  0.295955  ,  0.242633  ,\n",
       "        0.261271  , -0.133781  , -0.275056  ,  0.992787  , -0.61381   ,\n",
       "        0.39839199,  0.58079499,  0.0153873 ,  0.302425  ,  0.71524   ,\n",
       "       -0.188693  ,  0.38906601,  0.0564784 ,  0.0259949 ,  0.0304832 ,\n",
       "       -0.52222699,  0.33936599, -0.89459997, -0.32600099, -0.00365818,\n",
       "        0.363473  , -0.0509826 ,  0.54010099,  0.52935898, -0.402325  ,\n",
       "        0.081239  , -0.44760099,  0.0248618 ,  0.56150103,  0.80201399,\n",
       "       -0.88876897, -0.33989301, -0.42804199,  0.023777  ,  0.46760601,\n",
       "       -0.79258603, -0.25468799, -0.10963   ,  0.47592199, -1.27695   ])"
      ]
     },
     "execution_count": 60,
     "metadata": {},
     "output_type": "execute_result"
    }
   ],
   "source": [
    "item_mat[15732,:]"
   ]
  },
  {
   "cell_type": "code",
   "execution_count": 77,
   "metadata": {
    "scrolled": true
   },
   "outputs": [
    {
     "data": {
      "text/plain": [
       "array([-2.29444   , -0.190278  , -0.141641  , -2.83498   ,  0.216228  ,\n",
       "        0.0151211 , -0.334125  ,  0.056945  ,  0.295955  ,  0.242633  ,\n",
       "        0.261271  , -0.133781  , -0.275056  ,  0.992787  , -0.61381   ,\n",
       "        0.398392  ,  0.580795  ,  0.0153873 ,  0.302425  ,  0.71524   ,\n",
       "       -0.188693  ,  0.389066  ,  0.0564784 ,  0.0259949 ,  0.0304832 ,\n",
       "       -0.522227  ,  0.339366  , -0.8946    , -0.326001  , -0.00365818,\n",
       "        0.363473  , -0.0509826 ,  0.540101  ,  0.529359  , -0.402325  ,\n",
       "        0.081239  , -0.447601  ,  0.0248618 ,  0.561501  ,  0.802014  ,\n",
       "       -0.888769  , -0.339893  , -0.428042  ,  0.023777  ,  0.467606  ,\n",
       "       -0.792586  , -0.254688  , -0.10963   ,  0.475922  , -1.27695   ])"
      ]
     },
     "execution_count": 77,
     "metadata": {},
     "output_type": "execute_result"
    }
   ],
   "source": [
    "t2"
   ]
  },
  {
   "cell_type": "code",
   "execution_count": 78,
   "metadata": {},
   "outputs": [
    {
     "data": {
      "text/plain": [
       "7.7704211809324e-08"
      ]
     },
     "execution_count": 78,
     "metadata": {},
     "output_type": "execute_result"
    }
   ],
   "source": [
    "np.linalg.norm(item_mat[15732,:]-t2)"
   ]
  },
  {
   "cell_type": "code",
   "execution_count": null,
   "metadata": {},
   "outputs": [],
   "source": []
  }
 ],
 "metadata": {
  "kernelspec": {
   "display_name": "Python 2",
   "language": "python",
   "name": "python2"
  },
  "language_info": {
   "codemirror_mode": {
    "name": "ipython",
    "version": 2
   },
   "file_extension": ".py",
   "mimetype": "text/x-python",
   "name": "python",
   "nbconvert_exporter": "python",
   "pygments_lexer": "ipython2",
   "version": "2.7.14"
  }
 },
 "nbformat": 4,
 "nbformat_minor": 2
}
